{
 "cells": [
  {
   "cell_type": "code",
   "execution_count": 1,
   "metadata": {},
   "outputs": [],
   "source": [
    "from inf_retriev import *"
   ]
  },
  {
   "cell_type": "code",
   "execution_count": 2,
   "metadata": {},
   "outputs": [],
   "source": [
    "documentos_contenido = {\"1\": \"Caballo Caballero Cabra\",\n",
    "\"2\": \"Cacao Cacerola Caballo Cabalgar\",\n",
    "\"3\": \"Cacao Cabra Cabaña\", \n",
    "\"4\": \"Caballo Cabalgar Caballero Caballo\",\n",
    "\"5\": \"Cabra Cacerola\"}"
   ]
  },
  {
   "cell_type": "markdown",
   "metadata": {},
   "source": [
    "## Extracción de terminos de los documentos"
   ]
  },
  {
   "cell_type": "code",
   "execution_count": 3,
   "metadata": {},
   "outputs": [
    {
     "name": "stdout",
     "output_type": "stream",
     "text": [
      "* Caballo->1\n",
      "* Caballero->1\n",
      "* Cabra->1\n",
      "* Cacao->2\n",
      "* Cacerola->2\n",
      "* Caballo->2\n",
      "* Cabalgar->2\n",
      "* Cacao->3\n",
      "* Cabra->3\n",
      "* Cabaña->3\n",
      "* Caballo->4\n",
      "* Cabalgar->4\n",
      "* Caballero->4\n",
      "* Caballo->4\n",
      "* Cabra->5\n",
      "* Cacerola->5\n"
     ]
    }
   ],
   "source": [
    "palabras_documentos = {}\n",
    "for numero_doc,palabras in documentos_contenido.items():\n",
    "    palabras_lista = palabras.split(\" \")\n",
    "    for termino in palabras_lista:\n",
    "        print(f\"* {termino}->{numero_doc}\")\n",
    "        if termino in palabras_documentos and numero_doc in palabras_documentos[termino]:\n",
    "            continue\n",
    "        palabras_documentos[termino] = palabras_documentos.get(termino,\"\") + numero_doc"
   ]
  },
  {
   "cell_type": "markdown",
   "metadata": {},
   "source": [
    "## Ordeno el archivo por terminos y documentos"
   ]
  },
  {
   "cell_type": "code",
   "execution_count": 4,
   "metadata": {},
   "outputs": [
    {
     "name": "stdout",
     "output_type": "stream",
     "text": [
      "* Cabalgar->2\n",
      "* Cabalgar->4\n",
      "* Caballero->1\n",
      "* Caballero->4\n",
      "* Caballo->1\n",
      "* Caballo->2\n",
      "* Caballo->4\n",
      "* Cabaña->3\n",
      "* Cabra->1\n",
      "* Cabra->3\n",
      "* Cabra->5\n",
      "* Cacao->2\n",
      "* Cacao->3\n",
      "* Cacerola->2\n",
      "* Cacerola->5\n"
     ]
    }
   ],
   "source": [
    "palabras_documentos = dict(sorted(palabras_documentos.items()))\n",
    "for termino_ordenado,documento in palabras_documentos.items():\n",
    "    for numero_doc in documento:\n",
    "        print(f\"* {termino_ordenado}->{numero_doc}\")"
   ]
  },
  {
   "cell_type": "markdown",
   "metadata": {},
   "source": [
    "## Unifico los terminos"
   ]
  },
  {
   "cell_type": "code",
   "execution_count": 5,
   "metadata": {},
   "outputs": [
    {
     "name": "stdout",
     "output_type": "stream",
     "text": [
      "* Cabalgar->2,4\n",
      "* Caballero->1,4\n",
      "* Caballo->1,2,4\n",
      "* Cabaña->3\n",
      "* Cabra->1,3,5\n",
      "* Cacao->2,3\n",
      "* Cacerola->2,5\n"
     ]
    }
   ],
   "source": [
    "for termino_ordenado,documento in palabras_documentos.items():\n",
    "    print(f\"* {termino_ordenado}->{','.join(list(documento))}\")"
   ]
  },
  {
   "cell_type": "markdown",
   "metadata": {},
   "source": [
    "## Codifico los archivos a distancia"
   ]
  },
  {
   "cell_type": "code",
   "execution_count": 6,
   "metadata": {},
   "outputs": [
    {
     "name": "stdout",
     "output_type": "stream",
     "text": [
      "* Cabalgar->2,2\n",
      "* Caballero->1,3\n",
      "* Caballo->1,1,2\n",
      "* Cabaña->3\n",
      "* Cabra->1,2,2\n",
      "* Cacao->2,1\n",
      "* Cacerola->2,3\n"
     ]
    }
   ],
   "source": [
    "for termino_ordenado,documento in palabras_documentos.items():\n",
    "    print(f\"* {termino_ordenado}->{','.join(list(distancias_documentos(documento)))}\")"
   ]
  },
  {
   "cell_type": "markdown",
   "metadata": {},
   "source": [
    "## Armado del léxico"
   ]
  },
  {
   "cell_type": "code",
   "execution_count": 7,
   "metadata": {},
   "outputs": [
    {
     "name": "stdout",
     "output_type": "stream",
     "text": [
      "| iguales | distintos | punteros terminos |\n",
      "| -------- | -------- | -------- |\n",
      "| 0 | 8 | 0 |\n",
      "| 5 | 4 | 8 |\n",
      "| 6 | 1 | 12 |\n",
      "| 0 | 6 | 13 |\n",
      "| 3 | 2 | 19 |\n",
      "| 2 | 3 | 21 |\n",
      "| 0 | 8 | 24 |\n",
      "\n",
      "| Cabalgar | lero | o | Cabaña | ra | cao | Cacerola |\n",
      "| -------- | ---- | - | ------ | -- | --- | -------- |\n",
      "| 0 | 8 | 12 | 13 | 19 | 21 | 24 |"
     ]
    }
   ],
   "source": [
    "terminos = palabras_documentos.keys()\n",
    "indice_lexico = crear_lexico(terminos,'fcp',n=3)\n",
    "print_markdown_lexico_front_coding(indice_lexico)"
   ]
  },
  {
   "cell_type": "markdown",
   "metadata": {},
   "source": [
    "## Armado de documentos"
   ]
  },
  {
   "cell_type": "code",
   "execution_count": 8,
   "metadata": {},
   "outputs": [
    {
     "name": "stdout",
     "output_type": "stream",
     "text": [
      "| 010010 | 1011 | 11010 | 011 | 1010010 | 0101 | 010011 |\n",
      "| ------ | ---- | ----- | --- | ------- | ---- | ------ |\n",
      "| 0 | 6 | 10 | 15 | 18 | 25 | 29 |"
     ]
    }
   ],
   "source": [
    "documentos = palabras_documentos.values()\n",
    "indice_documentos = crear_indice_documentos(documentos,modo='d',codificacion='g')\n",
    "print_markdown_documentos(indice_documentos)"
   ]
  },
  {
   "cell_type": "markdown",
   "metadata": {},
   "source": [
    "## Unificado indice invertido"
   ]
  },
  {
   "cell_type": "code",
   "execution_count": 9,
   "metadata": {},
   "outputs": [
    {
     "name": "stdout",
     "output_type": "stream",
     "text": [
      "| iguales | distintos | punteros terminos | punteros documentos |\n",
      "| -------- | -------- | -------- | -------- |\n",
      "| 0 | 8 | 0 | 0 |\n",
      "| 5 | 4 | 8 | 6 |\n",
      "| 6 | 1 | 12 | 10 |\n",
      "| 0 | 6 | 13 | 15 |\n",
      "| 3 | 2 | 19 | 18 |\n",
      "| 2 | 3 | 21 | 25 |\n",
      "| 0 | 8 | 24 | 29 |\n",
      "\n",
      "| Cabalgar | lero | o | Cabaña | ra | cao | Cacerola |\n",
      "| -------- | ---- | - | ------ | -- | --- | -------- |\n",
      "| 0 | 8 | 12 | 13 | 19 | 21 | 24 |\n",
      "\n",
      "| 010010 | 1011 | 11010 | 011 | 1010010 | 0101 | 010011 |\n",
      "| ------ | ---- | ----- | --- | ------- | ---- | ------ |\n",
      "| 0 | 6 | 10 | 15 | 18 | 25 | 29 |"
     ]
    }
   ],
   "source": [
    "print_markdown_indice_invertido(indice_lexico,indice_documentos)"
   ]
  },
  {
   "cell_type": "code",
   "execution_count": 10,
   "metadata": {},
   "outputs": [
    {
     "name": "stdout",
     "output_type": "stream",
     "text": [
      "| posicion | iguales | distintos | punteros terminos | punteros documentos |\n",
      "| -------- | -------- | -------- | -------- | -------- |\n",
      "| 0 | 0 | 8 | 0 | 0 |\n",
      "| 1 | 5 | 4 | 8 | 6 |\n",
      "| 2 | 6 | 1 | 12 | 10 |\n",
      "| 3 | 0 | 6 | 13 | 15 |\n",
      "| 4 | 3 | 2 | 19 | 18 |\n",
      "| 5 | 2 | 3 | 21 | 25 |\n",
      "| 6 | 0 | 8 | 24 | 29 |\n",
      "\n",
      "| Cabalgar | lero | o | Cabaña | ra | cao | Cacerola |\n",
      "| -------- | ---- | - | ------ | -- | --- | -------- |\n",
      "| 0 | 8 | 12 | 13 | 19 | 21 | 24 |\n",
      "\n",
      "| 010010 | 1011 | 11010 | 011 | 1010010 | 0101 | 010011 |\n",
      "| ------ | ---- | ----- | --- | ------- | ---- | ------ |\n",
      "| 0 | 6 | 10 | 15 | 18 | 25 | 29 |"
     ]
    }
   ],
   "source": [
    "print_markdown_indice_invertido_indexado(indice_lexico,indice_documentos)"
   ]
  },
  {
   "cell_type": "markdown",
   "metadata": {},
   "source": [
    "## Aplicacion de TF-IDF"
   ]
  },
  {
   "cell_type": "code",
   "execution_count": 22,
   "metadata": {},
   "outputs": [],
   "source": [
    "documentos_contenido2 = {\"1\":\"aquel arbusto azul\",\"2\":\"amarillento arbol\",\"3\":\"amarillo arbusto azul\",\"4\":\"amarillento ancestral azul\"}"
   ]
  },
  {
   "cell_type": "code",
   "execution_count": 23,
   "metadata": {},
   "outputs": [
    {
     "name": "stdout",
     "output_type": "stream",
     "text": [
      "* aquel->1\n",
      "* arbusto->1\n",
      "* azul->1\n",
      "* amarillento->2\n",
      "* arbol->2\n",
      "* amarillo->3\n",
      "* arbusto->3\n",
      "* azul->3\n",
      "* amarillento->4\n",
      "* ancestral->4\n",
      "* azul->4\n"
     ]
    }
   ],
   "source": [
    "palabras_documentos = {}\n",
    "for numero_doc,palabras in documentos_contenido2.items():\n",
    "    palabras_lista = palabras.split(\" \")\n",
    "    for termino in palabras_lista:\n",
    "        print(f\"* {termino}->{numero_doc}\")\n",
    "        if termino in palabras_documentos and numero_doc in palabras_documentos[termino]:\n",
    "            continue\n",
    "        palabras_documentos[termino] = palabras_documentos.get(termino,\"\") + numero_doc"
   ]
  },
  {
   "cell_type": "code",
   "execution_count": 24,
   "metadata": {},
   "outputs": [
    {
     "data": {
      "text/plain": [
       "{'aquel': '1',\n",
       " 'arbusto': '13',\n",
       " 'azul': '134',\n",
       " 'amarillento': '24',\n",
       " 'arbol': '2',\n",
       " 'amarillo': '3',\n",
       " 'ancestral': '4'}"
      ]
     },
     "execution_count": 24,
     "metadata": {},
     "output_type": "execute_result"
    }
   ],
   "source": [
    "palabras_documentos"
   ]
  },
  {
   "cell_type": "code",
   "execution_count": 25,
   "metadata": {},
   "outputs": [
    {
     "name": "stdout",
     "output_type": "stream",
     "text": [
      "| terminos | 1 | 2 | 3 | 4 |  Log((N+1)/fti)|\n",
      "| --- | --- | --- | --- | --- | --- |\n",
      "| aquel | 1 | 0 | 0 | 0 |Log(5/1):0.7 |\n",
      "| arbusto | 1 | 0 | 1 | 0 |Log(5/2):0.4 |\n",
      "| azul | 1 | 0 | 1 | 1 |Log(5/3):0.22 |\n",
      "| amarillento | 0 | 1 | 0 | 1 |Log(5/2):0.4 |\n",
      "| arbol | 0 | 1 | 0 | 0 |Log(5/1):0.7 |\n",
      "| amarillo | 0 | 0 | 1 | 0 |Log(5/1):0.7 |\n",
      "| ancestral | 0 | 0 | 0 | 1 |Log(5/1):0.7 |\n"
     ]
    }
   ],
   "source": [
    "print_markdown_tabla_tf_idf(palabras_documentos,documentos_contenido2)"
   ]
  }
 ],
 "metadata": {
  "kernelspec": {
   "display_name": "Python 3",
   "language": "python",
   "name": "python3"
  },
  "language_info": {
   "codemirror_mode": {
    "name": "ipython",
    "version": 3
   },
   "file_extension": ".py",
   "mimetype": "text/x-python",
   "name": "python",
   "nbconvert_exporter": "python",
   "pygments_lexer": "ipython3",
   "version": "3.9.1"
  }
 },
 "nbformat": 4,
 "nbformat_minor": 4
}

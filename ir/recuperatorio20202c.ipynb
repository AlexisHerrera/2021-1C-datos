{
 "cells": [
  {
   "cell_type": "markdown",
   "metadata": {},
   "source": [
    "# Recuperatorio 2020 2c"
   ]
  },
  {
   "cell_type": "markdown",
   "metadata": {},
   "source": [
    "![xd](parcial_recu_enunciado.png)"
   ]
  },
  {
   "cell_type": "markdown",
   "metadata": {},
   "source": [
    "## Indice invertido"
   ]
  },
  {
   "cell_type": "markdown",
   "metadata": {},
   "source": [
    "| pos. tabla | iguales | distintos | punteros terminos | punteros documentos |\n",
    "| -------- | -------- | -------- | -------- | -------- |\n",
    "| 0 | 0 | 11 | 0 | 0 |\n",
    "| 1 | 7 | 1 | 11 | 6 |\n",
    "| 2 | 1 | 8 | 12 | 9 |\n",
    "| 3 | 0 | 5 | 20 | 14 |\n",
    "| 4 | 1 | 4 | 25 | 15 |\n",
    "| 5 | 3 | 4 | 29 | 21 |\n",
    "| 6 | 0 | 4 | 33 | 25 |\n",
    "\n",
    "| Amarillento | o | ncestral | aquel | rbol | usto | azul |\n",
    "| -------- | ---- | - | ------ | -- | --- | -------- |\n",
    "| 0 | 11 | 12 | 20 | 25 | 29 | 33 |\n",
    "\n",
    "| 010010 | 011 | 00100 | 1 | 010010 | 1010 | 10101 |\n",
    "| ------ | ---- | ----- | --- | ------- | ---- | ------ |\n",
    "| 0 | 6 | 9 | 14 | 15 | 21 | 25 |"
   ]
  },
  {
   "cell_type": "markdown",
   "metadata": {},
   "source": [
    "a) Query = \"aquel arbusto azul\". Abreviaturas: LI: Lectura indice, LL:Lectura lexico, LD: Lectura documentos , CH:Cache hit "
   ]
  },
  {
   "cell_type": "markdown",
   "metadata": {},
   "source": [
    "_Aquel_  \n",
    "Pos 3 (aquel) (1 LI, 1 LL).  \n",
    "Es la palabra que buscabamos. Vamos a la siguiente entrada para obtener el largo de los documentos almacenados (1 LI). El largo es 1.  \n",
    "Vamos a la posicion 14 (1 LD) y leemos 1 que es el documento 1 "
   ]
  },
  {
   "cell_type": "markdown",
   "metadata": {},
   "source": [
    "_arbusto_  \n",
    "Pos 3 (aquel) (1 LICH, 1 LLCH) Ya leimos esa posicion. Sabemos que arbusto>aquel. Sigo con la segunda mitad  \n",
    "Pos 5 (arbusto) (1 LI) 3 iguales y 4 distintos  \n",
    "    ->Pos 4 (arbol) (1 LI) tenemos 1 igual al anterior y 4 distintos. El anterior (pos 3) ya se ha leido  \n",
    "Reconstruimos el termino. Leemos desde la posicion 20 del léxico hasta 33 según distintos e iguales. a-rb-usto (1 LL)  \n",
    "    \n",
    "Es la palabra que buscabamos. Vamos a la siguiente entrada (Pos 6) para obtener el largo de los documentos almacenados (1 LI). El largo es 4.  \n",
    "Vamos a la posicion 21 (1 LD) y leemos 1010 que es 1,2. Que estan codificados en distancias por lo que obtenemos los documentos 1 y 3"
   ]
  },
  {
   "cell_type": "markdown",
   "metadata": {},
   "source": [
    "_azul_  \n",
    "Pos 3 (aquel) (1 LICH, 1 LLCH) Ya leimos esa posicion. Sabemos que azul>aquel. Sigo con la segunda mitad  \n",
    "Pos 5 (arbusto) (2 LICH, 1 LLCH) Ya leimos esta posicion. Obtenemos azul>arbusto. Sigo con la segunda mitad  \n",
    "Pos 6 (azul) (1 LICH, 1 LL) Leemos desde la posicion 33 del léxico hasta el final. Obtenemos la palabra azul  \n",
    "\n",
    "Es el termino que buscabamos. Nuevamente sabemos el final, por lo que leemos desde 25, 5 bits (LD).\n",
    "Leemos 10101 que es 1,2,1. Que estan codificados en distancias por lo que obtenemos los documentos 1,3,4."
   ]
  },
  {
   "cell_type": "markdown",
   "metadata": {},
   "source": [
    "Aplicando un and a todos los documentos, el resultado de nuestra búsqueda es el documento 1  \n",
    "El total de lecturas es: \n",
    "* 5 lecturas al indice + 5 repetidos\n",
    "* 3 lecturas al lexico + 3 repetidos\n",
    "* 3 lecturas a documentos"
   ]
  },
  {
   "cell_type": "markdown",
   "metadata": {},
   "source": [
    "b) Para los documentos armamos la tabla de terminos, frecuencia de terminos (TF) y los respectivos IDF. Debemos considerar que solo aparece 1 vez en cada documento ya que no hay informacion en los documentos al respecto. Y que los documentos empiezan en 1"
   ]
  },
  {
   "cell_type": "markdown",
   "metadata": {},
   "source": [
    "| Termino | Documentos |\n",
    "| -- | -- | \n",
    "| Amarillento | 2,4 |\n",
    "| Amarillo | 3 |\n",
    "| Ancestral | 4 |\n",
    "| Aquel | 1 |\n",
    "| Arbol | 2,4 |\n",
    "| Arbusto | 1,3 |\n",
    "| Azul | 1,3,4 |"
   ]
  },
  {
   "cell_type": "markdown",
   "metadata": {},
   "source": [
    "| terminos | 1 | 2 | 3 | 4 |  Log((N+1)/fti)|\n",
    "| --- | --- | --- | --- | --- | --- |\n",
    "| aquel | 1 | 0 | 0 | 0 |Log(5/1):0.7 |\n",
    "| arbusto | 1 | 0 | 1 | 0 |Log(5/2):0.4 |\n",
    "| azul | 1 | 0 | 1 | 1 |Log(5/3):0.22 |\n",
    "| amarillento | 0 | 1 | 0 | 1 |Log(5/2):0.4 |\n",
    "| arbol | 0 | 1 | 0 | 0 |Log(5/1):0.7 |\n",
    "| amarillo | 0 | 0 | 1 | 0 |Log(5/1):0.7 |\n",
    "| ancestral | 0 | 0 | 0 | 1 |Log(5/1):0.7 |"
   ]
  },
  {
   "cell_type": "markdown",
   "metadata": {},
   "source": [
    "Hacer la query \"aquel arbusto azul\".  \n",
    "doc1: 1x0.7 + 1x0.4 + 1x0.22 = 1.32  \n",
    "doc2: 0x0.7 + 0x0.4 + 0x0.22 = 0  \n",
    "doc3: 0x0.7 + 1x0.4 + 1x0.22 = 0.62  \n",
    "doc4: 0x0.7 + 0x0.4 + 1x0.22 = 0.22"
   ]
  },
  {
   "cell_type": "markdown",
   "metadata": {},
   "source": [
    "Luego el orden de documentos es d1 - d3 - d4 - d2"
   ]
  }
 ],
 "metadata": {
  "kernelspec": {
   "display_name": "Python 3",
   "language": "python",
   "name": "python3"
  },
  "language_info": {
   "codemirror_mode": {
    "name": "ipython",
    "version": 3
   },
   "file_extension": ".py",
   "mimetype": "text/x-python",
   "name": "python",
   "nbconvert_exporter": "python",
   "pygments_lexer": "ipython3",
   "version": "3.9.1"
  }
 },
 "nbformat": 4,
 "nbformat_minor": 4
}

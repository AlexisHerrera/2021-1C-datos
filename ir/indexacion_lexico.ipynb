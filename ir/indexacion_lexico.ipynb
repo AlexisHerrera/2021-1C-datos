{
 "cells": [
  {
   "cell_type": "code",
   "execution_count": 1,
   "metadata": {},
   "outputs": [],
   "source": [
    "from inf_retriev import *"
   ]
  },
  {
   "cell_type": "code",
   "execution_count": 2,
   "metadata": {},
   "outputs": [
    {
     "data": {
      "text/plain": [
       "['14', '12', '2', '3', '1', '4', '34']"
      ]
     },
     "execution_count": 2,
     "metadata": {},
     "output_type": "execute_result"
    }
   ],
   "source": [
    "palabras_documentos = {\"papa\":\"14\",\"papel\":\"12\",\"papelon\":\"2\",\"paprika\":\"3\", \"pepa\":\"1\", \"pimienta\":\"34\",\"pimenton\":\"4\"}\n",
    "palabras_documentos = dict(sorted(palabras_documentos.items()))\n",
    "terminos = list(palabras_documentos.keys())\n",
    "documentos = list(palabras_documentos.values())\n",
    "documentos"
   ]
  },
  {
   "cell_type": "markdown",
   "metadata": {},
   "source": [
    "## Lexico"
   ]
  },
  {
   "cell_type": "code",
   "execution_count": 3,
   "metadata": {},
   "outputs": [
    {
     "name": "stdout",
     "output_type": "stream",
     "text": [
      "papa papel papelon paprika pepa pimenton pimienta \n",
      "0    4     9       16      23   27       35       "
     ]
    }
   ],
   "source": [
    "print_lexico(crear_lexico(terminos,'c'))"
   ]
  },
  {
   "cell_type": "code",
   "execution_count": 4,
   "metadata": {},
   "outputs": [
    {
     "name": "stdout",
     "output_type": "stream",
     "text": [
      "i|d|p\n",
      "0|4|0\n",
      "3|2|4\n",
      "5|2|6\n",
      "3|4|8\n",
      "1|3|12\n",
      "1|7|15\n",
      "3|5|22\n",
      "papa el on rika epa imenton ienta \n",
      "0    4  6  8    12  15      22    "
     ]
    }
   ],
   "source": [
    "print_lexico_front_coding(crear_lexico(terminos,'fc'))"
   ]
  },
  {
   "cell_type": "code",
   "execution_count": 5,
   "metadata": {},
   "outputs": [
    {
     "name": "stdout",
     "output_type": "stream",
     "text": [
      "i|d|p\n",
      "0|4|0\n",
      "3|2|4\n",
      "5|2|6\n",
      "3|4|8\n",
      "0|4|12\n",
      "1|7|16\n",
      "3|5|23\n",
      "papa el on rika pepa imenton ienta \n",
      "0    4  6  8    12   16      23    "
     ]
    }
   ],
   "source": [
    "print_lexico_front_coding(crear_lexico(terminos,'fcp',n=4))"
   ]
  },
  {
   "cell_type": "markdown",
   "metadata": {},
   "source": [
    "## Documentos"
   ]
  },
  {
   "cell_type": "code",
   "execution_count": 6,
   "metadata": {},
   "outputs": [
    {
     "name": "stdout",
     "output_type": "stream",
     "text": [
      "14 12 2 3 1 4 34 \n",
      "0  2  4 5 6 7 8  "
     ]
    }
   ],
   "source": [
    "print_indice_documentos(crear_indice_documentos(documentos))"
   ]
  },
  {
   "cell_type": "code",
   "execution_count": 7,
   "metadata": {},
   "outputs": [
    {
     "name": "stdout",
     "output_type": "stream",
     "text": [
      "13 11 2 3 1 4 31 \n",
      "0  2  4 5 6 7 8  "
     ]
    }
   ],
   "source": [
    "print_indice_documentos(crear_indice_documentos(documentos,'d'))"
   ]
  },
  {
   "cell_type": "code",
   "execution_count": 8,
   "metadata": {},
   "outputs": [
    {
     "name": "stdout",
     "output_type": "stream",
     "text": [
      "1001 11 01 001 1 0001 0011 \n",
      "0    4  6  8   1112   16   "
     ]
    }
   ],
   "source": [
    "print_indice_documentos(crear_indice_documentos(documentos,modo='d',codificacion='u'))"
   ]
  },
  {
   "cell_type": "code",
   "execution_count": 9,
   "metadata": {},
   "outputs": [
    {
     "name": "stdout",
     "output_type": "stream",
     "text": [
      "1011 11 010 011 1 00100 0111 \n",
      "0    4  6   9   1213    18   "
     ]
    }
   ],
   "source": [
    "print_indice_documentos(crear_indice_documentos(documentos,modo='d',codificacion='g'))"
   ]
  },
  {
   "cell_type": "markdown",
   "metadata": {},
   "source": [
    "## Combinando"
   ]
  },
  {
   "cell_type": "code",
   "execution_count": 10,
   "metadata": {},
   "outputs": [
    {
     "name": "stdout",
     "output_type": "stream",
     "text": [
      "Lexico\n",
      "papa papel papelon paprika pepa pimenton pimienta \n",
      "0    4     9       16      23   27       35       \n",
      "Documentos\n",
      "1011 11 010 011 1 00100 0111 \n",
      "0    4  6   9   1213    18   "
     ]
    }
   ],
   "source": [
    "generar_indice_invertido(palabras_documentos,modo_lexico='c',codificacion='g',distancia_docs=True)"
   ]
  },
  {
   "cell_type": "code",
   "execution_count": null,
   "metadata": {},
   "outputs": [],
   "source": []
  }
 ],
 "metadata": {
  "kernelspec": {
   "display_name": "Python 3",
   "language": "python",
   "name": "python3"
  },
  "language_info": {
   "codemirror_mode": {
    "name": "ipython",
    "version": 3
   },
   "file_extension": ".py",
   "mimetype": "text/x-python",
   "name": "python",
   "nbconvert_exporter": "python",
   "pygments_lexer": "ipython3",
   "version": "3.9.1"
  }
 },
 "nbformat": 4,
 "nbformat_minor": 4
}

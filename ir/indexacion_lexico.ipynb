{
 "cells": [
  {
   "cell_type": "code",
   "execution_count": 1,
   "metadata": {},
   "outputs": [],
   "source": [
    "from inf_retriev import *"
   ]
  },
  {
   "cell_type": "code",
   "execution_count": 2,
   "metadata": {},
   "outputs": [
    {
     "data": {
      "text/plain": [
       "['14', '12', '2', '3', '1', '4', '34']"
      ]
     },
     "execution_count": 2,
     "metadata": {},
     "output_type": "execute_result"
    }
   ],
   "source": [
    "palabras_documentos = {\"papa\":\"14\",\"papel\":\"12\",\"papelon\":\"2\",\"paprika\":\"3\", \"pepa\":\"1\", \"pimienta\":\"34\",\"pimenton\":\"4\"}\n",
    "palabras_documentos = dict(sorted(palabras_documentos.items()))\n",
    "terminos = list(palabras_documentos.keys())\n",
    "documentos = list(palabras_documentos.values())\n",
    "documentos"
   ]
  },
  {
   "cell_type": "markdown",
   "metadata": {},
   "source": [
    "## Lexico"
   ]
  },
  {
   "cell_type": "code",
   "execution_count": 3,
   "metadata": {},
   "outputs": [
    {
     "name": "stdout",
     "output_type": "stream",
     "text": [
      "papa papel papelon paprika pepa pimenton pimienta \n",
      "0    4     9       16      23   27       35       "
     ]
    }
   ],
   "source": [
    "print_lexico(crear_lexico(terminos,'c'))"
   ]
  },
  {
   "cell_type": "code",
   "execution_count": 4,
   "metadata": {},
   "outputs": [
    {
     "name": "stdout",
     "output_type": "stream",
     "text": [
      "i|d|p\n",
      "0|4|0\n",
      "3|2|4\n",
      "5|2|6\n",
      "3|4|8\n",
      "1|3|12\n",
      "1|7|15\n",
      "3|5|22\n",
      "papa el on rika epa imenton ienta \n",
      "0    4  6  8    12  15      22    "
     ]
    }
   ],
   "source": [
    "print_lexico_front_coding(crear_lexico(terminos,'fc'))"
   ]
  },
  {
   "cell_type": "code",
   "execution_count": 5,
   "metadata": {},
   "outputs": [
    {
     "name": "stdout",
     "output_type": "stream",
     "text": [
      "i|d|p\n",
      "0|4|0\n",
      "3|2|4\n",
      "5|2|6\n",
      "3|4|8\n",
      "0|4|12\n",
      "1|7|16\n",
      "3|5|23\n",
      "papa el on rika pepa imenton ienta \n",
      "0    4  6  8    12   16      23    "
     ]
    }
   ],
   "source": [
    "print_lexico_front_coding(crear_lexico(terminos,'fcp',n=4))"
   ]
  },
  {
   "cell_type": "markdown",
   "metadata": {},
   "source": [
    "## Documentos"
   ]
  },
  {
   "cell_type": "code",
   "execution_count": 6,
   "metadata": {},
   "outputs": [
    {
     "name": "stdout",
     "output_type": "stream",
     "text": [
      "14 12 2 3 1 4 34 \n",
      "0  2  4 5 6 7 8  "
     ]
    }
   ],
   "source": [
    "print_indice_documentos(crear_indice_documentos(documentos))"
   ]
  },
  {
   "cell_type": "code",
   "execution_count": 7,
   "metadata": {},
   "outputs": [
    {
     "name": "stdout",
     "output_type": "stream",
     "text": [
      "13 11 2 3 1 4 31 \n",
      "0  2  4 5 6 7 8  "
     ]
    }
   ],
   "source": [
    "print_indice_documentos(crear_indice_documentos(documentos,'d'))"
   ]
  },
  {
   "cell_type": "code",
   "execution_count": 8,
   "metadata": {},
   "outputs": [
    {
     "name": "stdout",
     "output_type": "stream",
     "text": [
      "1001 11 01 001 1 0001 0011 \n",
      "0    4  6  8   1112   16   "
     ]
    }
   ],
   "source": [
    "print_indice_documentos(crear_indice_documentos(documentos,modo='d',codificacion='u'))"
   ]
  },
  {
   "cell_type": "code",
   "execution_count": 9,
   "metadata": {},
   "outputs": [
    {
     "name": "stdout",
     "output_type": "stream",
     "text": [
      "1011 11 010 011 1 00100 0111 \n",
      "0    4  6   9   1213    18   "
     ]
    }
   ],
   "source": [
    "print_indice_documentos(crear_indice_documentos(documentos,modo='d',codificacion='g'))"
   ]
  },
  {
   "cell_type": "markdown",
   "metadata": {},
   "source": [
    "## Combinando"
   ]
  },
  {
   "cell_type": "code",
   "execution_count": 10,
   "metadata": {},
   "outputs": [
    {
     "name": "stdout",
     "output_type": "stream",
     "text": [
      "Lexico\n",
      "papa papel papelon paprika pepa pimenton pimienta \n",
      "0    4     9       16      23   27       35       \n",
      "Documentos\n",
      "1011 11 010 011 1 00100 0111 \n",
      "0    4  6   9   1213    18   "
     ]
    }
   ],
   "source": [
    "generar_indice_invertido(palabras_documentos,modo_lexico='c',codificacion='g',distancia_docs=True)"
   ]
  },
  {
   "cell_type": "markdown",
   "metadata": {},
   "source": [
    "## Ejemplos Markdown"
   ]
  },
  {
   "cell_type": "code",
   "execution_count": 11,
   "metadata": {},
   "outputs": [
    {
     "name": "stdout",
     "output_type": "stream",
     "text": [
      "| punteros terminos | punteros documentos |\n",
      "| -------- | -------- |\n",
      "| 0 | 0 |\n",
      "| 4 | 2 |\n",
      "| 9 | 4 |\n",
      "| 16 | 5 |\n",
      "| 23 | 6 |\n",
      "| 27 | 7 |\n",
      "| 35 | 8 |\n",
      "\n",
      "| papa | papel | papelon | paprika | pepa | pimenton | pimienta |\n",
      "| ---- | ----- | ------- | ------- | ---- | -------- | -------- |\n",
      "| 0 | 4 | 9 | 16 | 23 | 27 | 35 |\n",
      "\n",
      "| 13 | 11 | 2 | 3 | 1 | 4 | 31 |\n",
      "| -- | -- | - | - | - | - | -- |\n",
      "| 0 | 2 | 4 | 5 | 6 | 7 | 8 |"
     ]
    }
   ],
   "source": [
    "print_markdown_indice_invertido(crear_lexico(terminos,'c'),crear_indice_documentos(documentos,'d'))"
   ]
  },
  {
   "cell_type": "code",
   "execution_count": 12,
   "metadata": {},
   "outputs": [
    {
     "name": "stdout",
     "output_type": "stream",
     "text": [
      "| posicion | punteros terminos | punteros documentos |\n",
      "| -------- | -------- | -------- |\n",
      "| 0|0 | 0 |\n",
      "| 1|4 | 2 |\n",
      "| 2|9 | 4 |\n",
      "| 3|16 | 5 |\n",
      "| 4|23 | 6 |\n",
      "| 5|27 | 7 |\n",
      "| 6|35 | 8 |\n",
      "\n",
      "| papa | papel | papelon | paprika | pepa | pimenton | pimienta |\n",
      "| ---- | ----- | ------- | ------- | ---- | -------- | -------- |\n",
      "| 0 | 4 | 9 | 16 | 23 | 27 | 35 |\n",
      "\n",
      "| 13 | 11 | 2 | 3 | 1 | 4 | 31 |\n",
      "| -- | -- | - | - | - | - | -- |\n",
      "| 0 | 2 | 4 | 5 | 6 | 7 | 8 |"
     ]
    }
   ],
   "source": [
    "print_markdown_indice_invertido_indexado(crear_lexico(terminos,'c'),crear_indice_documentos(documentos,'d'))"
   ]
  },
  {
   "cell_type": "markdown",
   "metadata": {},
   "source": [
    "| posicion | punteros terminos | punteros documentos |\n",
    "| -------- | -------- | -------- |\n",
    "| 0 |0 | 0 |\n",
    "| 1 |4 | 2 |\n",
    "| 2 |9 | 4 |\n",
    "| 3 |16 | 5 |\n",
    "| 4 |23 | 6 |\n",
    "| 5 |27 | 7 |\n",
    "| 6 |35 | 8 |\n",
    "\n",
    "| papa | papel | papelon | paprika | pepa | pimenton | pimienta |\n",
    "| ---- | ----- | ------- | ------- | ---- | -------- | -------- |\n",
    "| 0 | 4 | 9 | 16 | 23 | 27 | 35 |\n",
    "\n",
    "| 13 | 11 | 2 | 3 | 1 | 4 | 31 |\n",
    "| -- | -- | - | - | - | - | -- |\n",
    "| 0 | 2 | 4 | 5 | 6 | 7 | 8 |"
   ]
  },
  {
   "cell_type": "markdown",
   "metadata": {},
   "source": [
    "## Codificar en gamma"
   ]
  },
  {
   "cell_type": "code",
   "execution_count": 13,
   "metadata": {},
   "outputs": [
    {
     "name": "stdout",
     "output_type": "stream",
     "text": [
      "['11010', '0111011']\n"
     ]
    }
   ],
   "source": [
    "lista_documentos = [\"112\",\"313\"]\n",
    "print(list(map(doc_num_to_gamma,lista_documentos)))"
   ]
  },
  {
   "cell_type": "markdown",
   "metadata": {},
   "source": [
    "## Separa segun indice en markdown"
   ]
  },
  {
   "cell_type": "code",
   "execution_count": 14,
   "metadata": {},
   "outputs": [
    {
     "data": {
      "text/plain": [
       "' | 010010 | 011 | 00100 | 1 | 010010 | 1010 | 10101 | '"
      ]
     },
     "execution_count": 14,
     "metadata": {},
     "output_type": "execute_result"
    }
   ],
   "source": [
    "separar_segun_indice_markdown(\"010010011001001010010101010101\",[0,6,9,14,15,21,25])"
   ]
  },
  {
   "cell_type": "markdown",
   "metadata": {},
   "source": [
    "## Comprimir arbol binario"
   ]
  },
  {
   "cell_type": "code",
   "execution_count": 47,
   "metadata": {},
   "outputs": [],
   "source": [
    "def comprimir_bits_arbol_binaria(vector_binario_string,resultado=[]):\n",
    "    for i in range(len(vector_binario_string)):\n",
    "        if not(i%4):\n",
    "            print(\" \",end=\"\")\n",
    "        print(vector_binario_string[i],end=\"\")\n",
    "    print()\n",
    "    if len(vector_binario_string)%4:\n",
    "        vector_binario_string += \"0\"*len(vector_binario_string)%4\n",
    "    if len(vector_binario_string)==4:\n",
    "        resultado.append(vector_binario_string)\n",
    "        resultado.reverse()\n",
    "        for chunk in resultado:\n",
    "            print(chunk,end=\" \")\n",
    "        return\n",
    "    compresion = \"\"\n",
    "    chunks = [vector_binario_string[i:i+4] for i in range(0, len(vector_binario_string), 4)]\n",
    "    resultado_parcial = []\n",
    "    for chunk in chunks:\n",
    "        if \"1\" in chunk:\n",
    "            compresion += \"1\"\n",
    "            resultado_parcial.append(chunk)\n",
    "        else:\n",
    "            compresion += \"0\"\n",
    "    resultado_parcial.reverse()\n",
    "    resultado+=resultado_parcialTaller de ProgramaciónTaller de Programación\n",
    "    comprimir_bits_arbol_binaria(compresion)\n",
    "        "
   ]
  },
  {
   "cell_type": "code",
   "execution_count": 48,
   "metadata": {},
   "outputs": [
    {
     "name": "stdout",
     "output_type": "stream",
     "text": [
      " 0000 0010 0000 0011 1000 0000 0100 0000 0000 0000 0000 0000 0000 0000 0000 0000\n",
      " 0101 1010 0000 0000\n",
      " 1100\n",
      "1100 0101 1010 0010 0011 1000 0100 "
     ]
    }
   ],
   "source": [
    "vector = \"\".join(\"0000 0010 0000 0011 1000 0000 0100 0000 0000 0000 0000 0000 0000 0000 0000 0000\".split(\" \"))\n",
    "comprimir_bits_arbol_binaria(vector)"
   ]
  },
  {
   "cell_type": "code",
   "execution_count": null,
   "metadata": {},
   "outputs": [],
   "source": [
    "\"1100 0101 1010 0010 0011 1000 0100  \"\""
   ]
  }
 ],
 "metadata": {
  "kernelspec": {
   "display_name": "Python 3",
   "language": "python",
   "name": "python3"
  },
  "language_info": {
   "codemirror_mode": {
    "name": "ipython",
    "version": 3
   },
   "file_extension": ".py",
   "mimetype": "text/x-python",
   "name": "python",
   "nbconvert_exporter": "python",
   "pygments_lexer": "ipython3",
   "version": "3.9.1"
  }
 },
 "nbformat": 4,
 "nbformat_minor": 4
}

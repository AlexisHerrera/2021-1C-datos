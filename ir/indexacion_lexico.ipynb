{
 "cells": [
  {
   "cell_type": "code",
   "execution_count": 5,
   "metadata": {},
   "outputs": [],
   "source": [
    "from inf_retriev import *"
   ]
  },
  {
   "cell_type": "code",
   "execution_count": 6,
   "metadata": {},
   "outputs": [],
   "source": [
    "terminos = \"papa papel papelon paprika pepa pimienta pimenton\".split(\" \")"
   ]
  },
  {
   "cell_type": "code",
   "execution_count": 7,
   "metadata": {},
   "outputs": [
    {
     "name": "stdout",
     "output_type": "stream",
     "text": [
      "papa papel papelon paprika pepa pimenton pimienta \n",
      "0    4     9       16      23   27       35       "
     ]
    }
   ],
   "source": [
    "print_lexico(crear_lexico(terminos,'c'))"
   ]
  },
  {
   "cell_type": "code",
   "execution_count": 8,
   "metadata": {},
   "outputs": [
    {
     "name": "stdout",
     "output_type": "stream",
     "text": [
      "i|d|p\n",
      "0|4|0\n",
      "3|2|4\n",
      "5|2|6\n",
      "3|4|8\n",
      "1|3|12\n",
      "1|7|15\n",
      "3|5|22\n",
      "papa el on rika epa imenton ienta \n",
      "0    4  6  8    12  15      22    "
     ]
    }
   ],
   "source": [
    "print_lexico_front_coding(crear_lexico(terminos,'fc'))"
   ]
  },
  {
   "cell_type": "code",
   "execution_count": 9,
   "metadata": {},
   "outputs": [
    {
     "name": "stdout",
     "output_type": "stream",
     "text": [
      "i|d|p\n",
      "0|4|0\n",
      "3|2|4\n",
      "5|2|6\n",
      "3|4|8\n",
      "0|4|12\n",
      "1|7|16\n",
      "3|5|23\n",
      "papa el on rika pepa imenton ienta \n",
      "0    4  6  8    12   16      23    "
     ]
    }
   ],
   "source": [
    "print_lexico_front_coding(crear_lexico(terminos,'fcp',n=4))"
   ]
  },
  {
   "cell_type": "code",
   "execution_count": null,
   "metadata": {},
   "outputs": [],
   "source": []
  }
 ],
 "metadata": {
  "kernelspec": {
   "display_name": "Python 3",
   "language": "python",
   "name": "python3"
  },
  "language_info": {
   "codemirror_mode": {
    "name": "ipython",
    "version": 3
   },
   "file_extension": ".py",
   "mimetype": "text/x-python",
   "name": "python",
   "nbconvert_exporter": "python",
   "pygments_lexer": "ipython3",
   "version": "3.9.1"
  }
 },
 "nbformat": 4,
 "nbformat_minor": 4
}

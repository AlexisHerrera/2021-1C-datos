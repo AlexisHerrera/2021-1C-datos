{
 "cells": [
  {
   "cell_type": "code",
   "execution_count": 247,
   "metadata": {},
   "outputs": [],
   "source": [
    "def iguales_anterior(anterior,posterior):\n",
    "    iguales = 0\n",
    "    for i in range(min(len(anterior),len(posterior))):\n",
    "        if posterior[i] == anterior[i]:\n",
    "            iguales +=1\n",
    "        else: \n",
    "            break\n",
    "    return iguales"
   ]
  },
  {
   "cell_type": "code",
   "execution_count": 248,
   "metadata": {},
   "outputs": [],
   "source": [
    "def crear_lexico_concatenado(terminos):\n",
    "    \"\"\"\n",
    "    Crear lexico recibe una lista de palabras y devuelve una tupla de listas.\n",
    "    La primera es el índice de punteros a los terminos concatenados y la segunda son los términos concatenados.\n",
    "    \"\"\" \n",
    "    terminos.sort()\n",
    "    indice = [0]\n",
    "    len_anterior = 0\n",
    "    for termino in terminos:\n",
    "        indice.append(len(termino)+len_anterior)\n",
    "        len_anterior += len(termino)\n",
    "    indice.pop()\n",
    "    lexico = indice,terminos\n",
    "    return lexico\n",
    "    "
   ]
  },
  {
   "cell_type": "code",
   "execution_count": 249,
   "metadata": {},
   "outputs": [],
   "source": [
    "def crear_lexico_front_coding(terminos,n=len(terminos)):\n",
    "    ultima_palabra = None\n",
    "    indice = [0]\n",
    "    iguales = []\n",
    "    distintos = []\n",
    "    front_coding_terminos = []\n",
    "    indice_actual = 0\n",
    "    len_anterior = 0\n",
    "    for termino in terminos:\n",
    "        if not(indice_actual%n):\n",
    "            iguales.append(0)\n",
    "            distintos.append(len(termino))\n",
    "            front_coding_terminos.append(termino)\n",
    "        else:\n",
    "            igual_anterior = iguales_anterior(ultima_palabra,termino)\n",
    "            iguales.append(igual_anterior)\n",
    "            distintos.append(len(termino)-igual_anterior)\n",
    "            front_coding_terminos.append(termino[igual_anterior:])\n",
    "        if indice_actual != 0:\n",
    "            indice.append(indice[indice_actual-1]+distintos[indice_actual-1])\n",
    "        indice_actual += 1\n",
    "        len_anterior += len(termino)\n",
    "        ultima_palabra = termino\n",
    "    lexico = iguales,distintos,indice,front_coding_terminos\n",
    "    return lexico"
   ]
  },
  {
   "cell_type": "code",
   "execution_count": 250,
   "metadata": {},
   "outputs": [],
   "source": [
    "def crear_lexico(terminos,modo='c',n=None):\n",
    "    \"\"\"\n",
    "    Crear lexico recibe una lista de palabras y devuelve una tupla de listas.\n",
    "    La primera es el índice de punteros a los terminos concatenados y la segunda son los términos concatenados.\n",
    "    \"\"\" \n",
    "    terminos.sort()\n",
    "    indice = [0]\n",
    "    len_anterior = 0\n",
    "    if modo == 'c':\n",
    "        return crear_lexico_concatenado(terminos)\n",
    "    elif modo == 'fc':\n",
    "        return crear_lexico_front_coding(terminos)\n",
    "    elif modo == 'fcp':\n",
    "        return crear_lexico_front_coding_parcial(terminos,n)\n",
    "    "
   ]
  },
  {
   "cell_type": "code",
   "execution_count": 251,
   "metadata": {},
   "outputs": [],
   "source": [
    "def print_lexico(lexico):\n",
    "    \"\"\"Dado una tupla de indice y terminos imprime el índice de léxicos de forma legible\"\"\"\n",
    "    indice,terminos = lexico\n",
    "    for termino in terminos:\n",
    "        print(termino,end=\" \")\n",
    "    print()\n",
    "    posicion = 0\n",
    "    for i in range(len(indice)):\n",
    "        largo_espacios = len(terminos[posicion])\n",
    "        if len(str(indice[i]))>1: #solo funciona hasta indices <100 :sad:\n",
    "            largo_espacios -= len(str(indice[i]))-1\n",
    "        print(indice[i],end=\" \"*largo_espacios)\n",
    "        posicion += 1"
   ]
  },
  {
   "cell_type": "code",
   "execution_count": 252,
   "metadata": {},
   "outputs": [],
   "source": [
    "def print_lexico_front_coding(lexico):\n",
    "    iguales,distintos,indice,front_coding_terminos = lexico\n",
    "    print(\"i|d|p\")\n",
    "    if not(len(iguales) == len(distintos) and len(distintos) == len(indice)):\n",
    "        return\n",
    "    for i in range(len(iguales)):\n",
    "        print(f\"{iguales[i]}|{distintos[i]}|{indice[i]}\")\n",
    "    print_lexico((indice,front_coding_terminos))"
   ]
  },
  {
   "cell_type": "code",
   "execution_count": 253,
   "metadata": {},
   "outputs": [
    {
     "name": "stdout",
     "output_type": "stream",
     "text": [
      "papa papel papelon paprika pepa pimenton pimienta \n",
      "0    4     9       16      23   27       35       "
     ]
    }
   ],
   "source": [
    "terminos = \"papa papel papelon paprika pepa pimienta pimenton\".split(\" \")\n",
    "print_lexico(crear_lexico(terminos,'c'))"
   ]
  },
  {
   "cell_type": "code",
   "execution_count": 254,
   "metadata": {},
   "outputs": [
    {
     "name": "stdout",
     "output_type": "stream",
     "text": [
      "i|d|p\n",
      "0|4|0\n",
      "3|2|4\n",
      "5|2|6\n",
      "3|4|8\n",
      "1|3|12\n",
      "1|7|15\n",
      "3|5|22\n",
      "papa el on rika epa imenton ienta \n",
      "0    4  6  8    12  15      22    "
     ]
    }
   ],
   "source": [
    "print_lexico_front_coding(crear_lexico(terminos,'fc'))"
   ]
  },
  {
   "cell_type": "code",
   "execution_count": 256,
   "metadata": {},
   "outputs": [
    {
     "name": "stdout",
     "output_type": "stream",
     "text": [
      "i|d|p\n",
      "0|4|0\n",
      "3|2|4\n",
      "5|2|6\n",
      "3|4|8\n",
      "0|4|12\n",
      "1|7|16\n",
      "3|5|23\n",
      "papa el on rika pepa imenton ienta \n",
      "0    4  6  8    12   16      23    "
     ]
    }
   ],
   "source": [
    "print_lexico_front_coding(crear_lexico(terminos,'fcp',n=4))"
   ]
  }
 ],
 "metadata": {
  "kernelspec": {
   "display_name": "Python 3",
   "language": "python",
   "name": "python3"
  },
  "language_info": {
   "codemirror_mode": {
    "name": "ipython",
    "version": 3
   },
   "file_extension": ".py",
   "mimetype": "text/x-python",
   "name": "python",
   "nbconvert_exporter": "python",
   "pygments_lexer": "ipython3",
   "version": "3.9.1"
  }
 },
 "nbformat": 4,
 "nbformat_minor": 4
}

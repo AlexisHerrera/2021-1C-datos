{
 "cells": [
  {
   "cell_type": "markdown",
   "metadata": {},
   "source": [
    "# Parcial 2020 2C 1R"
   ]
  },
  {
   "cell_type": "markdown",
   "metadata": {},
   "source": [
    "1) Recorremos todos los documentos y armamos un archivo auxiliar con los términos y el documento donde se encuentra dicho termino. En nuestro caso el archivo sería así"
   ]
  },
  {
   "cell_type": "markdown",
   "metadata": {},
   "source": [
    "* Caballo->1\n",
    "* Caballero->1\n",
    "* Cabra->1\n",
    "* Cacao->2\n",
    "* Cacerola->2\n",
    "* Caballo->2\n",
    "* Cabalgar->2\n",
    "* Cacao->3\n",
    "* Cabra->3\n",
    "* Cabaña->3\n",
    "* Caballo->4\n",
    "* Cabalgar->4\n",
    "* Caballero->4\n",
    "* Caballo->4\n",
    "* Cabra->5\n",
    "* Cacerola->5"
   ]
  },
  {
   "cell_type": "markdown",
   "metadata": {},
   "source": [
    "Luego ordenamos dichos terminos por término y documento. En nuestro caso quedaría de la siguiente forma"
   ]
  },
  {
   "cell_type": "markdown",
   "metadata": {},
   "source": [
    "* Cabalgar->2\n",
    "* Cabalgar->4\n",
    "* Caballero->1\n",
    "* Caballero->4\n",
    "* Caballo->1\n",
    "* Caballo->2\n",
    "* Caballo->4\n",
    "* Cabaña->3\n",
    "* Cabra->1\n",
    "* Cabra->3\n",
    "* Cabra->5\n",
    "* Cacao->2\n",
    "* Cacao->3\n",
    "* Cacerola->2\n",
    "* Cacerola->5"
   ]
  },
  {
   "cell_type": "markdown",
   "metadata": {},
   "source": [
    "Unificamos los términos"
   ]
  },
  {
   "cell_type": "markdown",
   "metadata": {},
   "source": [
    "* Cabalgar->2,4\n",
    "* Caballero->1,4\n",
    "* Caballo->1,2,4\n",
    "* Cabaña->3\n",
    "* Cabra->1,3,5\n",
    "* Cacao->2,3\n",
    "* Cacerola->2,5"
   ]
  },
  {
   "cell_type": "markdown",
   "metadata": {},
   "source": [
    "Codificamos los documentos a distancias"
   ]
  },
  {
   "cell_type": "markdown",
   "metadata": {},
   "source": [
    "* Cabalgar->2,2\n",
    "* Caballero->1,3\n",
    "* Caballo->1,1,2\n",
    "* Cabaña->3\n",
    "* Cabra->1,2,2\n",
    "* Cacao->2,1\n",
    "* Cacerola->2,3"
   ]
  },
  {
   "cell_type": "markdown",
   "metadata": {},
   "source": [
    "Con esto podemos armar el índice. Armamos el léxico con front coding parcial (n=3).\\\n",
    "Recordemos que front coding parcial evita reconstruir mas de n palabras en una lectura de índice\\\n",
    "El puntero de cada término apunta a los términos concatenados en disco."
   ]
  },
  {
   "cell_type": "markdown",
   "metadata": {},
   "source": [
    "| iguales | distintos | punteros terminos |\n",
    "| -------- | -------- | -------- |\n",
    "| 0 | 8 | 0 |\n",
    "| 5 | 4 | 8 |\n",
    "| 6 | 1 | 12 |\n",
    "| 0 | 6 | 13 |\n",
    "| 3 | 2 | 19 |\n",
    "| 2 | 3 | 21 |\n",
    "| 0 | 8 | 24 |\n",
    "\n",
    "| Cabalgar | lero | o | Cabaña | ra | cao | Cacerola |\n",
    "| -------- | ---- | - | ------ | -- | --- | -------- |\n",
    "| 0 | 8 | 12 | 13 | 19 | 21 | 24 |"
   ]
  },
  {
   "cell_type": "markdown",
   "metadata": {},
   "source": [
    "Resta armar el índice de documentos. Para ello vamos a codificar los documentos de cada término en Gamma. Recordar que ya estaban como distancias.\\\n",
    "Ejemplo de codificación en gamma. g(1) = 1, g(2)=010 , g(4) = 00100, etc"
   ]
  },
  {
   "cell_type": "markdown",
   "metadata": {},
   "source": [
    "| 010010 | 1011 | 11010 | 011 | 1010010 | 0101 | 010011 |\n",
    "| ------ | ---- | ----- | --- | ------- | ---- | ------ |\n",
    "| 0 | 6 | 10 | 15 | 18 | 25 | 29 |"
   ]
  },
  {
   "cell_type": "markdown",
   "metadata": {},
   "source": [
    "Unificando las estructuras quedaría"
   ]
  },
  {
   "cell_type": "markdown",
   "metadata": {},
   "source": [
    "| iguales | distintos | punteros terminos | punteros documentos |\n",
    "| -------- | -------- | -------- | -------- |\n",
    "| 0 | 8 | 0 | 0 |\n",
    "| 5 | 4 | 8 | 6 |\n",
    "| 6 | 1 | 12 | 10 |\n",
    "| 0 | 6 | 13 | 15 |\n",
    "| 3 | 2 | 19 | 18 |\n",
    "| 2 | 3 | 21 | 25 |\n",
    "| 0 | 8 | 24 | 29 |\n",
    "\n",
    "| Cabalgar | lero | o | Cabaña | ra | cao | Cacerola |\n",
    "| -------- | ---- | - | ------ | -- | --- | -------- |\n",
    "| 0 | 8 | 12 | 13 | 19 | 21 | 24 |\n",
    "\n",
    "| 010010 | 1011 | 11010 | 011 | 1010010 | 0101 | 010011 |\n",
    "| ------ | ---- | ----- | --- | ------- | ---- | ------ |\n",
    "| 0 | 6 | 10 | 15 | 18 | 25 | 29 |"
   ]
  },
  {
   "cell_type": "markdown",
   "metadata": {},
   "source": [
    "Para calcular el espacio utilizado hay que definir los tamaños para los punteros, los valores de iguales y disntintos. En este caso usamos 8 bytes (x64) para todos esos valores\\\n",
    "Tenemos por un lado la tabla de 7x4. Entonces usamos 7x4x8 bytes = 224 bytes.\\\n",
    "Para los terminos utilizamos 1 byte por caracter, entonces usamos 32 bytes en disco.\\\n",
    "Y para los documentos codificados utilizamos bits, en total usamos 35 bits, redondando a bytes usamos 64 bits = 6 bytes. En total usamos 224 + 32 + 6 = 262 bytes."
   ]
  },
  {
   "cell_type": "code",
   "execution_count": null,
   "metadata": {},
   "outputs": [],
   "source": []
  }
 ],
 "metadata": {
  "kernelspec": {
   "display_name": "Python 3",
   "language": "python",
   "name": "python3"
  },
  "language_info": {
   "codemirror_mode": {
    "name": "ipython",
    "version": 3
   },
   "file_extension": ".py",
   "mimetype": "text/x-python",
   "name": "python",
   "nbconvert_exporter": "python",
   "pygments_lexer": "ipython3",
   "version": "3.9.1"
  }
 },
 "nbformat": 4,
 "nbformat_minor": 4
}

{
 "cells": [
  {
   "cell_type": "markdown",
   "metadata": {},
   "source": [
    "# Parcial 10/06 Information Retrieval"
   ]
  },
  {
   "cell_type": "markdown",
   "metadata": {},
   "source": [
    "Nota de corrección: El punto c) Esta mal. Se corrigió en clase y hay en piazza una diapositiva de la correción"
   ]
  },
  {
   "cell_type": "markdown",
   "metadata": {},
   "source": [
    "a) Sean los siguientes documentos y su contenido (considero todas las palabras en minúsculas)  \n",
    "D1: saca casa  \n",
    "D2: aca hay asas  \n",
    "D3: casa asa saca  \n",
    "D4: aca aca asta  "
   ]
  },
  {
   "cell_type": "markdown",
   "metadata": {},
   "source": [
    "Recorremos todos los documentos y armamos un archivo auxiliar con los términos y el documento donde se encuentra dicho termino.  \n",
    "Tambien tomamos la posicion de donde fue extraído. En nuestro caso el archivo sería así"
   ]
  },
  {
   "cell_type": "markdown",
   "metadata": {},
   "source": [
    "* saca->1(1)\n",
    "* casa->1(2)\n",
    "* aca->2(1)\n",
    "* hay->2(2)\n",
    "* asas->2(3)\n",
    "* casa->3(1)\n",
    "* asa->3(2)\n",
    "* saca->3(3)\n",
    "* aca->4(1)\n",
    "* aca->4(2)\n",
    "* asta->4(3)"
   ]
  },
  {
   "cell_type": "markdown",
   "metadata": {},
   "source": [
    "Luego ordenamos dichos terminos por término y documento. Teniendo en cuenta la posicion y la frecuencia. Para visualizarlo se muestra de la forma DocFrecuenciaPosiciones. En nuestro caso quedaría de la siguiente forma"
   ]
  },
  {
   "cell_type": "markdown",
   "metadata": {},
   "source": [
    "* aca->211\n",
    "* aca->4212\n",
    "* asa->312\n",
    "* asas->213\n",
    "* asta->413\n",
    "* casa->112\n",
    "* casa->311\n",
    "* hay->212\n",
    "* saca->111\n",
    "* saca->313"
   ]
  },
  {
   "cell_type": "markdown",
   "metadata": {},
   "source": [
    "Unificamos los términos"
   ]
  },
  {
   "cell_type": "markdown",
   "metadata": {},
   "source": [
    "* aca->211-4212\n",
    "* asa->312\n",
    "* asas->213\n",
    "* asta->413\n",
    "* casa->112,311\n",
    "* hay->212\n",
    "* saca->111,313"
   ]
  },
  {
   "cell_type": "markdown",
   "metadata": {},
   "source": [
    "Codificamos los documentos y frecuencias a distancias"
   ]
  },
  {
   "cell_type": "markdown",
   "metadata": {},
   "source": [
    "* aca->211,2211\n",
    "* asa->312\n",
    "* asas->213\n",
    "* asta->413\n",
    "* casa->112,211\n",
    "* hay->212\n",
    "* saca->111,213"
   ]
  },
  {
   "cell_type": "markdown",
   "metadata": {},
   "source": [
    "Con esto podemos armar el *índice*.  \n",
    "Armamos el léxico sin front coding  \n",
    "El puntero de cada término apunta a los términos concatenados en disco"
   ]
  },
  {
   "cell_type": "markdown",
   "metadata": {},
   "source": [
    "| aca | asa | asas | asta | casa | hay | saca |\n",
    "| --- | --- | ---- | ---- | ---- | --- | ---- |\n",
    "| 0 | 3 | 6 | 10 | 14 | 18 | 21 |"
   ]
  },
  {
   "cell_type": "markdown",
   "metadata": {},
   "source": [
    "Resta armar el índice de documentos. Para ello vamos a codificar los documentos, frecuencias y posiciones de cada término en Gamma. Tener en cuenta que está codificado con distancias por documentos y frecuencias.  \n",
    "También que los bits estan concatenados, el espacio es para visualizar mejor  \n",
    "Ejemplo de codificación en gamma. g(1) = 1, g(2)=010 , g(4) = 00100, etc"
   ]
  },
  {
   "cell_type": "markdown",
   "metadata": {},
   "source": [
    "| 010 1  1  010  010  1  1 | 011  1  010 | 010  1  011 | 00100  1  011 | 1  1  010  010  1  1 | 010  1  010 | 1  1  1  010  1011 |\n",
    "|-|-|-|-|-|-|-|\n",
    "|0|13|20|27|36|46|54|"
   ]
  },
  {
   "cell_type": "markdown",
   "metadata": {},
   "source": [
    "Unificando los índices quedaría de la siguiente manera"
   ]
  },
  {
   "cell_type": "markdown",
   "metadata": {},
   "source": [
    "| punteros terminos | punteros documentos |\n",
    "| -------- | -------- |\n",
    "| 0 | 0 |\n",
    "| 3 | 13 |\n",
    "| 6 | 20 |\n",
    "| 10 | 27 |\n",
    "| 14 | 36 |\n",
    "| 18 | 46 |\n",
    "| 21 | 54 |\n",
    "\n",
    "| aca | asa | asas | asta | casa | hay | saca |\n",
    "| --- | --- | ---- | ---- | ---- | --- | ---- |\n",
    "| 0 | 3 | 6 | 10 | 14 | 18 | 21 |\n",
    "\n",
    "| 010 1  1  010  010  1  1 | 011  1  010 | 010  1  011 | 00100  1  011 | 1  1  010  010  1  1 | 010  1  010 | 1  1  1  010  1011 |\n",
    "|-|-|-|-|-|-|-|\n",
    "|0|13|20|27|36|46|54|"
   ]
  },
  {
   "cell_type": "markdown",
   "metadata": {},
   "source": [
    "b) Resuelvo la consulta \"Saca casa\", para ello utilizo de ayuda un indice de posición de la tabla"
   ]
  },
  {
   "cell_type": "markdown",
   "metadata": {},
   "source": [
    "|posicion tabla| punteros terminos | punteros documentos |\n",
    "| -------- | -------- | -------- |\n",
    "| 0 | 0 | 0 |\n",
    "| 1 | 3 | 13 |\n",
    "| 2 | 6 | 20 |\n",
    "| 3 | 10 | 27 |\n",
    "| 4 | 14 | 36 |\n",
    "| 5 | 18 | 46 |\n",
    "| 6 | 21 | 54 |\n",
    "\n",
    "| aca | asa | asas | asta | casa | hay | saca |\n",
    "| --- | --- | ---- | ---- | ---- | --- | ---- |\n",
    "| 0 | 3 | 6 | 10 | 14 | 18 | 21 |\n",
    "\n",
    "| 010 1  1  010  010  1  1 | 011  1  010 | 010  1  011 | 00100  1  011 | 1  1  010  010  1  1 | 010  1  010 | 1  1  1  010  1011 |\n",
    "|-|-|-|-|-|-|-|\n",
    "|0|13|20|27|36|46|54|"
   ]
  },
  {
   "cell_type": "markdown",
   "metadata": {},
   "source": [
    "_saca_  \n",
    "* Pos 3 (asta) (1 indice, 1 disco) Leemos 4 char: asta. Como saca>asta, busco en la mitad superior\n",
    "* Pos 5 (hay) (1 indice, 1 disco). Leemos 3 char: hay. Como saca>hay, busco en la mitad superior\n",
    "* Pos 6 (asta) (1 indice,1 disco). Leemos 4 char: saca. \n",
    "\n",
    "Saca es lo que buscaba, el puntero a documentos se encuentra en la posicion 54. Leo 10 bits \n",
    "Leo el puntero a documentos en la posición 54  y obtengo 11101010111 en gamma.(1 disco)\n",
    "Que es 111,213 codificado en distancias que es 111,313"
   ]
  },
  {
   "cell_type": "markdown",
   "metadata": {},
   "source": [
    "_casa_\n",
    "* Pos 3 (asta) (1 indice) Ya lo habiamos leído. Como casa>asta, busco en la mitad superior\n",
    "* Pos 5 (hay) (1 indice). Ya lo habíamos leído también. Como casa<hay, busco en la mitad inferior\n",
    "* Pos 4 (casa) (1 indice, 1 disco). Leemos 4 chars: casa.\n",
    "casa es lo que buscaba, leo en indice en la posición siguiente para saber el largo del puntero a documentos de casa (1 indice) y tiene largo 10.\n",
    "Leo el puntero a documentos en la posición 36  y obtengo 1101001011 en gamma.(1 disco)\n",
    "Que es 112,211 codificado en distancias que es 112,311"
   ]
  },
  {
   "cell_type": "markdown",
   "metadata": {},
   "source": [
    "Queda ver en que documentos coinciden ambos terminos y la posición relativa de cada uno en cada documento.  \n",
    "En este caso en el documento 1 coincide pues 111 (saca) y 112(casa) indican que se encuentran en el documento 1 en las posiciones 1 y 2 respectivamente. El resto no cumplen lo solicitado"
   ]
  },
  {
   "cell_type": "markdown",
   "metadata": {},
   "source": [
    "c) La estructura de bigramas consiste en utilizar una estructura auxiliar que nos permite realizar consultas con comodín de una manera más eficiente"
   ]
  },
  {
   "cell_type": "markdown",
   "metadata": {},
   "source": [
    "Para cada término de los documentos, los dividiremos en bigramas. Por ejemplo casa sería: \"-c ca as sa a-\".  \n",
    "Para cada uno de estos bigramas apuntaran a los términos que lo contengan. Por ejemplo:  "
   ]
  },
  {
   "cell_type": "markdown",
   "metadata": {},
   "source": [
    "| bigrama | puntero a terminos |\n",
    "| --- | --- |\n",
    "| -c  | 4(casa)  |\n",
    "| as  | 4(casa),3(asa).. |\n",
    "| sa  | 4(casa),3(asa).. |\n",
    "| a-  | 4(casa),3(asa).. |\n",
    "| ... | ... |"
   ]
  },
  {
   "cell_type": "markdown",
   "metadata": {},
   "source": [
    "Para la búsqueda \"as\\*a\" realizamos lo siguiente  \n",
    "Buscamos en el indice que cumpla lo siguiente: -a AND sa AND a-. Es decir buscamos en el índice aquellos que empiecen por a, tengan sa y terminen con a.  \n",
    "Luego realizamos una búsqueda normal como hacíamos con el índice invertido. Es decir, seguimos desde el punto en donde íbamos a buscar a punteros por documento. Reemplazaría al proceso de búsqueda binaria en el índice invertido. Pero solo lo utilizariamos para las búsquedas con comodín. \n"
   ]
  }
 ],
 "metadata": {
  "kernelspec": {
   "display_name": "Python 3",
   "language": "python",
   "name": "python3"
  },
  "language_info": {
   "codemirror_mode": {
    "name": "ipython",
    "version": 3
   },
   "file_extension": ".py",
   "mimetype": "text/x-python",
   "name": "python",
   "nbconvert_exporter": "python",
   "pygments_lexer": "ipython3",
   "version": "3.9.1"
  }
 },
 "nbformat": 4,
 "nbformat_minor": 4
}

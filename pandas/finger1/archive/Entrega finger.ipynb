{
 "cells": [
  {
   "cell_type": "markdown",
   "metadata": {},
   "source": [
    "# Primera parte"
   ]
  },
  {
   "cell_type": "code",
   "execution_count": 1,
   "metadata": {},
   "outputs": [],
   "source": [
    "import matplotlib.pyplot as plt\n",
    "import pandas as pd\n",
    "df = pd.read_csv(\"country_vaccinations.csv\")"
   ]
  },
  {
   "cell_type": "code",
   "execution_count": 2,
   "metadata": {},
   "outputs": [],
   "source": [
    "#Limpiamos y agrupamos por país\n",
    "vac_by_country = df.groupby('country').agg({'people_vaccinated':'max','people_fully_vaccinated':'max'})"
   ]
  },
  {
   "cell_type": "code",
   "execution_count": 3,
   "metadata": {},
   "outputs": [
    {
     "name": "stdout",
     "output_type": "stream",
     "text": [
      "El país con más vacunados es United States con 125822868 vacunados\n"
     ]
    }
   ],
   "source": [
    "country_with_most_vaccinated_people = vac_by_country['people_vaccinated'].idxmax()\n",
    "people_vaccinated = vac_by_country['people_vaccinated'].max()\n",
    "print(f'El país con más vacunados es {country_with_most_vaccinated_people} con {int(people_vaccinated)} vacunados')"
   ]
  },
  {
   "cell_type": "markdown",
   "metadata": {},
   "source": [
    "# Segunda parte"
   ]
  },
  {
   "cell_type": "code",
   "execution_count": 4,
   "metadata": {},
   "outputs": [
    {
     "data": {
      "text/html": [
       "<div>\n",
       "<style scoped>\n",
       "    .dataframe tbody tr th:only-of-type {\n",
       "        vertical-align: middle;\n",
       "    }\n",
       "\n",
       "    .dataframe tbody tr th {\n",
       "        vertical-align: top;\n",
       "    }\n",
       "\n",
       "    .dataframe thead th {\n",
       "        text-align: right;\n",
       "    }\n",
       "</style>\n",
       "<table border=\"1\" class=\"dataframe\">\n",
       "  <thead>\n",
       "    <tr style=\"text-align: right;\">\n",
       "      <th></th>\n",
       "      <th>people_vaccinated</th>\n",
       "      <th>people_fully_vaccinated</th>\n",
       "    </tr>\n",
       "    <tr>\n",
       "      <th>country</th>\n",
       "      <th></th>\n",
       "      <th></th>\n",
       "    </tr>\n",
       "  </thead>\n",
       "  <tbody>\n",
       "    <tr>\n",
       "      <th>United States</th>\n",
       "      <td>125822868.0</td>\n",
       "      <td>78498290.0</td>\n",
       "    </tr>\n",
       "    <tr>\n",
       "      <th>India</th>\n",
       "      <td>102349255.0</td>\n",
       "      <td>14874254.0</td>\n",
       "    </tr>\n",
       "    <tr>\n",
       "      <th>United Kingdom</th>\n",
       "      <td>32444439.0</td>\n",
       "      <td>8513864.0</td>\n",
       "    </tr>\n",
       "    <tr>\n",
       "      <th>England</th>\n",
       "      <td>27251419.0</td>\n",
       "      <td>7054720.0</td>\n",
       "    </tr>\n",
       "    <tr>\n",
       "      <th>Brazil</th>\n",
       "      <td>24809790.0</td>\n",
       "      <td>8000733.0</td>\n",
       "    </tr>\n",
       "    <tr>\n",
       "      <th>Germany</th>\n",
       "      <td>15393858.0</td>\n",
       "      <td>5350247.0</td>\n",
       "    </tr>\n",
       "    <tr>\n",
       "      <th>Turkey</th>\n",
       "      <td>11708135.0</td>\n",
       "      <td>7737134.0</td>\n",
       "    </tr>\n",
       "    <tr>\n",
       "      <th>France</th>\n",
       "      <td>11654420.0</td>\n",
       "      <td>4121706.0</td>\n",
       "    </tr>\n",
       "    <tr>\n",
       "      <th>Indonesia</th>\n",
       "      <td>10457337.0</td>\n",
       "      <td>5550906.0</td>\n",
       "    </tr>\n",
       "    <tr>\n",
       "      <th>Italy</th>\n",
       "      <td>10025605.0</td>\n",
       "      <td>4234230.0</td>\n",
       "    </tr>\n",
       "  </tbody>\n",
       "</table>\n",
       "</div>"
      ],
      "text/plain": [
       "                people_vaccinated  people_fully_vaccinated\n",
       "country                                                   \n",
       "United States         125822868.0               78498290.0\n",
       "India                 102349255.0               14874254.0\n",
       "United Kingdom         32444439.0                8513864.0\n",
       "England                27251419.0                7054720.0\n",
       "Brazil                 24809790.0                8000733.0\n",
       "Germany                15393858.0                5350247.0\n",
       "Turkey                 11708135.0                7737134.0\n",
       "France                 11654420.0                4121706.0\n",
       "Indonesia              10457337.0                5550906.0\n",
       "Italy                  10025605.0                4234230.0"
      ]
     },
     "execution_count": 4,
     "metadata": {},
     "output_type": "execute_result"
    }
   ],
   "source": [
    "top10 = vac_by_country.nlargest(10,'people_vaccinated')\n",
    "top10"
   ]
  },
  {
   "cell_type": "code",
   "execution_count": 6,
   "metadata": {},
   "outputs": [
    {
     "data": {
      "image/png": "[encoded data removed]",
      "text/plain": [
       "<Figure size 432x288 with 1 Axes>"
      ]
     },
     "metadata": {
      "needs_background": "light"
     },
     "output_type": "display_data"
    }
   ],
   "source": [
    "import numpy as np\n",
    "# set width of bars\n",
    "barWidth = 0.25\n",
    "\n",
    "# get labels\n",
    "labels = top10.index.to_list()\n",
    "\n",
    "# set heights of bars\n",
    "bars1 = top10['people_vaccinated'].to_list()\n",
    "bars2 = top10['people_fully_vaccinated'].to_list()\n",
    " \n",
    "# Set position of bar on X axis\n",
    "r1 = np.arange(len(bars1))\n",
    "r2 = [x + barWidth for x in r1]\n",
    " \n",
    "# Make the plot\n",
    "plt.bar(r1, bars1, color='#e5da30', width=barWidth, edgecolor='white', label='People vaccinated')\n",
    "plt.bar(r2, bars2, color='#13b151',width=barWidth, edgecolor='white', label='People fully vaccinated')\n",
    " \n",
    "# Add xticks on the middle of the group bars and rotate\n",
    "plt.xticks([r + barWidth for r in range(len(bars1))], labels)\n",
    "plt.xticks(rotation=70)\n",
    "\n",
    "#Change y labels format\n",
    "plt.ticklabel_format(style='plain', axis='y')\n",
    "plt.ylabel('People')\n",
    "# Create legend & Show graphic\n",
    "plt.title('Top 10 most vaccinated countries')\n",
    "plt.legend()\n",
    "plt.show()"
   ]
  },
  {
   "cell_type": "markdown",
   "metadata": {},
   "source": [
    "## Stacked bar plot (for fun)"
   ]
  },
  {
   "cell_type": "code",
   "execution_count": 7,
   "metadata": {},
   "outputs": [
    {
     "data": {
      "image/png": "[encoded data removed]",
      "text/plain": [
       "<Figure size 432x288 with 1 Axes>"
      ]
     },
     "metadata": {
      "needs_background": "light"
     },
     "output_type": "display_data"
    }
   ],
   "source": [
    "import matplotlib\n",
    "labels = top10.index.to_list()\n",
    "simple_vac = top10['people_vaccinated'].to_list()\n",
    "fully_vac = top10['people_fully_vaccinated'].to_list()\n",
    "width = 0.6\n",
    "fig, ax = plt.subplots()\n",
    "\n",
    "ax.bar(labels, simple_vac, width, label='People vaccinated',color='#e5da30')\n",
    "ax.bar(labels, fully_vac, width, bottom=simple_vac,label='People fully vaccinated', color='#13b151')\n",
    "\n",
    "ax.set_ylabel('People')\n",
    "ax.get_yaxis().set_major_formatter(\n",
    "    matplotlib.ticker.FuncFormatter(lambda x, p: format(int(x), ',')))\n",
    "ax.set_title('Top 10 most vaccinated countries')\n",
    "ax.legend()\n",
    "plt.xticks(rotation=70)\n",
    "plt.show()\n"
   ]
  },
  {
   "cell_type": "code",
   "execution_count": 9,
   "metadata": {},
   "outputs": [
    {
     "data": {
      "text/plain": [
       "['United States',\n",
       " 'India',\n",
       " 'United Kingdom',\n",
       " 'England',\n",
       " 'Brazil',\n",
       " 'Germany',\n",
       " 'Turkey',\n",
       " 'France',\n",
       " 'Indonesia',\n",
       " 'Italy']"
      ]
     },
     "execution_count": 9,
     "metadata": {},
     "output_type": "execute_result"
    }
   ],
   "source": [
    "labels"
   ]
  }
 ],
 "metadata": {
  "kernelspec": {
   "display_name": "Python 3",
   "language": "python",
   "name": "python3"
  },
  "language_info": {
   "codemirror_mode": {
    "name": "ipython",
    "version": 3
   },
   "file_extension": ".py",
   "mimetype": "text/x-python",
   "name": "python",
   "nbconvert_exporter": "python",
   "pygments_lexer": "ipython3",
   "version": "3.9.1"
  }
 },
 "nbformat": 4,
 "nbformat_minor": 4
}

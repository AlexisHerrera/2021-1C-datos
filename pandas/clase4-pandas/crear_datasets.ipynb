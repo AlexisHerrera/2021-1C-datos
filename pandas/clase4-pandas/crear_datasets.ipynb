{
 "cells": [
  {
   "cell_type": "code",
   "execution_count": 1,
   "metadata": {
    "id": "mQDwnOebRYb5"
   },
   "outputs": [],
   "source": [
    "# importacion general de librerias y de visualizacion (matplotlib y seaborn)\n",
    "import pandas as pd\n",
    "import numpy as np\n",
    "import matplotlib.pyplot as plt\n",
    "import seaborn as sns\n",
    "import random as rd\n",
    "%matplotlib inline\n",
    "\n",
    "plt.style.use('default') # haciendo los graficos un poco mas bonitos en matplotlib\n",
    "#plt.rcParams['figure.figsize'] = (20, 10)\n",
    "\n",
    "sns.set(style=\"whitegrid\") # seteando tipo de grid en seaborn\n",
    "\n",
    "pd.options.display.float_format = '{:20,.2f}'.format # suprimimos la notacion cientifica en los outputs\n",
    "\n",
    "import warnings\n",
    "warnings.filterwarnings('ignore')"
   ]
  },
  {
   "cell_type": "code",
   "execution_count": null,
   "metadata": {},
   "outputs": [],
   "source": [
    "size_obs = 210\n",
    "df = pd.DataFrame({\n",
    "    'uid': rd.choices(range(1,10), k=size_obs),\n",
    "    'sessionid': rd.sample(range(1,size_obs+1),k=size_obs),\n",
    "    'event': rd.choices(['ecommerce.view-product', 'ecommerce.checkout', 'ecommerce.conversion', 'ecommerce.other'],k=size_obs),\n",
    "    'value': rd.choices(range(1,12),k=size_obs),\n",
    "    'datetime':pd.date_range(start='2021-03-01',freq='S',periods=size_obs) \n",
    "})\n",
    "df"
   ]
  },
  {
   "cell_type": "markdown",
   "metadata": {},
   "source": [
    "# Range(inicio,fin,step)\n",
    "Crea un iterable que comienza en inicio hasta fin -1"
   ]
  },
  {
   "cell_type": "code",
   "execution_count": 3,
   "metadata": {},
   "outputs": [
    {
     "data": {
      "text/plain": [
       "[1, 2, 3, 4, 5, 6, 7, 8, 9]"
      ]
     },
     "execution_count": 3,
     "metadata": {},
     "output_type": "execute_result"
    }
   ],
   "source": [
    "list(range(1,10))"
   ]
  },
  {
   "cell_type": "markdown",
   "metadata": {},
   "source": [
    "# rd.choices(iter,k=None)\n",
    "Elije con reposicion k elementos, se pueden repetir"
   ]
  },
  {
   "cell_type": "code",
   "execution_count": 5,
   "metadata": {},
   "outputs": [
    {
     "data": {
      "text/plain": [
       "[2, 1, 2, 1, 1, 2, 1, 1, 1, 2, 1, 2, 1, 2, 1, 1, 1, 2, 2, 2]"
      ]
     },
     "execution_count": 5,
     "metadata": {},
     "output_type": "execute_result"
    }
   ],
   "source": [
    "rd.choices(range(1,3),k=20)"
   ]
  },
  {
   "cell_type": "code",
   "execution_count": 6,
   "metadata": {},
   "outputs": [
    {
     "data": {
      "text/plain": [
       "['gamma',\n",
       " 'beta',\n",
       " 'beta',\n",
       " 'gamma',\n",
       " 'epsilon',\n",
       " 'delta',\n",
       " 'alfa',\n",
       " 'beta',\n",
       " 'beta',\n",
       " 'epsilon']"
      ]
     },
     "execution_count": 6,
     "metadata": {},
     "output_type": "execute_result"
    }
   ],
   "source": [
    "rd.choices(['alfa','beta','gamma','delta','epsilon'],k=10)"
   ]
  },
  {
   "cell_type": "markdown",
   "metadata": {},
   "source": [
    "# rd.sample(iter,counts=None,k=None)\n",
    "Lo mismo que choices pero **SIN** reposición"
   ]
  },
  {
   "cell_type": "code",
   "execution_count": 33,
   "metadata": {},
   "outputs": [
    {
     "data": {
      "text/plain": [
       "[3, 4]"
      ]
     },
     "execution_count": 33,
     "metadata": {},
     "output_type": "execute_result"
    }
   ],
   "source": [
    "rd.sample(range(1,6),k=2)"
   ]
  },
  {
   "cell_type": "markdown",
   "metadata": {},
   "source": [
    "# pd.date_range(start='AAAA-MM-DD',end=None,  freq='Y,D,H,M,S',periods=k_times)\n",
    "Un DatetimeIndex que inicia en start y termina en end (si lo indica) unas k_times veces"
   ]
  },
  {
   "cell_type": "code",
   "execution_count": 36,
   "metadata": {},
   "outputs": [
    {
     "data": {
      "text/plain": [
       "DatetimeIndex(['2021-04-01 00:00:00', '2021-04-01 01:00:00',\n",
       "               '2021-04-01 02:00:00', '2021-04-01 03:00:00',\n",
       "               '2021-04-01 04:00:00', '2021-04-01 05:00:00',\n",
       "               '2021-04-01 06:00:00', '2021-04-01 07:00:00',\n",
       "               '2021-04-01 08:00:00', '2021-04-01 09:00:00',\n",
       "               '2021-04-01 10:00:00', '2021-04-01 11:00:00',\n",
       "               '2021-04-01 12:00:00', '2021-04-01 13:00:00',\n",
       "               '2021-04-01 14:00:00', '2021-04-01 15:00:00',\n",
       "               '2021-04-01 16:00:00', '2021-04-01 17:00:00',\n",
       "               '2021-04-01 18:00:00', '2021-04-01 19:00:00',\n",
       "               '2021-04-01 20:00:00', '2021-04-01 21:00:00',\n",
       "               '2021-04-01 22:00:00', '2021-04-01 23:00:00',\n",
       "               '2021-04-02 00:00:00'],\n",
       "              dtype='datetime64[ns]', freq='H')"
      ]
     },
     "execution_count": 36,
     "metadata": {},
     "output_type": "execute_result"
    }
   ],
   "source": [
    "pd.date_range(start='2021-04-01',end='2021-04-02',freq='H')"
   ]
  },
  {
   "cell_type": "code",
   "execution_count": 37,
   "metadata": {},
   "outputs": [
    {
     "data": {
      "text/plain": [
       "DatetimeIndex(['2021-04-01 00:00:00', '2021-04-01 01:00:00',\n",
       "               '2021-04-01 02:00:00', '2021-04-01 03:00:00',\n",
       "               '2021-04-01 04:00:00', '2021-04-01 05:00:00',\n",
       "               '2021-04-01 06:00:00', '2021-04-01 07:00:00',\n",
       "               '2021-04-01 08:00:00', '2021-04-01 09:00:00'],\n",
       "              dtype='datetime64[ns]', freq='H')"
      ]
     },
     "execution_count": 37,
     "metadata": {},
     "output_type": "execute_result"
    }
   ],
   "source": [
    "pd.date_range(start='2021-04-01',freq='H',periods=10)"
   ]
  }
 ],
 "metadata": {
  "kernelspec": {
   "display_name": "Python 3",
   "language": "python",
   "name": "python3"
  },
  "language_info": {
   "codemirror_mode": {
    "name": "ipython",
    "version": 3
   },
   "file_extension": ".py",
   "mimetype": "text/x-python",
   "name": "python",
   "nbconvert_exporter": "python",
   "pygments_lexer": "ipython3",
   "version": "3.9.1"
  }
 },
 "nbformat": 4,
 "nbformat_minor": 4
}

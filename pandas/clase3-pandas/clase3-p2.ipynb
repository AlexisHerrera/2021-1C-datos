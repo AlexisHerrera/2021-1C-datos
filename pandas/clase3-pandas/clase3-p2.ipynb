{
 "cells": [
  {
   "cell_type": "markdown",
   "metadata": {
    "id": "FrKngFDmRYb3"
   },
   "source": [
    "# 2020 1C 3ra Oportunidad"
   ]
  },
  {
   "cell_type": "markdown",
   "metadata": {
    "id": "EzVv7ytczkLR"
   },
   "source": [
    "(***) Un equipo del Ministerio de Salud de la Nación se encuentra realizando distintos análisis de datos a partir de la información que tienen unificada a nivel nacional de los sistemas de información para el seguimiento de la campaña de vacunación contra el sars-cov-2.\n",
    "\n",
    "Es por ello que cuentan con información en los siguientes archivos csv:\n",
    "\n",
    "```\n",
    "centro_de_vacunacion.csv (id_centro_vacunacion, nombre, direccion, codigo_postal, partido, provincia)\n",
    "```\n",
    "\n",
    "```\n",
    "categoria_plan_vacunacion.csv  (id_categoria, nombre_categoria, prioridad)\n",
    "```\n",
    "\n",
    "```\n",
    "aplicaciones.csv (id_ciudadano, fecha_aplicacion, id_categoria, id_centro_vacunacion, id_unico_dosis_vacuna, id_tipo_vacuna)\n",
    "```\n",
    "\n",
    "El primer archivo cuenta con información de los distintos centros de vacunación a lo largo y ancho del país donde se realizan aplicaciones de las vacunas disponibles. Este archivo nos da información geográfica de donde se encuentran los centros de vacunación en cada provincia.\n",
    "\n",
    "El segundo tiene información de las distintas categorías que tiene el plan de vacunación, y la prioridad de las mismas, las cuales son valores numéricos siendo el valor 1 el valor más alto de prioridad. Por ejemplo, la categoría “Personal Esencial: Salud” tiene prioridad 1. Tener en cuenta que múltiples categorías pueden tener el mismo número de prioridad.\n",
    "\n",
    "En el último archivo, contamos con la información de ciudadanos que se fueron realizando aplicaciones dentro del plan de vacunación, cuando se aplicó la misma (en formato “YYYY-mm-dd”), en que lugar y bajo qué categoría se hizo. Algo a considerar aquí es que también contamos con información específica de la dosis que se le aplicó a la personas y el id del tipo de vacuna.\n",
    "\n",
    "Algo importante a considerar es que en la Argentina solamente se cuenta por el momento con vacunas que requieren 2 dosis para tener inmunidad completa, es por eso que en aplicaciones.csv pueden haber múltiples entradas por ciudadano.\n",
    "\n",
    "Se desea:\n",
    "\n",
    "a) Indicar el porcentaje de ciudadanos vacunados en prioridad 1 que tienen inmunidad completa (recibieron dos aplicaciones de vacuna).\n",
    "\n",
    "b) Indicar cual es el top 5 de provincias que han inmunizado de forma completa a mayor cantidad de ciudadanos (es decir realizando dos aplicaciones de la vacuna) en el periodo temporal de diciembre de 2020 a marzo (inclusive) de 2021.\n",
    "\n"
   ]
  },
  {
   "cell_type": "code",
   "execution_count": 23,
   "metadata": {
    "executionInfo": {
     "elapsed": 684,
     "status": "ok",
     "timestamp": 1618875493833,
     "user": {
      "displayName": "Martin Ramos Mejía",
      "photoUrl": "https://lh3.googleusercontent.com/a-/AOh14GgbpDnPjShOpPH8-P0a8AIZrUcpSYNQwHsEfsDQ8w=s64",
      "userId": "08591007000103530707"
     },
     "user_tz": 180
    },
    "id": "mQDwnOebRYb5"
   },
   "outputs": [],
   "source": [
    "# importacion general de librerias y de visualizacion (matplotlib y seaborn)\n",
    "import pandas as pd\n",
    "import numpy as np\n",
    "import random as rd\n",
    "import matplotlib.pyplot as plt\n",
    "import seaborn as sns\n",
    "\n",
    "%matplotlib inline\n",
    "\n",
    "plt.style.use('default') # haciendo los graficos un poco mas bonitos en matplotlib\n",
    "#plt.rcParams['figure.figsize'] = (20, 10)\n",
    "\n",
    "sns.set(style=\"whitegrid\") # seteando tipo de grid en seaborn\n",
    "\n",
    "pd.options.display.float_format = '{:20,.2f}'.format # suprimimos la notacion cientifica en los outputs\n",
    "\n",
    "import warnings\n",
    "warnings.filterwarnings('ignore')"
   ]
  },
  {
   "cell_type": "code",
   "execution_count": 24,
   "metadata": {
    "executionInfo": {
     "elapsed": 766,
     "status": "ok",
     "timestamp": 1618875495502,
     "user": {
      "displayName": "Martin Ramos Mejía",
      "photoUrl": "https://lh3.googleusercontent.com/a-/AOh14GgbpDnPjShOpPH8-P0a8AIZrUcpSYNQwHsEfsDQ8w=s64",
      "userId": "08591007000103530707"
     },
     "user_tz": 180
    },
    "id": "DiqW7og37EjS"
   },
   "outputs": [],
   "source": [
    "# generamos valores aleatorio a utilizar en la generacion de los data frames\n",
    "id_ciudadano = np.random.randint(1, high = 10, size = 20)\n",
    "id_centro_vacunacion = rd.sample(range(1,21),20)\n",
    "id_categoria = rd.sample(range(1,21),20)\n",
    "id_provincia = np.random.randint(1, high = 5, size = 20)\n"
   ]
  },
  {
   "cell_type": "code",
   "execution_count": 25,
   "metadata": {
    "executionInfo": {
     "elapsed": 737,
     "status": "ok",
     "timestamp": 1618875496604,
     "user": {
      "displayName": "Martin Ramos Mejía",
      "photoUrl": "https://lh3.googleusercontent.com/a-/AOh14GgbpDnPjShOpPH8-P0a8AIZrUcpSYNQwHsEfsDQ8w=s64",
      "userId": "08591007000103530707"
     },
     "user_tz": 180
    },
    "id": "_Q3_-cJmRYcE"
   },
   "outputs": [],
   "source": [
    "# armamos el df de centros de vacunacion\n",
    "\n",
    "centros_data = {\n",
    "        'id_centro_vacunacion': id_centro_vacunacion,\n",
    "        'nombre': id_centro_vacunacion,\n",
    "        'direccion': id_centro_vacunacion,\n",
    "        'codigo_postal': id_centro_vacunacion,\n",
    "        'partido': id_centro_vacunacion,\n",
    "        'provincia': id_provincia, \n",
    "}\n",
    "\n",
    "df_centros = pd.DataFrame(centros_data, columns = centros_data.keys())"
   ]
  },
  {
   "cell_type": "code",
   "execution_count": 26,
   "metadata": {
    "executionInfo": {
     "elapsed": 658,
     "status": "ok",
     "timestamp": 1618875497544,
     "user": {
      "displayName": "Martin Ramos Mejía",
      "photoUrl": "https://lh3.googleusercontent.com/a-/AOh14GgbpDnPjShOpPH8-P0a8AIZrUcpSYNQwHsEfsDQ8w=s64",
      "userId": "08591007000103530707"
     },
     "user_tz": 180
    },
    "id": "80L505tMRYcN"
   },
   "outputs": [],
   "source": [
    "# armamos el data frame de datos de productos\n",
    "categoria_data = {\n",
    "        'id_categoria': id_categoria,\n",
    "        'nombre_categoria': id_categoria,\n",
    "        'prioridad': np.random.randint(1, high=5, size=20),\n",
    "}\n",
    "\n",
    "df_categoria = pd.DataFrame(categoria_data, columns = categoria_data.keys())"
   ]
  },
  {
   "cell_type": "code",
   "execution_count": 27,
   "metadata": {
    "executionInfo": {
     "elapsed": 485,
     "status": "ok",
     "timestamp": 1618875499781,
     "user": {
      "displayName": "Martin Ramos Mejía",
      "photoUrl": "https://lh3.googleusercontent.com/a-/AOh14GgbpDnPjShOpPH8-P0a8AIZrUcpSYNQwHsEfsDQ8w=s64",
      "userId": "08591007000103530707"
     },
     "user_tz": 180
    },
    "id": "ZY8l-aMI_JLf"
   },
   "outputs": [],
   "source": [
    "aplicaciones_data = {\n",
    "        'id_ciudadano': id_ciudadano,\n",
    "        'fecha': pd.date_range(start = '2020-11-01', end='2021-04-01', periods=20),\n",
    "        'id_categoria': id_categoria,\n",
    "        'id_centro_vacunacion': id_centro_vacunacion,\n",
    "        'id_unico_dosis_vacuna': rd.sample(range(1,199), 20),\n",
    "        'id_tipo_vacuna': np.random.randint(1,high=3, size=20), \n",
    "}\n",
    "\n",
    "df_aplicaciones = pd.DataFrame(aplicaciones_data, columns = aplicaciones_data.keys())"
   ]
  },
  {
   "cell_type": "code",
   "execution_count": 28,
   "metadata": {
    "colab": {
     "base_uri": "https://localhost:8080/",
     "height": 206
    },
    "executionInfo": {
     "elapsed": 1026,
     "status": "ok",
     "timestamp": 1618875501413,
     "user": {
      "displayName": "Martin Ramos Mejía",
      "photoUrl": "https://lh3.googleusercontent.com/a-/AOh14GgbpDnPjShOpPH8-P0a8AIZrUcpSYNQwHsEfsDQ8w=s64",
      "userId": "08591007000103530707"
     },
     "user_tz": 180
    },
    "id": "PM_cRZ5_15rf",
    "outputId": "8d5b4d13-d718-4027-9c7b-77d14c60948c"
   },
   "outputs": [
    {
     "data": {
      "text/html": [
       "<div>\n",
       "<style scoped>\n",
       "    .dataframe tbody tr th:only-of-type {\n",
       "        vertical-align: middle;\n",
       "    }\n",
       "\n",
       "    .dataframe tbody tr th {\n",
       "        vertical-align: top;\n",
       "    }\n",
       "\n",
       "    .dataframe thead th {\n",
       "        text-align: right;\n",
       "    }\n",
       "</style>\n",
       "<table border=\"1\" class=\"dataframe\">\n",
       "  <thead>\n",
       "    <tr style=\"text-align: right;\">\n",
       "      <th></th>\n",
       "      <th>id_centro_vacunacion</th>\n",
       "      <th>nombre</th>\n",
       "      <th>direccion</th>\n",
       "      <th>codigo_postal</th>\n",
       "      <th>partido</th>\n",
       "      <th>provincia</th>\n",
       "    </tr>\n",
       "  </thead>\n",
       "  <tbody>\n",
       "    <tr>\n",
       "      <th>0</th>\n",
       "      <td>11</td>\n",
       "      <td>11</td>\n",
       "      <td>11</td>\n",
       "      <td>11</td>\n",
       "      <td>11</td>\n",
       "      <td>3</td>\n",
       "    </tr>\n",
       "    <tr>\n",
       "      <th>1</th>\n",
       "      <td>1</td>\n",
       "      <td>1</td>\n",
       "      <td>1</td>\n",
       "      <td>1</td>\n",
       "      <td>1</td>\n",
       "      <td>2</td>\n",
       "    </tr>\n",
       "    <tr>\n",
       "      <th>2</th>\n",
       "      <td>6</td>\n",
       "      <td>6</td>\n",
       "      <td>6</td>\n",
       "      <td>6</td>\n",
       "      <td>6</td>\n",
       "      <td>4</td>\n",
       "    </tr>\n",
       "    <tr>\n",
       "      <th>3</th>\n",
       "      <td>16</td>\n",
       "      <td>16</td>\n",
       "      <td>16</td>\n",
       "      <td>16</td>\n",
       "      <td>16</td>\n",
       "      <td>2</td>\n",
       "    </tr>\n",
       "    <tr>\n",
       "      <th>4</th>\n",
       "      <td>20</td>\n",
       "      <td>20</td>\n",
       "      <td>20</td>\n",
       "      <td>20</td>\n",
       "      <td>20</td>\n",
       "      <td>2</td>\n",
       "    </tr>\n",
       "  </tbody>\n",
       "</table>\n",
       "</div>"
      ],
      "text/plain": [
       "   id_centro_vacunacion  nombre  direccion  codigo_postal  partido  provincia\n",
       "0                    11      11         11             11       11          3\n",
       "1                     1       1          1              1        1          2\n",
       "2                     6       6          6              6        6          4\n",
       "3                    16      16         16             16       16          2\n",
       "4                    20      20         20             20       20          2"
      ]
     },
     "execution_count": 28,
     "metadata": {},
     "output_type": "execute_result"
    }
   ],
   "source": [
    "df_centros.head()"
   ]
  },
  {
   "cell_type": "code",
   "execution_count": 29,
   "metadata": {
    "colab": {
     "base_uri": "https://localhost:8080/",
     "height": 206
    },
    "executionInfo": {
     "elapsed": 825,
     "status": "ok",
     "timestamp": 1618875503180,
     "user": {
      "displayName": "Martin Ramos Mejía",
      "photoUrl": "https://lh3.googleusercontent.com/a-/AOh14GgbpDnPjShOpPH8-P0a8AIZrUcpSYNQwHsEfsDQ8w=s64",
      "userId": "08591007000103530707"
     },
     "user_tz": 180
    },
    "id": "P5fsDcyd1tmJ",
    "outputId": "01d9e4c9-fa09-417e-e452-ff64cea5b6fa"
   },
   "outputs": [
    {
     "data": {
      "text/html": [
       "<div>\n",
       "<style scoped>\n",
       "    .dataframe tbody tr th:only-of-type {\n",
       "        vertical-align: middle;\n",
       "    }\n",
       "\n",
       "    .dataframe tbody tr th {\n",
       "        vertical-align: top;\n",
       "    }\n",
       "\n",
       "    .dataframe thead th {\n",
       "        text-align: right;\n",
       "    }\n",
       "</style>\n",
       "<table border=\"1\" class=\"dataframe\">\n",
       "  <thead>\n",
       "    <tr style=\"text-align: right;\">\n",
       "      <th></th>\n",
       "      <th>id_categoria</th>\n",
       "      <th>nombre_categoria</th>\n",
       "      <th>prioridad</th>\n",
       "    </tr>\n",
       "  </thead>\n",
       "  <tbody>\n",
       "    <tr>\n",
       "      <th>0</th>\n",
       "      <td>2</td>\n",
       "      <td>2</td>\n",
       "      <td>3</td>\n",
       "    </tr>\n",
       "    <tr>\n",
       "      <th>1</th>\n",
       "      <td>4</td>\n",
       "      <td>4</td>\n",
       "      <td>1</td>\n",
       "    </tr>\n",
       "    <tr>\n",
       "      <th>2</th>\n",
       "      <td>13</td>\n",
       "      <td>13</td>\n",
       "      <td>4</td>\n",
       "    </tr>\n",
       "    <tr>\n",
       "      <th>3</th>\n",
       "      <td>15</td>\n",
       "      <td>15</td>\n",
       "      <td>2</td>\n",
       "    </tr>\n",
       "    <tr>\n",
       "      <th>4</th>\n",
       "      <td>10</td>\n",
       "      <td>10</td>\n",
       "      <td>1</td>\n",
       "    </tr>\n",
       "  </tbody>\n",
       "</table>\n",
       "</div>"
      ],
      "text/plain": [
       "   id_categoria  nombre_categoria  prioridad\n",
       "0             2                 2          3\n",
       "1             4                 4          1\n",
       "2            13                13          4\n",
       "3            15                15          2\n",
       "4            10                10          1"
      ]
     },
     "execution_count": 29,
     "metadata": {},
     "output_type": "execute_result"
    }
   ],
   "source": [
    "df_categoria.head()"
   ]
  },
  {
   "cell_type": "code",
   "execution_count": 30,
   "metadata": {
    "colab": {
     "base_uri": "https://localhost:8080/",
     "height": 293
    },
    "executionInfo": {
     "elapsed": 847,
     "status": "ok",
     "timestamp": 1618875504843,
     "user": {
      "displayName": "Martin Ramos Mejía",
      "photoUrl": "https://lh3.googleusercontent.com/a-/AOh14GgbpDnPjShOpPH8-P0a8AIZrUcpSYNQwHsEfsDQ8w=s64",
      "userId": "08591007000103530707"
     },
     "user_tz": 180
    },
    "id": "J8poL-8qAQXI",
    "outputId": "8ccc92cd-513b-4dbb-8601-9be41f76165e"
   },
   "outputs": [
    {
     "data": {
      "text/html": [
       "<div>\n",
       "<style scoped>\n",
       "    .dataframe tbody tr th:only-of-type {\n",
       "        vertical-align: middle;\n",
       "    }\n",
       "\n",
       "    .dataframe tbody tr th {\n",
       "        vertical-align: top;\n",
       "    }\n",
       "\n",
       "    .dataframe thead th {\n",
       "        text-align: right;\n",
       "    }\n",
       "</style>\n",
       "<table border=\"1\" class=\"dataframe\">\n",
       "  <thead>\n",
       "    <tr style=\"text-align: right;\">\n",
       "      <th></th>\n",
       "      <th>id_ciudadano</th>\n",
       "      <th>fecha</th>\n",
       "      <th>id_categoria</th>\n",
       "      <th>id_centro_vacunacion</th>\n",
       "      <th>id_unico_dosis_vacuna</th>\n",
       "      <th>id_tipo_vacuna</th>\n",
       "    </tr>\n",
       "  </thead>\n",
       "  <tbody>\n",
       "    <tr>\n",
       "      <th>0</th>\n",
       "      <td>3</td>\n",
       "      <td>2020-11-01 00:00:00.000000000</td>\n",
       "      <td>2</td>\n",
       "      <td>11</td>\n",
       "      <td>136</td>\n",
       "      <td>2</td>\n",
       "    </tr>\n",
       "    <tr>\n",
       "      <th>1</th>\n",
       "      <td>9</td>\n",
       "      <td>2020-11-08 22:44:12.631578947</td>\n",
       "      <td>4</td>\n",
       "      <td>1</td>\n",
       "      <td>157</td>\n",
       "      <td>2</td>\n",
       "    </tr>\n",
       "    <tr>\n",
       "      <th>2</th>\n",
       "      <td>5</td>\n",
       "      <td>2020-11-16 21:28:25.263157894</td>\n",
       "      <td>13</td>\n",
       "      <td>6</td>\n",
       "      <td>179</td>\n",
       "      <td>2</td>\n",
       "    </tr>\n",
       "    <tr>\n",
       "      <th>3</th>\n",
       "      <td>8</td>\n",
       "      <td>2020-11-24 20:12:37.894736842</td>\n",
       "      <td>15</td>\n",
       "      <td>16</td>\n",
       "      <td>52</td>\n",
       "      <td>2</td>\n",
       "    </tr>\n",
       "    <tr>\n",
       "      <th>4</th>\n",
       "      <td>3</td>\n",
       "      <td>2020-12-02 18:56:50.526315789</td>\n",
       "      <td>10</td>\n",
       "      <td>20</td>\n",
       "      <td>97</td>\n",
       "      <td>1</td>\n",
       "    </tr>\n",
       "  </tbody>\n",
       "</table>\n",
       "</div>"
      ],
      "text/plain": [
       "   id_ciudadano                         fecha  id_categoria  \\\n",
       "0             3 2020-11-01 00:00:00.000000000             2   \n",
       "1             9 2020-11-08 22:44:12.631578947             4   \n",
       "2             5 2020-11-16 21:28:25.263157894            13   \n",
       "3             8 2020-11-24 20:12:37.894736842            15   \n",
       "4             3 2020-12-02 18:56:50.526315789            10   \n",
       "\n",
       "   id_centro_vacunacion  id_unico_dosis_vacuna  id_tipo_vacuna  \n",
       "0                    11                    136               2  \n",
       "1                     1                    157               2  \n",
       "2                     6                    179               2  \n",
       "3                    16                     52               2  \n",
       "4                    20                     97               1  "
      ]
     },
     "execution_count": 30,
     "metadata": {},
     "output_type": "execute_result"
    }
   ],
   "source": [
    "df_aplicaciones.head()"
   ]
  },
  {
   "cell_type": "markdown",
   "metadata": {
    "id": "vbJkccKtRYcj"
   },
   "source": [
    "a) Indicar el porcentaje de ciudadanos vacunados en prioridad 1 que tienen inmunidad completa (recibieron dos aplicaciones de vacuna)."
   ]
  },
  {
   "cell_type": "code",
   "execution_count": 31,
   "metadata": {},
   "outputs": [
    {
     "data": {
      "text/html": [
       "<div>\n",
       "<style scoped>\n",
       "    .dataframe tbody tr th:only-of-type {\n",
       "        vertical-align: middle;\n",
       "    }\n",
       "\n",
       "    .dataframe tbody tr th {\n",
       "        vertical-align: top;\n",
       "    }\n",
       "\n",
       "    .dataframe thead th {\n",
       "        text-align: right;\n",
       "    }\n",
       "</style>\n",
       "<table border=\"1\" class=\"dataframe\">\n",
       "  <thead>\n",
       "    <tr style=\"text-align: right;\">\n",
       "      <th></th>\n",
       "      <th>id_categoria</th>\n",
       "    </tr>\n",
       "  </thead>\n",
       "  <tbody>\n",
       "    <tr>\n",
       "      <th>1</th>\n",
       "      <td>4</td>\n",
       "    </tr>\n",
       "    <tr>\n",
       "      <th>4</th>\n",
       "      <td>10</td>\n",
       "    </tr>\n",
       "    <tr>\n",
       "      <th>11</th>\n",
       "      <td>20</td>\n",
       "    </tr>\n",
       "    <tr>\n",
       "      <th>17</th>\n",
       "      <td>16</td>\n",
       "    </tr>\n",
       "    <tr>\n",
       "      <th>18</th>\n",
       "      <td>12</td>\n",
       "    </tr>\n",
       "  </tbody>\n",
       "</table>\n",
       "</div>"
      ],
      "text/plain": [
       "    id_categoria\n",
       "1              4\n",
       "4             10\n",
       "11            20\n",
       "17            16\n",
       "18            12"
      ]
     },
     "execution_count": 31,
     "metadata": {},
     "output_type": "execute_result"
    }
   ],
   "source": [
    "categ_prioridad_1 = df_categoria.loc[df_categoria['prioridad'] == 1, ['id_categoria']]\n",
    "categ_prioridad_1"
   ]
  },
  {
   "cell_type": "code",
   "execution_count": 42,
   "metadata": {},
   "outputs": [],
   "source": [
    "vacs_prior_1 = pd.merge(df_aplicaciones,categ_prioridad_1,on='id_categoria',how='inner')\n",
    "vacs_prior_1 = vacs_prior_1.loc[:,['id_ciudadano']]\n",
    "vacs_prior_1['vacunas_aplicadas'] = 1"
   ]
  },
  {
   "cell_type": "code",
   "execution_count": 43,
   "metadata": {},
   "outputs": [
    {
     "data": {
      "text/html": [
       "<div>\n",
       "<style scoped>\n",
       "    .dataframe tbody tr th:only-of-type {\n",
       "        vertical-align: middle;\n",
       "    }\n",
       "\n",
       "    .dataframe tbody tr th {\n",
       "        vertical-align: top;\n",
       "    }\n",
       "\n",
       "    .dataframe thead th {\n",
       "        text-align: right;\n",
       "    }\n",
       "</style>\n",
       "<table border=\"1\" class=\"dataframe\">\n",
       "  <thead>\n",
       "    <tr style=\"text-align: right;\">\n",
       "      <th></th>\n",
       "      <th>id_ciudadano</th>\n",
       "      <th>vacunas_aplicadas</th>\n",
       "    </tr>\n",
       "  </thead>\n",
       "  <tbody>\n",
       "    <tr>\n",
       "      <th>0</th>\n",
       "      <td>3</td>\n",
       "      <td>1</td>\n",
       "    </tr>\n",
       "    <tr>\n",
       "      <th>1</th>\n",
       "      <td>5</td>\n",
       "      <td>1</td>\n",
       "    </tr>\n",
       "    <tr>\n",
       "      <th>2</th>\n",
       "      <td>6</td>\n",
       "      <td>2</td>\n",
       "    </tr>\n",
       "    <tr>\n",
       "      <th>3</th>\n",
       "      <td>9</td>\n",
       "      <td>1</td>\n",
       "    </tr>\n",
       "  </tbody>\n",
       "</table>\n",
       "</div>"
      ],
      "text/plain": [
       "   id_ciudadano  vacunas_aplicadas\n",
       "0             3                  1\n",
       "1             5                  1\n",
       "2             6                  2\n",
       "3             9                  1"
      ]
     },
     "execution_count": 43,
     "metadata": {},
     "output_type": "execute_result"
    }
   ],
   "source": [
    "vacs_por_persona = vacs_prior_1.groupby('id_ciudadano').count().reset_index()\n",
    "vacs_por_persona"
   ]
  },
  {
   "cell_type": "code",
   "execution_count": 46,
   "metadata": {},
   "outputs": [
    {
     "data": {
      "text/plain": [
       "1"
      ]
     },
     "execution_count": 46,
     "metadata": {},
     "output_type": "execute_result"
    }
   ],
   "source": [
    "cant_vacunados_2_veces = len(vacs_por_persona.loc[vacs_por_persona['vacunas_aplicadas']>=2])\n",
    "cant_vacunados_2_veces"
   ]
  },
  {
   "cell_type": "code",
   "execution_count": 48,
   "metadata": {},
   "outputs": [
    {
     "name": "stdout",
     "output_type": "stream",
     "text": [
      "Porcentaje de personas que recibieron las 2 dosis: 25.0\n"
     ]
    }
   ],
   "source": [
    "print(f\"Porcentaje de personas que recibieron las 2 dosis: {cant_vacunados_2_veces/len(vacs_por_persona)*100}\")"
   ]
  },
  {
   "cell_type": "markdown",
   "metadata": {},
   "source": [
    "b) Indicar cual es el top 5 de provincias que han inmunizado de forma completa a mayor cantidad de ciudadanos (es decir realizando dos aplicaciones de la vacuna) en el periodo temporal de diciembre de 2020 a marzo (inclusive) de 2021."
   ]
  },
  {
   "cell_type": "code",
   "execution_count": 56,
   "metadata": {},
   "outputs": [
    {
     "data": {
      "text/html": [
       "<div>\n",
       "<style scoped>\n",
       "    .dataframe tbody tr th:only-of-type {\n",
       "        vertical-align: middle;\n",
       "    }\n",
       "\n",
       "    .dataframe tbody tr th {\n",
       "        vertical-align: top;\n",
       "    }\n",
       "\n",
       "    .dataframe thead th {\n",
       "        text-align: right;\n",
       "    }\n",
       "</style>\n",
       "<table border=\"1\" class=\"dataframe\">\n",
       "  <thead>\n",
       "    <tr style=\"text-align: right;\">\n",
       "      <th></th>\n",
       "      <th>id_ciudadano</th>\n",
       "      <th>fecha</th>\n",
       "      <th>id_categoria</th>\n",
       "      <th>id_centro_vacunacion</th>\n",
       "      <th>id_unico_dosis_vacuna</th>\n",
       "      <th>id_tipo_vacuna</th>\n",
       "    </tr>\n",
       "  </thead>\n",
       "  <tbody>\n",
       "    <tr>\n",
       "      <th>4</th>\n",
       "      <td>3</td>\n",
       "      <td>2020-12-02 18:56:50.526315789</td>\n",
       "      <td>10</td>\n",
       "      <td>20</td>\n",
       "      <td>97</td>\n",
       "      <td>1</td>\n",
       "    </tr>\n",
       "    <tr>\n",
       "      <th>5</th>\n",
       "      <td>2</td>\n",
       "      <td>2020-12-10 17:41:03.157894737</td>\n",
       "      <td>1</td>\n",
       "      <td>9</td>\n",
       "      <td>48</td>\n",
       "      <td>2</td>\n",
       "    </tr>\n",
       "    <tr>\n",
       "      <th>6</th>\n",
       "      <td>3</td>\n",
       "      <td>2020-12-18 16:25:15.789473684</td>\n",
       "      <td>8</td>\n",
       "      <td>15</td>\n",
       "      <td>33</td>\n",
       "      <td>1</td>\n",
       "    </tr>\n",
       "    <tr>\n",
       "      <th>7</th>\n",
       "      <td>9</td>\n",
       "      <td>2020-12-26 15:09:28.421052632</td>\n",
       "      <td>5</td>\n",
       "      <td>3</td>\n",
       "      <td>119</td>\n",
       "      <td>1</td>\n",
       "    </tr>\n",
       "    <tr>\n",
       "      <th>8</th>\n",
       "      <td>5</td>\n",
       "      <td>2021-01-03 13:53:41.052631579</td>\n",
       "      <td>9</td>\n",
       "      <td>19</td>\n",
       "      <td>75</td>\n",
       "      <td>2</td>\n",
       "    </tr>\n",
       "    <tr>\n",
       "      <th>9</th>\n",
       "      <td>5</td>\n",
       "      <td>2021-01-11 12:37:53.684210526</td>\n",
       "      <td>3</td>\n",
       "      <td>7</td>\n",
       "      <td>167</td>\n",
       "      <td>1</td>\n",
       "    </tr>\n",
       "    <tr>\n",
       "      <th>10</th>\n",
       "      <td>6</td>\n",
       "      <td>2021-01-19 11:22:06.315789474</td>\n",
       "      <td>7</td>\n",
       "      <td>12</td>\n",
       "      <td>131</td>\n",
       "      <td>2</td>\n",
       "    </tr>\n",
       "    <tr>\n",
       "      <th>11</th>\n",
       "      <td>6</td>\n",
       "      <td>2021-01-27 10:06:18.947368421</td>\n",
       "      <td>20</td>\n",
       "      <td>8</td>\n",
       "      <td>183</td>\n",
       "      <td>2</td>\n",
       "    </tr>\n",
       "    <tr>\n",
       "      <th>12</th>\n",
       "      <td>6</td>\n",
       "      <td>2021-02-04 08:50:31.578947368</td>\n",
       "      <td>14</td>\n",
       "      <td>5</td>\n",
       "      <td>79</td>\n",
       "      <td>1</td>\n",
       "    </tr>\n",
       "    <tr>\n",
       "      <th>13</th>\n",
       "      <td>9</td>\n",
       "      <td>2021-02-12 07:34:44.210526316</td>\n",
       "      <td>11</td>\n",
       "      <td>14</td>\n",
       "      <td>21</td>\n",
       "      <td>1</td>\n",
       "    </tr>\n",
       "    <tr>\n",
       "      <th>14</th>\n",
       "      <td>2</td>\n",
       "      <td>2021-02-20 06:18:56.842105264</td>\n",
       "      <td>19</td>\n",
       "      <td>2</td>\n",
       "      <td>103</td>\n",
       "      <td>1</td>\n",
       "    </tr>\n",
       "    <tr>\n",
       "      <th>15</th>\n",
       "      <td>3</td>\n",
       "      <td>2021-02-28 05:03:09.473684210</td>\n",
       "      <td>18</td>\n",
       "      <td>17</td>\n",
       "      <td>116</td>\n",
       "      <td>1</td>\n",
       "    </tr>\n",
       "    <tr>\n",
       "      <th>16</th>\n",
       "      <td>4</td>\n",
       "      <td>2021-03-08 03:47:22.105263158</td>\n",
       "      <td>17</td>\n",
       "      <td>13</td>\n",
       "      <td>47</td>\n",
       "      <td>1</td>\n",
       "    </tr>\n",
       "    <tr>\n",
       "      <th>17</th>\n",
       "      <td>5</td>\n",
       "      <td>2021-03-16 02:31:34.736842106</td>\n",
       "      <td>16</td>\n",
       "      <td>4</td>\n",
       "      <td>41</td>\n",
       "      <td>2</td>\n",
       "    </tr>\n",
       "    <tr>\n",
       "      <th>18</th>\n",
       "      <td>6</td>\n",
       "      <td>2021-03-24 01:15:47.368421052</td>\n",
       "      <td>12</td>\n",
       "      <td>18</td>\n",
       "      <td>194</td>\n",
       "      <td>1</td>\n",
       "    </tr>\n",
       "  </tbody>\n",
       "</table>\n",
       "</div>"
      ],
      "text/plain": [
       "    id_ciudadano                         fecha  id_categoria  \\\n",
       "4              3 2020-12-02 18:56:50.526315789            10   \n",
       "5              2 2020-12-10 17:41:03.157894737             1   \n",
       "6              3 2020-12-18 16:25:15.789473684             8   \n",
       "7              9 2020-12-26 15:09:28.421052632             5   \n",
       "8              5 2021-01-03 13:53:41.052631579             9   \n",
       "9              5 2021-01-11 12:37:53.684210526             3   \n",
       "10             6 2021-01-19 11:22:06.315789474             7   \n",
       "11             6 2021-01-27 10:06:18.947368421            20   \n",
       "12             6 2021-02-04 08:50:31.578947368            14   \n",
       "13             9 2021-02-12 07:34:44.210526316            11   \n",
       "14             2 2021-02-20 06:18:56.842105264            19   \n",
       "15             3 2021-02-28 05:03:09.473684210            18   \n",
       "16             4 2021-03-08 03:47:22.105263158            17   \n",
       "17             5 2021-03-16 02:31:34.736842106            16   \n",
       "18             6 2021-03-24 01:15:47.368421052            12   \n",
       "\n",
       "    id_centro_vacunacion  id_unico_dosis_vacuna  id_tipo_vacuna  \n",
       "4                     20                     97               1  \n",
       "5                      9                     48               2  \n",
       "6                     15                     33               1  \n",
       "7                      3                    119               1  \n",
       "8                     19                     75               2  \n",
       "9                      7                    167               1  \n",
       "10                    12                    131               2  \n",
       "11                     8                    183               2  \n",
       "12                     5                     79               1  \n",
       "13                    14                     21               1  \n",
       "14                     2                    103               1  \n",
       "15                    17                    116               1  \n",
       "16                    13                     47               1  \n",
       "17                     4                     41               2  \n",
       "18                    18                    194               1  "
      ]
     },
     "execution_count": 56,
     "metadata": {},
     "output_type": "execute_result"
    }
   ],
   "source": [
    "ultimos_meses = (df_aplicaciones['fecha']>=pd.to_datetime('2020-12-01')) & (df_aplicaciones['fecha']<pd.to_datetime('2021-04-01'))\n",
    "vacs_recientes = df_aplicaciones[ultimos_meses]\n",
    "vacs_recientes"
   ]
  },
  {
   "cell_type": "code",
   "execution_count": 91,
   "metadata": {},
   "outputs": [
    {
     "data": {
      "text/html": [
       "<div>\n",
       "<style scoped>\n",
       "    .dataframe tbody tr th:only-of-type {\n",
       "        vertical-align: middle;\n",
       "    }\n",
       "\n",
       "    .dataframe tbody tr th {\n",
       "        vertical-align: top;\n",
       "    }\n",
       "\n",
       "    .dataframe thead th {\n",
       "        text-align: right;\n",
       "    }\n",
       "</style>\n",
       "<table border=\"1\" class=\"dataframe\">\n",
       "  <thead>\n",
       "    <tr style=\"text-align: right;\">\n",
       "      <th></th>\n",
       "      <th>id_ciudadano</th>\n",
       "      <th>id_centro_vacunacion</th>\n",
       "      <th>vacunas_aplicadas</th>\n",
       "    </tr>\n",
       "  </thead>\n",
       "  <tbody>\n",
       "    <tr>\n",
       "      <th>0</th>\n",
       "      <td>2</td>\n",
       "      <td>2</td>\n",
       "      <td>2</td>\n",
       "    </tr>\n",
       "    <tr>\n",
       "      <th>1</th>\n",
       "      <td>3</td>\n",
       "      <td>3</td>\n",
       "      <td>3</td>\n",
       "    </tr>\n",
       "    <tr>\n",
       "      <th>2</th>\n",
       "      <td>5</td>\n",
       "      <td>3</td>\n",
       "      <td>3</td>\n",
       "    </tr>\n",
       "    <tr>\n",
       "      <th>3</th>\n",
       "      <td>6</td>\n",
       "      <td>4</td>\n",
       "      <td>4</td>\n",
       "    </tr>\n",
       "    <tr>\n",
       "      <th>4</th>\n",
       "      <td>9</td>\n",
       "      <td>2</td>\n",
       "      <td>2</td>\n",
       "    </tr>\n",
       "  </tbody>\n",
       "</table>\n",
       "</div>"
      ],
      "text/plain": [
       "   id_ciudadano  id_centro_vacunacion  vacunas_aplicadas\n",
       "0             2                     2                  2\n",
       "1             3                     3                  3\n",
       "2             5                     3                  3\n",
       "3             6                     4                  4\n",
       "4             9                     2                  2"
      ]
     },
     "execution_count": 91,
     "metadata": {},
     "output_type": "execute_result"
    }
   ],
   "source": [
    "vacs_recientes['vacunas_aplicadas'] = 1\n",
    "vacunados_completos = vacs_recientes.groupby('id_ciudadano').count()\n",
    "vacunados_completos = vacunados_completos[vacunados_completos['vacunas_aplicadas']>1]\n",
    "vacunados_completos = vacunados_completos.reset_index()\n",
    "vacunados_completos"
   ]
  },
  {
   "cell_type": "code",
   "execution_count": 96,
   "metadata": {},
   "outputs": [
    {
     "data": {
      "text/html": [
       "<div>\n",
       "<style scoped>\n",
       "    .dataframe tbody tr th:only-of-type {\n",
       "        vertical-align: middle;\n",
       "    }\n",
       "\n",
       "    .dataframe tbody tr th {\n",
       "        vertical-align: top;\n",
       "    }\n",
       "\n",
       "    .dataframe thead th {\n",
       "        text-align: right;\n",
       "    }\n",
       "</style>\n",
       "<table border=\"1\" class=\"dataframe\">\n",
       "  <thead>\n",
       "    <tr style=\"text-align: right;\">\n",
       "      <th></th>\n",
       "      <th>id_ciudadano</th>\n",
       "      <th>id_centro_vacunacion</th>\n",
       "      <th>vacunas_aplicadas</th>\n",
       "      <th>nombre</th>\n",
       "      <th>direccion</th>\n",
       "      <th>codigo_postal</th>\n",
       "      <th>partido</th>\n",
       "      <th>provincia</th>\n",
       "    </tr>\n",
       "  </thead>\n",
       "  <tbody>\n",
       "    <tr>\n",
       "      <th>0</th>\n",
       "      <td>2</td>\n",
       "      <td>2</td>\n",
       "      <td>2</td>\n",
       "      <td>2</td>\n",
       "      <td>2</td>\n",
       "      <td>2</td>\n",
       "      <td>2</td>\n",
       "      <td>3</td>\n",
       "    </tr>\n",
       "    <tr>\n",
       "      <th>1</th>\n",
       "      <td>3</td>\n",
       "      <td>3</td>\n",
       "      <td>3</td>\n",
       "      <td>3</td>\n",
       "      <td>3</td>\n",
       "      <td>3</td>\n",
       "      <td>3</td>\n",
       "      <td>4</td>\n",
       "    </tr>\n",
       "    <tr>\n",
       "      <th>2</th>\n",
       "      <td>5</td>\n",
       "      <td>3</td>\n",
       "      <td>3</td>\n",
       "      <td>3</td>\n",
       "      <td>3</td>\n",
       "      <td>3</td>\n",
       "      <td>3</td>\n",
       "      <td>4</td>\n",
       "    </tr>\n",
       "    <tr>\n",
       "      <th>3</th>\n",
       "      <td>6</td>\n",
       "      <td>4</td>\n",
       "      <td>4</td>\n",
       "      <td>4</td>\n",
       "      <td>4</td>\n",
       "      <td>4</td>\n",
       "      <td>4</td>\n",
       "      <td>2</td>\n",
       "    </tr>\n",
       "    <tr>\n",
       "      <th>4</th>\n",
       "      <td>9</td>\n",
       "      <td>2</td>\n",
       "      <td>2</td>\n",
       "      <td>2</td>\n",
       "      <td>2</td>\n",
       "      <td>2</td>\n",
       "      <td>2</td>\n",
       "      <td>3</td>\n",
       "    </tr>\n",
       "  </tbody>\n",
       "</table>\n",
       "</div>"
      ],
      "text/plain": [
       "   id_ciudadano  id_centro_vacunacion  vacunas_aplicadas  nombre  direccion  \\\n",
       "0             2                     2                  2       2          2   \n",
       "1             3                     3                  3       3          3   \n",
       "2             5                     3                  3       3          3   \n",
       "3             6                     4                  4       4          4   \n",
       "4             9                     2                  2       2          2   \n",
       "\n",
       "   codigo_postal  partido  provincia  \n",
       "0              2        2          3  \n",
       "1              3        3          4  \n",
       "2              3        3          4  \n",
       "3              4        4          2  \n",
       "4              2        2          3  "
      ]
     },
     "execution_count": 96,
     "metadata": {},
     "output_type": "execute_result"
    }
   ],
   "source": [
    "vacs_ciudades = pd.merge(vacunados_completos,df_centros,on='id_centro_vacunacion',how='left')\n",
    "vacs_ciudades = vacs_ciudades.loc[:,['provincia','vacunas_aplicadas']]\n",
    "vacs_ciudades"
   ]
  },
  {
   "cell_type": "code",
   "execution_count": 93,
   "metadata": {},
   "outputs": [
    {
     "data": {
      "text/html": [
       "<div>\n",
       "<style scoped>\n",
       "    .dataframe tbody tr th:only-of-type {\n",
       "        vertical-align: middle;\n",
       "    }\n",
       "\n",
       "    .dataframe tbody tr th {\n",
       "        vertical-align: top;\n",
       "    }\n",
       "\n",
       "    .dataframe thead th {\n",
       "        text-align: right;\n",
       "    }\n",
       "</style>\n",
       "<table border=\"1\" class=\"dataframe\">\n",
       "  <thead>\n",
       "    <tr style=\"text-align: right;\">\n",
       "      <th></th>\n",
       "      <th>provincia</th>\n",
       "      <th>vacunas_aplicadas</th>\n",
       "    </tr>\n",
       "  </thead>\n",
       "  <tbody>\n",
       "    <tr>\n",
       "      <th>2</th>\n",
       "      <td>4</td>\n",
       "      <td>6</td>\n",
       "    </tr>\n",
       "    <tr>\n",
       "      <th>0</th>\n",
       "      <td>2</td>\n",
       "      <td>4</td>\n",
       "    </tr>\n",
       "    <tr>\n",
       "      <th>1</th>\n",
       "      <td>3</td>\n",
       "      <td>4</td>\n",
       "    </tr>\n",
       "  </tbody>\n",
       "</table>\n",
       "</div>"
      ],
      "text/plain": [
       "   provincia  vacunas_aplicadas\n",
       "2          4                  6\n",
       "0          2                  4\n",
       "1          3                  4"
      ]
     },
     "execution_count": 93,
     "metadata": {},
     "output_type": "execute_result"
    }
   ],
   "source": [
    "vacs_ciudades = vacs_ciudades.groupby('provincia').agg(sum)\n",
    "vacs_ciudades = vacs_ciudades.reset_index()\n",
    "vacs_ciudades.nlargest(5,'vacunas_aplicadas')"
   ]
  }
 ],
 "metadata": {
  "kernelspec": {
   "display_name": "Python 3",
   "language": "python",
   "name": "python3"
  },
  "language_info": {
   "codemirror_mode": {
    "name": "ipython",
    "version": 3
   },
   "file_extension": ".py",
   "mimetype": "text/x-python",
   "name": "python",
   "nbconvert_exporter": "python",
   "pygments_lexer": "ipython3",
   "version": "3.9.1"
  }
 },
 "nbformat": 4,
 "nbformat_minor": 4
}

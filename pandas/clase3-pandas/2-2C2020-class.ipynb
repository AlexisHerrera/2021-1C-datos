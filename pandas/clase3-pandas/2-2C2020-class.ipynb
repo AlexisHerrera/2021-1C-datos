{
 "cells": [
  {
   "cell_type": "markdown",
   "metadata": {
    "id": "FrKngFDmRYb3"
   },
   "source": [
    "DataStalkers# 2020 2C 2da Oportunidad"
   ]
  },
  {
   "cell_type": "markdown",
   "metadata": {
    "id": "EzVv7ytczkLR"
   },
   "source": [
    "(***) Una compañía de logística de insumos médicos es responsable de toda la cadena de abastecimiento de estos a hospitales. Esto se ha vuelto crítico en los últimos meses para asistir\n",
    "al personal médico en su lucha contra la pandemia. La logística se realiza sobre categorías de productos que se preparan en lotes (en pallets) que son entregados a las instituciones médicas.\n",
    "Es por ello que cuentan con información en los siguientes archivos csv:\n",
    "\n",
    "```\n",
    "lote.csv (id_lote, fecha_programada_entrega, id_destino, descripcion, id_categoria_insumo, cantidad_de_unidades_insumo)\n",
    "```\n",
    "```\n",
    "destinos.csv  (id_destino, nombre, atencion_critica, region, latitud, longitud)\n",
    "```\n",
    "```\n",
    "categorias_insumos.csv (id_categoria_insumo, nombre, uso_esencial)\n",
    "```\n",
    "\n",
    "El primer archivo cuenta con información de los lotes de insumos a entrega, indicando la fecha programada de entrega (en formato ```“YYYY-mm-dd”```), cual es el destino al que se va a realizar la entrega (id_destino), una descripción del contenido del lote y cantidad de unidades del insumo que se encuentran en el lote.\n",
    "Además se aporta información de la categoría a la que corresponde el insumo.\n",
    "\n",
    "Por otro lado se tiene información sobre los distintos destinos en los que se deben entregar los insumos, su nombre, a que región pertenece, latitud y longitud.\n",
    "Se cuenta también con un indicador booleano que indica si ese destino es un centro de atencion crítica.\n",
    "\n",
    "En el último archivo, contamos con la información de las distintas categorías de insumos, indicando el nombre de la categoría y la columna booleana \"uso_esencial\" que nos indica que el producto de esa categoría de insumo es de uso esencial.\n",
    "\n",
    "Se desea:\n",
    "\n",
    "a) Listar los nombres de 10 destinos de la región de “CABA” que durante el mes de septiembre recibieron la mayor cantidad de lotes de insumos de uso esencial.\n",
    "\n",
    "b) Listar el resumen del plan de entregas para la transportadora del dia de hoy.\n",
    "\n",
    "Este debe tener el siguiente formato \n",
    "```(fecha_programada_entrega, nombre_destino, cantidad_de_lotes_a_entregar).```\n",
    "\n",
    "A su vez debe estar ordenado de tal forma que primero estén listados aquellos destinos que son de atención crítica.\n"
   ]
  },
  {
   "cell_type": "code",
   "execution_count": 1,
   "metadata": {
    "executionInfo": {
     "elapsed": 2018,
     "status": "ok",
     "timestamp": 1618870108765,
     "user": {
      "displayName": "Martin Ramos Mejía",
      "photoUrl": "https://lh3.googleusercontent.com/a-/AOh14GgbpDnPjShOpPH8-P0a8AIZrUcpSYNQwHsEfsDQ8w=s64",
      "userId": "08591007000103530707"
     },
     "user_tz": 180
    },
    "id": "mQDwnOebRYb5"
   },
   "outputs": [],
   "source": [
    "# importacion general de librerias y de visualizacion (matplotlib y seaborn)\n",
    "import pandas as pd\n",
    "import numpy as np\n",
    "import matplotlib.pyplot as plt\n",
    "import seaborn as sns\n",
    "\n",
    "%matplotlib inline\n",
    "\n",
    "plt.style.use('default') # haciendo los graficos un poco mas bonitos en matplotlib\n",
    "#plt.rcParams['figure.figsize'] = (20, 10)\n",
    "\n",
    "sns.set(style=\"whitegrid\") # seteando tipo de grid en seaborn\n",
    "\n",
    "pd.options.display.float_format = '{:20,.2f}'.format # suprimimos la notacion cientifica en los outputs\n",
    "\n",
    "import warnings\n",
    "warnings.filterwarnings('ignore')"
   ]
  },
  {
   "cell_type": "code",
   "execution_count": 2,
   "metadata": {
    "executionInfo": {
     "elapsed": 2010,
     "status": "ok",
     "timestamp": 1618870108769,
     "user": {
      "displayName": "Martin Ramos Mejía",
      "photoUrl": "https://lh3.googleusercontent.com/a-/AOh14GgbpDnPjShOpPH8-P0a8AIZrUcpSYNQwHsEfsDQ8w=s64",
      "userId": "08591007000103530707"
     },
     "user_tz": 180
    },
    "id": "_Q3_-cJmRYcE"
   },
   "outputs": [],
   "source": [
    "# armamos el df de lote.csv\n",
    "lote_data = {\n",
    "        'id_lote': [1,2,3,4,5,6,7,8,9,10,11,12,13,14,15],\n",
    "        'fecha_programada_entrega': ['2020-08-01','2020-09-01','2020-09-01','2020-08-01','2020-09-01','2020-10-01','2020-09-01','2020-09-01','2020-08-01','2020-08-01','2020-10-01','2020-09-01','2020-08-01','2020-08-01','2020-10-01'],\n",
    "        'id_destino': [1,1,1,1,1,6,6,6,6,6,2,2,2,2,2],\n",
    "        'descripcion': ['1','2','3','4','5','6','7','8','9','10','11','12','13','14','15'],\n",
    "        'id_categoria_insumo': [1,1,1,1,1,2,2,2,2,2,2,3,3,3,3],\n",
    "        'cantidad_de_unidades_insumo': [100,200,300,400,500,600,100,200,300,400,500,600,100,200,300],\n",
    "}\n",
    "\n",
    "df_lote = pd.DataFrame(lote_data, columns = lote_data.keys())"
   ]
  },
  {
   "cell_type": "code",
   "execution_count": 3,
   "metadata": {
    "executionInfo": {
     "elapsed": 852,
     "status": "ok",
     "timestamp": 1618870111681,
     "user": {
      "displayName": "Martin Ramos Mejía",
      "photoUrl": "https://lh3.googleusercontent.com/a-/AOh14GgbpDnPjShOpPH8-P0a8AIZrUcpSYNQwHsEfsDQ8w=s64",
      "userId": "08591007000103530707"
     },
     "user_tz": 180
    },
    "id": "V1uPe4W8iZVN"
   },
   "outputs": [],
   "source": [
    "# armamos el df de destinos.csv\n",
    "destinos_data = {\n",
    "        'id_destino': [1,2,3,4,5,6,7,8,9,10,11,12,13,14,15],\n",
    "        'nombre': [\"Destino 1\",\"Destino 2\",\"Destino 3\",\"Destino 4\",\"Destino 5\",\"Destino 6\",\"Destino 7\",\"Destino 8\",\"Destino 9\",\"Destino 10\",\"Destino 11\",\"Destino 12\",\"Destino 13\",\"Destino 14\", \"Destino 15\"],\n",
    "        'atencion_critica': [1,1,1,1,1,0,0,0,0,0,0,0,0,0,0],\n",
    "        'region': ['CABA','CABA','CABA','CABA','CABA','PBA1','PBA1','PBA1','PBA1','PBA1','PBA1','PBA2','PBA2','PBA2','PBA2'],\n",
    "        'latitud': [1,1,1,1,1,0,0,0,0,0,0,0,0,1,1],\n",
    "        'longitud': [1,1,1,1,1,0,0,0,0,0,0,0,0,1,1],\n",
    "}\n",
    "\n",
    "df_destinos = pd.DataFrame(destinos_data, columns = destinos_data.keys())"
   ]
  },
  {
   "cell_type": "code",
   "execution_count": 4,
   "metadata": {
    "executionInfo": {
     "elapsed": 468,
     "status": "ok",
     "timestamp": 1618870114756,
     "user": {
      "displayName": "Martin Ramos Mejía",
      "photoUrl": "https://lh3.googleusercontent.com/a-/AOh14GgbpDnPjShOpPH8-P0a8AIZrUcpSYNQwHsEfsDQ8w=s64",
      "userId": "08591007000103530707"
     },
     "user_tz": 180
    },
    "id": "80L505tMRYcN"
   },
   "outputs": [],
   "source": [
    "# armamos el data frame de datos de productos\n",
    "categorias_insumos_data = {\n",
    "        'id_categoria_insumo': [1,2,3],\n",
    "        'nombre': ['Categoria 1','Categoria 2','Categoria 3'],\n",
    "        'uso_esencial': [1,0,1],\n",
    "}\n",
    "\n",
    "df_categorias = pd.DataFrame(categorias_insumos_data, columns = categorias_insumos_data.keys())"
   ]
  },
  {
   "cell_type": "code",
   "execution_count": 5,
   "metadata": {
    "colab": {
     "base_uri": "https://localhost:8080/",
     "height": 206
    },
    "executionInfo": {
     "elapsed": 741,
     "status": "ok",
     "timestamp": 1618870119589,
     "user": {
      "displayName": "Martin Ramos Mejía",
      "photoUrl": "https://lh3.googleusercontent.com/a-/AOh14GgbpDnPjShOpPH8-P0a8AIZrUcpSYNQwHsEfsDQ8w=s64",
      "userId": "08591007000103530707"
     },
     "user_tz": 180
    },
    "id": "P5fsDcyd1tmJ",
    "outputId": "268e31b6-0986-4f00-8e65-a6e4746d7da0"
   },
   "outputs": [
    {
     "data": {
      "text/html": [
       "<div>\n",
       "<style scoped>\n",
       "    .dataframe tbody tr th:only-of-type {\n",
       "        vertical-align: middle;\n",
       "    }\n",
       "\n",
       "    .dataframe tbody tr th {\n",
       "        vertical-align: top;\n",
       "    }\n",
       "\n",
       "    .dataframe thead th {\n",
       "        text-align: right;\n",
       "    }\n",
       "</style>\n",
       "<table border=\"1\" class=\"dataframe\">\n",
       "  <thead>\n",
       "    <tr style=\"text-align: right;\">\n",
       "      <th></th>\n",
       "      <th>id_lote</th>\n",
       "      <th>fecha_programada_entrega</th>\n",
       "      <th>id_destino</th>\n",
       "      <th>descripcion</th>\n",
       "      <th>id_categoria_insumo</th>\n",
       "      <th>cantidad_de_unidades_insumo</th>\n",
       "    </tr>\n",
       "  </thead>\n",
       "  <tbody>\n",
       "    <tr>\n",
       "      <th>0</th>\n",
       "      <td>1</td>\n",
       "      <td>2020-08-01</td>\n",
       "      <td>1</td>\n",
       "      <td>1</td>\n",
       "      <td>1</td>\n",
       "      <td>100</td>\n",
       "    </tr>\n",
       "    <tr>\n",
       "      <th>1</th>\n",
       "      <td>2</td>\n",
       "      <td>2020-09-01</td>\n",
       "      <td>1</td>\n",
       "      <td>2</td>\n",
       "      <td>1</td>\n",
       "      <td>200</td>\n",
       "    </tr>\n",
       "    <tr>\n",
       "      <th>2</th>\n",
       "      <td>3</td>\n",
       "      <td>2020-09-01</td>\n",
       "      <td>1</td>\n",
       "      <td>3</td>\n",
       "      <td>1</td>\n",
       "      <td>300</td>\n",
       "    </tr>\n",
       "    <tr>\n",
       "      <th>3</th>\n",
       "      <td>4</td>\n",
       "      <td>2020-08-01</td>\n",
       "      <td>1</td>\n",
       "      <td>4</td>\n",
       "      <td>1</td>\n",
       "      <td>400</td>\n",
       "    </tr>\n",
       "    <tr>\n",
       "      <th>4</th>\n",
       "      <td>5</td>\n",
       "      <td>2020-09-01</td>\n",
       "      <td>1</td>\n",
       "      <td>5</td>\n",
       "      <td>1</td>\n",
       "      <td>500</td>\n",
       "    </tr>\n",
       "  </tbody>\n",
       "</table>\n",
       "</div>"
      ],
      "text/plain": [
       "   id_lote  ... cantidad_de_unidades_insumo\n",
       "0        1  ...                         100\n",
       "1        2  ...                         200\n",
       "2        3  ...                         300\n",
       "3        4  ...                         400\n",
       "4        5  ...                         500\n",
       "\n",
       "[5 rows x 6 columns]"
      ]
     },
     "execution_count": 5,
     "metadata": {
      "tags": []
     },
     "output_type": "execute_result"
    }
   ],
   "source": [
    "df_lote.head()"
   ]
  },
  {
   "cell_type": "code",
   "execution_count": 9,
   "metadata": {
    "colab": {
     "base_uri": "https://localhost:8080/",
     "height": 206
    },
    "executionInfo": {
     "elapsed": 693,
     "status": "ok",
     "timestamp": 1618870369247,
     "user": {
      "displayName": "Martin Ramos Mejía",
      "photoUrl": "https://lh3.googleusercontent.com/a-/AOh14GgbpDnPjShOpPH8-P0a8AIZrUcpSYNQwHsEfsDQ8w=s64",
      "userId": "08591007000103530707"
     },
     "user_tz": 180
    },
    "id": "jv6d7W4cn8-s",
    "outputId": "218bd571-5f14-42cf-b3b0-2c48c4410ce0"
   },
   "outputs": [
    {
     "data": {
      "text/html": [
       "<div>\n",
       "<style scoped>\n",
       "    .dataframe tbody tr th:only-of-type {\n",
       "        vertical-align: middle;\n",
       "    }\n",
       "\n",
       "    .dataframe tbody tr th {\n",
       "        vertical-align: top;\n",
       "    }\n",
       "\n",
       "    .dataframe thead th {\n",
       "        text-align: right;\n",
       "    }\n",
       "</style>\n",
       "<table border=\"1\" class=\"dataframe\">\n",
       "  <thead>\n",
       "    <tr style=\"text-align: right;\">\n",
       "      <th></th>\n",
       "      <th>id_destino</th>\n",
       "      <th>nombre</th>\n",
       "      <th>atencion_critica</th>\n",
       "      <th>region</th>\n",
       "      <th>latitud</th>\n",
       "      <th>longitud</th>\n",
       "    </tr>\n",
       "  </thead>\n",
       "  <tbody>\n",
       "    <tr>\n",
       "      <th>0</th>\n",
       "      <td>1</td>\n",
       "      <td>Destino 1</td>\n",
       "      <td>1</td>\n",
       "      <td>CABA</td>\n",
       "      <td>1</td>\n",
       "      <td>1</td>\n",
       "    </tr>\n",
       "    <tr>\n",
       "      <th>1</th>\n",
       "      <td>2</td>\n",
       "      <td>Destino 2</td>\n",
       "      <td>1</td>\n",
       "      <td>CABA</td>\n",
       "      <td>1</td>\n",
       "      <td>1</td>\n",
       "    </tr>\n",
       "    <tr>\n",
       "      <th>2</th>\n",
       "      <td>3</td>\n",
       "      <td>Destino 3</td>\n",
       "      <td>1</td>\n",
       "      <td>CABA</td>\n",
       "      <td>1</td>\n",
       "      <td>1</td>\n",
       "    </tr>\n",
       "    <tr>\n",
       "      <th>3</th>\n",
       "      <td>4</td>\n",
       "      <td>Destino 4</td>\n",
       "      <td>1</td>\n",
       "      <td>CABA</td>\n",
       "      <td>1</td>\n",
       "      <td>1</td>\n",
       "    </tr>\n",
       "    <tr>\n",
       "      <th>4</th>\n",
       "      <td>5</td>\n",
       "      <td>Destino 5</td>\n",
       "      <td>1</td>\n",
       "      <td>CABA</td>\n",
       "      <td>1</td>\n",
       "      <td>1</td>\n",
       "    </tr>\n",
       "  </tbody>\n",
       "</table>\n",
       "</div>"
      ],
      "text/plain": [
       "   id_destino     nombre  atencion_critica region  latitud  longitud\n",
       "0           1  Destino 1                 1   CABA        1         1\n",
       "1           2  Destino 2                 1   CABA        1         1\n",
       "2           3  Destino 3                 1   CABA        1         1\n",
       "3           4  Destino 4                 1   CABA        1         1\n",
       "4           5  Destino 5                 1   CABA        1         1"
      ]
     },
     "execution_count": 9,
     "metadata": {
      "tags": []
     },
     "output_type": "execute_result"
    }
   ],
   "source": [
    "df_destinos.head()"
   ]
  },
  {
   "cell_type": "code",
   "execution_count": 7,
   "metadata": {
    "colab": {
     "base_uri": "https://localhost:8080/",
     "height": 143
    },
    "executionInfo": {
     "elapsed": 638,
     "status": "ok",
     "timestamp": 1618870128002,
     "user": {
      "displayName": "Martin Ramos Mejía",
      "photoUrl": "https://lh3.googleusercontent.com/a-/AOh14GgbpDnPjShOpPH8-P0a8AIZrUcpSYNQwHsEfsDQ8w=s64",
      "userId": "08591007000103530707"
     },
     "user_tz": 180
    },
    "id": "PM_cRZ5_15rf",
    "outputId": "9280276a-81ea-4327-e67a-c0dd64bc1f14"
   },
   "outputs": [
    {
     "data": {
      "text/html": [
       "<div>\n",
       "<style scoped>\n",
       "    .dataframe tbody tr th:only-of-type {\n",
       "        vertical-align: middle;\n",
       "    }\n",
       "\n",
       "    .dataframe tbody tr th {\n",
       "        vertical-align: top;\n",
       "    }\n",
       "\n",
       "    .dataframe thead th {\n",
       "        text-align: right;\n",
       "    }\n",
       "</style>\n",
       "<table border=\"1\" class=\"dataframe\">\n",
       "  <thead>\n",
       "    <tr style=\"text-align: right;\">\n",
       "      <th></th>\n",
       "      <th>id_categoria_insumo</th>\n",
       "      <th>nombre</th>\n",
       "      <th>uso_esencial</th>\n",
       "    </tr>\n",
       "  </thead>\n",
       "  <tbody>\n",
       "    <tr>\n",
       "      <th>0</th>\n",
       "      <td>1</td>\n",
       "      <td>Categoria 1</td>\n",
       "      <td>1</td>\n",
       "    </tr>\n",
       "    <tr>\n",
       "      <th>1</th>\n",
       "      <td>2</td>\n",
       "      <td>Categoria 2</td>\n",
       "      <td>0</td>\n",
       "    </tr>\n",
       "    <tr>\n",
       "      <th>2</th>\n",
       "      <td>3</td>\n",
       "      <td>Categoria 3</td>\n",
       "      <td>1</td>\n",
       "    </tr>\n",
       "  </tbody>\n",
       "</table>\n",
       "</div>"
      ],
      "text/plain": [
       "   id_categoria_insumo       nombre  uso_esencial\n",
       "0                    1  Categoria 1             1\n",
       "1                    2  Categoria 2             0\n",
       "2                    3  Categoria 3             1"
      ]
     },
     "execution_count": 7,
     "metadata": {
      "tags": []
     },
     "output_type": "execute_result"
    }
   ],
   "source": [
    "df_categorias.head()"
   ]
  },
  {
   "cell_type": "markdown",
   "metadata": {
    "id": "vbJkccKtRYcj"
   },
   "source": [
    "a) Listar los nombres de 10 destinos de la región de “CABA” que durante el mes de septiembre recibieron la mayor cantidad de lotes de insumos de uso esencial."
   ]
  },
  {
   "cell_type": "code",
   "execution_count": 10,
   "metadata": {
    "colab": {
     "base_uri": "https://localhost:8080/",
     "height": 206
    },
    "executionInfo": {
     "elapsed": 685,
     "status": "ok",
     "timestamp": 1618870515341,
     "user": {
      "displayName": "Martin Ramos Mejía",
      "photoUrl": "https://lh3.googleusercontent.com/a-/AOh14GgbpDnPjShOpPH8-P0a8AIZrUcpSYNQwHsEfsDQ8w=s64",
      "userId": "08591007000103530707"
     },
     "user_tz": 180
    },
    "id": "xCyq6eavL7CW",
    "outputId": "fef87770-0bf4-4740-c911-20fe50e3e017"
   },
   "outputs": [
    {
     "data": {
      "text/html": [
       "<div>\n",
       "<style scoped>\n",
       "    .dataframe tbody tr th:only-of-type {\n",
       "        vertical-align: middle;\n",
       "    }\n",
       "\n",
       "    .dataframe tbody tr th {\n",
       "        vertical-align: top;\n",
       "    }\n",
       "\n",
       "    .dataframe thead th {\n",
       "        text-align: right;\n",
       "    }\n",
       "</style>\n",
       "<table border=\"1\" class=\"dataframe\">\n",
       "  <thead>\n",
       "    <tr style=\"text-align: right;\">\n",
       "      <th></th>\n",
       "      <th>id_destino</th>\n",
       "      <th>nombre</th>\n",
       "      <th>atencion_critica</th>\n",
       "      <th>region</th>\n",
       "      <th>latitud</th>\n",
       "      <th>longitud</th>\n",
       "    </tr>\n",
       "  </thead>\n",
       "  <tbody>\n",
       "    <tr>\n",
       "      <th>0</th>\n",
       "      <td>1</td>\n",
       "      <td>Destino 1</td>\n",
       "      <td>1</td>\n",
       "      <td>CABA</td>\n",
       "      <td>1</td>\n",
       "      <td>1</td>\n",
       "    </tr>\n",
       "    <tr>\n",
       "      <th>1</th>\n",
       "      <td>2</td>\n",
       "      <td>Destino 2</td>\n",
       "      <td>1</td>\n",
       "      <td>CABA</td>\n",
       "      <td>1</td>\n",
       "      <td>1</td>\n",
       "    </tr>\n",
       "    <tr>\n",
       "      <th>2</th>\n",
       "      <td>3</td>\n",
       "      <td>Destino 3</td>\n",
       "      <td>1</td>\n",
       "      <td>CABA</td>\n",
       "      <td>1</td>\n",
       "      <td>1</td>\n",
       "    </tr>\n",
       "    <tr>\n",
       "      <th>3</th>\n",
       "      <td>4</td>\n",
       "      <td>Destino 4</td>\n",
       "      <td>1</td>\n",
       "      <td>CABA</td>\n",
       "      <td>1</td>\n",
       "      <td>1</td>\n",
       "    </tr>\n",
       "    <tr>\n",
       "      <th>4</th>\n",
       "      <td>5</td>\n",
       "      <td>Destino 5</td>\n",
       "      <td>1</td>\n",
       "      <td>CABA</td>\n",
       "      <td>1</td>\n",
       "      <td>1</td>\n",
       "    </tr>\n",
       "  </tbody>\n",
       "</table>\n",
       "</div>"
      ],
      "text/plain": [
       "   id_destino     nombre  atencion_critica region  latitud  longitud\n",
       "0           1  Destino 1                 1   CABA        1         1\n",
       "1           2  Destino 2                 1   CABA        1         1\n",
       "2           3  Destino 3                 1   CABA        1         1\n",
       "3           4  Destino 4                 1   CABA        1         1\n",
       "4           5  Destino 5                 1   CABA        1         1"
      ]
     },
     "execution_count": 10,
     "metadata": {
      "tags": []
     },
     "output_type": "execute_result"
    }
   ],
   "source": [
    "df_destinos.loc[df_destinos['region']=='CABA']"
   ]
  },
  {
   "cell_type": "code",
   "execution_count": 11,
   "metadata": {
    "executionInfo": {
     "elapsed": 740,
     "status": "ok",
     "timestamp": 1618870611336,
     "user": {
      "displayName": "Martin Ramos Mejía",
      "photoUrl": "https://lh3.googleusercontent.com/a-/AOh14GgbpDnPjShOpPH8-P0a8AIZrUcpSYNQwHsEfsDQ8w=s64",
      "userId": "08591007000103530707"
     },
     "user_tz": 180
    },
    "id": "NazhQIPIM7Oo"
   },
   "outputs": [],
   "source": [
    "destinos_caba = df_destinos.loc[df_destinos['region']=='CABA',['id_destino','nombre']]"
   ]
  },
  {
   "cell_type": "code",
   "execution_count": 12,
   "metadata": {
    "colab": {
     "base_uri": "https://localhost:8080/",
     "height": 206
    },
    "executionInfo": {
     "elapsed": 680,
     "status": "ok",
     "timestamp": 1618870616680,
     "user": {
      "displayName": "Martin Ramos Mejía",
      "photoUrl": "https://lh3.googleusercontent.com/a-/AOh14GgbpDnPjShOpPH8-P0a8AIZrUcpSYNQwHsEfsDQ8w=s64",
      "userId": "08591007000103530707"
     },
     "user_tz": 180
    },
    "id": "0lmAfmEpNSpF",
    "outputId": "b272bcc0-6186-48f2-fd08-273aa4fa9758"
   },
   "outputs": [
    {
     "data": {
      "text/html": [
       "<div>\n",
       "<style scoped>\n",
       "    .dataframe tbody tr th:only-of-type {\n",
       "        vertical-align: middle;\n",
       "    }\n",
       "\n",
       "    .dataframe tbody tr th {\n",
       "        vertical-align: top;\n",
       "    }\n",
       "\n",
       "    .dataframe thead th {\n",
       "        text-align: right;\n",
       "    }\n",
       "</style>\n",
       "<table border=\"1\" class=\"dataframe\">\n",
       "  <thead>\n",
       "    <tr style=\"text-align: right;\">\n",
       "      <th></th>\n",
       "      <th>id_destino</th>\n",
       "      <th>nombre</th>\n",
       "    </tr>\n",
       "  </thead>\n",
       "  <tbody>\n",
       "    <tr>\n",
       "      <th>0</th>\n",
       "      <td>1</td>\n",
       "      <td>Destino 1</td>\n",
       "    </tr>\n",
       "    <tr>\n",
       "      <th>1</th>\n",
       "      <td>2</td>\n",
       "      <td>Destino 2</td>\n",
       "    </tr>\n",
       "    <tr>\n",
       "      <th>2</th>\n",
       "      <td>3</td>\n",
       "      <td>Destino 3</td>\n",
       "    </tr>\n",
       "    <tr>\n",
       "      <th>3</th>\n",
       "      <td>4</td>\n",
       "      <td>Destino 4</td>\n",
       "    </tr>\n",
       "    <tr>\n",
       "      <th>4</th>\n",
       "      <td>5</td>\n",
       "      <td>Destino 5</td>\n",
       "    </tr>\n",
       "  </tbody>\n",
       "</table>\n",
       "</div>"
      ],
      "text/plain": [
       "   id_destino     nombre\n",
       "0           1  Destino 1\n",
       "1           2  Destino 2\n",
       "2           3  Destino 3\n",
       "3           4  Destino 4\n",
       "4           5  Destino 5"
      ]
     },
     "execution_count": 12,
     "metadata": {
      "tags": []
     },
     "output_type": "execute_result"
    }
   ],
   "source": [
    "destinos_caba"
   ]
  },
  {
   "cell_type": "code",
   "execution_count": 13,
   "metadata": {
    "executionInfo": {
     "elapsed": 655,
     "status": "ok",
     "timestamp": 1618870852835,
     "user": {
      "displayName": "Martin Ramos Mejía",
      "photoUrl": "https://lh3.googleusercontent.com/a-/AOh14GgbpDnPjShOpPH8-P0a8AIZrUcpSYNQwHsEfsDQ8w=s64",
      "userId": "08591007000103530707"
     },
     "user_tz": 180
    },
    "id": "Y2_jfwUdNT-E"
   },
   "outputs": [],
   "source": [
    "categoria_esencial = df_categorias.loc[df_categorias['uso_esencial'] == 1, ['id_categoria_insumo']]"
   ]
  },
  {
   "cell_type": "code",
   "execution_count": 14,
   "metadata": {
    "colab": {
     "base_uri": "https://localhost:8080/",
     "height": 112
    },
    "executionInfo": {
     "elapsed": 832,
     "status": "ok",
     "timestamp": 1618870858076,
     "user": {
      "displayName": "Martin Ramos Mejía",
      "photoUrl": "https://lh3.googleusercontent.com/a-/AOh14GgbpDnPjShOpPH8-P0a8AIZrUcpSYNQwHsEfsDQ8w=s64",
      "userId": "08591007000103530707"
     },
     "user_tz": 180
    },
    "id": "xKAOJbGgONoK",
    "outputId": "85cbc528-2dba-4fda-b0ff-760033bf40fe"
   },
   "outputs": [
    {
     "data": {
      "text/html": [
       "<div>\n",
       "<style scoped>\n",
       "    .dataframe tbody tr th:only-of-type {\n",
       "        vertical-align: middle;\n",
       "    }\n",
       "\n",
       "    .dataframe tbody tr th {\n",
       "        vertical-align: top;\n",
       "    }\n",
       "\n",
       "    .dataframe thead th {\n",
       "        text-align: right;\n",
       "    }\n",
       "</style>\n",
       "<table border=\"1\" class=\"dataframe\">\n",
       "  <thead>\n",
       "    <tr style=\"text-align: right;\">\n",
       "      <th></th>\n",
       "      <th>id_categoria_insumo</th>\n",
       "    </tr>\n",
       "  </thead>\n",
       "  <tbody>\n",
       "    <tr>\n",
       "      <th>0</th>\n",
       "      <td>1</td>\n",
       "    </tr>\n",
       "    <tr>\n",
       "      <th>2</th>\n",
       "      <td>3</td>\n",
       "    </tr>\n",
       "  </tbody>\n",
       "</table>\n",
       "</div>"
      ],
      "text/plain": [
       "   id_categoria_insumo\n",
       "0                    1\n",
       "2                    3"
      ]
     },
     "execution_count": 14,
     "metadata": {
      "tags": []
     },
     "output_type": "execute_result"
    }
   ],
   "source": [
    "categoria_esencial"
   ]
  },
  {
   "cell_type": "code",
   "execution_count": 15,
   "metadata": {
    "executionInfo": {
     "elapsed": 670,
     "status": "ok",
     "timestamp": 1618871022365,
     "user": {
      "displayName": "Martin Ramos Mejía",
      "photoUrl": "https://lh3.googleusercontent.com/a-/AOh14GgbpDnPjShOpPH8-P0a8AIZrUcpSYNQwHsEfsDQ8w=s64",
      "userId": "08591007000103530707"
     },
     "user_tz": 180
    },
    "id": "-VvUXD9gOO3h"
   },
   "outputs": [],
   "source": [
    "df_lote['anio'] = pd.to_datetime(df_lote['fecha_programada_entrega']).dt.year"
   ]
  },
  {
   "cell_type": "code",
   "execution_count": 17,
   "metadata": {
    "executionInfo": {
     "elapsed": 799,
     "status": "ok",
     "timestamp": 1618871050294,
     "user": {
      "displayName": "Martin Ramos Mejía",
      "photoUrl": "https://lh3.googleusercontent.com/a-/AOh14GgbpDnPjShOpPH8-P0a8AIZrUcpSYNQwHsEfsDQ8w=s64",
      "userId": "08591007000103530707"
     },
     "user_tz": 180
    },
    "id": "3iG5o_npO3A5"
   },
   "outputs": [],
   "source": [
    "df_lote['mes'] = pd.to_datetime(df_lote['fecha_programada_entrega']).dt.month"
   ]
  },
  {
   "cell_type": "code",
   "execution_count": 18,
   "metadata": {
    "executionInfo": {
     "elapsed": 688,
     "status": "ok",
     "timestamp": 1618871146894,
     "user": {
      "displayName": "Martin Ramos Mejía",
      "photoUrl": "https://lh3.googleusercontent.com/a-/AOh14GgbpDnPjShOpPH8-P0a8AIZrUcpSYNQwHsEfsDQ8w=s64",
      "userId": "08591007000103530707"
     },
     "user_tz": 180
    },
    "id": "uNn3mmyfO5AU"
   },
   "outputs": [],
   "source": [
    "df_lote_septiembre = df_lote.loc[(df_lote['mes'] == 9) & (df_lote['anio'] == 2020)]"
   ]
  },
  {
   "cell_type": "code",
   "execution_count": 19,
   "metadata": {
    "colab": {
     "base_uri": "https://localhost:8080/",
     "height": 257
    },
    "executionInfo": {
     "elapsed": 708,
     "status": "ok",
     "timestamp": 1618871154435,
     "user": {
      "displayName": "Martin Ramos Mejía",
      "photoUrl": "https://lh3.googleusercontent.com/a-/AOh14GgbpDnPjShOpPH8-P0a8AIZrUcpSYNQwHsEfsDQ8w=s64",
      "userId": "08591007000103530707"
     },
     "user_tz": 180
    },
    "id": "i2rL18RhPVan",
    "outputId": "cc43d704-976b-4748-84e8-031bb28ca1e8"
   },
   "outputs": [
    {
     "data": {
      "text/html": [
       "<div>\n",
       "<style scoped>\n",
       "    .dataframe tbody tr th:only-of-type {\n",
       "        vertical-align: middle;\n",
       "    }\n",
       "\n",
       "    .dataframe tbody tr th {\n",
       "        vertical-align: top;\n",
       "    }\n",
       "\n",
       "    .dataframe thead th {\n",
       "        text-align: right;\n",
       "    }\n",
       "</style>\n",
       "<table border=\"1\" class=\"dataframe\">\n",
       "  <thead>\n",
       "    <tr style=\"text-align: right;\">\n",
       "      <th></th>\n",
       "      <th>id_lote</th>\n",
       "      <th>fecha_programada_entrega</th>\n",
       "      <th>id_destino</th>\n",
       "      <th>descripcion</th>\n",
       "      <th>id_categoria_insumo</th>\n",
       "      <th>cantidad_de_unidades_insumo</th>\n",
       "      <th>anio</th>\n",
       "      <th>mes</th>\n",
       "    </tr>\n",
       "  </thead>\n",
       "  <tbody>\n",
       "    <tr>\n",
       "      <th>1</th>\n",
       "      <td>2</td>\n",
       "      <td>2020-09-01</td>\n",
       "      <td>1</td>\n",
       "      <td>2</td>\n",
       "      <td>1</td>\n",
       "      <td>200</td>\n",
       "      <td>2020</td>\n",
       "      <td>9</td>\n",
       "    </tr>\n",
       "    <tr>\n",
       "      <th>2</th>\n",
       "      <td>3</td>\n",
       "      <td>2020-09-01</td>\n",
       "      <td>1</td>\n",
       "      <td>3</td>\n",
       "      <td>1</td>\n",
       "      <td>300</td>\n",
       "      <td>2020</td>\n",
       "      <td>9</td>\n",
       "    </tr>\n",
       "    <tr>\n",
       "      <th>4</th>\n",
       "      <td>5</td>\n",
       "      <td>2020-09-01</td>\n",
       "      <td>1</td>\n",
       "      <td>5</td>\n",
       "      <td>1</td>\n",
       "      <td>500</td>\n",
       "      <td>2020</td>\n",
       "      <td>9</td>\n",
       "    </tr>\n",
       "    <tr>\n",
       "      <th>6</th>\n",
       "      <td>7</td>\n",
       "      <td>2020-09-01</td>\n",
       "      <td>6</td>\n",
       "      <td>7</td>\n",
       "      <td>2</td>\n",
       "      <td>100</td>\n",
       "      <td>2020</td>\n",
       "      <td>9</td>\n",
       "    </tr>\n",
       "    <tr>\n",
       "      <th>7</th>\n",
       "      <td>8</td>\n",
       "      <td>2020-09-01</td>\n",
       "      <td>6</td>\n",
       "      <td>8</td>\n",
       "      <td>2</td>\n",
       "      <td>200</td>\n",
       "      <td>2020</td>\n",
       "      <td>9</td>\n",
       "    </tr>\n",
       "    <tr>\n",
       "      <th>11</th>\n",
       "      <td>12</td>\n",
       "      <td>2020-09-01</td>\n",
       "      <td>2</td>\n",
       "      <td>12</td>\n",
       "      <td>3</td>\n",
       "      <td>600</td>\n",
       "      <td>2020</td>\n",
       "      <td>9</td>\n",
       "    </tr>\n",
       "  </tbody>\n",
       "</table>\n",
       "</div>"
      ],
      "text/plain": [
       "    id_lote fecha_programada_entrega  ...  anio mes\n",
       "1         2               2020-09-01  ...  2020   9\n",
       "2         3               2020-09-01  ...  2020   9\n",
       "4         5               2020-09-01  ...  2020   9\n",
       "6         7               2020-09-01  ...  2020   9\n",
       "7         8               2020-09-01  ...  2020   9\n",
       "11       12               2020-09-01  ...  2020   9\n",
       "\n",
       "[6 rows x 8 columns]"
      ]
     },
     "execution_count": 19,
     "metadata": {
      "tags": []
     },
     "output_type": "execute_result"
    }
   ],
   "source": [
    "df_lote_septiembre"
   ]
  },
  {
   "cell_type": "code",
   "execution_count": 26,
   "metadata": {
    "executionInfo": {
     "elapsed": 709,
     "status": "ok",
     "timestamp": 1618871766454,
     "user": {
      "displayName": "Martin Ramos Mejía",
      "photoUrl": "https://lh3.googleusercontent.com/a-/AOh14GgbpDnPjShOpPH8-P0a8AIZrUcpSYNQwHsEfsDQ8w=s64",
      "userId": "08591007000103530707"
     },
     "user_tz": 180
    },
    "id": "UphS1vj5PXQL"
   },
   "outputs": [],
   "source": [
    "lotes_esenciales = df_lote_septiembre.merge(categoria_esencial, how=\"inner\")"
   ]
  },
  {
   "cell_type": "code",
   "execution_count": 27,
   "metadata": {
    "colab": {
     "base_uri": "https://localhost:8080/",
     "height": 194
    },
    "executionInfo": {
     "elapsed": 494,
     "status": "ok",
     "timestamp": 1618871767674,
     "user": {
      "displayName": "Martin Ramos Mejía",
      "photoUrl": "https://lh3.googleusercontent.com/a-/AOh14GgbpDnPjShOpPH8-P0a8AIZrUcpSYNQwHsEfsDQ8w=s64",
      "userId": "08591007000103530707"
     },
     "user_tz": 180
    },
    "id": "UdPbsAx-Qqpw",
    "outputId": "d0162c59-d309-42ab-efd6-8c25003955d5"
   },
   "outputs": [
    {
     "data": {
      "text/html": [
       "<div>\n",
       "<style scoped>\n",
       "    .dataframe tbody tr th:only-of-type {\n",
       "        vertical-align: middle;\n",
       "    }\n",
       "\n",
       "    .dataframe tbody tr th {\n",
       "        vertical-align: top;\n",
       "    }\n",
       "\n",
       "    .dataframe thead th {\n",
       "        text-align: right;\n",
       "    }\n",
       "</style>\n",
       "<table border=\"1\" class=\"dataframe\">\n",
       "  <thead>\n",
       "    <tr style=\"text-align: right;\">\n",
       "      <th></th>\n",
       "      <th>id_lote</th>\n",
       "      <th>fecha_programada_entrega</th>\n",
       "      <th>id_destino</th>\n",
       "      <th>descripcion</th>\n",
       "      <th>id_categoria_insumo</th>\n",
       "      <th>cantidad_de_unidades_insumo</th>\n",
       "      <th>anio</th>\n",
       "      <th>mes</th>\n",
       "    </tr>\n",
       "  </thead>\n",
       "  <tbody>\n",
       "    <tr>\n",
       "      <th>0</th>\n",
       "      <td>2</td>\n",
       "      <td>2020-09-01</td>\n",
       "      <td>1</td>\n",
       "      <td>2</td>\n",
       "      <td>1</td>\n",
       "      <td>200</td>\n",
       "      <td>2020</td>\n",
       "      <td>9</td>\n",
       "    </tr>\n",
       "    <tr>\n",
       "      <th>1</th>\n",
       "      <td>3</td>\n",
       "      <td>2020-09-01</td>\n",
       "      <td>1</td>\n",
       "      <td>3</td>\n",
       "      <td>1</td>\n",
       "      <td>300</td>\n",
       "      <td>2020</td>\n",
       "      <td>9</td>\n",
       "    </tr>\n",
       "    <tr>\n",
       "      <th>2</th>\n",
       "      <td>5</td>\n",
       "      <td>2020-09-01</td>\n",
       "      <td>1</td>\n",
       "      <td>5</td>\n",
       "      <td>1</td>\n",
       "      <td>500</td>\n",
       "      <td>2020</td>\n",
       "      <td>9</td>\n",
       "    </tr>\n",
       "    <tr>\n",
       "      <th>3</th>\n",
       "      <td>12</td>\n",
       "      <td>2020-09-01</td>\n",
       "      <td>2</td>\n",
       "      <td>12</td>\n",
       "      <td>3</td>\n",
       "      <td>600</td>\n",
       "      <td>2020</td>\n",
       "      <td>9</td>\n",
       "    </tr>\n",
       "  </tbody>\n",
       "</table>\n",
       "</div>"
      ],
      "text/plain": [
       "   id_lote fecha_programada_entrega  ...  anio mes\n",
       "0        2               2020-09-01  ...  2020   9\n",
       "1        3               2020-09-01  ...  2020   9\n",
       "2        5               2020-09-01  ...  2020   9\n",
       "3       12               2020-09-01  ...  2020   9\n",
       "\n",
       "[4 rows x 8 columns]"
      ]
     },
     "execution_count": 27,
     "metadata": {
      "tags": []
     },
     "output_type": "execute_result"
    }
   ],
   "source": [
    "lotes_esenciales"
   ]
  },
  {
   "cell_type": "code",
   "execution_count": 33,
   "metadata": {
    "executionInfo": {
     "elapsed": 762,
     "status": "ok",
     "timestamp": 1618872373435,
     "user": {
      "displayName": "Martin Ramos Mejía",
      "photoUrl": "https://lh3.googleusercontent.com/a-/AOh14GgbpDnPjShOpPH8-P0a8AIZrUcpSYNQwHsEfsDQ8w=s64",
      "userId": "08591007000103530707"
     },
     "user_tz": 180
    },
    "id": "Tj3CpOVzTOZN"
   },
   "outputs": [],
   "source": [
    "lotes_esenciales = lotes_esenciales.merge(destinos_caba, how='inner')"
   ]
  },
  {
   "cell_type": "code",
   "execution_count": 47,
   "metadata": {
    "colab": {
     "base_uri": "https://localhost:8080/",
     "height": 174
    },
    "executionInfo": {
     "elapsed": 709,
     "status": "ok",
     "timestamp": 1618872953761,
     "user": {
      "displayName": "Martin Ramos Mejía",
      "photoUrl": "https://lh3.googleusercontent.com/a-/AOh14GgbpDnPjShOpPH8-P0a8AIZrUcpSYNQwHsEfsDQ8w=s64",
      "userId": "08591007000103530707"
     },
     "user_tz": 180
    },
    "id": "XRQrgpv1Tl1O",
    "outputId": "943a5ced-d1ab-42b6-d18a-083f3e96a6d7"
   },
   "outputs": [
    {
     "data": {
      "text/html": [
       "<div>\n",
       "<style scoped>\n",
       "    .dataframe tbody tr th:only-of-type {\n",
       "        vertical-align: middle;\n",
       "    }\n",
       "\n",
       "    .dataframe tbody tr th {\n",
       "        vertical-align: top;\n",
       "    }\n",
       "\n",
       "    .dataframe thead th {\n",
       "        text-align: right;\n",
       "    }\n",
       "</style>\n",
       "<table border=\"1\" class=\"dataframe\">\n",
       "  <thead>\n",
       "    <tr style=\"text-align: right;\">\n",
       "      <th></th>\n",
       "      <th>id_destino</th>\n",
       "      <th>nombre</th>\n",
       "      <th>id_lote</th>\n",
       "      <th>a</th>\n",
       "    </tr>\n",
       "  </thead>\n",
       "  <tbody>\n",
       "    <tr>\n",
       "      <th>0</th>\n",
       "      <td>1</td>\n",
       "      <td>Destino 1</td>\n",
       "      <td>2</td>\n",
       "      <td>1</td>\n",
       "    </tr>\n",
       "    <tr>\n",
       "      <th>1</th>\n",
       "      <td>1</td>\n",
       "      <td>Destino 1</td>\n",
       "      <td>3</td>\n",
       "      <td>1</td>\n",
       "    </tr>\n",
       "    <tr>\n",
       "      <th>2</th>\n",
       "      <td>1</td>\n",
       "      <td>Destino 1</td>\n",
       "      <td>5</td>\n",
       "      <td>1</td>\n",
       "    </tr>\n",
       "    <tr>\n",
       "      <th>3</th>\n",
       "      <td>2</td>\n",
       "      <td>Destino 2</td>\n",
       "      <td>12</td>\n",
       "      <td>1</td>\n",
       "    </tr>\n",
       "  </tbody>\n",
       "</table>\n",
       "</div>"
      ],
      "text/plain": [
       "   id_destino     nombre  id_lote  a\n",
       "0           1  Destino 1        2  1\n",
       "1           1  Destino 1        3  1\n",
       "2           1  Destino 1        5  1\n",
       "3           2  Destino 2       12  1"
      ]
     },
     "execution_count": 47,
     "metadata": {
      "tags": []
     },
     "output_type": "execute_result"
    }
   ],
   "source": [
    "lotes_esenciales"
   ]
  },
  {
   "cell_type": "code",
   "execution_count": 48,
   "metadata": {
    "executionInfo": {
     "elapsed": 682,
     "status": "ok",
     "timestamp": 1618872958377,
     "user": {
      "displayName": "Martin Ramos Mejía",
      "photoUrl": "https://lh3.googleusercontent.com/a-/AOh14GgbpDnPjShOpPH8-P0a8AIZrUcpSYNQwHsEfsDQ8w=s64",
      "userId": "08591007000103530707"
     },
     "user_tz": 180
    },
    "id": "ZWAuIqlrQsOU"
   },
   "outputs": [],
   "source": [
    "lotes_esenciales = lotes_esenciales[['id_destino','nombre','id_lote']]"
   ]
  },
  {
   "cell_type": "code",
   "execution_count": 60,
   "metadata": {
    "colab": {
     "base_uri": "https://localhost:8080/",
     "height": 143
    },
    "executionInfo": {
     "elapsed": 770,
     "status": "ok",
     "timestamp": 1618873283644,
     "user": {
      "displayName": "Martin Ramos Mejía",
      "photoUrl": "https://lh3.googleusercontent.com/a-/AOh14GgbpDnPjShOpPH8-P0a8AIZrUcpSYNQwHsEfsDQ8w=s64",
      "userId": "08591007000103530707"
     },
     "user_tz": 180
    },
    "id": "fhyc9sW1Xekw",
    "outputId": "136eda3f-ce77-472e-fa32-53579ffde145"
   },
   "outputs": [
    {
     "data": {
      "text/html": [
       "<div>\n",
       "<style scoped>\n",
       "    .dataframe tbody tr th:only-of-type {\n",
       "        vertical-align: middle;\n",
       "    }\n",
       "\n",
       "    .dataframe tbody tr th {\n",
       "        vertical-align: top;\n",
       "    }\n",
       "\n",
       "    .dataframe thead th {\n",
       "        text-align: right;\n",
       "    }\n",
       "</style>\n",
       "<table border=\"1\" class=\"dataframe\">\n",
       "  <thead>\n",
       "    <tr style=\"text-align: right;\">\n",
       "      <th></th>\n",
       "      <th></th>\n",
       "      <th>id_lote</th>\n",
       "    </tr>\n",
       "    <tr>\n",
       "      <th>id_destino</th>\n",
       "      <th>nombre</th>\n",
       "      <th></th>\n",
       "    </tr>\n",
       "  </thead>\n",
       "  <tbody>\n",
       "    <tr>\n",
       "      <th>1</th>\n",
       "      <th>Destino 1</th>\n",
       "      <td>3</td>\n",
       "    </tr>\n",
       "    <tr>\n",
       "      <th>2</th>\n",
       "      <th>Destino 2</th>\n",
       "      <td>1</td>\n",
       "    </tr>\n",
       "  </tbody>\n",
       "</table>\n",
       "</div>"
      ],
      "text/plain": [
       "                      id_lote\n",
       "id_destino nombre            \n",
       "1          Destino 1        3\n",
       "2          Destino 2        1"
      ]
     },
     "execution_count": 60,
     "metadata": {
      "tags": []
     },
     "output_type": "execute_result"
    }
   ],
   "source": [
    "lotes_esenciales.groupby(['id_destino','nombre']).agg('count')"
   ]
  },
  {
   "cell_type": "code",
   "execution_count": 62,
   "metadata": {
    "executionInfo": {
     "elapsed": 1037,
     "status": "ok",
     "timestamp": 1618873351695,
     "user": {
      "displayName": "Martin Ramos Mejía",
      "photoUrl": "https://lh3.googleusercontent.com/a-/AOh14GgbpDnPjShOpPH8-P0a8AIZrUcpSYNQwHsEfsDQ8w=s64",
      "userId": "08591007000103530707"
     },
     "user_tz": 180
    },
    "id": "ih41SomEUVfG"
   },
   "outputs": [],
   "source": [
    "cantidad_lotes_esenciales = lotes_esenciales.groupby(['id_destino','nombre']).count().reset_index().rename(columns={'id_lote':'cantidad_lotes'})\n",
    "#lotes_esenciales.groupby(['id_destino','nombre']).agg('count')"
   ]
  },
  {
   "cell_type": "code",
   "execution_count": 63,
   "metadata": {
    "colab": {
     "base_uri": "https://localhost:8080/",
     "height": 112
    },
    "executionInfo": {
     "elapsed": 1032,
     "status": "ok",
     "timestamp": 1618873351697,
     "user": {
      "displayName": "Martin Ramos Mejía",
      "photoUrl": "https://lh3.googleusercontent.com/a-/AOh14GgbpDnPjShOpPH8-P0a8AIZrUcpSYNQwHsEfsDQ8w=s64",
      "userId": "08591007000103530707"
     },
     "user_tz": 180
    },
    "id": "oGCLKcAUVV13",
    "outputId": "af71bbbb-ea04-4d3f-e822-42490fa3500c"
   },
   "outputs": [
    {
     "data": {
      "text/html": [
       "<div>\n",
       "<style scoped>\n",
       "    .dataframe tbody tr th:only-of-type {\n",
       "        vertical-align: middle;\n",
       "    }\n",
       "\n",
       "    .dataframe tbody tr th {\n",
       "        vertical-align: top;\n",
       "    }\n",
       "\n",
       "    .dataframe thead th {\n",
       "        text-align: right;\n",
       "    }\n",
       "</style>\n",
       "<table border=\"1\" class=\"dataframe\">\n",
       "  <thead>\n",
       "    <tr style=\"text-align: right;\">\n",
       "      <th></th>\n",
       "      <th>id_destino</th>\n",
       "      <th>nombre</th>\n",
       "      <th>cantidad_lotes</th>\n",
       "    </tr>\n",
       "  </thead>\n",
       "  <tbody>\n",
       "    <tr>\n",
       "      <th>0</th>\n",
       "      <td>1</td>\n",
       "      <td>Destino 1</td>\n",
       "      <td>3</td>\n",
       "    </tr>\n",
       "    <tr>\n",
       "      <th>1</th>\n",
       "      <td>2</td>\n",
       "      <td>Destino 2</td>\n",
       "      <td>1</td>\n",
       "    </tr>\n",
       "  </tbody>\n",
       "</table>\n",
       "</div>"
      ],
      "text/plain": [
       "   id_destino     nombre  cantidad_lotes\n",
       "0           1  Destino 1               3\n",
       "1           2  Destino 2               1"
      ]
     },
     "execution_count": 63,
     "metadata": {
      "tags": []
     },
     "output_type": "execute_result"
    }
   ],
   "source": [
    "cantidad_lotes_esenciales"
   ]
  },
  {
   "cell_type": "code",
   "execution_count": 64,
   "metadata": {
    "colab": {
     "base_uri": "https://localhost:8080/",
     "height": 80
    },
    "executionInfo": {
     "elapsed": 1332,
     "status": "ok",
     "timestamp": 1618873388270,
     "user": {
      "displayName": "Martin Ramos Mejía",
      "photoUrl": "https://lh3.googleusercontent.com/a-/AOh14GgbpDnPjShOpPH8-P0a8AIZrUcpSYNQwHsEfsDQ8w=s64",
      "userId": "08591007000103530707"
     },
     "user_tz": 180
    },
    "id": "odhhXnFUXvkV",
    "outputId": "5fe2866f-4636-45dd-932f-2840e0deabcd"
   },
   "outputs": [
    {
     "data": {
      "text/html": [
       "<div>\n",
       "<style scoped>\n",
       "    .dataframe tbody tr th:only-of-type {\n",
       "        vertical-align: middle;\n",
       "    }\n",
       "\n",
       "    .dataframe tbody tr th {\n",
       "        vertical-align: top;\n",
       "    }\n",
       "\n",
       "    .dataframe thead th {\n",
       "        text-align: right;\n",
       "    }\n",
       "</style>\n",
       "<table border=\"1\" class=\"dataframe\">\n",
       "  <thead>\n",
       "    <tr style=\"text-align: right;\">\n",
       "      <th></th>\n",
       "      <th>id_destino</th>\n",
       "      <th>nombre</th>\n",
       "      <th>cantidad_lotes</th>\n",
       "    </tr>\n",
       "  </thead>\n",
       "  <tbody>\n",
       "    <tr>\n",
       "      <th>0</th>\n",
       "      <td>1</td>\n",
       "      <td>Destino 1</td>\n",
       "      <td>3</td>\n",
       "    </tr>\n",
       "  </tbody>\n",
       "</table>\n",
       "</div>"
      ],
      "text/plain": [
       "   id_destino     nombre  cantidad_lotes\n",
       "0           1  Destino 1               3"
      ]
     },
     "execution_count": 64,
     "metadata": {
      "tags": []
     },
     "output_type": "execute_result"
    }
   ],
   "source": [
    "cantidad_lotes_esenciales.nlargest(1,'cantidad_lotes')"
   ]
  },
  {
   "cell_type": "markdown",
   "metadata": {
    "id": "yM3vILcKYCHB"
   },
   "source": [
    "\n",
    "b) Listar el resumen del plan de entregas para la transportadora del dia de hoy.\n",
    "\n",
    "Este debe tener el siguiente formato \n",
    "```(fecha_programada_entrega, nombre_destino, cantidad_de_lotes_a_entregar).```\n",
    "\n",
    "A su vez debe estar ordenado de tal forma que primero estén listados aquellos destinos que son de atención crítica."
   ]
  },
  {
   "cell_type": "code",
   "execution_count": 65,
   "metadata": {
    "executionInfo": {
     "elapsed": 695,
     "status": "ok",
     "timestamp": 1618873615988,
     "user": {
      "displayName": "Martin Ramos Mejía",
      "photoUrl": "https://lh3.googleusercontent.com/a-/AOh14GgbpDnPjShOpPH8-P0a8AIZrUcpSYNQwHsEfsDQ8w=s64",
      "userId": "08591007000103530707"
     },
     "user_tz": 180
    },
    "id": "OO7VY2rUX4di"
   },
   "outputs": [],
   "source": [
    "hoy = pd.to_datetime('2020-09-01')"
   ]
  },
  {
   "cell_type": "code",
   "execution_count": 66,
   "metadata": {
    "executionInfo": {
     "elapsed": 772,
     "status": "ok",
     "timestamp": 1618873659716,
     "user": {
      "displayName": "Martin Ramos Mejía",
      "photoUrl": "https://lh3.googleusercontent.com/a-/AOh14GgbpDnPjShOpPH8-P0a8AIZrUcpSYNQwHsEfsDQ8w=s64",
      "userId": "08591007000103530707"
     },
     "user_tz": 180
    },
    "id": "kSVBLeXVYwN0"
   },
   "outputs": [],
   "source": [
    "df_lote['fecha_programada_entrega'] = pd.to_datetime(df_lote['fecha_programada_entrega'])"
   ]
  },
  {
   "cell_type": "code",
   "execution_count": 67,
   "metadata": {
    "colab": {
     "base_uri": "https://localhost:8080/"
    },
    "executionInfo": {
     "elapsed": 723,
     "status": "ok",
     "timestamp": 1618873672880,
     "user": {
      "displayName": "Martin Ramos Mejía",
      "photoUrl": "https://lh3.googleusercontent.com/a-/AOh14GgbpDnPjShOpPH8-P0a8AIZrUcpSYNQwHsEfsDQ8w=s64",
      "userId": "08591007000103530707"
     },
     "user_tz": 180
    },
    "id": "VX2Igom6Y63o",
    "outputId": "dbfa4f6a-924f-4d60-feec-1cffbc9d5990"
   },
   "outputs": [
    {
     "name": "stdout",
     "output_type": "stream",
     "text": [
      "<class 'pandas.core.frame.DataFrame'>\n",
      "RangeIndex: 15 entries, 0 to 14\n",
      "Data columns (total 8 columns):\n",
      " #   Column                       Non-Null Count  Dtype         \n",
      "---  ------                       --------------  -----         \n",
      " 0   id_lote                      15 non-null     int64         \n",
      " 1   fecha_programada_entrega     15 non-null     datetime64[ns]\n",
      " 2   id_destino                   15 non-null     int64         \n",
      " 3   descripcion                  15 non-null     object        \n",
      " 4   id_categoria_insumo          15 non-null     int64         \n",
      " 5   cantidad_de_unidades_insumo  15 non-null     int64         \n",
      " 6   anio                         15 non-null     int64         \n",
      " 7   mes                          15 non-null     int64         \n",
      "dtypes: datetime64[ns](1), int64(6), object(1)\n",
      "memory usage: 1.1+ KB\n"
     ]
    }
   ],
   "source": [
    "df_lote.info()\n"
   ]
  },
  {
   "cell_type": "code",
   "execution_count": 75,
   "metadata": {
    "executionInfo": {
     "elapsed": 690,
     "status": "ok",
     "timestamp": 1618874234920,
     "user": {
      "displayName": "Martin Ramos Mejía",
      "photoUrl": "https://lh3.googleusercontent.com/a-/AOh14GgbpDnPjShOpPH8-P0a8AIZrUcpSYNQwHsEfsDQ8w=s64",
      "userId": "08591007000103530707"
     },
     "user_tz": 180
    },
    "id": "iAWp2aLWY-Gr"
   },
   "outputs": [],
   "source": [
    "lotes_hoy = df_lote.loc[df_lote['fecha_programada_entrega'] == hoy,['fecha_programada_entrega', 'id_destino']]"
   ]
  },
  {
   "cell_type": "code",
   "execution_count": 76,
   "metadata": {
    "colab": {
     "base_uri": "https://localhost:8080/",
     "height": 237
    },
    "executionInfo": {
     "elapsed": 913,
     "status": "ok",
     "timestamp": 1618874242766,
     "user": {
      "displayName": "Martin Ramos Mejía",
      "photoUrl": "https://lh3.googleusercontent.com/a-/AOh14GgbpDnPjShOpPH8-P0a8AIZrUcpSYNQwHsEfsDQ8w=s64",
      "userId": "08591007000103530707"
     },
     "user_tz": 180
    },
    "id": "xXMUh15GbIYj",
    "outputId": "5de53581-8c87-41ed-f75a-a1c449fccd71"
   },
   "outputs": [
    {
     "data": {
      "text/html": [
       "<div>\n",
       "<style scoped>\n",
       "    .dataframe tbody tr th:only-of-type {\n",
       "        vertical-align: middle;\n",
       "    }\n",
       "\n",
       "    .dataframe tbody tr th {\n",
       "        vertical-align: top;\n",
       "    }\n",
       "\n",
       "    .dataframe thead th {\n",
       "        text-align: right;\n",
       "    }\n",
       "</style>\n",
       "<table border=\"1\" class=\"dataframe\">\n",
       "  <thead>\n",
       "    <tr style=\"text-align: right;\">\n",
       "      <th></th>\n",
       "      <th>fecha_programada_entrega</th>\n",
       "      <th>id_destino</th>\n",
       "    </tr>\n",
       "  </thead>\n",
       "  <tbody>\n",
       "    <tr>\n",
       "      <th>1</th>\n",
       "      <td>2020-09-01</td>\n",
       "      <td>1</td>\n",
       "    </tr>\n",
       "    <tr>\n",
       "      <th>2</th>\n",
       "      <td>2020-09-01</td>\n",
       "      <td>1</td>\n",
       "    </tr>\n",
       "    <tr>\n",
       "      <th>4</th>\n",
       "      <td>2020-09-01</td>\n",
       "      <td>1</td>\n",
       "    </tr>\n",
       "    <tr>\n",
       "      <th>6</th>\n",
       "      <td>2020-09-01</td>\n",
       "      <td>6</td>\n",
       "    </tr>\n",
       "    <tr>\n",
       "      <th>7</th>\n",
       "      <td>2020-09-01</td>\n",
       "      <td>6</td>\n",
       "    </tr>\n",
       "    <tr>\n",
       "      <th>11</th>\n",
       "      <td>2020-09-01</td>\n",
       "      <td>2</td>\n",
       "    </tr>\n",
       "  </tbody>\n",
       "</table>\n",
       "</div>"
      ],
      "text/plain": [
       "   fecha_programada_entrega  id_destino\n",
       "1                2020-09-01           1\n",
       "2                2020-09-01           1\n",
       "4                2020-09-01           1\n",
       "6                2020-09-01           6\n",
       "7                2020-09-01           6\n",
       "11               2020-09-01           2"
      ]
     },
     "execution_count": 76,
     "metadata": {
      "tags": []
     },
     "output_type": "execute_result"
    }
   ],
   "source": [
    "lotes_hoy"
   ]
  },
  {
   "cell_type": "code",
   "execution_count": 72,
   "metadata": {
    "executionInfo": {
     "elapsed": 729,
     "status": "ok",
     "timestamp": 1618874112774,
     "user": {
      "displayName": "Martin Ramos Mejía",
      "photoUrl": "https://lh3.googleusercontent.com/a-/AOh14GgbpDnPjShOpPH8-P0a8AIZrUcpSYNQwHsEfsDQ8w=s64",
      "userId": "08591007000103530707"
     },
     "user_tz": 180
    },
    "id": "9iaEG13MaHa1"
   },
   "outputs": [],
   "source": [
    "destinos = df_destinos.loc[:,['id_destino','nombre','atencion_critica']]"
   ]
  },
  {
   "cell_type": "code",
   "execution_count": 73,
   "metadata": {
    "colab": {
     "base_uri": "https://localhost:8080/",
     "height": 519
    },
    "executionInfo": {
     "elapsed": 704,
     "status": "ok",
     "timestamp": 1618874119755,
     "user": {
      "displayName": "Martin Ramos Mejía",
      "photoUrl": "https://lh3.googleusercontent.com/a-/AOh14GgbpDnPjShOpPH8-P0a8AIZrUcpSYNQwHsEfsDQ8w=s64",
      "userId": "08591007000103530707"
     },
     "user_tz": 180
    },
    "id": "5bsKiYPlapfb",
    "outputId": "ba623558-0726-4e63-8300-59106636d007"
   },
   "outputs": [
    {
     "data": {
      "text/html": [
       "<div>\n",
       "<style scoped>\n",
       "    .dataframe tbody tr th:only-of-type {\n",
       "        vertical-align: middle;\n",
       "    }\n",
       "\n",
       "    .dataframe tbody tr th {\n",
       "        vertical-align: top;\n",
       "    }\n",
       "\n",
       "    .dataframe thead th {\n",
       "        text-align: right;\n",
       "    }\n",
       "</style>\n",
       "<table border=\"1\" class=\"dataframe\">\n",
       "  <thead>\n",
       "    <tr style=\"text-align: right;\">\n",
       "      <th></th>\n",
       "      <th>id_destino</th>\n",
       "      <th>nombre</th>\n",
       "      <th>atencion_critica</th>\n",
       "    </tr>\n",
       "  </thead>\n",
       "  <tbody>\n",
       "    <tr>\n",
       "      <th>0</th>\n",
       "      <td>1</td>\n",
       "      <td>Destino 1</td>\n",
       "      <td>1</td>\n",
       "    </tr>\n",
       "    <tr>\n",
       "      <th>1</th>\n",
       "      <td>2</td>\n",
       "      <td>Destino 2</td>\n",
       "      <td>1</td>\n",
       "    </tr>\n",
       "    <tr>\n",
       "      <th>2</th>\n",
       "      <td>3</td>\n",
       "      <td>Destino 3</td>\n",
       "      <td>1</td>\n",
       "    </tr>\n",
       "    <tr>\n",
       "      <th>3</th>\n",
       "      <td>4</td>\n",
       "      <td>Destino 4</td>\n",
       "      <td>1</td>\n",
       "    </tr>\n",
       "    <tr>\n",
       "      <th>4</th>\n",
       "      <td>5</td>\n",
       "      <td>Destino 5</td>\n",
       "      <td>1</td>\n",
       "    </tr>\n",
       "    <tr>\n",
       "      <th>5</th>\n",
       "      <td>6</td>\n",
       "      <td>Destino 6</td>\n",
       "      <td>0</td>\n",
       "    </tr>\n",
       "    <tr>\n",
       "      <th>6</th>\n",
       "      <td>7</td>\n",
       "      <td>Destino 7</td>\n",
       "      <td>0</td>\n",
       "    </tr>\n",
       "    <tr>\n",
       "      <th>7</th>\n",
       "      <td>8</td>\n",
       "      <td>Destino 8</td>\n",
       "      <td>0</td>\n",
       "    </tr>\n",
       "    <tr>\n",
       "      <th>8</th>\n",
       "      <td>9</td>\n",
       "      <td>Destino 9</td>\n",
       "      <td>0</td>\n",
       "    </tr>\n",
       "    <tr>\n",
       "      <th>9</th>\n",
       "      <td>10</td>\n",
       "      <td>Destino 10</td>\n",
       "      <td>0</td>\n",
       "    </tr>\n",
       "    <tr>\n",
       "      <th>10</th>\n",
       "      <td>11</td>\n",
       "      <td>Destino 11</td>\n",
       "      <td>0</td>\n",
       "    </tr>\n",
       "    <tr>\n",
       "      <th>11</th>\n",
       "      <td>12</td>\n",
       "      <td>Destino 12</td>\n",
       "      <td>0</td>\n",
       "    </tr>\n",
       "    <tr>\n",
       "      <th>12</th>\n",
       "      <td>13</td>\n",
       "      <td>Destino 13</td>\n",
       "      <td>0</td>\n",
       "    </tr>\n",
       "    <tr>\n",
       "      <th>13</th>\n",
       "      <td>14</td>\n",
       "      <td>Destino 14</td>\n",
       "      <td>0</td>\n",
       "    </tr>\n",
       "    <tr>\n",
       "      <th>14</th>\n",
       "      <td>15</td>\n",
       "      <td>Destino 15</td>\n",
       "      <td>0</td>\n",
       "    </tr>\n",
       "  </tbody>\n",
       "</table>\n",
       "</div>"
      ],
      "text/plain": [
       "    id_destino      nombre  atencion_critica\n",
       "0            1   Destino 1                 1\n",
       "1            2   Destino 2                 1\n",
       "2            3   Destino 3                 1\n",
       "3            4   Destino 4                 1\n",
       "4            5   Destino 5                 1\n",
       "5            6   Destino 6                 0\n",
       "6            7   Destino 7                 0\n",
       "7            8   Destino 8                 0\n",
       "8            9   Destino 9                 0\n",
       "9           10  Destino 10                 0\n",
       "10          11  Destino 11                 0\n",
       "11          12  Destino 12                 0\n",
       "12          13  Destino 13                 0\n",
       "13          14  Destino 14                 0\n",
       "14          15  Destino 15                 0"
      ]
     },
     "execution_count": 73,
     "metadata": {
      "tags": []
     },
     "output_type": "execute_result"
    }
   ],
   "source": [
    "destinos"
   ]
  },
  {
   "cell_type": "code",
   "execution_count": 78,
   "metadata": {
    "executionInfo": {
     "elapsed": 683,
     "status": "ok",
     "timestamp": 1618874262779,
     "user": {
      "displayName": "Martin Ramos Mejía",
      "photoUrl": "https://lh3.googleusercontent.com/a-/AOh14GgbpDnPjShOpPH8-P0a8AIZrUcpSYNQwHsEfsDQ8w=s64",
      "userId": "08591007000103530707"
     },
     "user_tz": 180
    },
    "id": "x026OawcarNQ"
   },
   "outputs": [],
   "source": [
    "lotes_hoy_con_destino = lotes_hoy.merge(destinos, how='left')"
   ]
  },
  {
   "cell_type": "code",
   "execution_count": 79,
   "metadata": {
    "colab": {
     "base_uri": "https://localhost:8080/",
     "height": 237
    },
    "executionInfo": {
     "elapsed": 743,
     "status": "ok",
     "timestamp": 1618874266205,
     "user": {
      "displayName": "Martin Ramos Mejía",
      "photoUrl": "https://lh3.googleusercontent.com/a-/AOh14GgbpDnPjShOpPH8-P0a8AIZrUcpSYNQwHsEfsDQ8w=s64",
      "userId": "08591007000103530707"
     },
     "user_tz": 180
    },
    "id": "j1SPHgEqbDUb",
    "outputId": "7db9969f-b04f-47ad-df50-e4b19184573c"
   },
   "outputs": [
    {
     "data": {
      "text/html": [
       "<div>\n",
       "<style scoped>\n",
       "    .dataframe tbody tr th:only-of-type {\n",
       "        vertical-align: middle;\n",
       "    }\n",
       "\n",
       "    .dataframe tbody tr th {\n",
       "        vertical-align: top;\n",
       "    }\n",
       "\n",
       "    .dataframe thead th {\n",
       "        text-align: right;\n",
       "    }\n",
       "</style>\n",
       "<table border=\"1\" class=\"dataframe\">\n",
       "  <thead>\n",
       "    <tr style=\"text-align: right;\">\n",
       "      <th></th>\n",
       "      <th>fecha_programada_entrega</th>\n",
       "      <th>id_destino</th>\n",
       "      <th>nombre</th>\n",
       "      <th>atencion_critica</th>\n",
       "    </tr>\n",
       "  </thead>\n",
       "  <tbody>\n",
       "    <tr>\n",
       "      <th>0</th>\n",
       "      <td>2020-09-01</td>\n",
       "      <td>1</td>\n",
       "      <td>Destino 1</td>\n",
       "      <td>1</td>\n",
       "    </tr>\n",
       "    <tr>\n",
       "      <th>1</th>\n",
       "      <td>2020-09-01</td>\n",
       "      <td>1</td>\n",
       "      <td>Destino 1</td>\n",
       "      <td>1</td>\n",
       "    </tr>\n",
       "    <tr>\n",
       "      <th>2</th>\n",
       "      <td>2020-09-01</td>\n",
       "      <td>1</td>\n",
       "      <td>Destino 1</td>\n",
       "      <td>1</td>\n",
       "    </tr>\n",
       "    <tr>\n",
       "      <th>3</th>\n",
       "      <td>2020-09-01</td>\n",
       "      <td>6</td>\n",
       "      <td>Destino 6</td>\n",
       "      <td>0</td>\n",
       "    </tr>\n",
       "    <tr>\n",
       "      <th>4</th>\n",
       "      <td>2020-09-01</td>\n",
       "      <td>6</td>\n",
       "      <td>Destino 6</td>\n",
       "      <td>0</td>\n",
       "    </tr>\n",
       "    <tr>\n",
       "      <th>5</th>\n",
       "      <td>2020-09-01</td>\n",
       "      <td>2</td>\n",
       "      <td>Destino 2</td>\n",
       "      <td>1</td>\n",
       "    </tr>\n",
       "  </tbody>\n",
       "</table>\n",
       "</div>"
      ],
      "text/plain": [
       "  fecha_programada_entrega  id_destino     nombre  atencion_critica\n",
       "0               2020-09-01           1  Destino 1                 1\n",
       "1               2020-09-01           1  Destino 1                 1\n",
       "2               2020-09-01           1  Destino 1                 1\n",
       "3               2020-09-01           6  Destino 6                 0\n",
       "4               2020-09-01           6  Destino 6                 0\n",
       "5               2020-09-01           2  Destino 2                 1"
      ]
     },
     "execution_count": 79,
     "metadata": {
      "tags": []
     },
     "output_type": "execute_result"
    }
   ],
   "source": [
    "lotes_hoy_con_destino"
   ]
  },
  {
   "cell_type": "code",
   "execution_count": 83,
   "metadata": {
    "executionInfo": {
     "elapsed": 767,
     "status": "ok",
     "timestamp": 1618874702783,
     "user": {
      "displayName": "Martin Ramos Mejía",
      "photoUrl": "https://lh3.googleusercontent.com/a-/AOh14GgbpDnPjShOpPH8-P0a8AIZrUcpSYNQwHsEfsDQ8w=s64",
      "userId": "08591007000103530707"
     },
     "user_tz": 180
    },
    "id": "S-SDfpHjc0BP"
   },
   "outputs": [],
   "source": [
    "lotes_hoy_con_destino['cantidad_de_lotes_a_entregar'] = 1"
   ]
  },
  {
   "cell_type": "code",
   "execution_count": 86,
   "metadata": {
    "executionInfo": {
     "elapsed": 702,
     "status": "ok",
     "timestamp": 1618874769648,
     "user": {
      "displayName": "Martin Ramos Mejía",
      "photoUrl": "https://lh3.googleusercontent.com/a-/AOh14GgbpDnPjShOpPH8-P0a8AIZrUcpSYNQwHsEfsDQ8w=s64",
      "userId": "08591007000103530707"
     },
     "user_tz": 180
    },
    "id": "6-z5VdJMbO85"
   },
   "outputs": [],
   "source": [
    "lotes_hoy_con_destino = lotes_hoy_con_destino.groupby(['fecha_programada_entrega', 'id_destino', 'nombre', 'atencion_critica']).count().reset_index()"
   ]
  },
  {
   "cell_type": "code",
   "execution_count": 88,
   "metadata": {
    "executionInfo": {
     "elapsed": 741,
     "status": "ok",
     "timestamp": 1618874861508,
     "user": {
      "displayName": "Martin Ramos Mejía",
      "photoUrl": "https://lh3.googleusercontent.com/a-/AOh14GgbpDnPjShOpPH8-P0a8AIZrUcpSYNQwHsEfsDQ8w=s64",
      "userId": "08591007000103530707"
     },
     "user_tz": 180
    },
    "id": "Z8kHbC3acf7z"
   },
   "outputs": [],
   "source": [
    "lotes_hoy_con_destino = lotes_hoy_con_destino.sort_values('atencion_critica',ascending=False)"
   ]
  },
  {
   "cell_type": "code",
   "execution_count": 89,
   "metadata": {
    "colab": {
     "base_uri": "https://localhost:8080/",
     "height": 143
    },
    "executionInfo": {
     "elapsed": 654,
     "status": "ok",
     "timestamp": 1618874864683,
     "user": {
      "displayName": "Martin Ramos Mejía",
      "photoUrl": "https://lh3.googleusercontent.com/a-/AOh14GgbpDnPjShOpPH8-P0a8AIZrUcpSYNQwHsEfsDQ8w=s64",
      "userId": "08591007000103530707"
     },
     "user_tz": 180
    },
    "id": "SNzMIjDfdUQF",
    "outputId": "a83db09b-1004-4e71-e2dd-aecf8b836007"
   },
   "outputs": [
    {
     "data": {
      "text/html": [
       "<div>\n",
       "<style scoped>\n",
       "    .dataframe tbody tr th:only-of-type {\n",
       "        vertical-align: middle;\n",
       "    }\n",
       "\n",
       "    .dataframe tbody tr th {\n",
       "        vertical-align: top;\n",
       "    }\n",
       "\n",
       "    .dataframe thead th {\n",
       "        text-align: right;\n",
       "    }\n",
       "</style>\n",
       "<table border=\"1\" class=\"dataframe\">\n",
       "  <thead>\n",
       "    <tr style=\"text-align: right;\">\n",
       "      <th></th>\n",
       "      <th>fecha_programada_entrega</th>\n",
       "      <th>id_destino</th>\n",
       "      <th>nombre</th>\n",
       "      <th>atencion_critica</th>\n",
       "      <th>cantidad_de_lotes_a_entregar</th>\n",
       "    </tr>\n",
       "  </thead>\n",
       "  <tbody>\n",
       "    <tr>\n",
       "      <th>0</th>\n",
       "      <td>2020-09-01</td>\n",
       "      <td>1</td>\n",
       "      <td>Destino 1</td>\n",
       "      <td>1</td>\n",
       "      <td>3</td>\n",
       "    </tr>\n",
       "    <tr>\n",
       "      <th>1</th>\n",
       "      <td>2020-09-01</td>\n",
       "      <td>2</td>\n",
       "      <td>Destino 2</td>\n",
       "      <td>1</td>\n",
       "      <td>1</td>\n",
       "    </tr>\n",
       "    <tr>\n",
       "      <th>2</th>\n",
       "      <td>2020-09-01</td>\n",
       "      <td>6</td>\n",
       "      <td>Destino 6</td>\n",
       "      <td>0</td>\n",
       "      <td>2</td>\n",
       "    </tr>\n",
       "  </tbody>\n",
       "</table>\n",
       "</div>"
      ],
      "text/plain": [
       "  fecha_programada_entrega  ...  cantidad_de_lotes_a_entregar\n",
       "0               2020-09-01  ...                             3\n",
       "1               2020-09-01  ...                             1\n",
       "2               2020-09-01  ...                             2\n",
       "\n",
       "[3 rows x 5 columns]"
      ]
     },
     "execution_count": 89,
     "metadata": {
      "tags": []
     },
     "output_type": "execute_result"
    }
   ],
   "source": [
    "lotes_hoy_con_destino"
   ]
  },
  {
   "cell_type": "code",
   "execution_count": 92,
   "metadata": {
    "executionInfo": {
     "elapsed": 710,
     "status": "ok",
     "timestamp": 1618874941514,
     "user": {
      "displayName": "Martin Ramos Mejía",
      "photoUrl": "https://lh3.googleusercontent.com/a-/AOh14GgbpDnPjShOpPH8-P0a8AIZrUcpSYNQwHsEfsDQ8w=s64",
      "userId": "08591007000103530707"
     },
     "user_tz": 180
    },
    "id": "Zgtk_sx2dh24"
   },
   "outputs": [],
   "source": [
    "resultado_final = lotes_hoy_con_destino.rename(columns={'nombre':'nombre_destino'}).loc[:, ['fecha_programada_entrega','nombre_destino','cantidad_de_lotes_a_entregar']]"
   ]
  },
  {
   "cell_type": "code",
   "execution_count": 93,
   "metadata": {
    "colab": {
     "base_uri": "https://localhost:8080/",
     "height": 143
    },
    "executionInfo": {
     "elapsed": 686,
     "status": "ok",
     "timestamp": 1618874944310,
     "user": {
      "displayName": "Martin Ramos Mejía",
      "photoUrl": "https://lh3.googleusercontent.com/a-/AOh14GgbpDnPjShOpPH8-P0a8AIZrUcpSYNQwHsEfsDQ8w=s64",
      "userId": "08591007000103530707"
     },
     "user_tz": 180
    },
    "id": "G7UxDO-XdhFG",
    "outputId": "ff4a21d0-ebd7-4f44-a41e-9f507116bd06"
   },
   "outputs": [
    {
     "data": {
      "text/html": [
       "<div>\n",
       "<style scoped>\n",
       "    .dataframe tbody tr th:only-of-type {\n",
       "        vertical-align: middle;\n",
       "    }\n",
       "\n",
       "    .dataframe tbody tr th {\n",
       "        vertical-align: top;\n",
       "    }\n",
       "\n",
       "    .dataframe thead th {\n",
       "        text-align: right;\n",
       "    }\n",
       "</style>\n",
       "<table border=\"1\" class=\"dataframe\">\n",
       "  <thead>\n",
       "    <tr style=\"text-align: right;\">\n",
       "      <th></th>\n",
       "      <th>fecha_programada_entrega</th>\n",
       "      <th>nombre_destino</th>\n",
       "      <th>cantidad_de_lotes_a_entregar</th>\n",
       "    </tr>\n",
       "  </thead>\n",
       "  <tbody>\n",
       "    <tr>\n",
       "      <th>0</th>\n",
       "      <td>2020-09-01</td>\n",
       "      <td>Destino 1</td>\n",
       "      <td>3</td>\n",
       "    </tr>\n",
       "    <tr>\n",
       "      <th>1</th>\n",
       "      <td>2020-09-01</td>\n",
       "      <td>Destino 2</td>\n",
       "      <td>1</td>\n",
       "    </tr>\n",
       "    <tr>\n",
       "      <th>2</th>\n",
       "      <td>2020-09-01</td>\n",
       "      <td>Destino 6</td>\n",
       "      <td>2</td>\n",
       "    </tr>\n",
       "  </tbody>\n",
       "</table>\n",
       "</div>"
      ],
      "text/plain": [
       "  fecha_programada_entrega nombre_destino  cantidad_de_lotes_a_entregar\n",
       "0               2020-09-01      Destino 1                             3\n",
       "1               2020-09-01      Destino 2                             1\n",
       "2               2020-09-01      Destino 6                             2"
      ]
     },
     "execution_count": 93,
     "metadata": {
      "tags": []
     },
     "output_type": "execute_result"
    }
   ],
   "source": [
    "resultado_final"
   ]
  },
  {
   "cell_type": "code",
   "execution_count": null,
   "metadata": {
    "id": "Ywc2VgqPd0g4"
   },
   "outputs": [],
   "source": []
  }
 ],
 "metadata": {
  "colab": {
   "collapsed_sections": [],
   "name": "2-2C2020-class.ipynb",
   "provenance": []
  },
  "kernelspec": {
   "display_name": "Python 3",
   "language": "python",
   "name": "python3"
  },
  "language_info": {
   "codemirror_mode": {
    "name": "ipython",
    "version": 3
   },
   "file_extension": ".py",
   "mimetype": "text/x-python",
   "name": "python",
   "nbconvert_exporter": "python",
   "pygments_lexer": "ipython3",
   "version": "3.9.1"
  }
 },
 "nbformat": 4,
 "nbformat_minor": 4
}

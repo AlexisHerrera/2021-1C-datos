{
 "cells": [
  {
   "cell_type": "markdown",
   "metadata": {
    "id": "n62GQVf56Gd0"
   },
   "source": [
    "# Instalacion de Dependencias\n",
    "\n"
   ]
  },
  {
   "cell_type": "code",
   "execution_count": null,
   "metadata": {
    "colab": {
     "base_uri": "https://localhost:8080/"
    },
    "id": "MJZdW4LE6DZs",
    "outputId": "6d5067b9-6749-459f-f5e8-f1d10ac49831"
   },
   "outputs": [
    {
     "name": "stdout",
     "output_type": "stream",
     "text": [
      "Collecting pyspark\n",
      "\u001b[?25l  Downloading https://files.pythonhosted.org/packages/45/b0/9d6860891ab14a39d4bddf80ba26ce51c2f9dc4805e5c6978ac0472c120a/pyspark-3.1.1.tar.gz (212.3MB)\n",
      "\u001b[K     |████████████████████████████████| 212.3MB 72kB/s \n",
      "\u001b[?25hCollecting py4j==0.10.9\n",
      "\u001b[?25l  Downloading https://files.pythonhosted.org/packages/9e/b6/6a4fb90cd235dc8e265a6a2067f2a2c99f0d91787f06aca4bcf7c23f3f80/py4j-0.10.9-py2.py3-none-any.whl (198kB)\n",
      "\u001b[K     |████████████████████████████████| 204kB 33.4MB/s \n",
      "\u001b[?25hBuilding wheels for collected packages: pyspark\n",
      "  Building wheel for pyspark (setup.py) ... \u001b[?25l\u001b[?25hdone\n",
      "  Created wheel for pyspark: filename=pyspark-3.1.1-py2.py3-none-any.whl size=212767604 sha256=1a0cb6e981bf6c7a1aa1857e2425190b232f7051e07e791e90f3d6c5c1976d00\n",
      "  Stored in directory: /root/.cache/pip/wheels/0b/90/c0/01de724414ef122bd05f056541fb6a0ecf47c7ca655f8b3c0f\n",
      "Successfully built pyspark\n",
      "Installing collected packages: py4j, pyspark\n",
      "Successfully installed py4j-0.10.9 pyspark-3.1.1\n",
      "Get:1 https://cloud.r-project.org/bin/linux/ubuntu bionic-cran40/ InRelease [3,626 B]\n",
      "Ign:2 https://developer.download.nvidia.com/compute/cuda/repos/ubuntu1804/x86_64  InRelease\n",
      "Get:3 http://security.ubuntu.com/ubuntu bionic-security InRelease [88.7 kB]\n",
      "Get:4 http://ppa.launchpad.net/c2d4u.team/c2d4u4.0+/ubuntu bionic InRelease [15.9 kB]\n",
      "Hit:5 http://archive.ubuntu.com/ubuntu bionic InRelease\n",
      "Ign:6 https://developer.download.nvidia.com/compute/machine-learning/repos/ubuntu1804/x86_64  InRelease\n",
      "Get:7 https://developer.download.nvidia.com/compute/cuda/repos/ubuntu1804/x86_64  Release [697 B]\n",
      "Hit:8 https://developer.download.nvidia.com/compute/machine-learning/repos/ubuntu1804/x86_64  Release\n",
      "Get:9 https://developer.download.nvidia.com/compute/cuda/repos/ubuntu1804/x86_64  Release.gpg [836 B]\n",
      "Get:10 http://archive.ubuntu.com/ubuntu bionic-updates InRelease [88.7 kB]\n",
      "Get:11 https://cloud.r-project.org/bin/linux/ubuntu bionic-cran40/ Packages [53.9 kB]\n",
      "Hit:12 http://ppa.launchpad.net/cran/libgit2/ubuntu bionic InRelease\n",
      "Get:13 http://archive.ubuntu.com/ubuntu bionic-backports InRelease [74.6 kB]\n",
      "Get:14 http://ppa.launchpad.net/deadsnakes/ppa/ubuntu bionic InRelease [15.9 kB]\n",
      "Get:16 http://ppa.launchpad.net/graphics-drivers/ppa/ubuntu bionic InRelease [21.3 kB]\n",
      "Ign:17 https://developer.download.nvidia.com/compute/cuda/repos/ubuntu1804/x86_64  Packages\n",
      "Get:17 https://developer.download.nvidia.com/compute/cuda/repos/ubuntu1804/x86_64  Packages [770 kB]\n",
      "Get:18 http://security.ubuntu.com/ubuntu bionic-security/multiverse amd64 Packages [24.7 kB]\n",
      "Get:19 http://security.ubuntu.com/ubuntu bionic-security/universe amd64 Packages [1,410 kB]\n",
      "Get:20 http://security.ubuntu.com/ubuntu bionic-security/restricted amd64 Packages [399 kB]\n",
      "Get:21 http://security.ubuntu.com/ubuntu bionic-security/main amd64 Packages [2,119 kB]\n",
      "Get:22 http://ppa.launchpad.net/c2d4u.team/c2d4u4.0+/ubuntu bionic/main Sources [1,759 kB]\n",
      "Get:23 http://archive.ubuntu.com/ubuntu bionic-updates/main amd64 Packages [2,550 kB]\n",
      "Get:24 http://ppa.launchpad.net/c2d4u.team/c2d4u4.0+/ubuntu bionic/main amd64 Packages [900 kB]\n",
      "Get:25 http://archive.ubuntu.com/ubuntu bionic-updates/multiverse amd64 Packages [31.6 kB]\n",
      "Get:26 http://archive.ubuntu.com/ubuntu bionic-updates/universe amd64 Packages [2,182 kB]\n",
      "Get:27 http://archive.ubuntu.com/ubuntu bionic-updates/restricted amd64 Packages [429 kB]\n",
      "Get:28 http://ppa.launchpad.net/deadsnakes/ppa/ubuntu bionic/main amd64 Packages [40.8 kB]\n",
      "Get:29 http://ppa.launchpad.net/graphics-drivers/ppa/ubuntu bionic/main amd64 Packages [47.2 kB]\n",
      "Fetched 13.0 MB in 4s (3,125 kB/s)\n",
      "Reading package lists... Done\n",
      "Building dependency tree       \n",
      "Reading state information... Done\n",
      "79 packages can be upgraded. Run 'apt list --upgradable' to see them.\n",
      "The following package was automatically installed and is no longer required:\n",
      "  libnvidia-common-460\n",
      "Use 'apt autoremove' to remove it.\n",
      "The following additional packages will be installed:\n",
      "  openjdk-8-jre-headless\n",
      "Suggested packages:\n",
      "  openjdk-8-demo openjdk-8-source libnss-mdns fonts-dejavu-extra\n",
      "  fonts-ipafont-gothic fonts-ipafont-mincho fonts-wqy-microhei\n",
      "  fonts-wqy-zenhei fonts-indic\n",
      "The following NEW packages will be installed:\n",
      "  openjdk-8-jdk-headless openjdk-8-jre-headless\n",
      "0 upgraded, 2 newly installed, 0 to remove and 79 not upgraded.\n",
      "Need to get 36.5 MB of archives.\n",
      "After this operation, 143 MB of additional disk space will be used.\n",
      "Selecting previously unselected package openjdk-8-jre-headless:amd64.\n",
      "(Reading database ... 160690 files and directories currently installed.)\n",
      "Preparing to unpack .../openjdk-8-jre-headless_8u292-b10-0ubuntu1~18.04_amd64.deb ...\n",
      "Unpacking openjdk-8-jre-headless:amd64 (8u292-b10-0ubuntu1~18.04) ...\n",
      "Selecting previously unselected package openjdk-8-jdk-headless:amd64.\n",
      "Preparing to unpack .../openjdk-8-jdk-headless_8u292-b10-0ubuntu1~18.04_amd64.deb ...\n",
      "Unpacking openjdk-8-jdk-headless:amd64 (8u292-b10-0ubuntu1~18.04) ...\n",
      "Setting up openjdk-8-jre-headless:amd64 (8u292-b10-0ubuntu1~18.04) ...\n",
      "update-alternatives: using /usr/lib/jvm/java-8-openjdk-amd64/jre/bin/orbd to provide /usr/bin/orbd (orbd) in auto mode\n",
      "update-alternatives: using /usr/lib/jvm/java-8-openjdk-amd64/jre/bin/servertool to provide /usr/bin/servertool (servertool) in auto mode\n",
      "update-alternatives: using /usr/lib/jvm/java-8-openjdk-amd64/jre/bin/tnameserv to provide /usr/bin/tnameserv (tnameserv) in auto mode\n",
      "Setting up openjdk-8-jdk-headless:amd64 (8u292-b10-0ubuntu1~18.04) ...\n",
      "update-alternatives: using /usr/lib/jvm/java-8-openjdk-amd64/bin/idlj to provide /usr/bin/idlj (idlj) in auto mode\n",
      "update-alternatives: using /usr/lib/jvm/java-8-openjdk-amd64/bin/wsimport to provide /usr/bin/wsimport (wsimport) in auto mode\n",
      "update-alternatives: using /usr/lib/jvm/java-8-openjdk-amd64/bin/jsadebugd to provide /usr/bin/jsadebugd (jsadebugd) in auto mode\n",
      "update-alternatives: using /usr/lib/jvm/java-8-openjdk-amd64/bin/native2ascii to provide /usr/bin/native2ascii (native2ascii) in auto mode\n",
      "update-alternatives: using /usr/lib/jvm/java-8-openjdk-amd64/bin/javah to provide /usr/bin/javah (javah) in auto mode\n",
      "update-alternatives: using /usr/lib/jvm/java-8-openjdk-amd64/bin/hsdb to provide /usr/bin/hsdb (hsdb) in auto mode\n",
      "update-alternatives: using /usr/lib/jvm/java-8-openjdk-amd64/bin/clhsdb to provide /usr/bin/clhsdb (clhsdb) in auto mode\n",
      "update-alternatives: using /usr/lib/jvm/java-8-openjdk-amd64/bin/extcheck to provide /usr/bin/extcheck (extcheck) in auto mode\n",
      "update-alternatives: using /usr/lib/jvm/java-8-openjdk-amd64/bin/schemagen to provide /usr/bin/schemagen (schemagen) in auto mode\n",
      "update-alternatives: using /usr/lib/jvm/java-8-openjdk-amd64/bin/xjc to provide /usr/bin/xjc (xjc) in auto mode\n",
      "update-alternatives: using /usr/lib/jvm/java-8-openjdk-amd64/bin/jhat to provide /usr/bin/jhat (jhat) in auto mode\n",
      "update-alternatives: using /usr/lib/jvm/java-8-openjdk-amd64/bin/wsgen to provide /usr/bin/wsgen (wsgen) in auto mode\n"
     ]
    }
   ],
   "source": [
    "!pip install pyspark\n",
    "!pip install -U -q PyDrive\n",
    "!apt update\n",
    "!apt install openjdk-8-jdk-headless -qq\n",
    "import os\n",
    "os.environ[\"JAVA_HOME\"] = \"/usr/lib/jvm/java-8-openjdk-amd64\""
   ]
  },
  {
   "cell_type": "markdown",
   "metadata": {
    "id": "FVfZufxE6NDZ"
   },
   "source": [
    "# Creacion del Spark Context"
   ]
  },
  {
   "cell_type": "code",
   "execution_count": null,
   "metadata": {
    "id": "x-xat7r56DGY"
   },
   "outputs": [],
   "source": [
    "from pyspark.sql import *\n",
    "from pyspark.sql.functions import *\n",
    "from pyspark import SparkContext\n",
    "from pyspark.sql import SQLContext\n",
    "\n",
    "spark = SparkSession.builder.getOrCreate()\n",
    "sc = spark.sparkContext"
   ]
  },
  {
   "cell_type": "markdown",
   "metadata": {
    "id": "Jtgk83gr5_NV"
   },
   "source": [
    "## Primer Cuatrimestre de 2018. Examen parcial, tercera oportunidad\n",
    "\n",
    "El GCPD (Gotham City Police Dept) recolecta la información de casos policiales que acontecen en Ciudad Gótica. Esta información se encuentra guardada en un archivo con el siguiente formato: (fecha, id_caso, descripción, estado_caso, categoría, latitud, longitud).\n",
    "\n",
    "Los posibles estados que puede tener un caso son 1: caso abierto, 2: caso resuelto, 3: cerrado sin resolución. Las fechas se encuentran en el formato YYYY-MM-DD. \n",
    "\n",
    "Por otro lado el comisionado Gordon guarda un registro detallado sobre en cuáles casos fue activada la batiseñal para pedir ayuda del vigilante, Batman. Esta información se encuentra en un archivo con el siguiente formato (id_caso, respuesta), siendo campo respuesta si la señal tuvo una respuesta positiva (1) o negativa (0) de parte de él.\n",
    "El sector encargado de las estadísticas oficiales del GCPD quiere analizar las siguientes situaciones:\n",
    "\n",
    "a)  Las categorías que hayan incrementado su tasa de resolución en al menos un 10%  en el último trimestre, con respecto al trimestre anterior.\n",
    "b) Tasa de participación de Batman por categoría, para los delitos contra la propiedad (que enmarcan las categorías incendio intencional, robo, hurto, y robo de vehículos) "
   ]
  },
  {
   "cell_type": "code",
   "execution_count": null,
   "metadata": {
    "id": "hCCffBQr5_NX"
   },
   "outputs": [],
   "source": [
    "# (fecha, id_caso, descripción, estado_caso, categoría, latitud, longitud).\n",
    "cases = [(\"2019-01-01\", 1, \"case 1\", 2, \"otro delito\", -1, -1), \n",
    "         (\"2019-06-01\", 2, \"case 2\", 2, \"robo\", -1, -1),\n",
    "         (\"2019-06-01\", 3, \"case 2\", 3, \"robo\", -1, -1),         \n",
    "         (\"2019-06-01\", 4, \"case 2\", 1, \"robo\", -1, -1),         \n",
    "         (\"2019-06-01\", 5, \"case 2\", 2, \"robo\", -1, -1),\n",
    "         (\"2019-09-01\", 6, \"case 2\", 2, \"robo\", -1, -1),\n",
    "         (\"2019-09-01\", 7, \"case 2\", 2, \"robo\", -1, -1),         \n",
    "         (\"2019-09-01\", 8, \"case 2\", 2, \"robo\", -1, -1),\n",
    "         (\"2019-09-01\", 9, \"case 2\", 2, \"robo\", -1, -1),\n",
    "         (\"2019-09-01\", 10, \"case 2\", 3, \"robo\", -1, -1),\n",
    "         (\"2019-09-01\", 60, \"case 2\", 3, \"robo\", -1, -1),\n",
    "         (\"2019-09-01\", 70, \"case 2\", 3, \"robo\", -1, -1),         \n",
    "         (\"2019-09-01\", 80, \"case 2\", 1, \"robo\", -1, -1),\n",
    "         (\"2019-09-01\", 90, \"case 2\", 2, \"robo\", -1, -1),\n",
    "         (\"2019-09-01\", 100, \"case 2\", 2, \"robo\", -1, -1),\n",
    "         (\"2019-09-01\", 600, \"case 2\", 2, \"robo\", -1, -1),\n",
    "         (\"2019-09-01\", 700, \"case 2\", 3, \"robo\", -1, -1),         \n",
    "         (\"2019-09-01\", 800, \"case 2\", 1, \"robo\", -1, -1),\n",
    "         (\"2019-09-01\", 900, \"case 2\", 1, \"robo\", -1, -1),\n",
    "         (\"2019-09-01\", 1000, \"case 2\", 1, \"robo\", -1, -1),\n",
    "         (\"2019-09-01\", 6000, \"case 2\", 2, \"robo\", -1, -1),\n",
    "         (\"2019-09-01\", 7000, \"case 2\", 2, \"robo\", -1, -1),         \n",
    "         (\"2019-09-01\", 8000, \"case 2\", 3, \"robo\", -1, -1),\n",
    "         (\"2019-09-01\", 9000, \"case 2\", 1, \"robo\", -1, -1),\n",
    "         (\"2019-09-01\", 10000, \"case 2\", 2, \"robo\", -1, -1),\n",
    "         (\"2019-06-01\", 92, \"case 2\", 2, \"hurto\", -1, -1),\n",
    "         (\"2019-06-01\", 93, \"case 2\", 3, \"hurto\", -1, -1),         \n",
    "         (\"2019-06-01\", 94, \"case 2\", 3, \"hurto\", -1, -1),         \n",
    "         (\"2019-06-01\", 95, \"case 2\", 3, \"hurto\", -1, -1),\n",
    "         (\"2019-09-01\", 96, \"case 2\", 2, \"hurto\", -1, -1),\n",
    " \n",
    "        ]\n",
    "\n",
    "# (id_caso, respuesta)\n",
    "batsignal = [(1,1),\n",
    "         (2,1),\n",
    "         (3,0),\n",
    "         (4,0),\n",
    "         (5,1),\n",
    "         (6,0),\n",
    "         (7,1),\n",
    "         (8,0),\n",
    "         (9,1),\n",
    "         (100,1),\n",
    "         (600,0),\n",
    "         (700,1),\n",
    "         (800,0),\n",
    "         (900,1),\n",
    "         (1000,1),\n",
    "         (6000,0),\n",
    "         (7000,1),\n",
    "         (8000,0),\n",
    "         (9000,1),\n",
    "         (10000,1),\n",
    "         (92,0),\n",
    "         (93,0),             \n",
    "         (94,0),\n",
    "         (95,0),             \n",
    "         (96,1)             \n",
    "        ]"
   ]
  },
  {
   "cell_type": "code",
   "execution_count": null,
   "metadata": {
    "id": "WzEvpizW5_NZ"
   },
   "outputs": [],
   "source": [
    "casesRdd = sc.parallelize(cases)\n",
    "batsignalRdd = sc.parallelize(batsignal)"
   ]
  },
  {
   "cell_type": "code",
   "execution_count": null,
   "metadata": {
    "id": "rav3ah-tjDSt"
   },
   "outputs": [],
   "source": [
    "casesFiltered = casesRdd.filter(lambda x: x[0] > '2019-04-00' and x[0] < '2019-10-01' and x[3] != 1)"
   ]
  },
  {
   "cell_type": "code",
   "execution_count": null,
   "metadata": {
    "id": "N5s0Zgq77Ekj"
   },
   "outputs": [],
   "source": [
    "casesByCat = casesFiltered.map(lambda x: ((x[4],1 if x[0] > '2019-07-00' else 0), (1 if x[3]==2 else 0, 1)))"
   ]
  },
  {
   "cell_type": "code",
   "execution_count": null,
   "metadata": {
    "colab": {
     "base_uri": "https://localhost:8080/"
    },
    "id": "z5A42hui8zDu",
    "outputId": "602a6e98-6dd8-4060-edea-a60afec166f1"
   },
   "outputs": [
    {
     "data": {
      "text/plain": [
       "[(('robo', 0), (1, 1)),\n",
       " (('robo', 0), (0, 1)),\n",
       " (('robo', 0), (1, 1)),\n",
       " (('robo', 1), (1, 1)),\n",
       " (('robo', 1), (1, 1)),\n",
       " (('robo', 1), (1, 1)),\n",
       " (('robo', 1), (1, 1)),\n",
       " (('robo', 1), (0, 1)),\n",
       " (('robo', 1), (0, 1)),\n",
       " (('robo', 1), (0, 1)),\n",
       " (('robo', 1), (1, 1)),\n",
       " (('robo', 1), (1, 1)),\n",
       " (('robo', 1), (1, 1)),\n",
       " (('robo', 1), (0, 1)),\n",
       " (('robo', 1), (1, 1)),\n",
       " (('robo', 1), (1, 1)),\n",
       " (('robo', 1), (0, 1)),\n",
       " (('robo', 1), (1, 1)),\n",
       " (('hurto', 0), (1, 1)),\n",
       " (('hurto', 0), (0, 1)),\n",
       " (('hurto', 0), (0, 1)),\n",
       " (('hurto', 0), (0, 1)),\n",
       " (('hurto', 1), (1, 1))]"
      ]
     },
     "execution_count": 14,
     "metadata": {
      "tags": []
     },
     "output_type": "execute_result"
    }
   ],
   "source": [
    "casesByCat.collect()"
   ]
  },
  {
   "cell_type": "code",
   "execution_count": null,
   "metadata": {
    "id": "NhmzZl9v9Mlo"
   },
   "outputs": [],
   "source": [
    "casesByCatSum = casesByCat.reduceByKey(lambda x,y: (x[0]+y[0],x[1]+y[1]))"
   ]
  },
  {
   "cell_type": "code",
   "execution_count": null,
   "metadata": {
    "colab": {
     "base_uri": "https://localhost:8080/"
    },
    "id": "u7re__G-9acr",
    "outputId": "755351ca-cea5-4382-d203-d79546a882fe"
   },
   "outputs": [
    {
     "data": {
      "text/plain": [
       "[(('robo', 1), (10, 15)),\n",
       " (('hurto', 0), (1, 4)),\n",
       " (('robo', 0), (2, 3)),\n",
       " (('hurto', 1), (1, 1))]"
      ]
     },
     "execution_count": 19,
     "metadata": {
      "tags": []
     },
     "output_type": "execute_result"
    }
   ],
   "source": [
    "casesByCatSum.collect()"
   ]
  },
  {
   "cell_type": "code",
   "execution_count": null,
   "metadata": {
    "colab": {
     "base_uri": "https://localhost:8080/"
    },
    "id": "um3qSlnW-M-L",
    "outputId": "19be660a-cc41-4f83-aaf2-299c119ce440"
   },
   "outputs": [
    {
     "data": {
      "text/plain": [
       "[('hurto', [(0, (1, 4)), (1, (1, 1))]), ('robo', [(1, (10, 15)), (0, (2, 3))])]"
      ]
     },
     "execution_count": 21,
     "metadata": {
      "tags": []
     },
     "output_type": "execute_result"
    }
   ],
   "source": [
    "casesByCatSum.map(lambda x: (x[0][0],(x[0][1],x[1]))).groupByKey().map(lambda x:(x[0],list(x[1]))).collect()"
   ]
  },
  {
   "cell_type": "code",
   "execution_count": null,
   "metadata": {
    "id": "dXgUIAJ0_hsT"
   },
   "outputs": [],
   "source": [
    "def aumento(l):\n",
    "  if l[0][0] == 0:\n",
    "    return l[1][1][0] / l[1][1][1] - l[0][1][0] / l[0][1][1] > 0.1\n",
    "  else:\n",
    "    return  l[0][1][0] / l[0][1][1] - l[1][1][0] / l[1][1][1] > 0.1"
   ]
  },
  {
   "cell_type": "code",
   "execution_count": null,
   "metadata": {
    "colab": {
     "base_uri": "https://localhost:8080/"
    },
    "id": "gflqa0eV-Xwi",
    "outputId": "44a8397b-82f1-4b53-e077-c987ae29ed6d"
   },
   "outputs": [
    {
     "data": {
      "text/plain": [
       "['hurto']"
      ]
     },
     "execution_count": 26,
     "metadata": {
      "tags": []
     },
     "output_type": "execute_result"
    }
   ],
   "source": [
    "casesByCatSum.map(lambda x: (x[0][0],(x[0][1],x[1]))).groupByKey().map(lambda x:(x[0],list(x[1])))\\\n",
    ".filter(lambda x: aumento(x[1])).map(lambda x: x[0]).collect()"
   ]
  },
  {
   "cell_type": "markdown",
   "metadata": {
    "id": "NC-1Aj8QBYHF"
   },
   "source": [
    "Punto b"
   ]
  },
  {
   "cell_type": "code",
   "execution_count": null,
   "metadata": {
    "id": "fj3Kq4sQAXgB"
   },
   "outputs": [],
   "source": [
    "casesPropiedad = casesRdd.filter(lambda x: x[4] in ['robo','hurto'])"
   ]
  },
  {
   "cell_type": "code",
   "execution_count": null,
   "metadata": {
    "colab": {
     "base_uri": "https://localhost:8080/"
    },
    "id": "rhykZRe_BhbN",
    "outputId": "9547e83c-9545-4052-e54f-a35c2ff6d37f"
   },
   "outputs": [
    {
     "data": {
      "text/plain": [
       "[('2019-06-01', 2, 'case 2', 2, 'robo', -1, -1),\n",
       " ('2019-06-01', 3, 'case 2', 3, 'robo', -1, -1),\n",
       " ('2019-06-01', 4, 'case 2', 1, 'robo', -1, -1),\n",
       " ('2019-06-01', 5, 'case 2', 2, 'robo', -1, -1),\n",
       " ('2019-09-01', 6, 'case 2', 2, 'robo', -1, -1),\n",
       " ('2019-09-01', 7, 'case 2', 2, 'robo', -1, -1),\n",
       " ('2019-09-01', 8, 'case 2', 2, 'robo', -1, -1),\n",
       " ('2019-09-01', 9, 'case 2', 2, 'robo', -1, -1),\n",
       " ('2019-09-01', 10, 'case 2', 3, 'robo', -1, -1),\n",
       " ('2019-09-01', 60, 'case 2', 3, 'robo', -1, -1),\n",
       " ('2019-09-01', 70, 'case 2', 3, 'robo', -1, -1),\n",
       " ('2019-09-01', 80, 'case 2', 1, 'robo', -1, -1),\n",
       " ('2019-09-01', 90, 'case 2', 2, 'robo', -1, -1),\n",
       " ('2019-09-01', 100, 'case 2', 2, 'robo', -1, -1),\n",
       " ('2019-09-01', 600, 'case 2', 2, 'robo', -1, -1),\n",
       " ('2019-09-01', 700, 'case 2', 3, 'robo', -1, -1),\n",
       " ('2019-09-01', 800, 'case 2', 1, 'robo', -1, -1),\n",
       " ('2019-09-01', 900, 'case 2', 1, 'robo', -1, -1),\n",
       " ('2019-09-01', 1000, 'case 2', 1, 'robo', -1, -1),\n",
       " ('2019-09-01', 6000, 'case 2', 2, 'robo', -1, -1),\n",
       " ('2019-09-01', 7000, 'case 2', 2, 'robo', -1, -1),\n",
       " ('2019-09-01', 8000, 'case 2', 3, 'robo', -1, -1),\n",
       " ('2019-09-01', 9000, 'case 2', 1, 'robo', -1, -1),\n",
       " ('2019-09-01', 10000, 'case 2', 2, 'robo', -1, -1),\n",
       " ('2019-06-01', 92, 'case 2', 2, 'hurto', -1, -1),\n",
       " ('2019-06-01', 93, 'case 2', 3, 'hurto', -1, -1),\n",
       " ('2019-06-01', 94, 'case 2', 3, 'hurto', -1, -1),\n",
       " ('2019-06-01', 95, 'case 2', 3, 'hurto', -1, -1),\n",
       " ('2019-09-01', 96, 'case 2', 2, 'hurto', -1, -1)]"
      ]
     },
     "execution_count": 30,
     "metadata": {
      "tags": []
     },
     "output_type": "execute_result"
    }
   ],
   "source": [
    "casesPropiedad.collect()"
   ]
  },
  {
   "cell_type": "code",
   "execution_count": null,
   "metadata": {
    "id": "l0w6PROtBimz"
   },
   "outputs": [],
   "source": [
    "casesJoinSignal = casesPropiedad.map(lambda x: (x[1],x[4])).leftOuterJoin(batsignalRdd)"
   ]
  },
  {
   "cell_type": "code",
   "execution_count": null,
   "metadata": {
    "colab": {
     "base_uri": "https://localhost:8080/"
    },
    "id": "yNwBlgOyCVdk",
    "outputId": "92aec8f9-c9e1-4261-932e-8583c62d9180"
   },
   "outputs": [
    {
     "data": {
      "text/plain": [
       "[(4, ('robo', 0)),\n",
       " (8, ('robo', 0)),\n",
       " (60, ('robo', None)),\n",
       " (80, ('robo', None)),\n",
       " (100, ('robo', 1)),\n",
       " (600, ('robo', 0)),\n",
       " (700, ('robo', 1)),\n",
       " (800, ('robo', 0)),\n",
       " (900, ('robo', 1)),\n",
       " (1000, ('robo', 1)),\n",
       " (6000, ('robo', 0)),\n",
       " (7000, ('robo', 1)),\n",
       " (8000, ('robo', 0)),\n",
       " (9000, ('robo', 1)),\n",
       " (10000, ('robo', 1)),\n",
       " (92, ('hurto', 0)),\n",
       " (96, ('hurto', 1)),\n",
       " (5, ('robo', 1)),\n",
       " (9, ('robo', 1)),\n",
       " (93, ('hurto', 0)),\n",
       " (2, ('robo', 1)),\n",
       " (6, ('robo', 0)),\n",
       " (10, ('robo', None)),\n",
       " (70, ('robo', None)),\n",
       " (90, ('robo', None)),\n",
       " (94, ('hurto', 0)),\n",
       " (3, ('robo', 0)),\n",
       " (7, ('robo', 1)),\n",
       " (95, ('hurto', 0))]"
      ]
     },
     "execution_count": 34,
     "metadata": {
      "tags": []
     },
     "output_type": "execute_result"
    }
   ],
   "source": [
    "casesJoinSignal.collect()"
   ]
  },
  {
   "cell_type": "code",
   "execution_count": null,
   "metadata": {
    "colab": {
     "base_uri": "https://localhost:8080/"
    },
    "id": "3Poxe40mCv43",
    "outputId": "71ddbd5a-cd5c-4f28-9b05-b43f97274ce1"
   },
   "outputs": [
    {
     "data": {
      "text/plain": [
       "[('hurto', 0.2), ('robo', 0.4583333333333333)]"
      ]
     },
     "execution_count": 38,
     "metadata": {
      "tags": []
     },
     "output_type": "execute_result"
    }
   ],
   "source": [
    "casesJoinSignal.map(lambda x: (x[1][0],(1, 1 if x[1][1] == 1 else 0)))\\\n",
    ".reduceByKey(lambda x,y: (x[0]+y[0],x[1]+y[1])).map(lambda x: (x[0],float(x[1][1])/x[1][0])).collect()"
   ]
  },
  {
   "cell_type": "code",
   "execution_count": null,
   "metadata": {
    "id": "bsnEOAmlDZAy"
   },
   "outputs": [],
   "source": []
  }
 ],
 "metadata": {
  "colab": {
   "collapsed_sections": [],
   "name": "Spark-Parcial 2018-1-3",
   "provenance": []
  },
  "kernelspec": {
   "display_name": "Python 3",
   "language": "python",
   "name": "python3"
  },
  "language_info": {
   "codemirror_mode": {
    "name": "ipython",
    "version": 3
   },
   "file_extension": ".py",
   "mimetype": "text/x-python",
   "name": "python",
   "nbconvert_exporter": "python",
   "pygments_lexer": "ipython3",
   "version": "3.9.1"
  }
 },
 "nbformat": 4,
 "nbformat_minor": 4
}

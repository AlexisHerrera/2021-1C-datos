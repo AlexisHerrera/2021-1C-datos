{
 "cells": [
  {
   "cell_type": "markdown",
   "metadata": {
    "id": "KLCow8sYSRUL"
   },
   "source": [
    "# Instalamos e importamos librerías"
   ]
  },
  {
   "cell_type": "code",
   "execution_count": null,
   "metadata": {
    "colab": {
     "base_uri": "https://localhost:8080/"
    },
    "id": "caWRNg5SSVG7",
    "outputId": "dc5359ab-892d-4ff1-d58c-5b30a9128e35"
   },
   "outputs": [
    {
     "name": "stdout",
     "output_type": "stream",
     "text": [
      "Collecting pyspark\n",
      "\u001b[?25l  Downloading https://files.pythonhosted.org/packages/45/b0/9d6860891ab14a39d4bddf80ba26ce51c2f9dc4805e5c6978ac0472c120a/pyspark-3.1.1.tar.gz (212.3MB)\n",
      "\u001b[K     |████████████████████████████████| 212.3MB 63kB/s \n",
      "\u001b[?25hCollecting py4j==0.10.9\n",
      "\u001b[?25l  Downloading https://files.pythonhosted.org/packages/9e/b6/6a4fb90cd235dc8e265a6a2067f2a2c99f0d91787f06aca4bcf7c23f3f80/py4j-0.10.9-py2.py3-none-any.whl (198kB)\n",
      "\u001b[K     |████████████████████████████████| 204kB 46.2MB/s \n",
      "\u001b[?25hBuilding wheels for collected packages: pyspark\n",
      "  Building wheel for pyspark (setup.py) ... \u001b[?25l\u001b[?25hdone\n",
      "  Created wheel for pyspark: filename=pyspark-3.1.1-py2.py3-none-any.whl size=212767604 sha256=572d2b4a37e640d67cec291e7a60e082b8151d2d89aaefcd74d105f206308d17\n",
      "  Stored in directory: /root/.cache/pip/wheels/0b/90/c0/01de724414ef122bd05f056541fb6a0ecf47c7ca655f8b3c0f\n",
      "Successfully built pyspark\n",
      "Installing collected packages: py4j, pyspark\n",
      "Successfully installed py4j-0.10.9 pyspark-3.1.1\n",
      "Ign:1 https://developer.download.nvidia.com/compute/cuda/repos/ubuntu1804/x86_64  InRelease\n",
      "Ign:2 https://developer.download.nvidia.com/compute/machine-learning/repos/ubuntu1804/x86_64  InRelease\n",
      "Get:3 https://developer.download.nvidia.com/compute/cuda/repos/ubuntu1804/x86_64  Release [697 B]\n",
      "Hit:4 https://developer.download.nvidia.com/compute/machine-learning/repos/ubuntu1804/x86_64  Release\n",
      "Get:5 https://cloud.r-project.org/bin/linux/ubuntu bionic-cran40/ InRelease [3,626 B]\n",
      "Get:6 https://developer.download.nvidia.com/compute/cuda/repos/ubuntu1804/x86_64  Release.gpg [836 B]\n",
      "Get:7 http://ppa.launchpad.net/c2d4u.team/c2d4u4.0+/ubuntu bionic InRelease [15.9 kB]\n",
      "Get:8 http://security.ubuntu.com/ubuntu bionic-security InRelease [88.7 kB]\n",
      "Hit:9 http://archive.ubuntu.com/ubuntu bionic InRelease\n",
      "Get:10 http://archive.ubuntu.com/ubuntu bionic-updates InRelease [88.7 kB]\n",
      "Get:12 https://cloud.r-project.org/bin/linux/ubuntu bionic-cran40/ Packages [53.9 kB]\n",
      "Hit:13 http://ppa.launchpad.net/cran/libgit2/ubuntu bionic InRelease\n",
      "Ign:14 https://developer.download.nvidia.com/compute/cuda/repos/ubuntu1804/x86_64  Packages\n",
      "Get:14 https://developer.download.nvidia.com/compute/cuda/repos/ubuntu1804/x86_64  Packages [770 kB]\n",
      "Get:15 http://archive.ubuntu.com/ubuntu bionic-backports InRelease [74.6 kB]\n",
      "Get:16 http://ppa.launchpad.net/deadsnakes/ppa/ubuntu bionic InRelease [15.9 kB]\n",
      "Get:17 http://ppa.launchpad.net/graphics-drivers/ppa/ubuntu bionic InRelease [21.3 kB]\n",
      "Get:18 http://security.ubuntu.com/ubuntu bionic-security/main amd64 Packages [2,119 kB]\n",
      "Get:19 http://ppa.launchpad.net/c2d4u.team/c2d4u4.0+/ubuntu bionic/main Sources [1,759 kB]\n",
      "Get:20 http://archive.ubuntu.com/ubuntu bionic-updates/universe amd64 Packages [2,182 kB]\n",
      "Get:21 http://security.ubuntu.com/ubuntu bionic-security/universe amd64 Packages [1,410 kB]\n",
      "Get:22 http://security.ubuntu.com/ubuntu bionic-security/restricted amd64 Packages [399 kB]\n",
      "Get:23 http://security.ubuntu.com/ubuntu bionic-security/multiverse amd64 Packages [24.7 kB]\n",
      "Get:24 http://archive.ubuntu.com/ubuntu bionic-updates/multiverse amd64 Packages [31.6 kB]\n",
      "Get:25 http://archive.ubuntu.com/ubuntu bionic-updates/restricted amd64 Packages [429 kB]\n",
      "Get:26 http://archive.ubuntu.com/ubuntu bionic-updates/main amd64 Packages [2,550 kB]\n",
      "Get:27 http://ppa.launchpad.net/c2d4u.team/c2d4u4.0+/ubuntu bionic/main amd64 Packages [900 kB]\n",
      "Get:28 http://ppa.launchpad.net/deadsnakes/ppa/ubuntu bionic/main amd64 Packages [40.8 kB]\n",
      "Get:29 http://ppa.launchpad.net/graphics-drivers/ppa/ubuntu bionic/main amd64 Packages [47.2 kB]\n",
      "Fetched 13.0 MB in 5s (2,591 kB/s)\n",
      "Reading package lists... Done\n",
      "Building dependency tree       \n",
      "Reading state information... Done\n",
      "78 packages can be upgraded. Run 'apt list --upgradable' to see them.\n",
      "The following package was automatically installed and is no longer required:\n",
      "  libnvidia-common-460\n",
      "Use 'apt autoremove' to remove it.\n",
      "The following additional packages will be installed:\n",
      "  openjdk-8-jre-headless\n",
      "Suggested packages:\n",
      "  openjdk-8-demo openjdk-8-source libnss-mdns fonts-dejavu-extra\n",
      "  fonts-ipafont-gothic fonts-ipafont-mincho fonts-wqy-microhei\n",
      "  fonts-wqy-zenhei fonts-indic\n",
      "The following NEW packages will be installed:\n",
      "  openjdk-8-jdk-headless openjdk-8-jre-headless\n",
      "0 upgraded, 2 newly installed, 0 to remove and 78 not upgraded.\n",
      "Need to get 36.5 MB of archives.\n",
      "After this operation, 143 MB of additional disk space will be used.\n",
      "Selecting previously unselected package openjdk-8-jre-headless:amd64.\n",
      "(Reading database ... 160690 files and directories currently installed.)\n",
      "Preparing to unpack .../openjdk-8-jre-headless_8u292-b10-0ubuntu1~18.04_amd64.deb ...\n",
      "Unpacking openjdk-8-jre-headless:amd64 (8u292-b10-0ubuntu1~18.04) ...\n",
      "Selecting previously unselected package openjdk-8-jdk-headless:amd64.\n",
      "Preparing to unpack .../openjdk-8-jdk-headless_8u292-b10-0ubuntu1~18.04_amd64.deb ...\n",
      "Unpacking openjdk-8-jdk-headless:amd64 (8u292-b10-0ubuntu1~18.04) ...\n",
      "Setting up openjdk-8-jre-headless:amd64 (8u292-b10-0ubuntu1~18.04) ...\n",
      "update-alternatives: using /usr/lib/jvm/java-8-openjdk-amd64/jre/bin/orbd to provide /usr/bin/orbd (orbd) in auto mode\n",
      "update-alternatives: using /usr/lib/jvm/java-8-openjdk-amd64/jre/bin/servertool to provide /usr/bin/servertool (servertool) in auto mode\n",
      "update-alternatives: using /usr/lib/jvm/java-8-openjdk-amd64/jre/bin/tnameserv to provide /usr/bin/tnameserv (tnameserv) in auto mode\n",
      "Setting up openjdk-8-jdk-headless:amd64 (8u292-b10-0ubuntu1~18.04) ...\n",
      "update-alternatives: using /usr/lib/jvm/java-8-openjdk-amd64/bin/idlj to provide /usr/bin/idlj (idlj) in auto mode\n",
      "update-alternatives: using /usr/lib/jvm/java-8-openjdk-amd64/bin/wsimport to provide /usr/bin/wsimport (wsimport) in auto mode\n",
      "update-alternatives: using /usr/lib/jvm/java-8-openjdk-amd64/bin/jsadebugd to provide /usr/bin/jsadebugd (jsadebugd) in auto mode\n",
      "update-alternatives: using /usr/lib/jvm/java-8-openjdk-amd64/bin/native2ascii to provide /usr/bin/native2ascii (native2ascii) in auto mode\n",
      "update-alternatives: using /usr/lib/jvm/java-8-openjdk-amd64/bin/javah to provide /usr/bin/javah (javah) in auto mode\n",
      "update-alternatives: using /usr/lib/jvm/java-8-openjdk-amd64/bin/hsdb to provide /usr/bin/hsdb (hsdb) in auto mode\n",
      "update-alternatives: using /usr/lib/jvm/java-8-openjdk-amd64/bin/clhsdb to provide /usr/bin/clhsdb (clhsdb) in auto mode\n",
      "update-alternatives: using /usr/lib/jvm/java-8-openjdk-amd64/bin/extcheck to provide /usr/bin/extcheck (extcheck) in auto mode\n",
      "update-alternatives: using /usr/lib/jvm/java-8-openjdk-amd64/bin/schemagen to provide /usr/bin/schemagen (schemagen) in auto mode\n",
      "update-alternatives: using /usr/lib/jvm/java-8-openjdk-amd64/bin/xjc to provide /usr/bin/xjc (xjc) in auto mode\n",
      "update-alternatives: using /usr/lib/jvm/java-8-openjdk-amd64/bin/jhat to provide /usr/bin/jhat (jhat) in auto mode\n",
      "update-alternatives: using /usr/lib/jvm/java-8-openjdk-amd64/bin/wsgen to provide /usr/bin/wsgen (wsgen) in auto mode\n"
     ]
    }
   ],
   "source": [
    "!pip install pyspark\n",
    "!pip install -U -q PyDrive\n",
    "!apt update\n",
    "!apt install openjdk-8-jdk-headless -qq\n",
    "import os\n",
    "os.environ[\"JAVA_HOME\"] = \"/usr/lib/jvm/java-8-openjdk-amd64\""
   ]
  },
  {
   "cell_type": "code",
   "execution_count": null,
   "metadata": {
    "id": "PwC4R5OESXY0"
   },
   "outputs": [],
   "source": [
    "from pydrive.auth import GoogleAuth\n",
    "from pydrive.drive import GoogleDrive\n",
    "from google.colab import auth\n",
    "from oauth2client.client import GoogleCredentials\n",
    "from pyspark.sql import *\n",
    "from pyspark.sql.functions import *\n",
    "from pyspark import SparkContext\n",
    "from pyspark.sql import SQLContext\n",
    "import pandas as pd"
   ]
  },
  {
   "cell_type": "code",
   "execution_count": null,
   "metadata": {
    "id": "EkxkY9R6fAka"
   },
   "outputs": [],
   "source": [
    "spark = SparkSession.builder.getOrCreate()\n",
    "sc = spark.sparkContext"
   ]
  },
  {
   "cell_type": "markdown",
   "metadata": {
    "id": "V3KEZnbSV76n"
   },
   "source": [
    "# 2020-02 Parcial"
   ]
  },
  {
   "cell_type": "markdown",
   "metadata": {
    "id": "Lj0C30ope1IM"
   },
   "source": [
    "Tenemos un RDD con información de recetas:\n",
    "\n",
    "(ID_Receta, Nombre, Categoría)\n",
    "\n",
    "Y otro RDD con los ingredientes de cada receta:\n",
    "\n",
    "(ID_Receta, Ingrediente, Cantidad_Kg)\n",
    "\n",
    "Queremos obtener:\n",
    "\n",
    "* a) Listar todos los ingredientes que aparecen en alguna receta que usa \"pollo\" indicando en\n",
    "cuantas recetas el ingrediente y pollo aparecen juntos. El formato de salida es (ingrediente,\n",
    "cantidad de recetas en que aparece junto con pollo). Por ejemplo, la papa aparece en 10\n",
    "recetas con pollo, por lo que tendríamos (papa, 10). (50 pts)\n",
    "\n",
    "* b) Queremos obtener todos los nombres de recetas Mediterráneas que no tengan ni papa ni\n",
    "pollo entre sus ingredientes.(50 pts)\n",
    "\n",
    "Resolver los puntos usando la API de RDDs de PySpark."
   ]
  },
  {
   "cell_type": "code",
   "execution_count": null,
   "metadata": {
    "id": "zrAymuyae-px"
   },
   "outputs": [],
   "source": [
    "recetas = [\n",
    "    (1, 'wok', 'China'),\n",
    "    (2, 'estofado', 'Italiana'),\n",
    "    (3, 'tortilla', 'Mediterranea'),\n",
    "    (4, 'Pollo al horno', 'Mediterranea'),\n",
    "    (5, 'Ni Pollo ni papa', 'Mediterranea')\n",
    "]\n",
    "\n",
    "ingredientes = [\n",
    "    (1, 'pollo', 0.4),\n",
    "    (1, 'zanahoria', 0.2),\n",
    "    (1, 'papa', 0.2),\n",
    "    (2, 'carne', 1),\n",
    "    (3, 'papa', 0.5),\n",
    "    (4, 'pollo', 0.3),\n",
    "    (4, 'papa', 0.2),\n",
    "    (4, 'cebolla', 0.1),\n",
    "    (5, 'carne', 0.1),\n",
    "    (5, 'sal', 0.01)\n",
    "]"
   ]
  },
  {
   "cell_type": "code",
   "execution_count": null,
   "metadata": {
    "id": "VQGLpgF8fE6F"
   },
   "outputs": [],
   "source": [
    "recetasRDD = sc.parallelize(recetas)\n",
    "ingredientesRDD = sc.parallelize(ingredientes)"
   ]
  },
  {
   "cell_type": "code",
   "execution_count": null,
   "metadata": {
    "id": "uX9A3TfCwHDz"
   },
   "outputs": [],
   "source": [
    "recetasPollo = ingredientesRDD.filter(lambda x: x[1] == 'pollo').map(lambda x: (x[0],x[1]))"
   ]
  },
  {
   "cell_type": "code",
   "execution_count": null,
   "metadata": {
    "colab": {
     "base_uri": "https://localhost:8080/"
    },
    "id": "Gqeoi97qix9t",
    "outputId": "397a7611-676a-4c3e-9d3d-19b8a2fa7516"
   },
   "outputs": [
    {
     "data": {
      "text/plain": [
       "[(1, 'pollo'), (4, 'pollo')]"
      ]
     },
     "execution_count": 8,
     "metadata": {
      "tags": []
     },
     "output_type": "execute_result"
    }
   ],
   "source": [
    "recetasPollo.collect()"
   ]
  },
  {
   "cell_type": "code",
   "execution_count": null,
   "metadata": {
    "colab": {
     "base_uri": "https://localhost:8080/"
    },
    "id": "xLhhfTY0vvjS",
    "outputId": "1710594d-49d4-466e-907a-2b8ce346066d"
   },
   "outputs": [
    {
     "data": {
      "text/plain": [
       "[(4, ('pollo', 'pollo')),\n",
       " (4, ('pollo', 'papa')),\n",
       " (4, ('pollo', 'cebolla')),\n",
       " (1, ('pollo', 'pollo')),\n",
       " (1, ('pollo', 'zanahoria')),\n",
       " (1, ('pollo', 'papa'))]"
      ]
     },
     "execution_count": 9,
     "metadata": {
      "tags": []
     },
     "output_type": "execute_result"
    }
   ],
   "source": [
    "recetasPollo.join(ingredientesRDD.map(lambda x: (x[0],x[1]))).collect()"
   ]
  },
  {
   "cell_type": "code",
   "execution_count": null,
   "metadata": {
    "id": "L2PzXzZK10aO"
   },
   "outputs": [],
   "source": [
    "ingredientesByReceta = ingredientesRDD.map(lambda x: (x[0],x[1])).cache()"
   ]
  },
  {
   "cell_type": "code",
   "execution_count": null,
   "metadata": {
    "id": "zJC5m8zqwqJ3"
   },
   "outputs": [],
   "source": [
    "ingredientesConPollo = recetasPollo.join(ingredientesByReceta)\\\n",
    ".filter(lambda x: x[1][1] != 'pollo')"
   ]
  },
  {
   "cell_type": "code",
   "execution_count": null,
   "metadata": {
    "colab": {
     "base_uri": "https://localhost:8080/"
    },
    "id": "AAqdFmoTw5Jo",
    "outputId": "1f36cf0a-65fd-41c9-c720-edd0770bcb4d"
   },
   "outputs": [
    {
     "data": {
      "text/plain": [
       "[(4, ('pollo', 'papa')),\n",
       " (4, ('pollo', 'cebolla')),\n",
       " (1, ('pollo', 'zanahoria')),\n",
       " (1, ('pollo', 'papa'))]"
      ]
     },
     "execution_count": 12,
     "metadata": {
      "tags": []
     },
     "output_type": "execute_result"
    }
   ],
   "source": [
    "ingredientesConPollo.collect()"
   ]
  },
  {
   "cell_type": "code",
   "execution_count": null,
   "metadata": {
    "id": "OmCmFlUKzHqO"
   },
   "outputs": [],
   "source": [
    "ingredientesCount = ingredientesConPollo.map(lambda x: (x[1][1],1)).reduceByKey(lambda x,y:x+y).cache()"
   ]
  },
  {
   "cell_type": "code",
   "execution_count": null,
   "metadata": {
    "colab": {
     "base_uri": "https://localhost:8080/"
    },
    "id": "ynMz5GKJxUez",
    "outputId": "29e6a23f-9549-4396-a556-dc9a863ea053"
   },
   "outputs": [
    {
     "data": {
      "text/plain": [
       "[('zanahoria', 1), ('papa', 2), ('cebolla', 1)]"
      ]
     },
     "execution_count": 16,
     "metadata": {
      "tags": []
     },
     "output_type": "execute_result"
    }
   ],
   "source": [
    "ingredientesCount.collect()"
   ]
  },
  {
   "cell_type": "code",
   "execution_count": null,
   "metadata": {
    "colab": {
     "base_uri": "https://localhost:8080/"
    },
    "id": "XkfiGXwnxfLs",
    "outputId": "a27ee835-4ffe-446b-b9bc-046ded437c79"
   },
   "outputs": [
    {
     "data": {
      "text/plain": [
       "[('papa', 2)]"
      ]
     },
     "execution_count": 17,
     "metadata": {
      "tags": []
     },
     "output_type": "execute_result"
    }
   ],
   "source": [
    "ingredientesCount.filter(lambda x: x[1]>1).collect()"
   ]
  },
  {
   "cell_type": "markdown",
   "metadata": {
    "id": "ArWe8Nij0JNo"
   },
   "source": [
    "Punto b"
   ]
  },
  {
   "cell_type": "code",
   "execution_count": 1,
   "metadata": {
    "id": "JBVkK5GrzTdB"
   },
   "outputs": [
    {
     "ename": "NameError",
     "evalue": "name 'recetasRDD' is not defined",
     "output_type": "error",
     "traceback": [
      "\u001b[0;31m---------------------------------------------------------------------------\u001b[0m",
      "\u001b[0;31mNameError\u001b[0m                                 Traceback (most recent call last)",
      "\u001b[0;32m<ipython-input-1-e8ac1af837f6>\u001b[0m in \u001b[0;36m<module>\u001b[0;34m\u001b[0m\n\u001b[0;32m----> 1\u001b[0;31m \u001b[0mmediterraneas\u001b[0m \u001b[0;34m=\u001b[0m \u001b[0mrecetasRDD\u001b[0m\u001b[0;34m.\u001b[0m\u001b[0mfilter\u001b[0m\u001b[0;34m(\u001b[0m\u001b[0;32mlambda\u001b[0m \u001b[0mx\u001b[0m\u001b[0;34m:\u001b[0m\u001b[0mx\u001b[0m\u001b[0;34m[\u001b[0m\u001b[0;36m2\u001b[0m\u001b[0;34m]\u001b[0m \u001b[0;34m==\u001b[0m \u001b[0;34m'Mediterranea'\u001b[0m\u001b[0;34m)\u001b[0m\u001b[0;34m.\u001b[0m\u001b[0mmap\u001b[0m\u001b[0;34m(\u001b[0m\u001b[0;32mlambda\u001b[0m \u001b[0mx\u001b[0m\u001b[0;34m:\u001b[0m \u001b[0;34m(\u001b[0m\u001b[0mx\u001b[0m\u001b[0;34m[\u001b[0m\u001b[0;36m0\u001b[0m\u001b[0;34m]\u001b[0m\u001b[0;34m,\u001b[0m\u001b[0mx\u001b[0m\u001b[0;34m[\u001b[0m\u001b[0;36m1\u001b[0m\u001b[0;34m]\u001b[0m\u001b[0;34m)\u001b[0m\u001b[0;34m)\u001b[0m\u001b[0;34m\u001b[0m\u001b[0;34m\u001b[0m\u001b[0m\n\u001b[0m",
      "\u001b[0;31mNameError\u001b[0m: name 'recetasRDD' is not defined"
     ]
    }
   ],
   "source": [
    "mediterraneas = recetasRDD.filter(lambda x:x[2] == 'Mediterranea').map(lambda x: (x[0],x[1]))"
   ]
  },
  {
   "cell_type": "code",
   "execution_count": null,
   "metadata": {
    "colab": {
     "base_uri": "https://localhost:8080/"
    },
    "id": "KWlTdrQw0abX",
    "outputId": "a894f0f8-a530-4c99-b678-42588afdac3c"
   },
   "outputs": [
    {
     "data": {
      "text/plain": [
       "[(3, 'tortilla'), (4, 'Pollo al horno'), (5, 'Ni Pollo ni papa')]"
      ]
     },
     "execution_count": 20,
     "metadata": {
      "tags": []
     },
     "output_type": "execute_result"
    }
   ],
   "source": [
    "mediterraneas.collect()"
   ]
  },
  {
   "cell_type": "code",
   "execution_count": null,
   "metadata": {
    "colab": {
     "base_uri": "https://localhost:8080/"
    },
    "id": "siKwX09m3FOX",
    "outputId": "398d3367-3a25-4ba9-d098-14353e5ab185"
   },
   "outputs": [
    {
     "data": {
      "text/plain": [
       "[(4, ('Pollo al horno', 'pollo')),\n",
       " (4, ('Pollo al horno', 'papa')),\n",
       " (4, ('Pollo al horno', 'cebolla')),\n",
       " (5, ('Ni Pollo ni papa', 'carne')),\n",
       " (5, ('Ni Pollo ni papa', 'sal')),\n",
       " (3, ('tortilla', 'papa'))]"
      ]
     },
     "execution_count": 28,
     "metadata": {
      "tags": []
     },
     "output_type": "execute_result"
    }
   ],
   "source": [
    "mediterraneas.join(ingredientesByReceta).collect()"
   ]
  },
  {
   "cell_type": "code",
   "execution_count": null,
   "metadata": {
    "colab": {
     "base_uri": "https://localhost:8080/"
    },
    "id": "jnowfu2a1tg4",
    "outputId": "99165857-2114-4a64-ffff-1b3f861c12d0"
   },
   "outputs": [
    {
     "data": {
      "text/plain": [
       "[(4, (1, 'Pollo al horno')),\n",
       " (4, (1, 'Pollo al horno')),\n",
       " (4, (0, 'Pollo al horno')),\n",
       " (5, (0, 'Ni Pollo ni papa')),\n",
       " (5, (0, 'Ni Pollo ni papa')),\n",
       " (3, (1, 'tortilla'))]"
      ]
     },
     "execution_count": 29,
     "metadata": {
      "tags": []
     },
     "output_type": "execute_result"
    }
   ],
   "source": [
    "mediterraneas.join(ingredientesByReceta)\\\n",
    ".map(lambda x: (x[0],(1 if x[1][1] in ['pollo','papa'] else 0,x[1][0]))).collect()"
   ]
  },
  {
   "cell_type": "code",
   "execution_count": null,
   "metadata": {
    "colab": {
     "base_uri": "https://localhost:8080/"
    },
    "id": "NycQT8Lp3SIO",
    "outputId": "594be5f7-45a9-4e63-a4e8-31dd799bb54c"
   },
   "outputs": [
    {
     "data": {
      "text/plain": [
       "['Ni Pollo ni papa']"
      ]
     },
     "execution_count": 33,
     "metadata": {
      "tags": []
     },
     "output_type": "execute_result"
    }
   ],
   "source": [
    "mediterraneas.join(ingredientesByReceta)\\\n",
    ".map(lambda x: (x[0],(1 if x[1][1] in ['pollo','papa'] else 0,x[1][0])))\\\n",
    ".reduceByKey(lambda x,y: (x[0]+y[0],x[1])).filter(lambda x: x[1][0] == 0).map(lambda x: x[1][1]).collect()"
   ]
  },
  {
   "cell_type": "code",
   "execution_count": null,
   "metadata": {
    "colab": {
     "base_uri": "https://localhost:8080/"
    },
    "id": "bN5BNtC21-F6",
    "outputId": "2c309b4a-ea9d-4218-99bc-904becd6849a"
   },
   "outputs": [
    {
     "data": {
      "text/plain": [
       "[(5, 0)]"
      ]
     },
     "execution_count": 24,
     "metadata": {
      "tags": []
     },
     "output_type": "execute_result"
    }
   ],
   "source": [
    "mediterraneas.join(ingredientesByReceta).map(lambda x: (x[0],1 if x[1][1] in ['pollo','papa'] else 0))\\\n",
    "             .reduceByKey(lambda x,y: x+y).filter(lambda x: x[1] == 0).collect()"
   ]
  },
  {
   "cell_type": "code",
   "execution_count": null,
   "metadata": {
    "colab": {
     "base_uri": "https://localhost:8080/"
    },
    "id": "Vqm2yxh82kXt",
    "outputId": "61cf5c9d-5c31-4b42-9405-9a249fb4613d"
   },
   "outputs": [
    {
     "data": {
      "text/plain": [
       "[(4,\n",
       "  [('Pollo al horno', 'pollo'),\n",
       "   ('Pollo al horno', 'papa'),\n",
       "   ('Pollo al horno', 'cebolla')]),\n",
       " (5, [('Ni Pollo ni papa', 'carne'), ('Ni Pollo ni papa', 'sal')]),\n",
       " (3, [('tortilla', 'papa')])]"
      ]
     },
     "execution_count": 36,
     "metadata": {
      "tags": []
     },
     "output_type": "execute_result"
    }
   ],
   "source": [
    "mediterraneas.join(ingredientesByReceta).groupByKey().map(lambda x: (x[0],list(x[1]))).collect()"
   ]
  },
  {
   "cell_type": "code",
   "execution_count": null,
   "metadata": {
    "id": "1leZwH7O36g-"
   },
   "outputs": [],
   "source": []
  }
 ],
 "metadata": {
  "colab": {
   "collapsed_sections": [],
   "name": "Spark-Parcial 2020-2-1",
   "provenance": []
  },
  "kernelspec": {
   "display_name": "Python 3",
   "language": "python",
   "name": "python3"
  },
  "language_info": {
   "codemirror_mode": {
    "name": "ipython",
    "version": 3
   },
   "file_extension": ".py",
   "mimetype": "text/x-python",
   "name": "python",
   "nbconvert_exporter": "python",
   "pygments_lexer": "ipython3",
   "version": "3.9.1"
  }
 },
 "nbformat": 4,
 "nbformat_minor": 4
}

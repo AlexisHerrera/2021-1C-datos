{
 "cells": [
  {
   "cell_type": "markdown",
   "metadata": {
    "id": "n62GQVf56Gd0"
   },
   "source": [
    "# Instalacion de Dependencias\n",
    "\n"
   ]
  },
  {
   "cell_type": "code",
   "execution_count": 1,
   "metadata": {
    "colab": {
     "base_uri": "https://localhost:8080/"
    },
    "executionInfo": {
     "elapsed": 63669,
     "status": "ok",
     "timestamp": 1620082485253,
     "user": {
      "displayName": "Martin Ramos Mejía",
      "photoUrl": "https://lh3.googleusercontent.com/a-/AOh14GgbpDnPjShOpPH8-P0a8AIZrUcpSYNQwHsEfsDQ8w=s64",
      "userId": "08591007000103530707"
     },
     "user_tz": 180
    },
    "id": "MJZdW4LE6DZs",
    "outputId": "eceb8db6-1dd9-4142-debf-db45d349b0e1"
   },
   "outputs": [],
   "source": [
    "# !pip install pyspark\n",
    "# !pip install -U -q PyDrive\n",
    "# !apt update\n",
    "# !apt install openjdk-8-jdk-headless -qq\n",
    "# !apt install default-jre\n",
    "# !apt install default-jdk\n",
    "import os\n",
    "os.environ[\"JAVA_HOME\"] = \"/usr/lib/jvm/java-8-openjdk-amd64\""
   ]
  },
  {
   "cell_type": "markdown",
   "metadata": {
    "id": "FVfZufxE6NDZ"
   },
   "source": [
    "# Creacion del Spark Context"
   ]
  },
  {
   "cell_type": "code",
   "execution_count": 2,
   "metadata": {
    "executionInfo": {
     "elapsed": 5090,
     "status": "ok",
     "timestamp": 1620082503361,
     "user": {
      "displayName": "Martin Ramos Mejía",
      "photoUrl": "https://lh3.googleusercontent.com/a-/AOh14GgbpDnPjShOpPH8-P0a8AIZrUcpSYNQwHsEfsDQ8w=s64",
      "userId": "08591007000103530707"
     },
     "user_tz": 180
    },
    "id": "x-xat7r56DGY"
   },
   "outputs": [],
   "source": [
    "from pyspark.sql import *\n",
    "from pyspark.sql.functions import *\n",
    "from pyspark import SparkContext\n",
    "from pyspark.sql import SQLContext\n",
    "\n",
    "spark = SparkSession.builder.getOrCreate()\n",
    "sc = spark.sparkContext"
   ]
  },
  {
   "cell_type": "markdown",
   "metadata": {
    "id": "APgNP0Is5_NP"
   },
   "source": [
    "## Primer Cuatrimestre de 2018. Examen parcial, primera oportunidad.\n",
    "\n",
    "Nintendo of America (EEUU) tiene\n",
    "información de ventas de videojuegos\n",
    "físicas mensuales totalizadas en EEUU\n",
    "las cuales se realizan en cadenas de\n",
    "tiendas de videojuegos en el siguiente\n",
    "RDD: (id_videojuego, id_tienda, mes,\n",
    "anio, total_ventas_mensuales).\n",
    "\n",
    "Por otro lado tenemos un RDD con\n",
    "información de las tiendas y de su\n",
    "ubicación (id_tienda, direccion, latitud,\n",
    "longitud, codigo_postal, estado).\n",
    "Con esta información escribir un\n",
    "programa en pySpark para obtener la\n",
    "tienda que realizó menor cantidad de\n",
    "ventas en el estado de \"Georgia\" en todo\n",
    "el año 2017. "
   ]
  },
  {
   "cell_type": "markdown",
   "metadata": {
    "id": "oKUskbhD5_NQ"
   },
   "source": [
    "Criterio: Es importante filtrar los datos que son necesarios antes de comenzar a trabajar, si no lo hacen se descuenta un min de 5ptos. Hay descuentos de 3\n",
    "ptos si realizan operaciones de mas, o ineficientes (por ejemplo realizar un takeordered cuando necesitan solo obtener mínimo).\n",
    "Si los formatos para realizar el join no se corresponde a (K, V) descuento de 5 puntos. "
   ]
  },
  {
   "cell_type": "code",
   "execution_count": 3,
   "metadata": {
    "executionInfo": {
     "elapsed": 750,
     "status": "ok",
     "timestamp": 1620084938683,
     "user": {
      "displayName": "Martin Ramos Mejía",
      "photoUrl": "https://lh3.googleusercontent.com/a-/AOh14GgbpDnPjShOpPH8-P0a8AIZrUcpSYNQwHsEfsDQ8w=s64",
      "userId": "08591007000103530707"
     },
     "user_tz": 180
    },
    "id": "milNq1oA5_NR"
   },
   "outputs": [],
   "source": [
    "sales = [\n",
    "    (1, 1, '01', '2017', 500), # sera la minima\n",
    "    (1, 2, '01', '2017', 500),\n",
    "    (1, 2, '01', '2017', 500),\n",
    "    (1, 2, '01', '2017', 500),\n",
    "    (1, 2, '01', '2017', 500),\n",
    "    (1, 1, '01', '2016', 500),\n",
    "    (1, 2, '01', '2016', 500),\n",
    "    (1, 2, '01', '2016', 500),\n",
    "    (1, 2, '01', '2016', 500),\n",
    "    (1, 2, '01', '2016', 500),\n",
    "    (2, 3, '01', '2017', 500),\n",
    "    (2, 3, '01', '2017', 500),\n",
    "    (2, 3, '01', '2017', 500),\n",
    "    (2, 3, '01', '2017', 500),\n",
    "    (2, 3, '01', '2017', 500),\n",
    "    (4, 3, '01', '2017', 500),\n",
    "    (4, 3, '01', '2017', 500),\n",
    "    (4, 3, '02', '2017', 500),\n",
    "    (4, 3, '03', '2017', 500),    \n",
    "\n",
    "]\n",
    "\n",
    "stores = [\n",
    "    (1 , 'address 1', -1, -1, '30002', 'Georgia'),\n",
    "    (2 , 'address 2', -2, -2, '30003', 'Georgia'),\n",
    "    (3 , 'address 2', -3, -3, '30004', 'Georgia'),\n",
    "    (4 , 'address 2', -4, -4, '10119', 'New York')    \n",
    "]"
   ]
  },
  {
   "cell_type": "code",
   "execution_count": 4,
   "metadata": {
    "executionInfo": {
     "elapsed": 478,
     "status": "ok",
     "timestamp": 1620084939037,
     "user": {
      "displayName": "Martin Ramos Mejía",
      "photoUrl": "https://lh3.googleusercontent.com/a-/AOh14GgbpDnPjShOpPH8-P0a8AIZrUcpSYNQwHsEfsDQ8w=s64",
      "userId": "08591007000103530707"
     },
     "user_tz": 180
    },
    "id": "3j3s6eIl5_NS"
   },
   "outputs": [],
   "source": [
    "# Obtener la tienda que realizó menor cantidad de ventas en el estado de \"Georgia\" en todo el año 2017"
   ]
  },
  {
   "cell_type": "code",
   "execution_count": 5,
   "metadata": {
    "executionInfo": {
     "elapsed": 602,
     "status": "ok",
     "timestamp": 1620084939781,
     "user": {
      "displayName": "Martin Ramos Mejía",
      "photoUrl": "https://lh3.googleusercontent.com/a-/AOh14GgbpDnPjShOpPH8-P0a8AIZrUcpSYNQwHsEfsDQ8w=s64",
      "userId": "08591007000103530707"
     },
     "user_tz": 180
    },
    "id": "mKWIbeoN5_NT"
   },
   "outputs": [],
   "source": [
    "salesRdd = sc.parallelize(sales)\n",
    "storesRdd = sc.parallelize(stores)"
   ]
  },
  {
   "cell_type": "code",
   "execution_count": 6,
   "metadata": {
    "executionInfo": {
     "elapsed": 914,
     "status": "ok",
     "timestamp": 1620084940895,
     "user": {
      "displayName": "Martin Ramos Mejía",
      "photoUrl": "https://lh3.googleusercontent.com/a-/AOh14GgbpDnPjShOpPH8-P0a8AIZrUcpSYNQwHsEfsDQ8w=s64",
      "userId": "08591007000103530707"
     },
     "user_tz": 180
    },
    "id": "SyI9B8W5eCJe"
   },
   "outputs": [],
   "source": [
    "salesToJoin = salesRdd.filter(lambda x: x[3] == '2017')\\\n",
    "      .map(lambda x: (x[1],x[4]))"
   ]
  },
  {
   "cell_type": "code",
   "execution_count": 7,
   "metadata": {
    "executionInfo": {
     "elapsed": 437,
     "status": "ok",
     "timestamp": 1620084941955,
     "user": {
      "displayName": "Martin Ramos Mejía",
      "photoUrl": "https://lh3.googleusercontent.com/a-/AOh14GgbpDnPjShOpPH8-P0a8AIZrUcpSYNQwHsEfsDQ8w=s64",
      "userId": "08591007000103530707"
     },
     "user_tz": 180
    },
    "id": "H3cqoQlWf0Ld"
   },
   "outputs": [],
   "source": [
    "storesToJoin = storesRdd.filter(lambda x: x[5] == 'Georgia')\\\n",
    "      .map(lambda x: (x[0], x[1]))"
   ]
  },
  {
   "cell_type": "code",
   "execution_count": 8,
   "metadata": {
    "colab": {
     "base_uri": "https://localhost:8080/"
    },
    "executionInfo": {
     "elapsed": 790,
     "status": "ok",
     "timestamp": 1620084943964,
     "user": {
      "displayName": "Martin Ramos Mejía",
      "photoUrl": "https://lh3.googleusercontent.com/a-/AOh14GgbpDnPjShOpPH8-P0a8AIZrUcpSYNQwHsEfsDQ8w=s64",
      "userId": "08591007000103530707"
     },
     "user_tz": 180
    },
    "id": "7Mr3eWdNgRUB",
    "outputId": "c9979361-a278-4e9e-f615-b0efe688d848"
   },
   "outputs": [
    {
     "data": {
      "text/plain": [
       "[(1, 500),\n",
       " (2, 500),\n",
       " (2, 500),\n",
       " (2, 500),\n",
       " (2, 500),\n",
       " (3, 500),\n",
       " (3, 500),\n",
       " (3, 500),\n",
       " (3, 500),\n",
       " (3, 500),\n",
       " (3, 500),\n",
       " (3, 500),\n",
       " (3, 500),\n",
       " (3, 500)]"
      ]
     },
     "execution_count": 8,
     "metadata": {},
     "output_type": "execute_result"
    }
   ],
   "source": [
    "salesToJoin.take(20)"
   ]
  },
  {
   "cell_type": "code",
   "execution_count": 9,
   "metadata": {
    "colab": {
     "base_uri": "https://localhost:8080/"
    },
    "executionInfo": {
     "elapsed": 1019,
     "status": "ok",
     "timestamp": 1620084945865,
     "user": {
      "displayName": "Martin Ramos Mejía",
      "photoUrl": "https://lh3.googleusercontent.com/a-/AOh14GgbpDnPjShOpPH8-P0a8AIZrUcpSYNQwHsEfsDQ8w=s64",
      "userId": "08591007000103530707"
     },
     "user_tz": 180
    },
    "id": "xvCt6HjZgWqt",
    "outputId": "8bc9cea4-d18c-4fa1-8993-b190f2805e35"
   },
   "outputs": [
    {
     "data": {
      "text/plain": [
       "[(1, 'address 1'), (2, 'address 2'), (3, 'address 2')]"
      ]
     },
     "execution_count": 9,
     "metadata": {},
     "output_type": "execute_result"
    }
   ],
   "source": [
    "storesToJoin.take(20)"
   ]
  },
  {
   "cell_type": "code",
   "execution_count": 11,
   "metadata": {},
   "outputs": [
    {
     "data": {
      "text/plain": [
       "[(1, (500, 'address 1')),\n",
       " (2, (500, 'address 2')),\n",
       " (2, (500, 'address 2')),\n",
       " (2, (500, 'address 2'))]"
      ]
     },
     "execution_count": 11,
     "metadata": {},
     "output_type": "execute_result"
    }
   ],
   "source": [
    "salesToJoin.join(storesToJoin).take(4)"
   ]
  },
  {
   "cell_type": "code",
   "execution_count": 10,
   "metadata": {
    "colab": {
     "base_uri": "https://localhost:8080/"
    },
    "executionInfo": {
     "elapsed": 1206,
     "status": "ok",
     "timestamp": 1620084947858,
     "user": {
      "displayName": "Martin Ramos Mejía",
      "photoUrl": "https://lh3.googleusercontent.com/a-/AOh14GgbpDnPjShOpPH8-P0a8AIZrUcpSYNQwHsEfsDQ8w=s64",
      "userId": "08591007000103530707"
     },
     "user_tz": 180
    },
    "id": "RIenIaw5gdcD",
    "outputId": "b0f2a438-9af8-4204-dba2-b2227ec70b9c"
   },
   "outputs": [
    {
     "data": {
      "text/plain": [
       "(1, (500, 'address 1'))"
      ]
     },
     "execution_count": 10,
     "metadata": {},
     "output_type": "execute_result"
    }
   ],
   "source": [
    "salesToJoin.join(storesToJoin)\\\n",
    "  .reduceByKey(lambda a, b: (a[0]+b[0],a[1])).reduce(lambda x, y: x if x[1][0] < y[1][0] else y)"
   ]
  },
  {
   "cell_type": "markdown",
   "metadata": {
    "id": "Jtgk83gr5_NV"
   },
   "source": [
    "## Primer Cuatrimestre de 2018. Examen parcial, tercera oportunidad\n",
    "\n",
    "El GCPD (Gotham City Police Dept) recolecta la información de casos policiales que acontecen en Ciudad Gótica. Esta información se encuentra guardada en un archivo con el siguiente formato: (fecha, id_caso, descripción, estado_caso, categoría, latitud, longitud).\n",
    "\n",
    "Los posibles estados que puede tener un caso son 1: caso abierto, 2: caso resuelto, 3: cerrado sin resolución. Las fechas se encuentran en el formato YYYY-MM-DD. \n",
    "\n",
    "Por otro lado el comisionado Gordon guarda un registro detallado sobre en cuáles casos fue activada la batiseñal para pedir ayuda del vigilante, Batman. Esta información se encuentra en un archivo con el siguiente formato (id_caso, respuesta), siendo campo respuesta si la señal tuvo una respuesta positiva (1) o negativa (0) de parte de él.\n",
    "El sector encargado de las estadísticas oficiales del GCPD quiere analizar las siguientes situaciones:\n",
    "\n",
    "a)  Las categorías que hayan incrementado su tasa de resolución en al menos un 10%  en el último trimestre, con respecto al trimestre anterior.\n",
    "b) Tasa de participación de Batman por categoría, para los delitos contra la propiedad (que enmarcan las categorías incendio intencional, robo, hurto, y robo de vehículos) "
   ]
  },
  {
   "cell_type": "code",
   "execution_count": 12,
   "metadata": {
    "executionInfo": {
     "elapsed": 727,
     "status": "ok",
     "timestamp": 1620085132448,
     "user": {
      "displayName": "Martin Ramos Mejía",
      "photoUrl": "https://lh3.googleusercontent.com/a-/AOh14GgbpDnPjShOpPH8-P0a8AIZrUcpSYNQwHsEfsDQ8w=s64",
      "userId": "08591007000103530707"
     },
     "user_tz": 180
    },
    "id": "hCCffBQr5_NX"
   },
   "outputs": [],
   "source": [
    "# (fecha, id_caso, descripción, estado_caso, categoría, latitud, longitud).\n",
    "cases = [(\"2019-01-01\", 1, \"case 1\", 2, \"otro delito\", -1, -1), \n",
    "         (\"2019-06-01\", 2, \"case 2\", 2, \"robo\", -1, -1),\n",
    "         (\"2019-06-01\", 3, \"case 2\", 3, \"robo\", -1, -1),         \n",
    "         (\"2019-06-01\", 4, \"case 2\", 1, \"robo\", -1, -1),         \n",
    "         (\"2019-06-01\", 5, \"case 2\", 2, \"robo\", -1, -1),\n",
    "         (\"2019-09-01\", 6, \"case 2\", 2, \"robo\", -1, -1),\n",
    "         (\"2019-09-01\", 7, \"case 2\", 2, \"robo\", -1, -1),         \n",
    "         (\"2019-09-01\", 8, \"case 2\", 2, \"robo\", -1, -1),\n",
    "         (\"2019-09-01\", 9, \"case 2\", 2, \"robo\", -1, -1),\n",
    "         (\"2019-09-01\", 10, \"case 2\", 3, \"robo\", -1, -1),\n",
    "         (\"2019-09-01\", 60, \"case 2\", 3, \"robo\", -1, -1),\n",
    "         (\"2019-09-01\", 70, \"case 2\", 3, \"robo\", -1, -1),         \n",
    "         (\"2019-09-01\", 80, \"case 2\", 1, \"robo\", -1, -1),\n",
    "         (\"2019-09-01\", 90, \"case 2\", 2, \"robo\", -1, -1),\n",
    "         (\"2019-09-01\", 100, \"case 2\", 2, \"robo\", -1, -1),\n",
    "         (\"2019-09-01\", 600, \"case 2\", 2, \"robo\", -1, -1),\n",
    "         (\"2019-09-01\", 700, \"case 2\", 3, \"robo\", -1, -1),         \n",
    "         (\"2019-09-01\", 800, \"case 2\", 1, \"robo\", -1, -1),\n",
    "         (\"2019-09-01\", 900, \"case 2\", 1, \"robo\", -1, -1),\n",
    "         (\"2019-09-01\", 1000, \"case 2\", 1, \"robo\", -1, -1),\n",
    "         (\"2019-09-01\", 6000, \"case 2\", 2, \"robo\", -1, -1),\n",
    "         (\"2019-09-01\", 7000, \"case 2\", 2, \"robo\", -1, -1),         \n",
    "         (\"2019-09-01\", 8000, \"case 2\", 3, \"robo\", -1, -1),\n",
    "         (\"2019-09-01\", 9000, \"case 2\", 1, \"robo\", -1, -1),\n",
    "         (\"2019-09-01\", 10000, \"case 2\", 2, \"robo\", -1, -1),\n",
    "         (\"2019-06-01\", 92, \"case 2\", 2, \"hurto\", -1, -1),\n",
    "         (\"2019-06-01\", 93, \"case 2\", 3, \"hurto\", -1, -1),         \n",
    "         (\"2019-06-01\", 94, \"case 2\", 3, \"hurto\", -1, -1),         \n",
    "         (\"2019-06-01\", 95, \"case 2\", 3, \"hurto\", -1, -1),\n",
    "         (\"2019-09-01\", 96, \"case 2\", 2, \"hurto\", -1, -1),\n",
    " \n",
    "        ]\n",
    "\n",
    "# (id_caso, respuesta)\n",
    "batsignal = [(1,1),\n",
    "         (2,1),\n",
    "         (3,0),\n",
    "         (4,0),\n",
    "         (5,1),\n",
    "         (6,0),\n",
    "         (7,1),\n",
    "         (8,0),\n",
    "         (9,1),\n",
    "         (10,0),         \n",
    "         (60,0),\n",
    "         (70,1),\n",
    "         (80,1),\n",
    "         (90,1),\n",
    "         (100,1),\n",
    "         (600,0),\n",
    "         (700,1),\n",
    "         (800,0),\n",
    "         (900,1),\n",
    "         (1000,1),\n",
    "         (6000,0),\n",
    "         (7000,1),\n",
    "         (8000,0),\n",
    "         (9000,1),\n",
    "         (10000,1),\n",
    "         (92,0),\n",
    "         (93,0),             \n",
    "         (94,0),\n",
    "         (95,0),             \n",
    "         (96,1)             \n",
    "        ]"
   ]
  },
  {
   "cell_type": "code",
   "execution_count": 13,
   "metadata": {
    "executionInfo": {
     "elapsed": 864,
     "status": "ok",
     "timestamp": 1620085134215,
     "user": {
      "displayName": "Martin Ramos Mejía",
      "photoUrl": "https://lh3.googleusercontent.com/a-/AOh14GgbpDnPjShOpPH8-P0a8AIZrUcpSYNQwHsEfsDQ8w=s64",
      "userId": "08591007000103530707"
     },
     "user_tz": 180
    },
    "id": "WzEvpizW5_NZ"
   },
   "outputs": [],
   "source": [
    "casesRdd = sc.parallelize(cases)\n",
    "batsignalRdd = sc.parallelize(batsignal)"
   ]
  },
  {
   "cell_type": "code",
   "execution_count": 38,
   "metadata": {},
   "outputs": [],
   "source": [
    "def to_trimestre(fecha):\n",
    "    mes = int(fecha.split(\"-\")[1])\n",
    "    trimestre = 1\n",
    "    if mes in range(4,7):\n",
    "        trimestre = 2\n",
    "    elif mes in range(7,10):\n",
    "        trimestre = 3\n",
    "    elif mes in range(10,13):\n",
    "        trimestre = 4\n",
    "    return trimestre"
   ]
  },
  {
   "cell_type": "code",
   "execution_count": 42,
   "metadata": {},
   "outputs": [
    {
     "data": {
      "text/plain": [
       "[('2019-06-01', 2, 'case 2', 2, 'robo', -1, -1),\n",
       " ('2019-06-01', 3, 'case 2', 3, 'robo', -1, -1),\n",
       " ('2019-06-01', 4, 'case 2', 1, 'robo', -1, -1),\n",
       " ('2019-06-01', 5, 'case 2', 2, 'robo', -1, -1),\n",
       " ('2019-09-01', 6, 'case 2', 2, 'robo', -1, -1),\n",
       " ('2019-09-01', 7, 'case 2', 2, 'robo', -1, -1),\n",
       " ('2019-09-01', 8, 'case 2', 2, 'robo', -1, -1),\n",
       " ('2019-09-01', 9, 'case 2', 2, 'robo', -1, -1),\n",
       " ('2019-09-01', 10, 'case 2', 3, 'robo', -1, -1),\n",
       " ('2019-09-01', 60, 'case 2', 3, 'robo', -1, -1),\n",
       " ('2019-09-01', 70, 'case 2', 3, 'robo', -1, -1),\n",
       " ('2019-09-01', 80, 'case 2', 1, 'robo', -1, -1),\n",
       " ('2019-09-01', 90, 'case 2', 2, 'robo', -1, -1),\n",
       " ('2019-09-01', 100, 'case 2', 2, 'robo', -1, -1),\n",
       " ('2019-09-01', 600, 'case 2', 2, 'robo', -1, -1),\n",
       " ('2019-09-01', 700, 'case 2', 3, 'robo', -1, -1),\n",
       " ('2019-09-01', 800, 'case 2', 1, 'robo', -1, -1),\n",
       " ('2019-09-01', 900, 'case 2', 1, 'robo', -1, -1),\n",
       " ('2019-09-01', 1000, 'case 2', 1, 'robo', -1, -1),\n",
       " ('2019-09-01', 6000, 'case 2', 2, 'robo', -1, -1),\n",
       " ('2019-09-01', 7000, 'case 2', 2, 'robo', -1, -1),\n",
       " ('2019-09-01', 8000, 'case 2', 3, 'robo', -1, -1),\n",
       " ('2019-09-01', 9000, 'case 2', 1, 'robo', -1, -1),\n",
       " ('2019-09-01', 10000, 'case 2', 2, 'robo', -1, -1),\n",
       " ('2019-06-01', 92, 'case 2', 2, 'hurto', -1, -1),\n",
       " ('2019-06-01', 93, 'case 2', 3, 'hurto', -1, -1),\n",
       " ('2019-06-01', 94, 'case 2', 3, 'hurto', -1, -1),\n",
       " ('2019-06-01', 95, 'case 2', 3, 'hurto', -1, -1),\n",
       " ('2019-09-01', 96, 'case 2', 2, 'hurto', -1, -1)]"
      ]
     },
     "execution_count": 42,
     "metadata": {},
     "output_type": "execute_result"
    }
   ],
   "source": [
    "casesRdd.filter(lambda x: to_trimestre(x[0]) in range(2,4)).collect()"
   ]
  }
 ],
 "metadata": {
  "colab": {
   "collapsed_sections": [],
   "name": "Examenes-2018.ipynb",
   "provenance": []
  },
  "kernelspec": {
   "display_name": "Python 3",
   "language": "python",
   "name": "python3"
  },
  "language_info": {
   "codemirror_mode": {
    "name": "ipython",
    "version": 3
   },
   "file_extension": ".py",
   "mimetype": "text/x-python",
   "name": "python",
   "nbconvert_exporter": "python",
   "pygments_lexer": "ipython3",
   "version": "3.9.1"
  }
 },
 "nbformat": 4,
 "nbformat_minor": 4
}

{
 "cells": [
  {
   "cell_type": "markdown",
   "metadata": {
    "id": "HMRZLe688EZ6"
   },
   "source": [
    "#instalacion de dependencias\n",
    "\n"
   ]
  },
  {
   "cell_type": "code",
   "execution_count": 2,
   "metadata": {
    "colab": {
     "base_uri": "https://localhost:8080/"
    },
    "executionInfo": {
     "elapsed": 72501,
     "status": "ok",
     "timestamp": 1620079054723,
     "user": {
      "displayName": "Martin Ramos Mejía",
      "photoUrl": "https://lh3.googleusercontent.com/a-/AOh14GgbpDnPjShOpPH8-P0a8AIZrUcpSYNQwHsEfsDQ8w=s64",
      "userId": "08591007000103530707"
     },
     "user_tz": 180
    },
    "id": "tTNtD0KU8JKC",
    "outputId": "561eca03-dee6-465e-c7fb-4bb56a239392"
   },
   "outputs": [],
   "source": [
    "# !pip install pyspark\n",
    "# !pip install -U -q PyDrive\n",
    "# !apt update\n",
    "# !apt install openjdk-8-jdk-headless -qq\n",
    "#!apt install default-jre\n",
    "#!apt install default-jdk\n",
    "import os\n",
    "os.environ[\"JAVA_HOME\"] = \"/usr/lib/jvm/java-8-openjdk-amd64\""
   ]
  },
  {
   "cell_type": "markdown",
   "metadata": {
    "id": "8-8kovmQ8KTz"
   },
   "source": [
    "# Creacion del Spark Context"
   ]
  },
  {
   "cell_type": "code",
   "execution_count": 3,
   "metadata": {
    "executionInfo": {
     "elapsed": 642,
     "status": "ok",
     "timestamp": 1620079822768,
     "user": {
      "displayName": "Martin Ramos Mejía",
      "photoUrl": "https://lh3.googleusercontent.com/a-/AOh14GgbpDnPjShOpPH8-P0a8AIZrUcpSYNQwHsEfsDQ8w=s64",
      "userId": "08591007000103530707"
     },
     "user_tz": 180
    },
    "id": "uN2HTmFd8P6C"
   },
   "outputs": [],
   "source": [
    "from pyspark.sql import *\n",
    "from pyspark.sql.functions import *\n",
    "from pyspark import SparkContext\n",
    "from pyspark.sql import SQLContext\n",
    "\n",
    "spark = SparkSession.builder.getOrCreate()\n",
    "sc = spark.sparkContext"
   ]
  },
  {
   "cell_type": "markdown",
   "metadata": {
    "id": "v3bmv27H727Y"
   },
   "source": [
    "# Joins en Apache Spark\n",
    "\n",
    "El siguiente notebook fue realizado para tener un punto de comparacion con lo visto anteriormente en analisis exploratorio con pandas. \n",
    "\n",
    "Para tener una comparativa, revisar el notebook [https://github.com/idontdomath/datos-exploratory-data-analysis/blob/master/2018-01/02-joins-in-pandas.ipynb](https://github.com/idontdomath/datos-exploratory-data-analysis/blob/master/2018-01/02-joins-in-pandas.ipynb)\n",
    "\n",
    "Como referencia en la [Programming Guide de Apache Spark](https://spark.apache.org/docs/latest/programming-guide.html) podemos saber sobre join:\n",
    "\n",
    "```\n",
    "join(otherDataset, [numTasks])\n",
    "\n",
    "When called on datasets of type (K, V) and (K, W), returns a dataset of (K, (V, W)) pairs with all pairs of elements for each key. Outer joins are supported through leftOuterJoin, rightOuterJoin, and fullOuterJoin.\n",
    "```"
   ]
  },
  {
   "cell_type": "code",
   "execution_count": 4,
   "metadata": {
    "executionInfo": {
     "elapsed": 1016,
     "status": "ok",
     "timestamp": 1620080856399,
     "user": {
      "displayName": "Martin Ramos Mejía",
      "photoUrl": "https://lh3.googleusercontent.com/a-/AOh14GgbpDnPjShOpPH8-P0a8AIZrUcpSYNQwHsEfsDQ8w=s64",
      "userId": "08591007000103530707"
     },
     "user_tz": 180
    },
    "id": "4PxblqFf727h"
   },
   "outputs": [],
   "source": [
    "people_data = [\n",
    "    (1,'People A'),\n",
    "    (2,'People B'),\n",
    "    (3,'People C'),\n",
    "    (4,'People D'),\n",
    "    (5,'People E'),\n",
    "    (1,'People A')\n",
    "]\n",
    "\n",
    "a = sc.parallelize(people_data)"
   ]
  },
  {
   "cell_type": "code",
   "execution_count": 6,
   "metadata": {
    "colab": {
     "base_uri": "https://localhost:8080/"
    },
    "executionInfo": {
     "elapsed": 929,
     "status": "ok",
     "timestamp": 1620080856792,
     "user": {
      "displayName": "Martin Ramos Mejía",
      "photoUrl": "https://lh3.googleusercontent.com/a-/AOh14GgbpDnPjShOpPH8-P0a8AIZrUcpSYNQwHsEfsDQ8w=s64",
      "userId": "08591007000103530707"
     },
     "user_tz": 180
    },
    "id": "giSXGicm727j",
    "outputId": "ba1cc32a-39ba-46fa-9208-ea488b410db2"
   },
   "outputs": [
    {
     "data": {
      "text/plain": [
       "[(1, 'People A'),\n",
       " (2, 'People B'),\n",
       " (3, 'People C'),\n",
       " (4, 'People D'),\n",
       " (5, 'People E'),\n",
       " (1, 'People A')]"
      ]
     },
     "execution_count": 6,
     "metadata": {},
     "output_type": "execute_result"
    }
   ],
   "source": [
    "a.collect()"
   ]
  },
  {
   "cell_type": "code",
   "execution_count": 7,
   "metadata": {
    "executionInfo": {
     "elapsed": 786,
     "status": "ok",
     "timestamp": 1620080857799,
     "user": {
      "displayName": "Martin Ramos Mejía",
      "photoUrl": "https://lh3.googleusercontent.com/a-/AOh14GgbpDnPjShOpPH8-P0a8AIZrUcpSYNQwHsEfsDQ8w=s64",
      "userId": "08591007000103530707"
     },
     "user_tz": 180
    },
    "id": "MYeQxdYd727j"
   },
   "outputs": [],
   "source": [
    "subject_data = [(1, 'Subject 1'),\n",
    "                (1, 'Subject 1'),\n",
    "               (2, 'Subject 2'),\n",
    "               (200, 'Subject 1500'),\n",
    "               (2, 'Subject 2 repetido')]\n",
    "\n",
    "b = sc.parallelize(subject_data)"
   ]
  },
  {
   "cell_type": "code",
   "execution_count": 8,
   "metadata": {
    "colab": {
     "base_uri": "https://localhost:8080/"
    },
    "executionInfo": {
     "elapsed": 1132,
     "status": "ok",
     "timestamp": 1620080860058,
     "user": {
      "displayName": "Martin Ramos Mejía",
      "photoUrl": "https://lh3.googleusercontent.com/a-/AOh14GgbpDnPjShOpPH8-P0a8AIZrUcpSYNQwHsEfsDQ8w=s64",
      "userId": "08591007000103530707"
     },
     "user_tz": 180
    },
    "id": "LLPiWoeq727k",
    "outputId": "b5704582-0fad-4847-f164-d9f5c26ee405"
   },
   "outputs": [
    {
     "data": {
      "text/plain": [
       "[(1, 'Subject 1'),\n",
       " (1, 'Subject 1'),\n",
       " (2, 'Subject 2'),\n",
       " (200, 'Subject 1500'),\n",
       " (2, 'Subject 2 repetido')]"
      ]
     },
     "execution_count": 8,
     "metadata": {},
     "output_type": "execute_result"
    }
   ],
   "source": [
    "b.collect()"
   ]
  },
  {
   "cell_type": "markdown",
   "metadata": {
    "id": "kmbJlgTl727k"
   },
   "source": [
    "## Inner Join (Join)\n",
    "\n",
    "Cuando se llama para sets de datos del tipo (K,V) y (K,W) devuelve un set de datos del tipo (K, (V,W)) con todos los pares de elementos para cada key. (especificamente los que hay en comun por esa clave en ambos sets de datos)"
   ]
  },
  {
   "cell_type": "code",
   "execution_count": 10,
   "metadata": {
    "colab": {
     "base_uri": "https://localhost:8080/"
    },
    "executionInfo": {
     "elapsed": 1527,
     "status": "ok",
     "timestamp": 1620080865264,
     "user": {
      "displayName": "Martin Ramos Mejía",
      "photoUrl": "https://lh3.googleusercontent.com/a-/AOh14GgbpDnPjShOpPH8-P0a8AIZrUcpSYNQwHsEfsDQ8w=s64",
      "userId": "08591007000103530707"
     },
     "user_tz": 180
    },
    "id": "boUTL08Y727k",
    "outputId": "e3f890b4-130d-45ae-e30b-8a385df4b75d"
   },
   "outputs": [
    {
     "data": {
      "text/plain": [
       "[(1, ('People A', 'Subject 1')),\n",
       " (1, ('People A', 'Subject 1')),\n",
       " (1, ('People A', 'Subject 1')),\n",
       " (1, ('People A', 'Subject 1')),\n",
       " (2, ('People B', 'Subject 2')),\n",
       " (2, ('People B', 'Subject 2 repetido'))]"
      ]
     },
     "execution_count": 10,
     "metadata": {},
     "output_type": "execute_result"
    }
   ],
   "source": [
    "a.join(b).collect()"
   ]
  },
  {
   "cell_type": "markdown",
   "metadata": {
    "id": "y7vmKAVk727l"
   },
   "source": [
    "## Left Outer Join\n",
    "\n",
    "Cuando se llama para sets de datos del tipo (K,V) y (K,W) devuelve un set de datos del tipo (K, (V,W)) asegurandonos que todos los datos del set de datos izquierdo estaran en el resultado del join."
   ]
  },
  {
   "cell_type": "code",
   "execution_count": 11,
   "metadata": {
    "colab": {
     "base_uri": "https://localhost:8080/"
    },
    "executionInfo": {
     "elapsed": 1565,
     "status": "ok",
     "timestamp": 1620080875317,
     "user": {
      "displayName": "Martin Ramos Mejía",
      "photoUrl": "https://lh3.googleusercontent.com/a-/AOh14GgbpDnPjShOpPH8-P0a8AIZrUcpSYNQwHsEfsDQ8w=s64",
      "userId": "08591007000103530707"
     },
     "user_tz": 180
    },
    "id": "yUSSWD-S727m",
    "outputId": "3d034ac3-0cc6-4873-d0ba-e731dfe0e8f5"
   },
   "outputs": [
    {
     "data": {
      "text/plain": [
       "[(1, ('People A', 'Subject 1')),\n",
       " (1, ('People A', 'Subject 1')),\n",
       " (1, ('People A', 'Subject 1')),\n",
       " (1, ('People A', 'Subject 1')),\n",
       " (2, ('People B', 'Subject 2')),\n",
       " (2, ('People B', 'Subject 2 repetido')),\n",
       " (3, ('People C', None)),\n",
       " (4, ('People D', None)),\n",
       " (5, ('People E', None))]"
      ]
     },
     "execution_count": 11,
     "metadata": {},
     "output_type": "execute_result"
    }
   ],
   "source": [
    "a.leftOuterJoin(b).collect()"
   ]
  },
  {
   "cell_type": "markdown",
   "metadata": {
    "id": "CaL2E25L727m"
   },
   "source": [
    "## Right Outer Join\n",
    "Cuando se llama para sets de datos del tipo (K,V) y (K,W) devuelve un set de datos del tipo (K, (V,W)) asegurandonos que todos los datos del set de datos derecho estaran en el resultado del join."
   ]
  },
  {
   "cell_type": "code",
   "execution_count": 42,
   "metadata": {
    "colab": {
     "base_uri": "https://localhost:8080/"
    },
    "executionInfo": {
     "elapsed": 1458,
     "status": "ok",
     "timestamp": 1620080878626,
     "user": {
      "displayName": "Martin Ramos Mejía",
      "photoUrl": "https://lh3.googleusercontent.com/a-/AOh14GgbpDnPjShOpPH8-P0a8AIZrUcpSYNQwHsEfsDQ8w=s64",
      "userId": "08591007000103530707"
     },
     "user_tz": 180
    },
    "id": "c6-xdRWl727o",
    "outputId": "382ae294-ed79-42c2-8d8c-8f70aed5877d"
   },
   "outputs": [
    {
     "data": {
      "text/plain": [
       "[(200, (None, 'Subject 1500')),\n",
       " (1, ('People A', 'Subject 1')),\n",
       " (1, ('People A', 'Subject 1')),\n",
       " (1, ('People A', 'Subject 1')),\n",
       " (1, ('People A', 'Subject 1')),\n",
       " (2, ('People B', 'Subject 2')),\n",
       " (2, ('People B', 'Subject 2 repetido'))]"
      ]
     },
     "execution_count": 42,
     "metadata": {
      "tags": []
     },
     "output_type": "execute_result"
    }
   ],
   "source": [
    "a.rightOuterJoin(b).collect()"
   ]
  },
  {
   "cell_type": "markdown",
   "metadata": {
    "id": "v4QhzRMo727o"
   },
   "source": [
    "## Outer/Full Join\n",
    "\n",
    "Cuando se llama para sets de datos del tipo (K,V) y (K,W) devuelve un set de datos del tipo (K, (V,W)) asegurandonos que todos los datos de ambos set de datos estaran aunque no haya match de keys. "
   ]
  },
  {
   "cell_type": "code",
   "execution_count": 43,
   "metadata": {
    "colab": {
     "base_uri": "https://localhost:8080/"
    },
    "executionInfo": {
     "elapsed": 1459,
     "status": "ok",
     "timestamp": 1620080885885,
     "user": {
      "displayName": "Martin Ramos Mejía",
      "photoUrl": "https://lh3.googleusercontent.com/a-/AOh14GgbpDnPjShOpPH8-P0a8AIZrUcpSYNQwHsEfsDQ8w=s64",
      "userId": "08591007000103530707"
     },
     "user_tz": 180
    },
    "id": "vyI6nVvy727p",
    "outputId": "79e085c2-ee27-4165-e8d1-3cf77251eaf0"
   },
   "outputs": [
    {
     "data": {
      "text/plain": [
       "[(4, ('People D', None)),\n",
       " (200, (None, 'Subject 1500')),\n",
       " (1, ('People A', 'Subject 1')),\n",
       " (1, ('People A', 'Subject 1')),\n",
       " (1, ('People A', 'Subject 1')),\n",
       " (1, ('People A', 'Subject 1')),\n",
       " (5, ('People E', None)),\n",
       " (2, ('People B', 'Subject 2')),\n",
       " (2, ('People B', 'Subject 2 repetido')),\n",
       " (3, ('People C', None))]"
      ]
     },
     "execution_count": 43,
     "metadata": {
      "tags": []
     },
     "output_type": "execute_result"
    }
   ],
   "source": [
    "a.fullOuterJoin(b).collect()"
   ]
  },
  {
   "cell_type": "code",
   "execution_count": 35,
   "metadata": {
    "executionInfo": {
     "elapsed": 1052,
     "status": "ok",
     "timestamp": 1620080780502,
     "user": {
      "displayName": "Martin Ramos Mejía",
      "photoUrl": "https://lh3.googleusercontent.com/a-/AOh14GgbpDnPjShOpPH8-P0a8AIZrUcpSYNQwHsEfsDQ8w=s64",
      "userId": "08591007000103530707"
     },
     "user_tz": 180
    },
    "id": "Wz5rj5zTUk_H"
   },
   "outputs": [],
   "source": []
  }
 ],
 "metadata": {
  "colab": {
   "collapsed_sections": [],
   "name": "Joins-en-spark.ipynb",
   "provenance": []
  },
  "kernelspec": {
   "display_name": "Python 3",
   "language": "python",
   "name": "python3"
  },
  "language_info": {
   "codemirror_mode": {
    "name": "ipython",
    "version": 3
   },
   "file_extension": ".py",
   "mimetype": "text/x-python",
   "name": "python",
   "nbconvert_exporter": "python",
   "pygments_lexer": "ipython3",
   "version": "3.9.1"
  }
 },
 "nbformat": 4,
 "nbformat_minor": 4
}

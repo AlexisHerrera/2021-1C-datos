{
 "cells": [
  {
   "cell_type": "code",
   "execution_count": 1,
   "metadata": {
    "colab": {
     "base_uri": "https://localhost:8080/"
    },
    "id": "caWRNg5SSVG7",
    "outputId": "dc5359ab-892d-4ff1-d58c-5b30a9128e35"
   },
   "outputs": [],
   "source": [
    "import os\n",
    "os.environ[\"JAVA_HOME\"] = \"/usr/lib/jvm/java-8-openjdk-amd64\""
   ]
  },
  {
   "cell_type": "code",
   "execution_count": 2,
   "metadata": {
    "id": "PwC4R5OESXY0"
   },
   "outputs": [],
   "source": [
    "from pyspark.sql import *\n",
    "from pyspark.sql.functions import *\n",
    "from pyspark import SparkContext\n",
    "from pyspark.sql import SQLContext\n",
    "import pandas as pd"
   ]
  },
  {
   "cell_type": "code",
   "execution_count": 3,
   "metadata": {
    "id": "EkxkY9R6fAka"
   },
   "outputs": [],
   "source": [
    "spark = SparkSession.builder.getOrCreate()\n",
    "sc = spark.sparkContext"
   ]
  },
  {
   "cell_type": "markdown",
   "metadata": {
    "id": "V3KEZnbSV76n"
   },
   "source": [
    "# 2020-02 Parcial"
   ]
  },
  {
   "cell_type": "markdown",
   "metadata": {
    "id": "Lj0C30ope1IM"
   },
   "source": [
    "Tenemos un RDD con información de recetas:\n",
    "\n",
    "(ID_Receta, Nombre, Categoría)\n",
    "\n",
    "Y otro RDD con los ingredientes de cada receta:\n",
    "\n",
    "(ID_Receta, Ingrediente, Cantidad_Kg)\n",
    "\n",
    "Queremos obtener:\n",
    "\n",
    "* a) Listar todos los ingredientes que aparecen en alguna receta que usa \"pollo\" indicando en\n",
    "cuantas recetas el ingrediente y pollo aparecen juntos. El formato de salida es (ingrediente,\n",
    "cantidad de recetas en que aparece junto con pollo). Por ejemplo, la papa aparece en 10\n",
    "recetas con pollo, por lo que tendríamos (papa, 10). (50 pts)\n",
    "\n",
    "* b) Queremos obtener todos los nombres de recetas Mediterráneas que no tengan ni papa ni\n",
    "pollo entre sus ingredientes.(50 pts)\n",
    "\n",
    "Resolver los puntos usando la API de RDDs de PySpark."
   ]
  },
  {
   "cell_type": "code",
   "execution_count": 38,
   "metadata": {
    "id": "zrAymuyae-px"
   },
   "outputs": [],
   "source": [
    "recetas = [\n",
    "    (1, 'wok', 'China'),\n",
    "    (2, 'estofado', 'Italiana'),\n",
    "    (3, 'tortilla', 'Mediterranea'),\n",
    "    (4, 'Pollo al horno', 'Mediterranea'),\n",
    "    (5, 'Ni Pollo ni papa', 'Mediterranea')\n",
    "]\n",
    "\n",
    "ingredientes = [\n",
    "    (1, 'pollo', 0.4),\n",
    "    (1, 'zanahoria', 0.2),\n",
    "    (1, 'papa', 0.2),\n",
    "    (2, 'carne', 1),\n",
    "    (3, 'papa', 0.5),\n",
    "    (4, 'pollo', 0.3),\n",
    "    (4, 'papa', 0.2),\n",
    "    (4, 'cebolla', 0.1),\n",
    "    (5, 'carne', 0.1),\n",
    "    (5, 'sal', 0.01)\n",
    "]"
   ]
  },
  {
   "cell_type": "code",
   "execution_count": 39,
   "metadata": {},
   "outputs": [],
   "source": [
    "recetasRDD = sc.parallelize(recetas)\n",
    "ingredientesRDD = sc.parallelize(ingredientes)"
   ]
  },
  {
   "cell_type": "code",
   "execution_count": 40,
   "metadata": {},
   "outputs": [
    {
     "data": {
      "text/plain": [
       "[(1, 'wok', 'China'),\n",
       " (2, 'estofado', 'Italiana'),\n",
       " (3, 'tortilla', 'Mediterranea')]"
      ]
     },
     "execution_count": 40,
     "metadata": {},
     "output_type": "execute_result"
    }
   ],
   "source": [
    "recetasRDD.take(3)"
   ]
  },
  {
   "cell_type": "code",
   "execution_count": 41,
   "metadata": {},
   "outputs": [
    {
     "data": {
      "text/plain": [
       "[(1, 'pollo', 0.4), (1, 'zanahoria', 0.2), (1, 'papa', 0.2)]"
      ]
     },
     "execution_count": 41,
     "metadata": {},
     "output_type": "execute_result"
    }
   ],
   "source": [
    "ingredientesRDD.take(3)"
   ]
  },
  {
   "cell_type": "markdown",
   "metadata": {},
   "source": [
    "## Resolución del parcial\n",
    "* a) Listar todos los ingredientes que aparecen en alguna receta que usa \"pollo\" indicando en\n",
    "cuantas recetas el ingrediente y pollo aparecen juntos. El formato de salida es (ingrediente,\n",
    "cantidad de recetas en que aparece junto con pollo). Por ejemplo, la papa aparece en 10\n",
    "recetas con pollo, por lo que tendríamos (papa, 10). (50 pts)"
   ]
  },
  {
   "cell_type": "code",
   "execution_count": 42,
   "metadata": {},
   "outputs": [
    {
     "data": {
      "text/plain": [
       "[(1, 'pollo'), (4, 'pollo')]"
      ]
     },
     "execution_count": 42,
     "metadata": {},
     "output_type": "execute_result"
    }
   ],
   "source": [
    "recetas_con_pollo = ingredientesRDD.filter(lambda x : x[1] == 'pollo').map(lambda x: (x[0],x[1]))\n",
    "recetas_con_pollo.take(3)"
   ]
  },
  {
   "cell_type": "code",
   "execution_count": 43,
   "metadata": {},
   "outputs": [
    {
     "data": {
      "text/plain": [
       "[(1, ('zanahoria', 'pollo')),\n",
       " (1, ('papa', 'pollo')),\n",
       " (4, ('papa', 'pollo')),\n",
       " (4, ('cebolla', 'pollo'))]"
      ]
     },
     "execution_count": 43,
     "metadata": {},
     "output_type": "execute_result"
    }
   ],
   "source": [
    "ing_pollo = ingredientesRDD.filter(lambda x: x[1] != 'pollo').map(lambda x: (x[0],x[1])).join(recetas_con_pollo)\n",
    "ing_pollo.collect()"
   ]
  },
  {
   "cell_type": "code",
   "execution_count": 44,
   "metadata": {},
   "outputs": [
    {
     "data": {
      "text/plain": [
       "[('zanahoria', 1), ('papa', 2), ('cebolla', 1)]"
      ]
     },
     "execution_count": 44,
     "metadata": {},
     "output_type": "execute_result"
    }
   ],
   "source": [
    "freq_ing_pollo = ing_pollo.map(lambda x: (x[1][0],1)).reduceByKey(lambda x,y: x+y)\n",
    "freq_ing_pollo.collect()"
   ]
  },
  {
   "cell_type": "markdown",
   "metadata": {},
   "source": [
    "\n",
    "* b) Queremos obtener todos los nombres de recetas Mediterráneas que no tengan ni papa ni\n",
    "pollo entre sus ingredientes.(50 pts)"
   ]
  },
  {
   "cell_type": "code",
   "execution_count": 49,
   "metadata": {},
   "outputs": [
    {
     "data": {
      "text/plain": [
       "[(3, 'tortilla'), (4, 'Pollo al horno'), (5, 'Ni Pollo ni papa')]"
      ]
     },
     "execution_count": 49,
     "metadata": {},
     "output_type": "execute_result"
    }
   ],
   "source": [
    "recetas_mediterraneas = recetasRDD.filter(lambda x: x[2] == 'Mediterranea').map(lambda x: (x[0],x[1]))\n",
    "recetas_mediterraneas.collect()"
   ]
  },
  {
   "cell_type": "code",
   "execution_count": 58,
   "metadata": {},
   "outputs": [
    {
     "data": {
      "text/plain": [
       "['Ni Pollo ni papa']"
      ]
     },
     "execution_count": 58,
     "metadata": {},
     "output_type": "execute_result"
    }
   ],
   "source": [
    "recetas_mediterraneas.join(ingredientesRDD.map(lambda x: (x[0],x[1])))\\\n",
    "    .map(lambda x: (x[1][0],1 if x[1][1] in ['pollo','papa'] else 0))\\\n",
    "    .reduceByKey(lambda x,y: x+y).filter(lambda x: x[1] == 0)\\\n",
    "    .map(lambda x: x[0]).collect()"
   ]
  }
 ],
 "metadata": {
  "kernelspec": {
   "display_name": "Python 3",
   "language": "python",
   "name": "python3"
  },
  "language_info": {
   "codemirror_mode": {
    "name": "ipython",
    "version": 3
   },
   "file_extension": ".py",
   "mimetype": "text/x-python",
   "name": "python",
   "nbconvert_exporter": "python",
   "pygments_lexer": "ipython3",
   "version": "3.9.1"
  }
 },
 "nbformat": 4,
 "nbformat_minor": 4
}

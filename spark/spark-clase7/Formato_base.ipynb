{
 "cells": [
  {
   "cell_type": "code",
   "execution_count": 1,
   "metadata": {
    "colab": {
     "base_uri": "https://localhost:8080/"
    },
    "id": "caWRNg5SSVG7",
    "outputId": "dc5359ab-892d-4ff1-d58c-5b30a9128e35"
   },
   "outputs": [],
   "source": [
    "import os\n",
    "os.environ[\"JAVA_HOME\"] = \"/usr/lib/jvm/java-8-openjdk-amd64\""
   ]
  },
  {
   "cell_type": "code",
   "execution_count": 7,
   "metadata": {
    "id": "PwC4R5OESXY0"
   },
   "outputs": [],
   "source": [
    "from pyspark.sql import *\n",
    "from pyspark.sql.functions import *\n",
    "from pyspark import SparkContext\n",
    "from pyspark.sql import SQLContext\n",
    "import pandas as pd\n",
    "import random as rd"
   ]
  },
  {
   "cell_type": "code",
   "execution_count": 8,
   "metadata": {
    "id": "EkxkY9R6fAka"
   },
   "outputs": [],
   "source": [
    "spark = SparkSession.builder.getOrCreate()\n",
    "sc = spark.sparkContext\n",
    "sqlContext = SQLContext(sc)"
   ]
  },
  {
   "cell_type": "markdown",
   "metadata": {},
   "source": [
    "# Crear datasets"
   ]
  },
  {
   "cell_type": "code",
   "execution_count": 12,
   "metadata": {},
   "outputs": [],
   "source": [
    "# BORRAR ESTO!!!!!!!!!!!!!!!!\n",
    "size_obs = 10\n",
    "df = pd.DataFrame({\n",
    "    'uid': rd.choices(range(1,10), k=size_obs),\n",
    "    'sessionid': rd.sample(range(1,size_obs+1),k=size_obs),\n",
    "    'event': rd.choices(['ecommerce.view-product', 'ecommerce.checkout', 'ecommerce.conversion', 'ecommerce.other'],k=size_obs),\n",
    "    'value': rd.choices(range(1,12),k=size_obs),\n",
    "    'datetime':pd.date_range(start='2021-03-01',freq='S',periods=size_obs).strftime(\"%Y-%m-%d\"),\n",
    "    'nombre':[\"libro\"+str(i) for i in range(1,101)], \n",
    "})"
   ]
  },
  {
   "cell_type": "code",
   "execution_count": 13,
   "metadata": {},
   "outputs": [
    {
     "data": {
      "text/plain": [
       "[(1,)]"
      ]
     },
     "execution_count": 13,
     "metadata": {},
     "output_type": "execute_result"
    }
   ],
   "source": [
    "# dataframe 1\n",
    "df = pd.DataFrame({\n",
    "    \"xx\":[1]\n",
    "})\n",
    "x = sqlContext.createDataFrame(df).rdd.map(tuple).cache()\n",
    "x.take(3)"
   ]
  },
  {
   "cell_type": "code",
   "execution_count": 14,
   "metadata": {},
   "outputs": [
    {
     "data": {
      "text/plain": [
       "[(1,)]"
      ]
     },
     "execution_count": 14,
     "metadata": {},
     "output_type": "execute_result"
    }
   ],
   "source": [
    "# dataframe 2\n",
    "df2 = pd.DataFrame({\n",
    "    \"xx\":[1]\n",
    "})\n",
    "y = sqlContext.createDataFrame(df2).rdd.map(tuple).cache()\n",
    "y.take(3)"
   ]
  }
 ],
 "metadata": {
  "kernelspec": {
   "display_name": "Python 3",
   "language": "python",
   "name": "python3"
  },
  "language_info": {
   "codemirror_mode": {
    "name": "ipython",
    "version": 3
   },
   "file_extension": ".py",
   "mimetype": "text/x-python",
   "name": "python",
   "nbconvert_exporter": "python",
   "pygments_lexer": "ipython3",
   "version": "3.9.1"
  }
 },
 "nbformat": 4,
 "nbformat_minor": 4
}

{
 "cells": [
  {
   "cell_type": "markdown",
   "metadata": {},
   "source": [
    "# Parcial Spark 10/5/21 - 1C "
   ]
  },
  {
   "cell_type": "code",
   "execution_count": 11,
   "metadata": {
    "colab": {
     "base_uri": "https://localhost:8080/"
    },
    "id": "caWRNg5SSVG7",
    "outputId": "dc5359ab-892d-4ff1-d58c-5b30a9128e35"
   },
   "outputs": [],
   "source": [
    "import os\n",
    "os.environ[\"JAVA_HOME\"] = \"/usr/lib/jvm/java-8-openjdk-amd64\""
   ]
  },
  {
   "cell_type": "code",
   "execution_count": 12,
   "metadata": {
    "id": "PwC4R5OESXY0"
   },
   "outputs": [],
   "source": [
    "from pyspark.sql import *\n",
    "from pyspark.sql.functions import *\n",
    "from pyspark import SparkContext\n",
    "from pyspark.sql import SQLContext\n",
    "import pandas as pd\n",
    "import random as rd"
   ]
  },
  {
   "cell_type": "code",
   "execution_count": 13,
   "metadata": {
    "id": "EkxkY9R6fAka"
   },
   "outputs": [],
   "source": [
    "spark = SparkSession.builder.getOrCreate()\n",
    "sc = spark.sparkContext\n",
    "sqlContext = SQLContext(sc)"
   ]
  },
  {
   "cell_type": "markdown",
   "metadata": {},
   "source": [
    "# Crear datasets"
   ]
  },
  {
   "cell_type": "code",
   "execution_count": 14,
   "metadata": {},
   "outputs": [
    {
     "data": {
      "text/plain": [
       "[('2021-01-01', 971, 4, 1),\n",
       " ('2021-01-01', 660, 23, 0),\n",
       " ('2021-01-01', 503, 4, 0)]"
      ]
     },
     "execution_count": 14,
     "metadata": {},
     "output_type": "execute_result"
    }
   ],
   "source": [
    "# dataframe 1\n",
    "df = pd.DataFrame({\n",
    "    'fecha':pd.date_range(start='2021-01-01',freq='H',periods=10000).strftime(\"%Y-%m-%d\"),\n",
    "    'dni': rd.choices(range(1000),k=10000),\n",
    "    'id_localidad': rd.choices(range(25),k=10000),\n",
    "    'resultado':rd.choices([0,1],k=10000)\n",
    "})\n",
    "tests = sqlContext.createDataFrame(df).rdd.map(tuple).cache()\n",
    "tests.take(3)"
   ]
  },
  {
   "cell_type": "code",
   "execution_count": 15,
   "metadata": {},
   "outputs": [
    {
     "data": {
      "text/plain": [
       "[(0, 'localidad0', 'OT'), (1, 'localidad1', 'CO'), (2, 'localidad2', 'SF')]"
      ]
     },
     "execution_count": 15,
     "metadata": {},
     "output_type": "execute_result"
    }
   ],
   "source": [
    "# dataframe 2\n",
    "df2 = pd.DataFrame({\n",
    "    'id_localidad': range(25),\n",
    "    'nombre':[\"localidad\"+str(i) for i in range(25)] ,\n",
    "    'provincia': rd.choices(['BA','CO','SF','OT'],k=25)\n",
    "})\n",
    "localidades = sqlContext.createDataFrame(df2).rdd.map(tuple).cache()\n",
    "localidades.take(3)"
   ]
  },
  {
   "cell_type": "markdown",
   "metadata": {},
   "source": [
    "Resolución del ejercicio\n",
    "* 1)"
   ]
  },
  {
   "cell_type": "code",
   "execution_count": 44,
   "metadata": {},
   "outputs": [],
   "source": [
    "tests_primer_trimestre = tests.filter(lambda x: pd.to_datetime('2021-01-01')<=pd.to_datetime(x[0])<pd.to_datetime('2021-04-01')).cache()\n",
    "tests_primer_trimestre_join = tests_primer_trimestre.map(lambda x: (x[2],int(x[0].split(\"-\")[1])))\n",
    "# ->(id_localidad,mes)"
   ]
  },
  {
   "cell_type": "code",
   "execution_count": 45,
   "metadata": {},
   "outputs": [],
   "source": [
    "def incrementaron_20_porc(x):\n",
    "    \"\"\"Recibe un diccionario del tipo {mes:cant_tests} donde mes es 1,2 o 3\"\"\"\n",
    "    for i in range(2,4):\n",
    "        if (i not in x) or (i-1 not in x):\n",
    "            continue\n",
    "        elif ((x[i] - x[i-1])/x[i-1]) > 0.2:\n",
    "            return True\n",
    "    return False"
   ]
  },
  {
   "cell_type": "code",
   "execution_count": 47,
   "metadata": {},
   "outputs": [
    {
     "data": {
      "text/plain": [
       "['SF']"
      ]
     },
     "execution_count": 47,
     "metadata": {},
     "output_type": "execute_result"
    }
   ],
   "source": [
    "localidades.map(lambda x: (x[0],x[2])).join(tests_primer_trimestre_join)\\\n",
    "    .map(lambda x: (x[1],1))\\\n",
    "    .reduceByKey(lambda x,y: x+y)\\\n",
    "    .map(lambda x: (x[0][0],(x[0][1],x[1])))\\\n",
    "    .groupByKey().map(lambda x: (x[0],dict(x[1])))\\\n",
    "    .filter(lambda x: incrementaron_20_porc(x[1]))\\\n",
    "    .map(lambda x: x[0])"
   ]
  },
  {
   "cell_type": "markdown",
   "metadata": {},
   "source": [
    "Parte b)"
   ]
  },
  {
   "cell_type": "code",
   "execution_count": 54,
   "metadata": {},
   "outputs": [
    {
     "data": {
      "text/plain": [
       "[('localidad24', (40, 97)),\n",
       " ('localidad5', (42, 87)),\n",
       " ('localidad6', (56, 96)),\n",
       " ('localidad7', (44, 90)),\n",
       " ('localidad23', (57, 100)),\n",
       " ('localidad16', (36, 78)),\n",
       " ('localidad3', (44, 86)),\n",
       " ('localidad13', (38, 87)),\n",
       " ('localidad2', (56, 91)),\n",
       " ('localidad10', (47, 99))]"
      ]
     },
     "execution_count": 54,
     "metadata": {},
     "output_type": "execute_result"
    }
   ],
   "source": [
    "rdd_positivos_localidad = localidades.map(lambda x: (x[0],x[1])).join(tests_primer_trimestre.map(lambda x: (x[2],x[3])))\\\n",
    "    .map(lambda x: (x[1][0],(x[1][1],1)))\\\n",
    "    .reduceByKey(lambda x,y: (x[0]+y[0],x[1]+y[1])).cache()"
   ]
  },
  {
   "cell_type": "code",
   "execution_count": 58,
   "metadata": {},
   "outputs": [
    {
     "data": {
      "text/plain": [
       "86.4"
      ]
     },
     "execution_count": 58,
     "metadata": {},
     "output_type": "execute_result"
    }
   ],
   "source": [
    "promedio_localidades = rdd_positivos_localidad.map(lambda x: (x[1][1],1)).reduce(lambda x,y: (x[0]+y[0],x[1]+y[1]))\n",
    "promedio_localidades = promedio_localidades[0]/promedio_localidades[1]\n",
    "promedio_localidades"
   ]
  },
  {
   "cell_type": "code",
   "execution_count": 67,
   "metadata": {},
   "outputs": [
    {
     "data": {
      "text/plain": [
       "'localidad2'"
      ]
     },
     "execution_count": 67,
     "metadata": {},
     "output_type": "execute_result"
    }
   ],
   "source": [
    "rdd_positivos_localidad.filter(lambda x: x[1][1]>= promedio_localidades*0.3)\\\n",
    "    .reduce(lambda x,y: x if (x[1][0]/x[1][1])> y[1][0]/y[1][1] else y)[0]"
   ]
  }
 ],
 "metadata": {
  "kernelspec": {
   "display_name": "Python 3",
   "language": "python",
   "name": "python3"
  },
  "language_info": {
   "codemirror_mode": {
    "name": "ipython",
    "version": 3
   },
   "file_extension": ".py",
   "mimetype": "text/x-python",
   "name": "python",
   "nbconvert_exporter": "python",
   "pygments_lexer": "ipython3",
   "version": "3.9.1"
  }
 },
 "nbformat": 4,
 "nbformat_minor": 4
}

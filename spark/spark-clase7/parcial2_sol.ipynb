{
 "cells": [
  {
   "cell_type": "code",
   "execution_count": 4,
   "metadata": {
    "colab": {
     "base_uri": "https://localhost:8080/"
    },
    "id": "caWRNg5SSVG7",
    "outputId": "dc5359ab-892d-4ff1-d58c-5b30a9128e35"
   },
   "outputs": [],
   "source": [
    "import os\n",
    "os.environ[\"JAVA_HOME\"] = \"/usr/lib/jvm/java-8-openjdk-amd64\""
   ]
  },
  {
   "cell_type": "code",
   "execution_count": 5,
   "metadata": {
    "id": "PwC4R5OESXY0"
   },
   "outputs": [],
   "source": [
    "from pyspark.sql import *\n",
    "from pyspark.sql.functions import *\n",
    "from pyspark import SparkContext\n",
    "from pyspark.sql import SQLContext\n",
    "import pandas as pd"
   ]
  },
  {
   "cell_type": "code",
   "execution_count": 6,
   "metadata": {
    "id": "EkxkY9R6fAka"
   },
   "outputs": [],
   "source": [
    "spark = SparkSession.builder.getOrCreate()\n",
    "sc = spark.sparkContext"
   ]
  },
  {
   "cell_type": "markdown",
   "metadata": {
    "id": "Jtgk83gr5_NV"
   },
   "source": [
    "## Primer Cuatrimestre de 2018. Examen parcial, tercera oportunidad\n",
    "\n",
    "El GCPD (Gotham City Police Dept) recolecta la información de casos policiales que acontecen en Ciudad Gótica. Esta información se encuentra guardada en un archivo con el siguiente formato: (fecha, id_caso, descripción, estado_caso, categoría, latitud, longitud).\n",
    "\n",
    "Los posibles estados que puede tener un caso son 1: caso abierto, 2: caso resuelto, 3: cerrado sin resolución. Las fechas se encuentran en el formato YYYY-MM-DD. \n",
    "\n",
    "Por otro lado el comisionado Gordon guarda un registro detallado sobre en cuáles casos fue activada la batiseñal para pedir ayuda del vigilante, Batman. Esta información se encuentra en un archivo con el siguiente formato (id_caso, respuesta), siendo campo respuesta si la señal tuvo una respuesta positiva (1) o negativa (0) de parte de él.\n",
    "El sector encargado de las estadísticas oficiales del GCPD quiere analizar las siguientes situaciones:\n",
    "\n",
    "a)  Las categorías que hayan incrementado su tasa de resolución en al menos un 10%  en el último trimestre, con respecto al trimestre anterior.\n",
    "b) Tasa de participación de Batman por categoría, para los delitos contra la propiedad (que enmarcan las categorías incendio intencional, robo, hurto, y robo de vehículos) "
   ]
  },
  {
   "cell_type": "code",
   "execution_count": 7,
   "metadata": {
    "id": "hCCffBQr5_NX"
   },
   "outputs": [],
   "source": [
    "# (fecha, id_caso, descripción, estado_caso, categoría, latitud, longitud).\n",
    "cases = [(\"2019-01-01\", 1, \"case 1\", 2, \"otro delito\", -1, -1), \n",
    "         (\"2019-06-01\", 2, \"case 2\", 2, \"robo\", -1, -1),\n",
    "         (\"2019-06-01\", 3, \"case 2\", 3, \"robo\", -1, -1),         \n",
    "         (\"2019-06-01\", 4, \"case 2\", 1, \"robo\", -1, -1),         \n",
    "         (\"2019-06-01\", 5, \"case 2\", 2, \"robo\", -1, -1),\n",
    "         (\"2019-09-01\", 6, \"case 2\", 2, \"robo\", -1, -1),\n",
    "         (\"2019-09-01\", 7, \"case 2\", 2, \"robo\", -1, -1),         \n",
    "         (\"2019-09-01\", 8, \"case 2\", 2, \"robo\", -1, -1),\n",
    "         (\"2019-09-01\", 9, \"case 2\", 2, \"robo\", -1, -1),\n",
    "         (\"2019-09-01\", 10, \"case 2\", 3, \"robo\", -1, -1),\n",
    "         (\"2019-09-01\", 60, \"case 2\", 3, \"robo\", -1, -1),\n",
    "         (\"2019-09-01\", 70, \"case 2\", 3, \"robo\", -1, -1),         \n",
    "         (\"2019-09-01\", 80, \"case 2\", 1, \"robo\", -1, -1),\n",
    "         (\"2019-09-01\", 90, \"case 2\", 2, \"robo\", -1, -1),\n",
    "         (\"2019-09-01\", 100, \"case 2\", 2, \"robo\", -1, -1),\n",
    "         (\"2019-09-01\", 600, \"case 2\", 2, \"robo\", -1, -1),\n",
    "         (\"2019-09-01\", 700, \"case 2\", 3, \"robo\", -1, -1),         \n",
    "         (\"2019-09-01\", 800, \"case 2\", 1, \"robo\", -1, -1),\n",
    "         (\"2019-09-01\", 900, \"case 2\", 1, \"robo\", -1, -1),\n",
    "         (\"2019-09-01\", 1000, \"case 2\", 1, \"robo\", -1, -1),\n",
    "         (\"2019-09-01\", 6000, \"case 2\", 2, \"robo\", -1, -1),\n",
    "         (\"2019-09-01\", 7000, \"case 2\", 2, \"robo\", -1, -1),         \n",
    "         (\"2019-09-01\", 8000, \"case 2\", 3, \"robo\", -1, -1),\n",
    "         (\"2019-09-01\", 9000, \"case 2\", 1, \"robo\", -1, -1),\n",
    "         (\"2019-09-01\", 10000, \"case 2\", 2, \"robo\", -1, -1),\n",
    "         (\"2019-06-01\", 92, \"case 2\", 2, \"hurto\", -1, -1),\n",
    "         (\"2019-06-01\", 93, \"case 2\", 3, \"hurto\", -1, -1),         \n",
    "         (\"2019-06-01\", 94, \"case 2\", 3, \"hurto\", -1, -1),         \n",
    "         (\"2019-06-01\", 95, \"case 2\", 3, \"hurto\", -1, -1),\n",
    "         (\"2019-09-01\", 96, \"case 2\", 2, \"hurto\", -1, -1),\n",
    " \n",
    "        ]\n",
    "\n",
    "# (id_caso, respuesta)\n",
    "batsignal = [(1,1),\n",
    "         (2,1),\n",
    "         (3,0),\n",
    "         (4,0),\n",
    "         (5,1),\n",
    "         (6,0),\n",
    "         (7,1),\n",
    "         (8,0),\n",
    "         (9,1),\n",
    "         (100,1),\n",
    "         (600,0),\n",
    "         (700,1),\n",
    "         (800,0),\n",
    "         (900,1),\n",
    "         (1000,1),\n",
    "         (6000,0),\n",
    "         (7000,1),\n",
    "         (8000,0),\n",
    "         (9000,1),\n",
    "         (10000,1),\n",
    "         (92,0),\n",
    "         (93,0),             \n",
    "         (94,0),\n",
    "         (95,0),             \n",
    "         (96,1)             \n",
    "        ]"
   ]
  },
  {
   "cell_type": "code",
   "execution_count": 8,
   "metadata": {
    "id": "WzEvpizW5_NZ"
   },
   "outputs": [],
   "source": [
    "casesRdd = sc.parallelize(cases)\n",
    "batsignalRdd = sc.parallelize(batsignal)"
   ]
  },
  {
   "cell_type": "markdown",
   "metadata": {},
   "source": [
    "a)  Las categorías que hayan incrementado su tasa de resolución en al menos un 10%  en el último trimestre, con respecto al trimestre anterior."
   ]
  },
  {
   "cell_type": "code",
   "execution_count": 59,
   "metadata": {},
   "outputs": [],
   "source": [
    "def en_periodo(x):\n",
    "    # Consideramos (por los datos) los trimestres 2 (abril a junio)y 3(julio a septiembre)\n",
    "    return pd.to_datetime(\"2019-04-01\")<=pd.to_datetime(x[0])<pd.to_datetime(\"2019-10-01\")\n",
    "\n",
    "def clasificar_categoria_periodo_resueltos(x):\n",
    "    \"\"\" \n",
    "    Input: [fecha, id_caso, descripción, estado_caso, categoría, latitud, longitud]\n",
    "    Devuelve: ((categoria,periodo),(es_caso_resuelto,1))\"\"\"\n",
    "    categoria = x[4]\n",
    "    fecha = pd.to_datetime(x[0])\n",
    "    return ((categoria,0 if fecha<pd.to_datetime(\"2019-07-01\") else 1),(1 if x[3] == 2 else 0,1))"
   ]
  },
  {
   "cell_type": "code",
   "execution_count": 60,
   "metadata": {},
   "outputs": [
    {
     "data": {
      "text/plain": [
       "[(('robo', 0), (1, 1)),\n",
       " (('robo', 0), (0, 1)),\n",
       " (('robo', 0), (1, 1)),\n",
       " (('robo', 1), (1, 1)),\n",
       " (('robo', 1), (1, 1)),\n",
       " (('robo', 1), (1, 1)),\n",
       " (('robo', 1), (1, 1)),\n",
       " (('robo', 1), (0, 1)),\n",
       " (('robo', 1), (0, 1)),\n",
       " (('robo', 1), (0, 1)),\n",
       " (('robo', 1), (1, 1)),\n",
       " (('robo', 1), (1, 1)),\n",
       " (('robo', 1), (1, 1)),\n",
       " (('robo', 1), (0, 1)),\n",
       " (('robo', 1), (1, 1)),\n",
       " (('robo', 1), (1, 1)),\n",
       " (('robo', 1), (0, 1)),\n",
       " (('robo', 1), (1, 1)),\n",
       " (('hurto', 0), (1, 1)),\n",
       " (('hurto', 0), (0, 1)),\n",
       " (('hurto', 0), (0, 1)),\n",
       " (('hurto', 0), (0, 1)),\n",
       " (('hurto', 1), (1, 1))]"
      ]
     },
     "execution_count": 60,
     "metadata": {},
     "output_type": "execute_result"
    }
   ],
   "source": [
    "#filtramos los que no son de esos trimestres\n",
    "casos_periodo = casesRdd.filter(lambda x: x[3] in [2,3])\\\n",
    "                        .filter(en_periodo)\\\n",
    "                        .map(clasificar_categoria_periodo_resueltos)\n",
    "casos_periodo.collect()"
   ]
  },
  {
   "cell_type": "code",
   "execution_count": 61,
   "metadata": {},
   "outputs": [
    {
     "data": {
      "text/plain": [
       "[(('robo', 0), (2, 3)),\n",
       " (('hurto', 1), (1, 1)),\n",
       " (('robo', 1), (10, 15)),\n",
       " (('hurto', 0), (1, 4))]"
      ]
     },
     "execution_count": 61,
     "metadata": {},
     "output_type": "execute_result"
    }
   ],
   "source": [
    "casos_periodo_total = casos_periodo.reduceByKey(lambda x,y: (x[0]+y[0],x[1]+y[1]))\n",
    "# ((categoria,periodo),(total_resueltos,total_casos))\n",
    "casos_periodo_total.collect()"
   ]
  },
  {
   "cell_type": "code",
   "execution_count": 55,
   "metadata": {},
   "outputs": [
    {
     "data": {
      "text/plain": [
       "[('hurto', {1: (1, 1), 0: (1, 4)}), ('robo', {0: (2, 3), 1: (10, 15)})]"
      ]
     },
     "execution_count": 55,
     "metadata": {},
     "output_type": "execute_result"
    }
   ],
   "source": [
    "casos_por_categoria = casos_periodo_total.map(lambda x: (x[0][0],(x[0][1],x[1]))).groupByKey().map(lambda x: (x[0],dict(x[1])))\n",
    "\n",
    "casos_por_categoria.collect()"
   ]
  },
  {
   "cell_type": "code",
   "execution_count": 84,
   "metadata": {},
   "outputs": [],
   "source": [
    "def tasa_aumento_diez_porciento(x):\n",
    "    \"\"\"\n",
    "    Input : {periodo:(casos_resueltos,casos_totales)}\n",
    "    Periodos: 0 o 1\n",
    "    \"\"\"\n",
    "    return (x[1][0]/x[1][1]-x[0][0]/x[0][1])>0.1"
   ]
  },
  {
   "cell_type": "code",
   "execution_count": 85,
   "metadata": {},
   "outputs": [
    {
     "data": {
      "text/plain": [
       "['hurto']"
      ]
     },
     "execution_count": 85,
     "metadata": {},
     "output_type": "execute_result"
    }
   ],
   "source": [
    "casos_por_categoria.filter(lambda x: tasa_aumento_diez_porciento(x[1])).map(lambda x: x[0]).collect()"
   ]
  },
  {
   "cell_type": "markdown",
   "metadata": {},
   "source": [
    "b) Tasa de participación de Batman por categoría, para los delitos contra la propiedad (que enmarcan las categorías incendio intencional, robo, hurto, y robo de vehículos) "
   ]
  },
  {
   "cell_type": "code",
   "execution_count": 90,
   "metadata": {},
   "outputs": [
    {
     "data": {
      "text/plain": [
       "[(1, 1),\n",
       " (2, 1),\n",
       " (5, 1),\n",
       " (7, 1),\n",
       " (9, 1),\n",
       " (100, 1),\n",
       " (700, 1),\n",
       " (900, 1),\n",
       " (1000, 1),\n",
       " (7000, 1),\n",
       " (9000, 1),\n",
       " (10000, 1),\n",
       " (96, 1)]"
      ]
     },
     "execution_count": 90,
     "metadata": {},
     "output_type": "execute_result"
    }
   ],
   "source": [
    "casos_batman_asiste = batsignalRdd.filter(lambda x: x[1] == 1)\n",
    "#ya esta en formato (id_caso,asiste)\n",
    "casos_batman_asiste.collect()"
   ]
  },
  {
   "cell_type": "code",
   "execution_count": 97,
   "metadata": {},
   "outputs": [
    {
     "data": {
      "text/plain": [
       "[(8, ('robo', None)),\n",
       " (80, ('robo', None)),\n",
       " (600, ('robo', None)),\n",
       " (800, ('robo', None)),\n",
       " (1000, ('robo', 1)),\n",
       " (6000, ('robo', None)),\n",
       " (7000, ('robo', 1)),\n",
       " (8000, ('robo', None)),\n",
       " (9000, ('robo', 1)),\n",
       " (10000, ('robo', 1)),\n",
       " (96, ('hurto', 1)),\n",
       " (9, ('robo', 1)),\n",
       " (2, ('robo', 1)),\n",
       " (10, ('robo', None)),\n",
       " (90, ('robo', None)),\n",
       " (3, ('robo', None)),\n",
       " (4, ('robo', None)),\n",
       " (60, ('robo', None)),\n",
       " (100, ('robo', 1)),\n",
       " (700, ('robo', 1)),\n",
       " (900, ('robo', 1)),\n",
       " (92, ('hurto', None)),\n",
       " (5, ('robo', 1)),\n",
       " (93, ('hurto', None)),\n",
       " (6, ('robo', None)),\n",
       " (70, ('robo', None)),\n",
       " (94, ('hurto', None)),\n",
       " (7, ('robo', 1)),\n",
       " (95, ('hurto', None))]"
      ]
     },
     "execution_count": 97,
     "metadata": {},
     "output_type": "execute_result"
    }
   ],
   "source": [
    "delitos_contra_la_propiedad = ['incendio intencional','robo','hurto','robo de vehículos']\n",
    "casos_delitos_contra_la_propiedad = casesRdd.filter(lambda x: x[4] in delitos_contra_la_propiedad).map(lambda x: (x[1],x[4]))\n",
    "casos_asistencia = casos_delitos_contra_la_propiedad.leftOuterJoin(casos_batman_asiste)\n",
    "casos_asistencia.collect()\n"
   ]
  },
  {
   "cell_type": "code",
   "execution_count": 103,
   "metadata": {},
   "outputs": [
    {
     "data": {
      "text/plain": [
       "[('robo', 0.4583333333333333), ('hurto', 0.2)]"
      ]
     },
     "execution_count": 103,
     "metadata": {},
     "output_type": "execute_result"
    }
   ],
   "source": [
    "casos_asistencia\\\n",
    "    .map(lambda x : (x[1][0],(1 if x[1][1] == 1 else 0,1)))\\\n",
    "    .reduceByKey(lambda x,y: (x[0]+y[0],x[1]+y[1]))\\\n",
    "    .map(lambda x: (x[0],x[1][0]/x[1][1])).collect()"
   ]
  }
 ],
 "metadata": {
  "kernelspec": {
   "display_name": "Python 3",
   "language": "python",
   "name": "python3"
  },
  "language_info": {
   "codemirror_mode": {
    "name": "ipython",
    "version": 3
   },
   "file_extension": ".py",
   "mimetype": "text/x-python",
   "name": "python",
   "nbconvert_exporter": "python",
   "pygments_lexer": "ipython3",
   "version": "3.9.1"
  }
 },
 "nbformat": 4,
 "nbformat_minor": 4
}

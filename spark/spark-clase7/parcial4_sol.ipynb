{
 "cells": [
  {
   "cell_type": "code",
   "execution_count": 1,
   "metadata": {
    "colab": {
     "base_uri": "https://localhost:8080/"
    },
    "id": "caWRNg5SSVG7",
    "outputId": "dc5359ab-892d-4ff1-d58c-5b30a9128e35"
   },
   "outputs": [],
   "source": [
    "import os\n",
    "os.environ[\"JAVA_HOME\"] = \"/usr/lib/jvm/java-8-openjdk-amd64\""
   ]
  },
  {
   "cell_type": "code",
   "execution_count": 2,
   "metadata": {
    "id": "PwC4R5OESXY0"
   },
   "outputs": [],
   "source": [
    "from pyspark.sql import *\n",
    "from pyspark.sql.functions import *\n",
    "from pyspark import SparkContext\n",
    "from pyspark.sql import SQLContext\n",
    "import pandas as pd\n",
    "import random as rd"
   ]
  },
  {
   "cell_type": "code",
   "execution_count": 3,
   "metadata": {
    "id": "EkxkY9R6fAka"
   },
   "outputs": [],
   "source": [
    "spark = SparkSession.builder.getOrCreate()\n",
    "sc = spark.sparkContext\n",
    "sqlContext = SQLContext(sc)"
   ]
  },
  {
   "cell_type": "markdown",
   "metadata": {},
   "source": [
    "# Crear datasets"
   ]
  },
  {
   "cell_type": "code",
   "execution_count": 66,
   "metadata": {},
   "outputs": [],
   "source": [
    "df = pd.DataFrame({\n",
    "    'id_libro': range(1,101),\n",
    "    'nombre':[\"libro\"+str(i) for i in range(1,101)], \n",
    "    'género': rd.choices(['terror', 'suspenso', 'ciencia ficcion', 'anime','romantico','maravilloso','otros'],k=100),\n",
    "    'autor':rd.choices([\"autor\"+str(i) for i in range(1,30)],k=100)\n",
    "})\n",
    "libros = sqlContext.createDataFrame(df).rdd.map(tuple).cache()"
   ]
  },
  {
   "cell_type": "code",
   "execution_count": 67,
   "metadata": {},
   "outputs": [],
   "source": [
    "df = pd.DataFrame({\n",
    " 'id_venta': range(1,1001),\n",
    " 'id_libro': rd.choices(range(1,101),k=1000),\n",
    " 'dia_venta': pd.date_range(start='2020-07-21',freq='H',periods=1000).strftime(\"%d\"),\n",
    " 'mes_venta': pd.date_range(start='2020-07-21',freq='H',periods=1000).strftime(\"%B\"),\n",
    " 'año_venta': pd.date_range(start='2020-07-21',freq='H',periods=1000).strftime(\"%Y\"),\n",
    " 'hora_venta':pd.date_range(start='2020-07-21',freq='H',periods=1000).strftime(\"%H\"),\n",
    " 'precio': rd.choices(range(100,1000),k=1000)\n",
    "})\n",
    "ventas = sqlContext.createDataFrame(df).rdd.map(tuple).cache()"
   ]
  },
  {
   "cell_type": "code",
   "execution_count": 68,
   "metadata": {},
   "outputs": [
    {
     "data": {
      "text/plain": [
       "[(1, 'libro1', 'maravilloso', 'autor11'),\n",
       " (2, 'libro2', 'maravilloso', 'autor15'),\n",
       " (3, 'libro3', 'ciencia ficcion', 'autor9'),\n",
       " (4, 'libro4', 'suspenso', 'autor24'),\n",
       " (5, 'libro5', 'maravilloso', 'autor26'),\n",
       " (6, 'libro6', 'anime', 'autor11'),\n",
       " (7, 'libro7', 'maravilloso', 'autor29'),\n",
       " (8, 'libro8', 'suspenso', 'autor11'),\n",
       " (9, 'libro9', 'maravilloso', 'autor8'),\n",
       " (10, 'libro10', 'terror', 'autor26')]"
      ]
     },
     "execution_count": 68,
     "metadata": {},
     "output_type": "execute_result"
    }
   ],
   "source": [
    "libros.take(10)"
   ]
  },
  {
   "cell_type": "code",
   "execution_count": 69,
   "metadata": {},
   "outputs": [
    {
     "data": {
      "text/plain": [
       "[(1, 24, '21', 'July', '2020', '00', 936),\n",
       " (2, 13, '21', 'July', '2020', '01', 518),\n",
       " (3, 54, '21', 'July', '2020', '02', 428)]"
      ]
     },
     "execution_count": 69,
     "metadata": {},
     "output_type": "execute_result"
    }
   ],
   "source": [
    "ventas.take(3)"
   ]
  },
  {
   "cell_type": "markdown",
   "metadata": {},
   "source": [
    "a) Indicar el género con más ventas de agosto de 2020. "
   ]
  },
  {
   "cell_type": "code",
   "execution_count": 70,
   "metadata": {},
   "outputs": [
    {
     "data": {
      "text/plain": [
       "[(62, 1), (95, 1), (3, 1)]"
      ]
     },
     "execution_count": 70,
     "metadata": {},
     "output_type": "execute_result"
    }
   ],
   "source": [
    "ventas_agosto = ventas.filter(lambda x: (x[3] == 'August' and x[4]=='2020')).map(lambda x: (x[1],1))\n",
    "ventas_agosto.take(3)"
   ]
  },
  {
   "cell_type": "code",
   "execution_count": 71,
   "metadata": {},
   "outputs": [
    {
     "data": {
      "text/plain": [
       "[(1, 'maravilloso'), (2, 'maravilloso'), (3, 'ciencia ficcion')]"
      ]
     },
     "execution_count": 71,
     "metadata": {},
     "output_type": "execute_result"
    }
   ],
   "source": [
    "libros_cat = libros.map(lambda x: (x[0],x[2]))\n",
    "libros_cat.take(3)"
   ]
  },
  {
   "cell_type": "code",
   "execution_count": 81,
   "metadata": {},
   "outputs": [
    {
     "data": {
      "text/plain": [
       "('maravilloso', 177)"
      ]
     },
     "execution_count": 81,
     "metadata": {},
     "output_type": "execute_result"
    }
   ],
   "source": [
    "generos_vendidos = libros_cat.join(ventas_agosto).map(lambda x: (x[1][0],1)).reduceByKey(lambda x,y: x+y).cache()\n",
    "generos_vendidos.reduce(lambda x,y: x if x[1]>y[1] else y)"
   ]
  },
  {
   "cell_type": "code",
   "execution_count": 102,
   "metadata": {},
   "outputs": [
    {
     "data": {
      "text/plain": [
       "[(1, 'libro1'), (2, 'libro2'), (3, 'libro3')]"
      ]
     },
     "execution_count": 102,
     "metadata": {},
     "output_type": "execute_result"
    }
   ],
   "source": [
    "five_top_gen = dict(generos_vendidos.takeOrdered(5,lambda x: -x[1]))\n",
    "books_of_five_top_gen = libros.filter(lambda x: x[2] in five_top_gen).map(lambda x: (x[0],x[1]))\n",
    "books_of_five_top_gen.take(3)"
   ]
  },
  {
   "cell_type": "code",
   "execution_count": 136,
   "metadata": {},
   "outputs": [
    {
     "data": {
      "text/plain": [
       "'libro74'"
      ]
     },
     "execution_count": 136,
     "metadata": {},
     "output_type": "execute_result"
    }
   ],
   "source": [
    "ventas_periodo = ventas.filter(lambda x: (x[4]=='2020' and (x[3] == 'August' or x[3]=='July'))).map(lambda x: (x[1],x[3]))\n",
    "books_of_five_top_gen.join(ventas_periodo)\\\n",
    "    .map(lambda x: ((x[1][0],x[1][1]),1))\\\n",
    "    .reduceByKey(lambda x,y: x+y)\\\n",
    "    .map(lambda x: (x[0][0],(x[1],0) if x[0][1] == 'July' else (0,x[1]) ))\\\n",
    "    .reduceByKey(lambda x,y: (x[0]+y[0],x[1]+y[1]))\\\n",
    "    .reduce(lambda x,y: x if x[1][1]-x[1][0] > y[1][1]-y[1][0] else y)[0]"
   ]
  }
 ],
 "metadata": {
  "kernelspec": {
   "display_name": "Python 3",
   "language": "python",
   "name": "python3"
  },
  "language_info": {
   "codemirror_mode": {
    "name": "ipython",
    "version": 3
   },
   "file_extension": ".py",
   "mimetype": "text/x-python",
   "name": "python",
   "nbconvert_exporter": "python",
   "pygments_lexer": "ipython3",
   "version": "3.9.1"
  }
 },
 "nbformat": 4,
 "nbformat_minor": 4
}

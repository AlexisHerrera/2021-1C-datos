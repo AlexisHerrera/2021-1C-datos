{
 "cells": [
  {
   "cell_type": "code",
   "execution_count": 1,
   "metadata": {
    "colab": {
     "base_uri": "https://localhost:8080/"
    },
    "id": "caWRNg5SSVG7",
    "outputId": "dc5359ab-892d-4ff1-d58c-5b30a9128e35"
   },
   "outputs": [],
   "source": [
    "import os\n",
    "os.environ[\"JAVA_HOME\"] = \"/usr/lib/jvm/java-8-openjdk-amd64\""
   ]
  },
  {
   "cell_type": "code",
   "execution_count": 2,
   "metadata": {
    "id": "PwC4R5OESXY0"
   },
   "outputs": [],
   "source": [
    "from pyspark.sql import *\n",
    "from pyspark.sql.functions import *\n",
    "from pyspark import SparkContext\n",
    "from pyspark.sql import SQLContext\n",
    "import pandas as pd\n",
    "import random as rd"
   ]
  },
  {
   "cell_type": "code",
   "execution_count": 3,
   "metadata": {
    "id": "EkxkY9R6fAka"
   },
   "outputs": [],
   "source": [
    "spark = SparkSession.builder.getOrCreate()\n",
    "sc = spark.sparkContext\n",
    "sqlContext = SQLContext(sc)"
   ]
  },
  {
   "cell_type": "markdown",
   "metadata": {},
   "source": [
    "# Crear datasets"
   ]
  },
  {
   "cell_type": "code",
   "execution_count": 4,
   "metadata": {},
   "outputs": [
    {
     "data": {
      "text/plain": [
       "[(0, 'base0', 'Santa Fe', 'ciudad0', -38, -66),\n",
       " (1, 'base1', 'Santa Fe', 'ciudad1', -39, -66),\n",
       " (2, 'base2', 'Buenos Aires', 'ciudad2', -40, -68)]"
      ]
     },
     "execution_count": 4,
     "metadata": {},
     "output_type": "execute_result"
    }
   ],
   "source": [
    "# dataframe 1\n",
    "df = pd.DataFrame({\n",
    "    'ID_BASE':range(15),\n",
    "    'NOMBRE': ['base'+str(i) for i in range(15)],\n",
    "    'PCIA': rd.choices(['Buenos Aires','Santa Fe','Cordoba','otros'],k=15),\n",
    "    'CIUDAD': ['ciudad'+str(i) for i in range(15)],\n",
    "    'LAT': rd.choices(range(-40,-35),k=15),\n",
    "    'LON': rd.choices(range(-70,-65),k=15)\n",
    "})\n",
    "bases = sqlContext.createDataFrame(df).rdd.map(tuple).cache()\n",
    "bases.take(3)"
   ]
  },
  {
   "cell_type": "code",
   "execution_count": 8,
   "metadata": {},
   "outputs": [
    {
     "data": {
      "text/plain": [
       "[('2018-01-01', 13, 30, 62, 83, 16, 'E'),\n",
       " ('2018-01-01', 4, 25, 77, 16, 12, 'O'),\n",
       " ('2018-01-01', 3, 36, 1, 70, 19, 'S')]"
      ]
     },
     "execution_count": 8,
     "metadata": {},
     "output_type": "execute_result"
    }
   ],
   "source": [
    "# dataframe 2\n",
    "df2 = pd.DataFrame({\n",
    " 'TIMESTAMP':pd.date_range(start='2018-01-01',freq='2H',periods=10000).strftime(\"%Y-%m-%d\"),\n",
    " 'ID_BASE': rd.choices(range(1,15),k=10000),\n",
    " 'TEMPERATURA': rd.choices(range(-10,45),k=10000),\n",
    " 'HUMEDAD': rd.choices(range(100),k=10000),\n",
    " 'PRESIÓN': rd.choices(range(100),k=10000),\n",
    " 'DIRECCIÓN VIENTO': rd.choices(range(20),k=10000),\n",
    " 'VELOCIDAD VIENTO': rd.choices(['N','S','E','O'],k=10000) \n",
    "})\n",
    "registros = sqlContext.createDataFrame(df2).rdd.map(tuple).cache()\n",
    "registros.take(3)"
   ]
  },
  {
   "cell_type": "markdown",
   "metadata": {},
   "source": [
    "Ejercicio"
   ]
  },
  {
   "cell_type": "code",
   "execution_count": 13,
   "metadata": {},
   "outputs": [
    {
     "data": {
      "text/plain": [
       "[(2, 'base2'), (8, 'base8'), (9, 'base9')]"
      ]
     },
     "execution_count": 13,
     "metadata": {},
     "output_type": "execute_result"
    }
   ],
   "source": [
    "bases_bsas = bases.filter(lambda x: x[2] == 'Buenos Aires').map(lambda x: (x[0],x[1]))\n",
    "bases_bsas.take(3)"
   ]
  },
  {
   "cell_type": "code",
   "execution_count": 22,
   "metadata": {},
   "outputs": [
    {
     "data": {
      "text/plain": [
       "[(13, ('2018-01-01', 30)), (4, ('2018-01-01', 25)), (3, ('2018-01-01', 36))]"
      ]
     },
     "execution_count": 22,
     "metadata": {},
     "output_type": "execute_result"
    }
   ],
   "source": [
    "reg_2018 = registros.filter(lambda x: '2018' in x[0]).map(lambda x: (x[1],(x[0],x[2])))\n",
    "reg_2018.take(3)"
   ]
  },
  {
   "cell_type": "code",
   "execution_count": 42,
   "metadata": {},
   "outputs": [],
   "source": [
    "def tiene_crec_30_perc(x):\n",
    "    \"\"\"recibe un diccionario con {mes,temp} y devuelve si hubo un crecimiento del 30 porciento de un mes a otro\"\"\"\n",
    "    for i in range(2,13):\n",
    "        if (i not in x) or (i-1 not in x):\n",
    "            continue\n",
    "        elif ((x[i] - x[i-1])/x[i-1]) > 0.3:\n",
    "            return True\n",
    "    return False"
   ]
  },
  {
   "cell_type": "code",
   "execution_count": 43,
   "metadata": {},
   "outputs": [
    {
     "data": {
      "text/plain": [
       "[(8, 'base8'), (9, 'base9'), (14, 'base14'), (2, 'base2')]"
      ]
     },
     "execution_count": 43,
     "metadata": {},
     "output_type": "execute_result"
    }
   ],
   "source": [
    "bases_bsas.join(reg_2018)\\\n",
    "    .map(lambda x: ((x[0],x[1][0],x[1][1][0].split(\"-\")[1]),(x[1][1][1],1)))\\\n",
    "    .reduceByKey(lambda x,y: (x[0]+x[1],x[1]+y[1]))\\\n",
    "    .map(lambda x: (x[0],x[1][0]/x[1][1]))\\\n",
    "    .map(lambda x: ((x[0][0],x[0][1]),(int(x[0][2]),x[1])))\\\n",
    "    .groupByKey().map(lambda x: (x[0],dict(x[1])))\\\n",
    "    .filter(lambda x: tiene_crec_30_perc(x[1]))\\\n",
    "    .map(lambda x: x[0]).take(10)"
   ]
  }
 ],
 "metadata": {
  "kernelspec": {
   "display_name": "Python 3",
   "language": "python",
   "name": "python3"
  },
  "language_info": {
   "codemirror_mode": {
    "name": "ipython",
    "version": 3
   },
   "file_extension": ".py",
   "mimetype": "text/x-python",
   "name": "python",
   "nbconvert_exporter": "python",
   "pygments_lexer": "ipython3",
   "version": "3.9.1"
  }
 },
 "nbformat": 4,
 "nbformat_minor": 4
}

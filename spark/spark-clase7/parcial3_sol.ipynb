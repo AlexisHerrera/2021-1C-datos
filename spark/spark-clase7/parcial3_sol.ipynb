{
 "cells": [
  {
   "cell_type": "code",
   "execution_count": 124,
   "metadata": {
    "colab": {
     "base_uri": "https://localhost:8080/"
    },
    "id": "caWRNg5SSVG7",
    "outputId": "dc5359ab-892d-4ff1-d58c-5b30a9128e35"
   },
   "outputs": [],
   "source": [
    "import os\n",
    "os.environ[\"JAVA_HOME\"] = \"/usr/lib/jvm/java-8-openjdk-amd64\""
   ]
  },
  {
   "cell_type": "code",
   "execution_count": 125,
   "metadata": {
    "id": "PwC4R5OESXY0"
   },
   "outputs": [],
   "source": [
    "from pyspark.sql import *\n",
    "from pyspark.sql.functions import *\n",
    "from pyspark import SparkContext\n",
    "from pyspark.sql import SQLContext\n",
    "import pandas as pd"
   ]
  },
  {
   "cell_type": "code",
   "execution_count": 126,
   "metadata": {
    "id": "EkxkY9R6fAka"
   },
   "outputs": [],
   "source": [
    "spark = SparkSession.builder.getOrCreate()\n",
    "sc = spark.sparkContext\n",
    "sqlContext = SQLContext(sc)"
   ]
  },
  {
   "cell_type": "markdown",
   "metadata": {},
   "source": [
    "# Enunciado\n",
    "Dado los acontecimientos en USA, deseamos obtener datos que nos den mayor información sobre las muertes de gente de raza negra por parte de oficiales de policía.\n",
    "\n",
    "Para ello, tenemos un csv con información sobre las muertes por parte de oficiales de policía en USA para 2015 hasta 2017: \n",
    "\n",
    "(name, date, race, city, state)\n",
    "\n",
    "Y otro csv con información sobre el porcentaje de pobreza en las ciudades de USA: \n",
    "\n",
    "(state, city, poverty_rate)\n",
    "\n",
    "Se pide:\n",
    "\n",
    "* a) Obtener las 10 ciudades con mayor diferencia entre el porcentaje de pobreza de la ciudad y el porcentaje de pobreza del estado en el que se encuentra esa ciudad. Por ejemplo si en la ciudad de Houston la pobreza es de 15.2 y la pobreza en Texas (el estado donde se encuentra Houston) es de 11.1, la diferencia es 4.1.(15 pts)\n",
    "* b) Obtener la cantidad de muertes de gente de raza negra por parte de oficiales de policía, agrupada por estados que compartan el mismo nivel de pobreza redondeado al entero más cercano. Por ejemplo, si NJ tiene una pobreza de 10.33, AL una de 20.64 y AZ una de 10.44, NJ y AZ quedarían juntos representados por el nivel de pobreza de 10 y AL en otro grupo con el nivel 21. La salida debe tener el formato: (nivel_de_pobreza, total_de_muertes) (15 pts)\n",
    " \n",
    "Resolver los puntos usando la API de RDDs de PySpark. (30 pts)\n"
   ]
  },
  {
   "cell_type": "markdown",
   "metadata": {},
   "source": [
    "# CSV import"
   ]
  },
  {
   "cell_type": "code",
   "execution_count": 127,
   "metadata": {},
   "outputs": [],
   "source": [
    "killing = sqlContext.read.csv('archive/PoliceKillingsUS.csv', header=True).rdd.map(lambda x: (x.name,x.date,x.race,x.city,x.state)).cache()\n",
    "poverty = sqlContext.read.csv('archive/PercentagePeopleBelowPovertyLevel.csv', header=True).rdd\\\n",
    ".map(lambda x: (x[0],x[1],float(x.poverty_rate) if x.poverty_rate != '-' else 0)).cache()"
   ]
  },
  {
   "cell_type": "code",
   "execution_count": 128,
   "metadata": {},
   "outputs": [
    {
     "data": {
      "text/plain": [
       "[('Tim Elliot', '02/01/15', 'A', 'Shelton', 'WA'),\n",
       " ('Lewis Lee Lembke', '02/01/15', 'W', 'Aloha', 'OR'),\n",
       " ('John Paul Quintero', '03/01/15', 'H', 'Wichita', 'KS')]"
      ]
     },
     "execution_count": 128,
     "metadata": {},
     "output_type": "execute_result"
    }
   ],
   "source": [
    "killing.take(3)"
   ]
  },
  {
   "cell_type": "code",
   "execution_count": 129,
   "metadata": {},
   "outputs": [
    {
     "data": {
      "text/plain": [
       "[('AL', 'Abanda CDP', 78.8),\n",
       " ('AL', 'Abbeville city', 29.1),\n",
       " ('AL', 'Adamsville city', 25.5)]"
      ]
     },
     "execution_count": 129,
     "metadata": {},
     "output_type": "execute_result"
    }
   ],
   "source": [
    "poverty.take(3)"
   ]
  },
  {
   "cell_type": "markdown",
   "metadata": {},
   "source": [
    "Empieza el ejercicio\n",
    "* a) Obtener las 10 ciudades con mayor diferencia entre el porcentaje de pobreza de la ciudad y el porcentaje de pobreza del estado en el que se encuentra esa ciudad. Por ejemplo si en la ciudad de Houston la pobreza es de 15.2 y la pobreza en Texas (el estado donde se encuentra Houston) es de 11.1, la diferencia es 4.1.(15 pts)\n"
   ]
  },
  {
   "cell_type": "code",
   "execution_count": 130,
   "metadata": {},
   "outputs": [
    {
     "data": {
      "text/plain": [
       "[(('AL', 'Abanda CDP'), 1),\n",
       " (('AL', 'Abbeville city'), 1),\n",
       " (('AL', 'Adamsville city'), 1),\n",
       " (('AL', 'Addison town'), 1),\n",
       " (('AL', 'Akron town'), 1),\n",
       " (('AL', 'Alabaster city'), 1),\n",
       " (('AL', 'Albertville city'), 1),\n",
       " (('AL', 'Alexander City city'), 1),\n",
       " (('AL', 'Alexandria CDP'), 1),\n",
       " (('AL', 'Aliceville city'), 1)]"
      ]
     },
     "execution_count": 130,
     "metadata": {},
     "output_type": "execute_result"
    }
   ],
   "source": [
    "#compruebo que solo haya un registro de Estado:ciudad\n",
    "poverty.map(lambda x: ((x[0],x[1]),1)).reduceByKey(lambda x,y: x+y).takeOrdered(10,lambda x: -x[1])"
   ]
  },
  {
   "cell_type": "code",
   "execution_count": 131,
   "metadata": {},
   "outputs": [
    {
     "data": {
      "text/plain": [
       "[('MS', 26.884254143646384),\n",
       " ('AZ', 25.268070953436805),\n",
       " ('GA', 23.663636363636385),\n",
       " ('AR', 22.963216266173745),\n",
       " ('NM', 22.5076749435666)]"
      ]
     },
     "execution_count": 131,
     "metadata": {},
     "output_type": "execute_result"
    }
   ],
   "source": [
    "pobreza_estado = poverty.map(lambda x: (x[0],(x[2],1)))\\\n",
    "    .reduceByKey(lambda x,y: (x[0]+y[0],x[1]+y[1]))\\\n",
    "    .map(lambda x: (x[0],x[1][0]/x[1][1]))\n",
    "pobreza_estado.takeOrdered(5,lambda x: -x[1])"
   ]
  },
  {
   "cell_type": "code",
   "execution_count": 132,
   "metadata": {},
   "outputs": [
    {
     "data": {
      "text/plain": [
       "[('AL', ('Abanda CDP', 78.8)),\n",
       " ('AL', ('Abbeville city', 29.1)),\n",
       " ('AL', ('Adamsville city', 25.5))]"
      ]
     },
     "execution_count": 132,
     "metadata": {},
     "output_type": "execute_result"
    }
   ],
   "source": [
    "estado_ciudad_pobreza = poverty.map(lambda x: (x[0],(x[1],x[2])))\n",
    "estado_ciudad_pobreza.take(3)"
   ]
  },
  {
   "cell_type": "code",
   "execution_count": 133,
   "metadata": {},
   "outputs": [],
   "source": [
    "def fun(x):\n",
    "    return (x[0],abs())"
   ]
  },
  {
   "cell_type": "code",
   "execution_count": 134,
   "metadata": {},
   "outputs": [
    {
     "data": {
      "text/plain": [
       "[('Westview Circle CDP', 90.93627450980392),\n",
       " ('Middleburg CDP', 89.72760617760618),\n",
       " ('Waterview CDP', 89.72760617760618),\n",
       " ('Selz CDP', 87.86807980049875),\n",
       " ('Pioneer city', 87.7684523809524),\n",
       " ('Lynn CDP', 86.8122270742358),\n",
       " ('Kinbrae city', 86.25426356589146),\n",
       " ('The Ranch CDP', 86.25426356589146),\n",
       " ('Acme CDP', 85.17400318979267),\n",
       " ('Addy CDP', 85.17400318979267)]"
      ]
     },
     "execution_count": 134,
     "metadata": {},
     "output_type": "execute_result"
    }
   ],
   "source": [
    "pobreza_estado.join(estado_ciudad_pobreza)\\\n",
    "    .map(lambda x: (x[1][1][0],(x[1][0],x[1][1][1])))\\\n",
    "    .map(lambda x: (x[0],__builtin__.abs(x[1][1] -x[1][0]))).takeOrdered(10,lambda x: -x[1])"
   ]
  },
  {
   "cell_type": "markdown",
   "metadata": {},
   "source": [
    "b) Obtener la cantidad de muertes de gente de raza negra por parte de oficiales de policía, agrupada por estados que compartan el mismo nivel de pobreza redondeado al entero más cercano. Por ejemplo, si NJ tiene una pobreza de 10.33, AL una de 20.64 y AZ una de 10.44, NJ y AZ quedarían juntos representados por el nivel de pobreza de 10 y AL en otro grupo con el nivel 21. La salida debe tener el formato: (nivel_de_pobreza, total_de_muertes) (15 pts)"
   ]
  },
  {
   "cell_type": "code",
   "execution_count": 153,
   "metadata": {},
   "outputs": [
    {
     "data": {
      "text/plain": [
       "[('AL', 20), ('AK', 18), ('AZ', 25)]"
      ]
     },
     "execution_count": 153,
     "metadata": {},
     "output_type": "execute_result"
    }
   ],
   "source": [
    "pobreza_estado = pobreza_estado.map(lambda x: (x[0],int(x[1])))\n",
    "pobreza_estado.take(3)"
   ]
  },
  {
   "cell_type": "code",
   "execution_count": 162,
   "metadata": {},
   "outputs": [
    {
     "data": {
      "text/plain": [
       "[('PA', 21), ('TX', 46), ('OH', 30), ('LA', 32)]"
      ]
     },
     "execution_count": 162,
     "metadata": {},
     "output_type": "execute_result"
    }
   ],
   "source": [
    "muertes_estado = killing.filter(lambda x: x[2] == 'B').map(lambda x: (x[4],1)).reduceByKey(lambda x,y: x+y)\n",
    "muertes_estado.take(4)"
   ]
  },
  {
   "cell_type": "code",
   "execution_count": 163,
   "metadata": {},
   "outputs": [
    {
     "data": {
      "text/plain": [
       "[(26, 8),\n",
       " (25, 5),\n",
       " (23, 23),\n",
       " (22, 52),\n",
       " (21, 3),\n",
       " (20, 36),\n",
       " (19, 109),\n",
       " (18, 11),\n",
       " (17, 64),\n",
       " (16, 70),\n",
       " (15, 13),\n",
       " (14, 61),\n",
       " (13, 49),\n",
       " (12, 47),\n",
       " (11, 22),\n",
       " (10, 25),\n",
       " (9, 7),\n",
       " (8, 13)]"
      ]
     },
     "execution_count": 163,
     "metadata": {},
     "output_type": "execute_result"
    }
   ],
   "source": [
    "#(estado,(pobreza_level,muertos_en_estado))\n",
    "pobreza_estado.join(muertes_estado).map(lambda x: (x[1][0],x[1][1])).reduceByKey(lambda x,y: x+y).takeOrdered(100,lambda x: -x[0])"
   ]
  },
  {
   "cell_type": "code",
   "execution_count": null,
   "metadata": {},
   "outputs": [],
   "source": []
  }
 ],
 "metadata": {
  "kernelspec": {
   "display_name": "Python 3",
   "language": "python",
   "name": "python3"
  },
  "language_info": {
   "codemirror_mode": {
    "name": "ipython",
    "version": 3
   },
   "file_extension": ".py",
   "mimetype": "text/x-python",
   "name": "python",
   "nbconvert_exporter": "python",
   "pygments_lexer": "ipython3",
   "version": "3.9.1"
  }
 },
 "nbformat": 4,
 "nbformat_minor": 4
}

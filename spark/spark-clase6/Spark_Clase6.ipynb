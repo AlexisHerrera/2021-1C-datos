{
 "cells": [
  {
   "cell_type": "markdown",
   "metadata": {
    "id": "KHdU05jEP1EY"
   },
   "source": [
    "# Instalamos e importamos librerías"
   ]
  },
  {
   "cell_type": "code",
   "execution_count": 1,
   "metadata": {
    "id": "fnV5re322Wz9"
   },
   "outputs": [],
   "source": [
    "#!pip install pyspark\n",
    "#!pip install -U -q PyDrive\n",
    "#!apt install openjdk-8-jdk-headless -qq\n",
    "import os\n",
    "os.environ[\"JAVA_HOME\"] = \"/usr/lib/jvm/java-8-openjdk-amd64\""
   ]
  },
  {
   "cell_type": "code",
   "execution_count": 2,
   "metadata": {
    "id": "nhYIAjti3iaf"
   },
   "outputs": [],
   "source": [
    "# from pydrive.auth import GoogleAuth\n",
    "# from pydrive.drive import GoogleDrive\n",
    "# from google.colab import auth\n",
    "# from oauth2client.client import GoogleCredentials\n",
    "from pyspark.sql import *\n",
    "from pyspark.sql.functions import *\n",
    "from pyspark import SparkContext\n",
    "from pyspark.sql import SQLContext\n",
    "import pandas as pd"
   ]
  },
  {
   "cell_type": "markdown",
   "metadata": {
    "id": "Xlsys9XvQHGK"
   },
   "source": [
    "# Autenticamos con Google Drive"
   ]
  },
  {
   "cell_type": "code",
   "execution_count": null,
   "metadata": {
    "id": "WmVhF9Pi3mbH"
   },
   "outputs": [],
   "source": [
    "auth.authenticate_user()\n",
    "gauth = GoogleAuth()\n",
    "gauth.credentials = GoogleCredentials.get_application_default()\n",
    "drive = GoogleDrive(gauth)"
   ]
  },
  {
   "cell_type": "markdown",
   "metadata": {
    "id": "8qZCCf99QPGn"
   },
   "source": [
    "# Bajamos archivo con la colección de Shakespeare"
   ]
  },
  {
   "cell_type": "code",
   "execution_count": null,
   "metadata": {
    "id": "CoqqUqNV3wFZ"
   },
   "outputs": [],
   "source": [
    "downloaded = drive.CreateFile({'id':\"1ybtSQxrqVqbRrl_3FMzMYW03Flp4zM-j\"})   # replace the id with id of file you want to access\n",
    "downloaded.GetContentFile('s.txt') "
   ]
  },
  {
   "cell_type": "markdown",
   "metadata": {
    "id": "JCKfIhFUQiyg"
   },
   "source": [
    "# Creamos el Spark Context"
   ]
  },
  {
   "cell_type": "code",
   "execution_count": 4,
   "metadata": {
    "id": "5ENPglW_4Cco"
   },
   "outputs": [],
   "source": [
    "# create the Spark Session\n",
    "spark = SparkSession.builder.getOrCreate()\n",
    "\n",
    "# create the Spark Context\n",
    "sc = spark.sparkContext"
   ]
  },
  {
   "cell_type": "code",
   "execution_count": 9,
   "metadata": {
    "id": "68-dxCy6IqWv"
   },
   "outputs": [
    {
     "data": {
      "text/plain": [
       "pyspark.context.SparkContext"
      ]
     },
     "execution_count": 9,
     "metadata": {},
     "output_type": "execute_result"
    }
   ],
   "source": [
    "type(sc)"
   ]
  },
  {
   "cell_type": "markdown",
   "metadata": {
    "id": "-CbdyUxRQuO1"
   },
   "source": [
    "# Lectura de datos en Spark"
   ]
  },
  {
   "cell_type": "markdown",
   "metadata": {
    "id": "4hsKVzAOJCNZ"
   },
   "source": [
    "## Paralelizando una coleccion de python"
   ]
  },
  {
   "cell_type": "code",
   "execution_count": 10,
   "metadata": {
    "id": "SlaLdgdfI6Nm"
   },
   "outputs": [
    {
     "data": {
      "text/plain": [
       "1000"
      ]
     },
     "execution_count": 10,
     "metadata": {},
     "output_type": "execute_result"
    }
   ],
   "source": [
    "## creamos 1000 enteros en una lista\n",
    "integersList = range(1,1001)\n",
    "len(integersList)"
   ]
  },
  {
   "cell_type": "code",
   "execution_count": 11,
   "metadata": {
    "id": "Cg31cLQYJQFP"
   },
   "outputs": [
    {
     "data": {
      "text/plain": [
       "pyspark.rdd.PipelinedRDD"
      ]
     },
     "execution_count": 11,
     "metadata": {},
     "output_type": "execute_result"
    }
   ],
   "source": [
    "## Paralelizamos la coleccion utilizando 8 particiones o slices\n",
    "## Esta operacion es una transformacion de datos en un RDD\n",
    "## Dado que Spark usa lazy evaluation, no corren jobs de Spark\n",
    "## hasta el momento\n",
    "integersListRDD = sc.parallelize(integersList, 8)\n",
    "type(integersListRDD)"
   ]
  },
  {
   "cell_type": "code",
   "execution_count": 12,
   "metadata": {
    "id": "1YieMrEDJXEQ"
   },
   "outputs": [
    {
     "data": {
      "text/plain": [
       "8"
      ]
     },
     "execution_count": 12,
     "metadata": {},
     "output_type": "execute_result"
    }
   ],
   "source": [
    "## podemos ver tambien otra informacion interesante del RDD\n",
    "## el numero de particiones\n",
    "integersListRDD.getNumPartitions()"
   ]
  },
  {
   "cell_type": "code",
   "execution_count": 13,
   "metadata": {
    "id": "3R9126T7JiA0"
   },
   "outputs": [
    {
     "data": {
      "text/plain": [
       "b'(8) PythonRDD[1] at RDD at PythonRDD.scala:53 []\\n |  ParallelCollectionRDD[0] at readRDDFromFile at PythonRDD.scala:274 []'"
      ]
     },
     "execution_count": 13,
     "metadata": {},
     "output_type": "execute_result"
    }
   ],
   "source": [
    "## el conjunto de transformaciones que se aplica\n",
    "integersListRDD.toDebugString()"
   ]
  },
  {
   "cell_type": "code",
   "execution_count": null,
   "metadata": {
    "id": "ekG7ZqGOJm3-"
   },
   "outputs": [],
   "source": [
    "## para ver mas metodos disponibles del RDD\n",
    "help(integersListRDD)"
   ]
  },
  {
   "cell_type": "code",
   "execution_count": 15,
   "metadata": {
    "id": "9vE0HNwGKMgE"
   },
   "outputs": [
    {
     "data": {
      "text/plain": [
       "[1, 2, 3, 4, 5]"
      ]
     },
     "execution_count": 15,
     "metadata": {},
     "output_type": "execute_result"
    }
   ],
   "source": [
    "integersListRDD.take(5)"
   ]
  },
  {
   "cell_type": "code",
   "execution_count": 16,
   "metadata": {
    "id": "uTkCa9z4KSDX"
   },
   "outputs": [
    {
     "data": {
      "text/plain": [
       "1000"
      ]
     },
     "execution_count": 16,
     "metadata": {},
     "output_type": "execute_result"
    }
   ],
   "source": [
    "integersListRDD.count()"
   ]
  },
  {
   "cell_type": "markdown",
   "metadata": {
    "id": "oxRHG4v4R4Rz"
   },
   "source": [
    "## Leyendo archivo con textFile"
   ]
  },
  {
   "cell_type": "code",
   "execution_count": 25,
   "metadata": {
    "id": "RRIlDQRr4EkJ"
   },
   "outputs": [],
   "source": [
    "rdd = spark.sparkContext.textFile('shakespeare.txt')"
   ]
  },
  {
   "cell_type": "code",
   "execution_count": 26,
   "metadata": {
    "id": "cPzWiShdsa8T"
   },
   "outputs": [
    {
     "data": {
      "text/plain": [
       "shakespeare.txt MapPartitionsRDD[12] at textFile at NativeMethodAccessorImpl.java:0"
      ]
     },
     "execution_count": 26,
     "metadata": {},
     "output_type": "execute_result"
    }
   ],
   "source": [
    "rdd"
   ]
  },
  {
   "cell_type": "code",
   "execution_count": 27,
   "metadata": {
    "id": "wxiacj7U9-Fh"
   },
   "outputs": [
    {
     "data": {
      "text/plain": [
       "124614"
      ]
     },
     "execution_count": 27,
     "metadata": {},
     "output_type": "execute_result"
    }
   ],
   "source": [
    "rdd.count()"
   ]
  },
  {
   "cell_type": "code",
   "execution_count": 29,
   "metadata": {
    "id": "Z7ot8-hDKZqR"
   },
   "outputs": [
    {
     "data": {
      "text/plain": [
       "['1609', '', 'THE SONNETS', '', 'by William Shakespeare']"
      ]
     },
     "execution_count": 29,
     "metadata": {},
     "output_type": "execute_result"
    }
   ],
   "source": [
    "rdd.take(5)"
   ]
  },
  {
   "cell_type": "markdown",
   "metadata": {
    "id": "iQuEiCSwTFcL"
   },
   "source": [
    "## Leyendo datos con el sqlContext"
   ]
  },
  {
   "cell_type": "code",
   "execution_count": 30,
   "metadata": {
    "id": "xjqckKbCSN6m"
   },
   "outputs": [],
   "source": [
    "sqlContext = SQLContext(sc)"
   ]
  },
  {
   "cell_type": "code",
   "execution_count": 31,
   "metadata": {
    "id": "cBkiBRPxUbLe"
   },
   "outputs": [],
   "source": [
    "dataframe = sqlContext.read.text('shakespeare.txt')"
   ]
  },
  {
   "cell_type": "code",
   "execution_count": 32,
   "metadata": {
    "id": "WogrwH_4Uo97"
   },
   "outputs": [
    {
     "data": {
      "text/plain": [
       "DataFrame[value: string]"
      ]
     },
     "execution_count": 32,
     "metadata": {},
     "output_type": "execute_result"
    }
   ],
   "source": [
    "dataframe"
   ]
  },
  {
   "cell_type": "code",
   "execution_count": 33,
   "metadata": {
    "id": "yWc_JpLHUqqz"
   },
   "outputs": [],
   "source": [
    "rddCsv = dataframe.rdd"
   ]
  },
  {
   "cell_type": "code",
   "execution_count": 34,
   "metadata": {
    "id": "YqN2PigYUv2P"
   },
   "outputs": [
    {
     "data": {
      "text/plain": [
       "MapPartitionsRDD[20] at javaToPython at NativeMethodAccessorImpl.java:0"
      ]
     },
     "execution_count": 34,
     "metadata": {},
     "output_type": "execute_result"
    }
   ],
   "source": [
    "rddCsv"
   ]
  },
  {
   "cell_type": "code",
   "execution_count": 35,
   "metadata": {
    "id": "6u4liP2TUx3P"
   },
   "outputs": [
    {
     "data": {
      "text/plain": [
       "[Row(value='1609'),\n",
       " Row(value=''),\n",
       " Row(value='THE SONNETS'),\n",
       " Row(value=''),\n",
       " Row(value='by William Shakespeare')]"
      ]
     },
     "execution_count": 35,
     "metadata": {},
     "output_type": "execute_result"
    }
   ],
   "source": [
    "rddCsv.take(5)"
   ]
  },
  {
   "cell_type": "markdown",
   "metadata": {
    "id": "9cKE58VzTabI"
   },
   "source": [
    "Tambien se pueden leer archivos csv, json, parquet, jdbc, etc"
   ]
  },
  {
   "cell_type": "markdown",
   "metadata": {
    "id": "tQ2zW38tNPao"
   },
   "source": [
    "# Acciones"
   ]
  },
  {
   "cell_type": "markdown",
   "metadata": {
    "id": "YK9_c-ZANS6q"
   },
   "source": [
    "## Count"
   ]
  },
  {
   "cell_type": "markdown",
   "metadata": {
    "id": "1bQR6UgRDcF8"
   },
   "source": [
    "Obtiene la cantidad de registros del RDD"
   ]
  },
  {
   "cell_type": "code",
   "execution_count": 37,
   "metadata": {
    "id": "vL9EXNnGNYPg"
   },
   "outputs": [
    {
     "data": {
      "text/plain": [
       "1000"
      ]
     },
     "execution_count": 37,
     "metadata": {},
     "output_type": "execute_result"
    }
   ],
   "source": [
    "integersListRDD.count()"
   ]
  },
  {
   "cell_type": "markdown",
   "metadata": {
    "id": "-uui6n-EBjhG"
   },
   "source": [
    "### Take"
   ]
  },
  {
   "cell_type": "markdown",
   "metadata": {
    "id": "kdULVg5pDg1W"
   },
   "source": [
    "Obtiene los primeros n registros del RDD"
   ]
  },
  {
   "cell_type": "code",
   "execution_count": 42,
   "metadata": {
    "id": "d-TEqf-RNbqG"
   },
   "outputs": [
    {
     "data": {
      "text/plain": [
       "[1, 2, 3, 4, 5]"
      ]
     },
     "execution_count": 42,
     "metadata": {},
     "output_type": "execute_result"
    }
   ],
   "source": [
    "integersListRDD.take(5)"
   ]
  },
  {
   "cell_type": "markdown",
   "metadata": {
    "id": "S3KYoynwBnBf"
   },
   "source": [
    "## Collect"
   ]
  },
  {
   "cell_type": "markdown",
   "metadata": {
    "id": "9tBbHaOFDk1Q"
   },
   "source": [
    "Obtiene TODOS los registros del RDD. Esto es un potencial problema, ya que si los datos no son acotados va a sobrecargar el driver. Solo se debe ejecutar si de antemano conocemos que la cantidad de datos es acotada."
   ]
  },
  {
   "cell_type": "code",
   "execution_count": null,
   "metadata": {
    "id": "dVwrmdsQNezf"
   },
   "outputs": [],
   "source": [
    "integersListRDD.collect() # danger"
   ]
  },
  {
   "cell_type": "markdown",
   "metadata": {
    "id": "qkau0dZTBq8Z"
   },
   "source": [
    "## First"
   ]
  },
  {
   "cell_type": "markdown",
   "metadata": {
    "id": "HFWwYplgD_3a"
   },
   "source": [
    "Obtiene el primer registro del RDD"
   ]
  },
  {
   "cell_type": "code",
   "execution_count": 43,
   "metadata": {
    "id": "HOYGelqqNkCC"
   },
   "outputs": [
    {
     "data": {
      "text/plain": [
       "1"
      ]
     },
     "execution_count": 43,
     "metadata": {},
     "output_type": "execute_result"
    }
   ],
   "source": [
    "integersListRDD.first()"
   ]
  },
  {
   "cell_type": "markdown",
   "metadata": {
    "id": "7FwrpPTlBuhZ"
   },
   "source": [
    "## TakeOrdered"
   ]
  },
  {
   "cell_type": "markdown",
   "metadata": {
    "id": "l0OucoHZEC6h"
   },
   "source": [
    "Obtiene los primeros n registros en base a un orden indicado."
   ]
  },
  {
   "cell_type": "code",
   "execution_count": 44,
   "metadata": {
    "id": "DslDO0f8NtI2"
   },
   "outputs": [
    {
     "data": {
      "text/plain": [
       "[1000, 999, 998, 997, 996]"
      ]
     },
     "execution_count": 44,
     "metadata": {},
     "output_type": "execute_result"
    }
   ],
   "source": [
    "integersListRDD.takeOrdered(5, key=lambda x: -x)"
   ]
  },
  {
   "cell_type": "markdown",
   "metadata": {
    "id": "YunCyrJBBxii"
   },
   "source": [
    "## TakeSample"
   ]
  },
  {
   "cell_type": "markdown",
   "metadata": {
    "id": "sZkX85HOEJnY"
   },
   "source": [
    "Obtiene una muestra de n registros con o sin reemplazo."
   ]
  },
  {
   "cell_type": "code",
   "execution_count": 47,
   "metadata": {
    "id": "R94o47hlN-OG"
   },
   "outputs": [
    {
     "data": {
      "text/plain": [
       "[838, 205, 744, 631, 561]"
      ]
     },
     "execution_count": 47,
     "metadata": {},
     "output_type": "execute_result"
    }
   ],
   "source": [
    "integersListRDD.takeSample(False, 5)"
   ]
  },
  {
   "cell_type": "markdown",
   "metadata": {
    "id": "gfFmi9hMB0fz"
   },
   "source": [
    "## Reduce"
   ]
  },
  {
   "cell_type": "markdown",
   "metadata": {
    "id": "SZTXTiN6EQ41"
   },
   "source": [
    "Obtiene un solo registro, combinando el resultado en base a una función dada."
   ]
  },
  {
   "cell_type": "markdown",
   "metadata": {
    "id": "uA5TMBcKEkrM"
   },
   "source": [
    "Suma de todos los nros del RDD:"
   ]
  },
  {
   "cell_type": "code",
   "execution_count": 48,
   "metadata": {
    "id": "w1aRuIdcOG8T"
   },
   "outputs": [
    {
     "data": {
      "text/plain": [
       "500500"
      ]
     },
     "execution_count": 48,
     "metadata": {},
     "output_type": "execute_result"
    }
   ],
   "source": [
    "integersListRDD.reduce(lambda a,b: a+b)"
   ]
  },
  {
   "cell_type": "markdown",
   "metadata": {
    "id": "iPldfWT_EnQW"
   },
   "source": [
    "Número más grande del RDD:"
   ]
  },
  {
   "cell_type": "code",
   "execution_count": 49,
   "metadata": {
    "id": "uoZe4PTeEZU0"
   },
   "outputs": [
    {
     "data": {
      "text/plain": [
       "1000"
      ]
     },
     "execution_count": 49,
     "metadata": {},
     "output_type": "execute_result"
    }
   ],
   "source": [
    "integersListRDD.reduce(lambda a,b: a if a > b else b)"
   ]
  },
  {
   "cell_type": "markdown",
   "metadata": {
    "id": "bqtSjN_4B2sY"
   },
   "source": [
    "## CountByKey"
   ]
  },
  {
   "cell_type": "markdown",
   "metadata": {
    "id": "MDx7ZMX2Esdw"
   },
   "source": [
    "Cuenta ocurrencias de registros para cada clave."
   ]
  },
  {
   "cell_type": "markdown",
   "metadata": {
    "id": "sIC-fAW-EziF"
   },
   "source": [
    "En Spark para que un registro sea considerado con clave debe se una tupla de unicamente dos elementos. El primer elemento es la key y el segundo el valor. A su vez, la key y el valor pueden estar compuestos por tuplas."
   ]
  },
  {
   "cell_type": "markdown",
   "metadata": {
    "id": "HioGdGD8FJld"
   },
   "source": [
    "Cuento cuántos nros múltiplo de 2 hay y cuántos no:"
   ]
  },
  {
   "cell_type": "code",
   "execution_count": 52,
   "metadata": {
    "id": "iMrNtCjlOOvW"
   },
   "outputs": [
    {
     "data": {
      "text/plain": [
       "defaultdict(int, {1: 500, 0: 500})"
      ]
     },
     "execution_count": 52,
     "metadata": {},
     "output_type": "execute_result"
    }
   ],
   "source": [
    "integersListRDD.map(lambda x: (x % 2, 'xd')).countByKey()"
   ]
  },
  {
   "cell_type": "markdown",
   "metadata": {
    "id": "wICWjRrq9LGk"
   },
   "source": [
    "# Transformaciones"
   ]
  },
  {
   "cell_type": "markdown",
   "metadata": {
    "id": "htCboCCE9OxU"
   },
   "source": [
    "### Map"
   ]
  },
  {
   "cell_type": "markdown",
   "metadata": {
    "id": "4Osz4fFVFZkW"
   },
   "source": [
    "Transforma cada registro en base a la función dada."
   ]
  },
  {
   "cell_type": "code",
   "execution_count": 54,
   "metadata": {},
   "outputs": [],
   "source": [
    "def por_dos(x):\n",
    "    return x*2"
   ]
  },
  {
   "cell_type": "code",
   "execution_count": 58,
   "metadata": {
    "id": "-Amp0bYmSG-c"
   },
   "outputs": [
    {
     "data": {
      "text/plain": [
       "[2, 4, 6, 8, 10]"
      ]
     },
     "execution_count": 58,
     "metadata": {},
     "output_type": "execute_result"
    }
   ],
   "source": [
    "integersListRDD.map(lambda x: x*2).take(5)"
   ]
  },
  {
   "cell_type": "code",
   "execution_count": 59,
   "metadata": {
    "id": "hM5gotbf9R-W"
   },
   "outputs": [
    {
     "data": {
      "text/plain": [
       "[(1, 1), (0, 2), (1, 3), (0, 4), (1, 5)]"
      ]
     },
     "execution_count": 59,
     "metadata": {},
     "output_type": "execute_result"
    }
   ],
   "source": [
    "integersListRDD.map(lambda x: (x % 2, x)).take(5)"
   ]
  },
  {
   "cell_type": "markdown",
   "metadata": {
    "id": "UGGRoh-d9k4P"
   },
   "source": [
    "## Filter"
   ]
  },
  {
   "cell_type": "markdown",
   "metadata": {
    "id": "zQfdye1DF2zO"
   },
   "source": [
    "Filtra registros en base a la función dada."
   ]
  },
  {
   "cell_type": "code",
   "execution_count": 60,
   "metadata": {
    "id": "S0l43_s89wpW"
   },
   "outputs": [
    {
     "data": {
      "text/plain": [
       "[2, 4, 6, 8, 10]"
      ]
     },
     "execution_count": 60,
     "metadata": {},
     "output_type": "execute_result"
    }
   ],
   "source": [
    "integersListRDD.filter(lambda x: x % 2 == 0).take(5)"
   ]
  },
  {
   "cell_type": "code",
   "execution_count": 61,
   "metadata": {
    "id": "vWEZW0D70HWU"
   },
   "outputs": [
    {
     "data": {
      "text/plain": [
       "500"
      ]
     },
     "execution_count": 61,
     "metadata": {},
     "output_type": "execute_result"
    }
   ],
   "source": [
    "integersListRDD.filter(lambda x: x % 2 == 0).count()"
   ]
  },
  {
   "cell_type": "markdown",
   "metadata": {
    "id": "y0ZHNYdO-ExA"
   },
   "source": [
    "## FlatMap"
   ]
  },
  {
   "cell_type": "markdown",
   "metadata": {
    "id": "NHE01zeXGGOK"
   },
   "source": [
    "Similar a Map, pero cada registro puede generar 0, 1 o más registros."
   ]
  },
  {
   "cell_type": "markdown",
   "metadata": {
    "id": "mVQdUOkHGQgl"
   },
   "source": [
    "Para cada registro original genero un nuevo registro con el nro, otro con el nro menos uno y otro con el registro más uno:"
   ]
  },
  {
   "cell_type": "code",
   "execution_count": 67,
   "metadata": {
    "id": "09N_gedZ-BSu"
   },
   "outputs": [
    {
     "data": {
      "text/plain": [
       "3000"
      ]
     },
     "execution_count": 67,
     "metadata": {},
     "output_type": "execute_result"
    }
   ],
   "source": [
    "integersFlat = integersListRDD.flatMap(lambda x: [(x), (x-1), (x+1)])\n",
    "integersFlat.count()"
   ]
  },
  {
   "cell_type": "markdown",
   "metadata": {
    "id": "uOJAhi5O-haG"
   },
   "source": [
    "## ReduceByKey"
   ]
  },
  {
   "cell_type": "markdown",
   "metadata": {
    "id": "90kFEtpmGafZ"
   },
   "source": [
    "Combina los registros para una misma clave en base a una función de reduce."
   ]
  },
  {
   "cell_type": "markdown",
   "metadata": {
    "id": "FLUeA__1yVFj"
   },
   "source": [
    "La función de reduce debe ser **conmutativa** y **asociativa**."
   ]
  },
  {
   "cell_type": "markdown",
   "metadata": {
    "id": "PcWSQNr7Gggz"
   },
   "source": [
    "Del RDD salida del flatMap cuento cuantos registros hay para cada nro:"
   ]
  },
  {
   "cell_type": "code",
   "execution_count": 70,
   "metadata": {
    "id": "5ak--UX3-zLm"
   },
   "outputs": [
    {
     "data": {
      "text/plain": [
       "1002"
      ]
     },
     "execution_count": 70,
     "metadata": {},
     "output_type": "execute_result"
    }
   ],
   "source": [
    "integersFlat.map(lambda x: (x, 1)).reduceByKey(lambda a,b: a+b).count()"
   ]
  },
  {
   "cell_type": "code",
   "execution_count": 71,
   "metadata": {
    "id": "VbH-NuM61Dbb"
   },
   "outputs": [
    {
     "data": {
      "text/plain": [
       "[(0, 1),\n",
       " (8, 3),\n",
       " (16, 3),\n",
       " (24, 3),\n",
       " (32, 3),\n",
       " (40, 3),\n",
       " (48, 3),\n",
       " (56, 3),\n",
       " (64, 3),\n",
       " (72, 3)]"
      ]
     },
     "execution_count": 71,
     "metadata": {},
     "output_type": "execute_result"
    }
   ],
   "source": [
    "integersFlat.map(lambda x: (x, 1)).reduceByKey(lambda a,b: a+b).take(10)"
   ]
  },
  {
   "cell_type": "code",
   "execution_count": 78,
   "metadata": {
    "id": "SwncZCGB1Ind"
   },
   "outputs": [
    {
     "data": {
      "text/plain": [
       "(1001, 1)"
      ]
     },
     "execution_count": 78,
     "metadata": {},
     "output_type": "execute_result"
    }
   ],
   "source": [
    "integersFlat.map(lambda x: (x, 1)).reduceByKey(lambda a,b: a+b).reduce(lambda a,b: a if a > b else b)"
   ]
  },
  {
   "cell_type": "markdown",
   "metadata": {
    "id": "rXS7ZVE4_lDB"
   },
   "source": [
    "## GroupByKey"
   ]
  },
  {
   "cell_type": "markdown",
   "metadata": {
    "id": "qRhtk2zFGr2g"
   },
   "source": [
    "Agrupa los registros para cada clave. Es similar a reduceByKey pero con \n",
    "groupByKey se obtiene todos los registros para cada clave.\n",
    "\n",
    "Solo se debe utilizar si es necesario la información de cada registro y la cantidad de registros por clave no es demasiado grande.\n",
    "\n",
    "GroupByKey es una transformación costosa.\n",
    "\n",
    "Si se desea realizar una agregación, usar reduceByKey. Usar groupByKey para hacer una agregación esta MAL."
   ]
  },
  {
   "cell_type": "markdown",
   "metadata": {
    "id": "XM84FFQbHxcZ"
   },
   "source": [
    "Necesito saber cuales son los nros múltiplos de 2 y cuales no:"
   ]
  },
  {
   "cell_type": "code",
   "execution_count": null,
   "metadata": {
    "id": "dXi4mcm0_kFB"
   },
   "outputs": [],
   "source": [
    "integersListRDD.map(lambda x: (x % 2, x)).groupByKey().map(lambda x: (x[0], list(x[1]))).collect()"
   ]
  },
  {
   "cell_type": "markdown",
   "metadata": {
    "id": "_URCZ87zAcSj"
   },
   "source": [
    "## Distinct"
   ]
  },
  {
   "cell_type": "markdown",
   "metadata": {
    "id": "vDYgJ-WDIde5"
   },
   "source": [
    "Elimina registros duplicados (todo el registro debe coincidir)"
   ]
  },
  {
   "cell_type": "markdown",
   "metadata": {
    "id": "YcLF3Se1Il4k"
   },
   "source": [
    "Del RDD trás aplicar flatMap, obtengo los registros únicos:"
   ]
  },
  {
   "cell_type": "code",
   "execution_count": 85,
   "metadata": {
    "id": "AbVHrMYgCv65"
   },
   "outputs": [
    {
     "data": {
      "text/plain": [
       "1002"
      ]
     },
     "execution_count": 85,
     "metadata": {},
     "output_type": "execute_result"
    }
   ],
   "source": [
    "#integersFlat.distinct().collect()\n",
    "integersFlat.distinct().count()\n"
   ]
  },
  {
   "cell_type": "markdown",
   "metadata": {
    "id": "bl2uMtBy-CxH"
   },
   "source": [
    "# Ejemplos de transformaciones y acciones con los textos de Shakespeare"
   ]
  },
  {
   "cell_type": "markdown",
   "metadata": {
    "id": "pSNsuSWUVzjL"
   },
   "source": [
    "## Leo de a líneas"
   ]
  },
  {
   "cell_type": "code",
   "execution_count": 7,
   "metadata": {
    "id": "XVzGjkUPJm6X"
   },
   "outputs": [],
   "source": [
    "lines = spark.sparkContext.textFile('shakespeare.txt')"
   ]
  },
  {
   "cell_type": "markdown",
   "metadata": {
    "id": "FwuDYbFQV3wk"
   },
   "source": [
    "## Cantidad de líneas totales"
   ]
  },
  {
   "cell_type": "code",
   "execution_count": 8,
   "metadata": {
    "id": "IMydwl-2JoRX"
   },
   "outputs": [
    {
     "data": {
      "text/plain": [
       "124614"
      ]
     },
     "execution_count": 8,
     "metadata": {},
     "output_type": "execute_result"
    }
   ],
   "source": [
    "lines.count()"
   ]
  },
  {
   "cell_type": "markdown",
   "metadata": {
    "id": "qZEeqhf_V7eM"
   },
   "source": [
    "## Primeras 10 líneas"
   ]
  },
  {
   "cell_type": "code",
   "execution_count": 9,
   "metadata": {
    "id": "RQaWh8CnJqlY"
   },
   "outputs": [
    {
     "data": {
      "text/plain": [
       "['1609',\n",
       " '',\n",
       " 'THE SONNETS',\n",
       " '',\n",
       " 'by William Shakespeare',\n",
       " '',\n",
       " '',\n",
       " '',\n",
       " '                     1',\n",
       " '  From fairest creatures we desire increase,']"
      ]
     },
     "execution_count": 9,
     "metadata": {},
     "output_type": "execute_result"
    }
   ],
   "source": [
    "lines.take(10)"
   ]
  },
  {
   "cell_type": "markdown",
   "metadata": {
    "id": "8vsAsbU7V_h3"
   },
   "source": [
    "## Obtengo las palabras de todas las líneas (flatMap)"
   ]
  },
  {
   "cell_type": "code",
   "execution_count": 11,
   "metadata": {
    "id": "mOOPFmCh4HBJ"
   },
   "outputs": [],
   "source": [
    "words = lines.flatMap(lambda x: x.split())"
   ]
  },
  {
   "cell_type": "code",
   "execution_count": 12,
   "metadata": {
    "id": "DoBtYMOkJ4w2"
   },
   "outputs": [
    {
     "data": {
      "text/plain": [
       "['1609',\n",
       " 'THE',\n",
       " 'SONNETS',\n",
       " 'by',\n",
       " 'William',\n",
       " 'Shakespeare',\n",
       " '1',\n",
       " 'From',\n",
       " 'fairest',\n",
       " 'creatures']"
      ]
     },
     "execution_count": 12,
     "metadata": {},
     "output_type": "execute_result"
    }
   ],
   "source": [
    "words.take(10)"
   ]
  },
  {
   "cell_type": "code",
   "execution_count": 13,
   "metadata": {
    "id": "tRAZmoOzNWgE"
   },
   "outputs": [
    {
     "data": {
      "text/plain": [
       "902892"
      ]
     },
     "execution_count": 13,
     "metadata": {},
     "output_type": "execute_result"
    }
   ],
   "source": [
    "words.count()"
   ]
  },
  {
   "cell_type": "markdown",
   "metadata": {
    "id": "9M-FlX5DWK0d"
   },
   "source": [
    "## Contando palabras (reduceByKey)"
   ]
  },
  {
   "cell_type": "code",
   "execution_count": 14,
   "metadata": {
    "id": "ls1O6FLo-IQk"
   },
   "outputs": [],
   "source": [
    "wordsCount = words.map(lambda x: (x.lower(),1))"
   ]
  },
  {
   "cell_type": "code",
   "execution_count": 15,
   "metadata": {
    "id": "wRgS4oUlKDBT"
   },
   "outputs": [
    {
     "data": {
      "text/plain": [
       "[('1609', 1),\n",
       " ('the', 1),\n",
       " ('sonnets', 1),\n",
       " ('by', 1),\n",
       " ('william', 1),\n",
       " ('shakespeare', 1),\n",
       " ('1', 1),\n",
       " ('from', 1),\n",
       " ('fairest', 1),\n",
       " ('creatures', 1)]"
      ]
     },
     "execution_count": 15,
     "metadata": {},
     "output_type": "execute_result"
    }
   ],
   "source": [
    "wordsCount.take(10)"
   ]
  },
  {
   "cell_type": "code",
   "execution_count": 16,
   "metadata": {
    "id": "N6aAGd8UKANh"
   },
   "outputs": [],
   "source": [
    "wordsCounted = wordsCount.reduceByKey(lambda x,y: x+y)"
   ]
  },
  {
   "cell_type": "code",
   "execution_count": 17,
   "metadata": {
    "id": "hn_lW0hrKr2N"
   },
   "outputs": [
    {
     "data": {
      "text/plain": [
       "[('shakespeare', 258),\n",
       " ('1', 13),\n",
       " ('fairest', 39),\n",
       " ('creatures', 27),\n",
       " ('we', 3210),\n",
       " ('increase,', 9),\n",
       " ('thereby', 21),\n",
       " (\"beauty's\", 30),\n",
       " ('rose', 44),\n",
       " ('never', 959)]"
      ]
     },
     "execution_count": 17,
     "metadata": {},
     "output_type": "execute_result"
    }
   ],
   "source": [
    "wordsCounted.take(10)"
   ]
  },
  {
   "cell_type": "code",
   "execution_count": 18,
   "metadata": {
    "id": "ahh0On2NKtj1"
   },
   "outputs": [
    {
     "data": {
      "text/plain": [
       "[('the', 27681),\n",
       " ('and', 26066),\n",
       " ('i', 19540),\n",
       " ('to', 18737),\n",
       " ('of', 18084),\n",
       " ('a', 14424),\n",
       " ('my', 12456),\n",
       " ('in', 10721),\n",
       " ('you', 10666),\n",
       " ('that', 10489)]"
      ]
     },
     "execution_count": 18,
     "metadata": {},
     "output_type": "execute_result"
    }
   ],
   "source": [
    "wordsCounted.takeOrdered(10, lambda x: -x[1])"
   ]
  },
  {
   "cell_type": "markdown",
   "metadata": {
    "id": "QPpLRI_iW1zj"
   },
   "source": [
    "### Mal uso de groupByKey"
   ]
  },
  {
   "cell_type": "code",
   "execution_count": 19,
   "metadata": {
    "id": "j8j0f4cPW5Ct"
   },
   "outputs": [
    {
     "data": {
      "text/plain": [
       "[('the', <pyspark.resultiterable.ResultIterable at 0x7ffb18b82a90>),\n",
       " ('and', <pyspark.resultiterable.ResultIterable at 0x7ffb18b82af0>),\n",
       " ('i', <pyspark.resultiterable.ResultIterable at 0x7ffb18b824f0>),\n",
       " ('to', <pyspark.resultiterable.ResultIterable at 0x7ffb18b82b50>),\n",
       " ('of', <pyspark.resultiterable.ResultIterable at 0x7ffb18b82610>),\n",
       " ('a', <pyspark.resultiterable.ResultIterable at 0x7ffb18b82bb0>),\n",
       " ('my', <pyspark.resultiterable.ResultIterable at 0x7ffb18b82c10>),\n",
       " ('in', <pyspark.resultiterable.ResultIterable at 0x7ffb18b82190>),\n",
       " ('you', <pyspark.resultiterable.ResultIterable at 0x7ffb18b82c70>),\n",
       " ('that', <pyspark.resultiterable.ResultIterable at 0x7ffb18b82cd0>)]"
      ]
     },
     "execution_count": 19,
     "metadata": {},
     "output_type": "execute_result"
    }
   ],
   "source": [
    "wordsCount.groupByKey().takeOrdered(10, lambda x: -1 * len(x[1]))"
   ]
  },
  {
   "cell_type": "code",
   "execution_count": null,
   "metadata": {
    "id": "uOEXpY5D5Pu0"
   },
   "outputs": [],
   "source": [
    "wordsCount.groupByKey().map(lambda a: (a[0], list(a[1]))).take(5)"
   ]
  },
  {
   "cell_type": "code",
   "execution_count": 21,
   "metadata": {
    "id": "AR1N2D4fXpLn"
   },
   "outputs": [
    {
     "data": {
      "text/plain": [
       "[('riper', [1, 1, 1]),\n",
       " ('memory:', [1]),\n",
       " (\"feed'st\", [1, 1, 1]),\n",
       " (\"light's\", [1]),\n",
       " ('fuel,', [1])]"
      ]
     },
     "execution_count": 21,
     "metadata": {},
     "output_type": "execute_result"
    }
   ],
   "source": [
    "wordsCount.groupByKey().filter(lambda x: len(x[1]) < 5).map(lambda a: (a[0], list(a[1]))).take(5)"
   ]
  },
  {
   "cell_type": "markdown",
   "metadata": {
    "id": "4QDBwG7ZYVmV"
   },
   "source": [
    "## Palabra más larga (reduce)"
   ]
  },
  {
   "cell_type": "code",
   "execution_count": 31,
   "metadata": {
    "id": "H-tIGKUtYbeg"
   },
   "outputs": [
    {
     "data": {
      "text/plain": [
       "'http://www.ibiblio.org/gutenberg/etext06'"
      ]
     },
     "execution_count": 31,
     "metadata": {},
     "output_type": "execute_result"
    }
   ],
   "source": [
    "words.reduce(lambda a, b: a if (len(a) > len(b)) else b)"
   ]
  },
  {
   "cell_type": "markdown",
   "metadata": {
    "id": "FWyAXyTfYnL2"
   },
   "source": [
    "## Palabras que empiezan con a (filter)"
   ]
  },
  {
   "cell_type": "code",
   "execution_count": 32,
   "metadata": {
    "id": "lL3AThZsYtcp"
   },
   "outputs": [],
   "source": [
    "wordsA = words.filter(lambda word: word.startswith('a'))"
   ]
  },
  {
   "cell_type": "code",
   "execution_count": 34,
   "metadata": {
    "id": "UAeEHwp9Y1e9"
   },
   "outputs": [
    {
     "data": {
      "text/plain": [
       "63676"
      ]
     },
     "execution_count": 34,
     "metadata": {},
     "output_type": "execute_result"
    }
   ],
   "source": [
    "wordsA.count()"
   ]
  },
  {
   "cell_type": "code",
   "execution_count": 35,
   "metadata": {
    "id": "oqR7v7k1Y39H"
   },
   "outputs": [
    {
     "data": {
      "text/plain": [
       "['as', 'a', 'abundance', 'art', 'and', 'a', 'asked,', 'all', 'all', 'an']"
      ]
     },
     "execution_count": 35,
     "metadata": {},
     "output_type": "execute_result"
    }
   ],
   "source": [
    "wordsA.take(10)"
   ]
  },
  {
   "cell_type": "markdown",
   "metadata": {
    "id": "oh21OigvZBRD"
   },
   "source": [
    "## Palabras únicas que empiezan con a (distinct)"
   ]
  },
  {
   "cell_type": "code",
   "execution_count": 38,
   "metadata": {
    "id": "rI4olhzfZEkV"
   },
   "outputs": [
    {
     "data": {
      "text/plain": [
       "2688"
      ]
     },
     "execution_count": 38,
     "metadata": {},
     "output_type": "execute_result"
    }
   ],
   "source": [
    "wordsA.distinct().count()"
   ]
  },
  {
   "cell_type": "markdown",
   "metadata": {
    "id": "DpKemb9lZOoa"
   },
   "source": [
    "## Cantidad de palabras por frecuencia de repetición ordenados (sortByKey)"
   ]
  },
  {
   "cell_type": "code",
   "execution_count": 39,
   "metadata": {
    "id": "f7WAUcp76rvF"
   },
   "outputs": [
    {
     "data": {
      "text/plain": [
       "[('shakespeare', 258),\n",
       " ('1', 13),\n",
       " ('fairest', 39),\n",
       " ('creatures', 27),\n",
       " ('we', 3210)]"
      ]
     },
     "execution_count": 39,
     "metadata": {},
     "output_type": "execute_result"
    }
   ],
   "source": [
    "wordsCounted.take(5)"
   ]
  },
  {
   "cell_type": "code",
   "execution_count": 40,
   "metadata": {
    "id": "txZj8VR1K0MY"
   },
   "outputs": [],
   "source": [
    "wordsFreq = wordsCounted.map(lambda x: (x[1],1))"
   ]
  },
  {
   "cell_type": "code",
   "execution_count": 42,
   "metadata": {
    "id": "88ZPvuP4LgBt"
   },
   "outputs": [
    {
     "data": {
      "text/plain": [
       "[(258, 1),\n",
       " (13, 1),\n",
       " (39, 1),\n",
       " (27, 1),\n",
       " (3210, 1),\n",
       " (9, 1),\n",
       " (21, 1),\n",
       " (30, 1),\n",
       " (44, 1),\n",
       " (959, 1)]"
      ]
     },
     "execution_count": 42,
     "metadata": {},
     "output_type": "execute_result"
    }
   ],
   "source": [
    "wordsFreq.take(10)"
   ]
  },
  {
   "cell_type": "code",
   "execution_count": 43,
   "metadata": {
    "id": "JGd12kyHZdIS"
   },
   "outputs": [
    {
     "data": {
      "text/plain": [
       "[(1, 31072),\n",
       " (2, 8493),\n",
       " (3, 4342),\n",
       " (4, 2659),\n",
       " (5, 1822),\n",
       " (6, 1338),\n",
       " (7, 1053),\n",
       " (8, 779),\n",
       " (9, 700),\n",
       " (10, 549)]"
      ]
     },
     "execution_count": 43,
     "metadata": {},
     "output_type": "execute_result"
    }
   ],
   "source": [
    "wordsFreq.reduceByKey(lambda a,b: a+b).sortByKey().take(10)"
   ]
  },
  {
   "cell_type": "code",
   "execution_count": 46,
   "metadata": {
    "id": "YhA9tmhZLuZF"
   },
   "outputs": [
    {
     "data": {
      "text/plain": [
       "[(1, 31072),\n",
       " (2, 8493),\n",
       " (3, 4342),\n",
       " (4, 2659),\n",
       " (5, 1822),\n",
       " (6, 1338),\n",
       " (7, 1053),\n",
       " (8, 779),\n",
       " (9, 700),\n",
       " (10, 549)]"
      ]
     },
     "execution_count": 46,
     "metadata": {},
     "output_type": "execute_result"
    }
   ],
   "source": [
    "wordsFreq.reduceByKey(lambda a,b: a+b).takeOrdered(10, lambda x: -x[1])"
   ]
  },
  {
   "cell_type": "markdown",
   "metadata": {
    "id": "AqrkX2Jh73fR"
   },
   "source": [
    "# Transformaciones entre dos RDD"
   ]
  },
  {
   "cell_type": "markdown",
   "metadata": {
    "id": "legQOraf7-ai"
   },
   "source": [
    "## Union"
   ]
  },
  {
   "cell_type": "markdown",
   "metadata": {
    "id": "F76c0ngp8JhD"
   },
   "source": [
    "Obtiene la unión entre dos RDD."
   ]
  },
  {
   "cell_type": "code",
   "execution_count": null,
   "metadata": {
    "id": "FMqSaDhQOA0V"
   },
   "outputs": [],
   "source": [
    "integersList2 = range(501,1501)\n",
    "len(integersList2)"
   ]
  },
  {
   "cell_type": "code",
   "execution_count": null,
   "metadata": {
    "id": "jDB8R4mp9SxM"
   },
   "outputs": [],
   "source": [
    "integersList2RDD = sc.parallelize(integersList2)"
   ]
  },
  {
   "cell_type": "code",
   "execution_count": null,
   "metadata": {
    "id": "D4jCnCS49bot"
   },
   "outputs": [],
   "source": [
    "integersList2RDD.count()"
   ]
  },
  {
   "cell_type": "code",
   "execution_count": null,
   "metadata": {
    "id": "jB-WFpLB9dWF"
   },
   "outputs": [],
   "source": [
    "integersListRDD.count()"
   ]
  },
  {
   "cell_type": "code",
   "execution_count": null,
   "metadata": {
    "id": "70C8rrq49lUI"
   },
   "outputs": [],
   "source": [
    "union = integersListRDD.union(integersList2RDD)"
   ]
  },
  {
   "cell_type": "code",
   "execution_count": null,
   "metadata": {
    "id": "p9lL1l6g9o8y"
   },
   "outputs": [],
   "source": [
    "union.take(5)"
   ]
  },
  {
   "cell_type": "code",
   "execution_count": null,
   "metadata": {
    "id": "cfwo3GW99q0L"
   },
   "outputs": [],
   "source": [
    "union.count()"
   ]
  },
  {
   "cell_type": "markdown",
   "metadata": {
    "id": "zJ18HxVP9uSW"
   },
   "source": [
    "## Intersection"
   ]
  },
  {
   "cell_type": "markdown",
   "metadata": {
    "id": "p6bSa4ml93CA"
   },
   "source": [
    "Intersección entre dos RDD."
   ]
  },
  {
   "cell_type": "code",
   "execution_count": null,
   "metadata": {
    "id": "ZJO8WJ1D9sEE"
   },
   "outputs": [],
   "source": [
    "intersection = integersListRDD.intersection(integersList2RDD)"
   ]
  },
  {
   "cell_type": "code",
   "execution_count": null,
   "metadata": {
    "id": "oQ2IVU3T9-cC"
   },
   "outputs": [],
   "source": [
    "intersection.count()"
   ]
  },
  {
   "cell_type": "code",
   "execution_count": null,
   "metadata": {
    "id": "hZheIKRNjOio"
   },
   "outputs": [],
   "source": [
    "intersection.take(10)"
   ]
  },
  {
   "cell_type": "code",
   "execution_count": null,
   "metadata": {
    "id": "buyC_d50jSPQ"
   },
   "outputs": [],
   "source": [
    "intersection.collect()"
   ]
  },
  {
   "cell_type": "markdown",
   "metadata": {
    "id": "28l3dlYxJzyi"
   },
   "source": [
    "## Subtract"
   ]
  },
  {
   "cell_type": "markdown",
   "metadata": {
    "id": "9WbPFo35J3tE"
   },
   "source": [
    "Elimina del primer RDD los registros que aparezcan en el segundo."
   ]
  },
  {
   "cell_type": "code",
   "execution_count": null,
   "metadata": {
    "id": "1GLXtqb9J8ev"
   },
   "outputs": [],
   "source": [
    "subtract = integersListRDD.subtract(integersList2RDD)"
   ]
  },
  {
   "cell_type": "code",
   "execution_count": null,
   "metadata": {
    "id": "s0zdfroiKHU8"
   },
   "outputs": [],
   "source": [
    "subtract.count()"
   ]
  },
  {
   "cell_type": "code",
   "execution_count": null,
   "metadata": {
    "id": "TkIvM1Tijnaz"
   },
   "outputs": [],
   "source": [
    "subtract.collect()"
   ]
  },
  {
   "cell_type": "markdown",
   "metadata": {
    "id": "NnoXBl3q-H2v"
   },
   "source": [
    "## Joins"
   ]
  },
  {
   "cell_type": "markdown",
   "metadata": {
    "id": "5RYUC49k-Jx3"
   },
   "source": [
    "Con los joins se combinan dos RDD en base a las claves de los registros. Junta cada registro del primer RDD con cada registro del segundo RDD que tengan la misma clave. No agrupa, sino que es de a pares de registro."
   ]
  },
  {
   "cell_type": "code",
   "execution_count": null,
   "metadata": {
    "id": "WiHtBvLs-ADS"
   },
   "outputs": [],
   "source": [
    "data_alumnos = [\n",
    "  (1,'Damian'),\n",
    "  (2,'Luis'),\n",
    "  (3,'Martin'),\n",
    "  (4,'Natalia'),\n",
    "  (5,'Joaquin')\n",
    "]\n",
    "\n",
    "alumnos = sc.parallelize(data_alumnos)"
   ]
  },
  {
   "cell_type": "code",
   "execution_count": null,
   "metadata": {
    "id": "BSEG_YQF-sgz"
   },
   "outputs": [],
   "source": [
    "alumnos.collect()"
   ]
  },
  {
   "cell_type": "code",
   "execution_count": null,
   "metadata": {
    "id": "UcQnmQOX-v8X"
   },
   "outputs": [],
   "source": [
    "data_materias_aprobadas = [\n",
    "  (1, 'Algebra'),\n",
    "  (2, 'Análisis Matemático'),\n",
    "  (200, 'Algebra'),\n",
    "  (2, 'Física')\n",
    "]\n",
    "\n",
    "materias_aprobadas = sc.parallelize(data_materias_aprobadas)"
   ]
  },
  {
   "cell_type": "code",
   "execution_count": null,
   "metadata": {
    "id": "8DMPmYzl_8HI"
   },
   "outputs": [],
   "source": [
    "materias_aprobadas.collect()"
   ]
  },
  {
   "cell_type": "markdown",
   "metadata": {
    "id": "TUC97o6nE36O"
   },
   "source": [
    "### Inner Join (Join)"
   ]
  },
  {
   "cell_type": "markdown",
   "metadata": {
    "id": "fII6Z3hAE8_3"
   },
   "source": [
    "Cuando se llama para sets de datos del tipo (K,V) y (K,W) devuelve un set de datos del tipo (K, (V,W)) con todos los pares de elementos para cada key. (especificamente los que hay en comun por esa clave en ambos sets de datos)"
   ]
  },
  {
   "cell_type": "code",
   "execution_count": null,
   "metadata": {
    "id": "flekON_1_9dH"
   },
   "outputs": [],
   "source": [
    "alumnos.join(materias_aprobadas).collect()"
   ]
  },
  {
   "cell_type": "markdown",
   "metadata": {
    "id": "5pkgFzBWFE5S"
   },
   "source": [
    "### Left Outer Join"
   ]
  },
  {
   "cell_type": "markdown",
   "metadata": {
    "id": "h7Sd_L-kHLnh"
   },
   "source": [
    "Cuando se llama para sets de datos del tipo (K,V) y (K,W) devuelve un set de datos del tipo (K, (V,W)) asegurandonos que todos los datos del set de datos izquierdo estaran en el resultado del join."
   ]
  },
  {
   "cell_type": "code",
   "execution_count": null,
   "metadata": {
    "id": "2e_wWrASFCbH"
   },
   "outputs": [],
   "source": [
    "alumnos.leftOuterJoin(materias_aprobadas).collect()"
   ]
  },
  {
   "cell_type": "markdown",
   "metadata": {
    "id": "yL1vuNozHWf2"
   },
   "source": [
    "### Right Outer Join"
   ]
  },
  {
   "cell_type": "markdown",
   "metadata": {
    "id": "JJs-3temHYiM"
   },
   "source": [
    "Cuando se llama para sets de datos del tipo (K,V) y (K,W) devuelve un set de datos del tipo (K, (V,W)) asegurandonos que todos los datos del set de datos derecho estaran en el resultado del join."
   ]
  },
  {
   "cell_type": "code",
   "execution_count": null,
   "metadata": {
    "id": "AWgbjDenHRXa"
   },
   "outputs": [],
   "source": [
    "alumnos.rightOuterJoin(materias_aprobadas).collect()"
   ]
  },
  {
   "cell_type": "markdown",
   "metadata": {
    "id": "d5dKB2iQHhZX"
   },
   "source": [
    "### Outer/Full Join"
   ]
  },
  {
   "cell_type": "markdown",
   "metadata": {
    "id": "Ow57N52-HlDu"
   },
   "source": [
    "\n",
    "Cuando se llama para sets de datos del tipo (K,V) y (K,W) devuelve un set de datos del tipo (K, (V,W)) asegurandonos que todos los datos de ambos set de datos estaran aunque no haya match de keys."
   ]
  },
  {
   "cell_type": "code",
   "execution_count": null,
   "metadata": {
    "id": "4xUS95vzHdkw"
   },
   "outputs": [],
   "source": [
    "alumnos.fullOuterJoin(materias_aprobadas).collect()"
   ]
  },
  {
   "cell_type": "markdown",
   "metadata": {
    "id": "4AieykhPHthx"
   },
   "source": [
    "### Broadcast Join (map-side join)"
   ]
  },
  {
   "cell_type": "markdown",
   "metadata": {
    "id": "ULF_l_PKHvoT"
   },
   "source": [
    "#### Variable Broadcast"
   ]
  },
  {
   "cell_type": "markdown",
   "metadata": {
    "id": "Rm6ouls5H2iG"
   },
   "source": [
    "Una variable Broadcast nos permite mantener una variable solo lectura cacheada en cada una de las maquinas del cluster en vez de enviar esa informacion con cada una de las tareas que se envian al cluster.\n",
    "\n",
    "Esto es particularmente util cuando cuando tareas a partir de multiples etapas (stages) necesitan la misma información o cuando cachear información de forma deserializada es importante.\n",
    "\n",
    "Tener en cuenta que esto **es posible** cuando uno de los data sets o conjunto de datos **es lo suficientemente pequeño para ser broadcasteado a todos los nodos/workers del cluster**."
   ]
  },
  {
   "cell_type": "code",
   "execution_count": 47,
   "metadata": {
    "id": "c_XZYCyZHpA9"
   },
   "outputs": [],
   "source": [
    "# Vamos a suponer que tenemos un RDD de productos por sus IDs identificando ventas de los mismos\n",
    "prodsList = [1,11,1,4,5,11,2,3,4,5,6,4,5,4,3,2,1,11,2,3,4,5,6,4,3,2,1,1]\n",
    "prods = sc.parallelize(prodsList,3)"
   ]
  },
  {
   "cell_type": "code",
   "execution_count": 48,
   "metadata": {
    "id": "cqKNAzbUIInc"
   },
   "outputs": [],
   "source": [
    "# Un hash con los productos y sus nombres\n",
    "productNames = {1:'papas',\n",
    "                2:'cebollas',\n",
    "                3:'tomates',\n",
    "                4:'zanahorias',\n",
    "                5:'batatas',\n",
    "                6:'peras',\n",
    "                7:'cilantro',\n",
    "                8:'apio',\n",
    "                9:'morrones',\n",
    "                10:'manzanas',\n",
    "                11:'naranjas'}\n",
    "\n",
    "# Hacemos un broadcast de la variable\n",
    "bproductNames = sc.broadcast(productNames)"
   ]
  },
  {
   "cell_type": "code",
   "execution_count": 49,
   "metadata": {
    "id": "YbtkGuPuIQVI"
   },
   "outputs": [
    {
     "data": {
      "text/plain": [
       "[(3, 4), (1, 5), (4, 6), (5, 4), (2, 4)]"
      ]
     },
     "execution_count": 49,
     "metadata": {},
     "output_type": "execute_result"
    }
   ],
   "source": [
    "# Buscamos los productos que se vendieron más de 4 veces\n",
    "popularProds = prods.map(lambda x:(x,1))\\\n",
    "    .reduceByKey(lambda x,y:x+y)\\\n",
    "    .filter(lambda x:x[1]>=4)\n",
    "popularProds.collect()"
   ]
  },
  {
   "cell_type": "markdown",
   "metadata": {
    "id": "atJ07Q64Idvx"
   },
   "source": [
    "El join se realiza de forma implicita usando un map y dentro del mismo accediendo a la informacion de la variable a la que se realizo el broadcast via .value"
   ]
  },
  {
   "cell_type": "code",
   "execution_count": 50,
   "metadata": {
    "id": "Rq0QI5QWIWNL"
   },
   "outputs": [
    {
     "data": {
      "text/plain": [
       "[('tomates', 3, 4),\n",
       " ('papas', 1, 5),\n",
       " ('zanahorias', 4, 6),\n",
       " ('batatas', 5, 4),\n",
       " ('cebollas', 2, 4)]"
      ]
     },
     "execution_count": 50,
     "metadata": {},
     "output_type": "execute_result"
    }
   ],
   "source": [
    "popularProds = popularProds.map(\n",
    "    lambda x:(bproductNames.value[x[0]],x[0],x[1]))\n",
    "popularProds.collect()"
   ]
  },
  {
   "cell_type": "markdown",
   "metadata": {
    "id": "-saIXIYOJJwA"
   },
   "source": [
    "#### Ventajas"
   ]
  },
  {
   "cell_type": "markdown",
   "metadata": {
    "id": "GemDSZwrJSXS"
   },
   "source": [
    "Cuando un valor es \"broadcasteado\" al cluster, este es copiado a los nodos/workers **sólo una vez** (en vez de múltiples veces si la información fuera a enviarse en cada task). De esta forma se resuelve la consulta más rapidamente."
   ]
  },
  {
   "cell_type": "markdown",
   "metadata": {
    "id": "S5T0HkWAN-Iw"
   },
   "source": [
    "# Transformaciones sobre las particiones"
   ]
  },
  {
   "cell_type": "code",
   "execution_count": null,
   "metadata": {
    "id": "RopZZdNOJGvQ"
   },
   "outputs": [],
   "source": [
    "rdd = sc.parallelize(range(1,11))\n",
    "rdd.getNumPartitions()"
   ]
  },
  {
   "cell_type": "code",
   "execution_count": null,
   "metadata": {
    "id": "lnvORFhIOKqk"
   },
   "outputs": [],
   "source": [
    "sc.defaultParallelism"
   ]
  },
  {
   "cell_type": "code",
   "execution_count": null,
   "metadata": {
    "id": "vt6pb_QhAQOC"
   },
   "outputs": [],
   "source": [
    "rdd.collect()"
   ]
  },
  {
   "cell_type": "markdown",
   "metadata": {
    "id": "Dh3FU26O_zFD"
   },
   "source": []
  },
  {
   "cell_type": "markdown",
   "metadata": {
    "id": "jjMa0g_i99y5"
   },
   "source": [
    "## Glom"
   ]
  },
  {
   "cell_type": "markdown",
   "metadata": {
    "id": "cJngJqoI-Uez"
   },
   "source": [
    "Junta los registros de cada partición en una lista."
   ]
  },
  {
   "cell_type": "code",
   "execution_count": null,
   "metadata": {
    "id": "J_ONKwAMOPgN"
   },
   "outputs": [],
   "source": [
    "rdd.glom().collect()"
   ]
  },
  {
   "cell_type": "markdown",
   "metadata": {
    "id": "JQqRRZf4-sZ3"
   },
   "source": [
    "## MapPartitions"
   ]
  },
  {
   "cell_type": "markdown",
   "metadata": {
    "id": "E6eW2l3O-v_4"
   },
   "source": [
    "Devuelve un nuevo RDD aplicando una función a cada partición del RDD."
   ]
  },
  {
   "cell_type": "code",
   "execution_count": null,
   "metadata": {
    "id": "zh8cyhDeOTUX"
   },
   "outputs": [],
   "source": [
    "def f(iterator): yield __builtin__.sum(iterator)\n",
    "rdd.mapPartitions(f).collect()"
   ]
  },
  {
   "cell_type": "markdown",
   "metadata": {
    "id": "aBW1VMB5RdOr"
   },
   "source": [
    "## Repartition"
   ]
  },
  {
   "cell_type": "markdown",
   "metadata": {
    "id": "svqGE-d7RoSp"
   },
   "source": [
    "Reshuffle los datos en el RDD de forma aleatoria para crear más o menos particiones y balancearlas. \n",
    "\n",
    "Hace un shuffle de todo los datos por la red."
   ]
  },
  {
   "cell_type": "code",
   "execution_count": null,
   "metadata": {
    "id": "6mV5EaYhScbs"
   },
   "outputs": [],
   "source": [
    "rdd = sc.parallelize(range(1,11), 4)\n",
    "rdd.getNumPartitions()"
   ]
  },
  {
   "cell_type": "code",
   "execution_count": null,
   "metadata": {
    "id": "DOcEeb93SpmS"
   },
   "outputs": [],
   "source": [
    "rdd.glom().collect()"
   ]
  },
  {
   "cell_type": "code",
   "execution_count": null,
   "metadata": {
    "id": "UIm6FX5fPYzw"
   },
   "outputs": [],
   "source": [
    "rdd2 = rdd.repartition(2)"
   ]
  },
  {
   "cell_type": "code",
   "execution_count": null,
   "metadata": {
    "id": "d44SVE6PSH9N"
   },
   "outputs": [],
   "source": [
    "rdd2.getNumPartitions()"
   ]
  },
  {
   "cell_type": "code",
   "execution_count": null,
   "metadata": {
    "id": "txLaGMBXSItl"
   },
   "outputs": [],
   "source": [
    "rdd2.glom().collect()"
   ]
  },
  {
   "cell_type": "markdown",
   "metadata": {
    "id": "YX-bJjSOTFXA"
   },
   "source": [
    "Spark no hace shuffle de registros individuales sino de a bloques con un mínimo (no es un problema cuando se manejan grandes cantidades de datos)"
   ]
  },
  {
   "cell_type": "markdown",
   "metadata": {
    "id": "md7oT6F7T-N6"
   },
   "source": [
    "## Coalesce"
   ]
  },
  {
   "cell_type": "markdown",
   "metadata": {
    "id": "-6nPKD5pUK6g"
   },
   "source": [
    "Decrementa la cantidad de particiones del RDD.\n",
    "\n",
    "No hace shuffle por defecto, solo pasa datos de una partición a otra.\n",
    "\n",
    "No quedan balanceadas."
   ]
  },
  {
   "cell_type": "code",
   "execution_count": null,
   "metadata": {
    "id": "X5jxQeUUSQZJ"
   },
   "outputs": [],
   "source": [
    "rddCoalesce = rdd.coalesce(2)"
   ]
  },
  {
   "cell_type": "code",
   "execution_count": null,
   "metadata": {
    "id": "ijvk00kuUfs1"
   },
   "outputs": [],
   "source": [
    "rddCoalesce.glom().collect()"
   ]
  },
  {
   "cell_type": "markdown",
   "metadata": {
    "id": "VNP1bHnPVCfV"
   },
   "source": [
    "## RepartitionAndSortWithinPartitions"
   ]
  },
  {
   "cell_type": "markdown",
   "metadata": {
    "id": "3i7Du_xtbrwG"
   },
   "source": [
    "Reparticiona un RDD de acuerdo a un particionador y ordena los registros en base a su clave.\n",
    "\n",
    "Los registros deben tener clave.\n",
    "\n",
    "Es más eficiente que hacer un repartition y luego un sort dentro de cada partición ya que realiza el sort en el mismo paso de shuffle."
   ]
  },
  {
   "cell_type": "code",
   "execution_count": null,
   "metadata": {
    "id": "fMkGtQYYUjXJ"
   },
   "outputs": [],
   "source": [
    "rdd.map(lambda x: (x, x)).collect()"
   ]
  },
  {
   "cell_type": "code",
   "execution_count": null,
   "metadata": {
    "id": "TVPrXSV0XiUe"
   },
   "outputs": [],
   "source": [
    "rdd.map(lambda x: (x, x)).glom().collect()"
   ]
  },
  {
   "cell_type": "markdown",
   "metadata": {
    "id": "OKEX0nqDca0X"
   },
   "source": [
    "### Ascending"
   ]
  },
  {
   "cell_type": "code",
   "execution_count": null,
   "metadata": {
    "id": "Cy7qnMGKXbBC"
   },
   "outputs": [],
   "source": [
    "rdd.map(lambda x: (x, x)).repartitionAndSortWithinPartitions(2).glom().collect()"
   ]
  },
  {
   "cell_type": "code",
   "execution_count": null,
   "metadata": {
    "id": "9rK68D2aX1fk"
   },
   "outputs": [],
   "source": [
    "rdd.map(lambda x: (x % 3, x)).repartitionAndSortWithinPartitions(2).glom().collect()"
   ]
  },
  {
   "cell_type": "code",
   "execution_count": null,
   "metadata": {
    "id": "9smRZScuYD8s"
   },
   "outputs": [],
   "source": [
    "rdd.map(lambda x: (x % 3, x)).repartitionAndSortWithinPartitions(2, ascending=False).glom().collect()"
   ]
  },
  {
   "cell_type": "markdown",
   "metadata": {
    "id": "yUyetYoZceNB"
   },
   "source": [
    "### PartitionFunc"
   ]
  },
  {
   "cell_type": "code",
   "execution_count": null,
   "metadata": {
    "id": "-1xwWifQYT9r"
   },
   "outputs": [],
   "source": [
    "rdd.map(lambda x: (x * 2, x)).repartitionAndSortWithinPartitions(2).glom().collect()"
   ]
  },
  {
   "cell_type": "code",
   "execution_count": null,
   "metadata": {
    "id": "oDsh3YFLYmel"
   },
   "outputs": [],
   "source": [
    "rdd.map(lambda x: (x * 2, x)).repartitionAndSortWithinPartitions(2, partitionFunc=lambda x: (x % 3)).glom().collect()"
   ]
  },
  {
   "cell_type": "markdown",
   "metadata": {
    "id": "ynV8o0DQe-hS"
   },
   "source": [
    "# Persistiendo RDD"
   ]
  },
  {
   "cell_type": "markdown",
   "metadata": {
    "id": "py6LcfQ3fDHc"
   },
   "source": [
    "## Cache"
   ]
  },
  {
   "cell_type": "markdown",
   "metadata": {
    "id": "sKoTPP8DfFYm"
   },
   "source": [
    "Cachea un RDD intermedio que va a ser utilizado varias veces de modo de evitar tener que ejecutar todas las transformaciones cada vez."
   ]
  },
  {
   "cell_type": "code",
   "execution_count": null,
   "metadata": {
    "id": "7T8S272Idj6g"
   },
   "outputs": [],
   "source": [
    "rdd = sc.parallelize(range(1,100000))"
   ]
  },
  {
   "cell_type": "code",
   "execution_count": null,
   "metadata": {
    "id": "Nz4CC4u9d43K"
   },
   "outputs": [],
   "source": [
    "rddCached = rdd.map(lambda x: x*10).cache()"
   ]
  },
  {
   "cell_type": "code",
   "execution_count": null,
   "metadata": {
    "id": "CYQ74fKfeCiY"
   },
   "outputs": [],
   "source": [
    "rddCached.count()"
   ]
  },
  {
   "cell_type": "code",
   "execution_count": null,
   "metadata": {
    "id": "i27r47iieEHg"
   },
   "outputs": [],
   "source": [
    "rddCached.take(10)"
   ]
  },
  {
   "cell_type": "markdown",
   "metadata": {
    "id": "Q-w0puPNfe5u"
   },
   "source": [
    "## SaveAsTextFile"
   ]
  },
  {
   "cell_type": "markdown",
   "metadata": {
    "id": "s0n6xyV5fiY1"
   },
   "source": [
    "Guarda un RDD a disco en un archivo de texto."
   ]
  },
  {
   "cell_type": "code",
   "execution_count": null,
   "metadata": {
    "id": "pFBypm_3dU15"
   },
   "outputs": [],
   "source": [
    "rdd.saveAsTextFile('numbers.txt')"
   ]
  },
  {
   "cell_type": "code",
   "execution_count": null,
   "metadata": {
    "id": "2BB6t8lSdW_6"
   },
   "outputs": [],
   "source": [
    "rddN = sc.textFile('numbers.txt')"
   ]
  },
  {
   "cell_type": "code",
   "execution_count": null,
   "metadata": {
    "id": "ThBA5KkEdidg"
   },
   "outputs": [],
   "source": [
    "rddN.collect()"
   ]
  },
  {
   "cell_type": "markdown",
   "metadata": {
    "id": "98_lZqcufocO"
   },
   "source": [
    "## SaveAsPickleFile"
   ]
  },
  {
   "cell_type": "markdown",
   "metadata": {
    "id": "-uoTsAuIf1hG"
   },
   "source": [
    "Guarda un RDD a disco en un archivo con los datos serializados."
   ]
  },
  {
   "cell_type": "code",
   "execution_count": null,
   "metadata": {
    "id": "EE_YrGrEeGaq"
   },
   "outputs": [],
   "source": [
    "rdd.saveAsPickleFile('numbers2.file')"
   ]
  },
  {
   "cell_type": "code",
   "execution_count": null,
   "metadata": {
    "id": "Ol9nG9vdej3h"
   },
   "outputs": [],
   "source": [
    "rddN2 = sc.pickleFile('numbers2.file')"
   ]
  },
  {
   "cell_type": "code",
   "execution_count": null,
   "metadata": {
    "id": "nAOGcsPge2r6"
   },
   "outputs": [],
   "source": [
    "rddN2.take(10)"
   ]
  },
  {
   "cell_type": "code",
   "execution_count": null,
   "metadata": {
    "id": "EE5o7gcVe4HC"
   },
   "outputs": [],
   "source": []
  }
 ],
 "metadata": {
  "colab": {
   "collapsed_sections": [],
   "name": "Spark-Clase6.ipynb",
   "provenance": []
  },
  "kernelspec": {
   "display_name": "Python 3",
   "language": "python",
   "name": "python3"
  },
  "language_info": {
   "codemirror_mode": {
    "name": "ipython",
    "version": 3
   },
   "file_extension": ".py",
   "mimetype": "text/x-python",
   "name": "python",
   "nbconvert_exporter": "python",
   "pygments_lexer": "ipython3",
   "version": "3.9.1"
  }
 },
 "nbformat": 4,
 "nbformat_minor": 4
}

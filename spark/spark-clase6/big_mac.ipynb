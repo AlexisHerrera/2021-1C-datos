{
 "cells": [
  {
   "cell_type": "code",
   "execution_count": 1,
   "metadata": {
    "id": "fnV5re322Wz9"
   },
   "outputs": [],
   "source": [
    "import os\n",
    "os.environ[\"JAVA_HOME\"] = \"/usr/lib/jvm/java-8-openjdk-amd64\""
   ]
  },
  {
   "cell_type": "code",
   "execution_count": 2,
   "metadata": {
    "id": "nhYIAjti3iaf"
   },
   "outputs": [],
   "source": [
    "from pyspark.sql import *\n",
    "from pyspark.sql.functions import *\n",
    "from pyspark import SparkContext\n",
    "from pyspark.sql import SQLContext\n",
    "import pandas as pd"
   ]
  },
  {
   "cell_type": "code",
   "execution_count": 3,
   "metadata": {
    "id": "5ENPglW_4Cco"
   },
   "outputs": [],
   "source": [
    "# create the Spark Session\n",
    "spark = SparkSession.builder.getOrCreate()\n",
    "\n",
    "# create the Spark Context\n",
    "sc = spark.sparkContext\n"
   ]
  },
  {
   "cell_type": "code",
   "execution_count": 16,
   "metadata": {},
   "outputs": [],
   "source": [
    "sqlContext = SQLContext(sc)\n",
    "df = sqlContext.read.csv('big-mac-source-data.csv', header=True, inferSchema=True)\n",
    "rdd = df.rdd"
   ]
  },
  {
   "cell_type": "code",
   "execution_count": 17,
   "metadata": {},
   "outputs": [
    {
     "data": {
      "text/plain": [
       "[Row(name='Argentina', iso_a3='ARG', currency_code='ARS', local_price=2.5, dollar_ex=1.0, GDP_dollar=None, date='2000-04-01'),\n",
       " Row(name='Australia', iso_a3='AUS', currency_code='AUD', local_price=2.59, dollar_ex=1.68, GDP_dollar=None, date='2000-04-01'),\n",
       " Row(name='Brazil', iso_a3='BRA', currency_code='BRL', local_price=2.95, dollar_ex=1.79, GDP_dollar=None, date='2000-04-01')]"
      ]
     },
     "execution_count": 17,
     "metadata": {},
     "output_type": "execute_result"
    }
   ],
   "source": [
    "rdd.take(3)"
   ]
  },
  {
   "cell_type": "code",
   "execution_count": 18,
   "metadata": {},
   "outputs": [
    {
     "data": {
      "text/plain": [
       "1730"
      ]
     },
     "execution_count": 18,
     "metadata": {},
     "output_type": "execute_result"
    }
   ],
   "source": [
    "rdd.count()"
   ]
  },
  {
   "cell_type": "code",
   "execution_count": 22,
   "metadata": {},
   "outputs": [
    {
     "data": {
      "text/plain": [
       "1729"
      ]
     },
     "execution_count": 22,
     "metadata": {},
     "output_type": "execute_result"
    }
   ],
   "source": [
    "rdd = rdd.filter(lambda x: x.dollar_ex != 0).cache()\n",
    "rdd.count()"
   ]
  },
  {
   "cell_type": "markdown",
   "metadata": {},
   "source": [
    "Información del registro con el precio más caro del big mac en USD"
   ]
  },
  {
   "cell_type": "code",
   "execution_count": 24,
   "metadata": {},
   "outputs": [
    {
     "data": {
      "text/plain": [
       "Row(name='Venezuela', iso_a3='VEN', currency_code='VEF', local_price=39.0, dollar_ex=4.29465, GDP_dollar=None, date='2013-01-01')"
      ]
     },
     "execution_count": 24,
     "metadata": {},
     "output_type": "execute_result"
    }
   ],
   "source": [
    "rdd.reduce(lambda x,y:x if x.local_price/x.dollar_ex > y.local_price/y.dollar_ex else y)"
   ]
  },
  {
   "cell_type": "code",
   "execution_count": 25,
   "metadata": {},
   "outputs": [
    {
     "data": {
      "text/plain": [
       "Row(name='Norway', iso_a3='NOR', currency_code='NOK', local_price=45.0, dollar_ex=5.41405, GDP_dollar=84443.634, date='2011-07-01')"
      ]
     },
     "execution_count": 25,
     "metadata": {},
     "output_type": "execute_result"
    }
   ],
   "source": [
    "rdd.filter(lambda x: x.name != 'Venezuela').reduce(lambda x,y:x if x.local_price/x.dollar_ex > y.local_price/y.dollar_ex else y)"
   ]
  },
  {
   "cell_type": "markdown",
   "metadata": {},
   "source": [
    "Información del registro con el big mac más barato"
   ]
  },
  {
   "cell_type": "code",
   "execution_count": 26,
   "metadata": {},
   "outputs": [
    {
     "data": {
      "text/plain": [
       "Row(name='Saudi Arabia', iso_a3='SAU', currency_code='SAR', local_price=2.4, dollar_ex=3.7502, GDP_dollar=None, date='2004-05-01')"
      ]
     },
     "execution_count": 26,
     "metadata": {},
     "output_type": "execute_result"
    }
   ],
   "source": [
    "rdd.reduce(lambda x,y:x if x.local_price/x.dollar_ex < y.local_price/y.dollar_ex else y)"
   ]
  },
  {
   "cell_type": "code",
   "execution_count": 27,
   "metadata": {},
   "outputs": [
    {
     "data": {
      "text/plain": [
       "[Row(name='Argentina', iso_a3='ARG', currency_code='ARS', local_price=2.5, dollar_ex=1.0, GDP_dollar=None, date='2000-04-01'),\n",
       " Row(name='Argentina', iso_a3='ARG', currency_code='ARS', local_price=2.5, dollar_ex=1.0, GDP_dollar=None, date='2001-04-01')]"
      ]
     },
     "execution_count": 27,
     "metadata": {},
     "output_type": "execute_result"
    }
   ],
   "source": [
    "rdd.filter(lambda x: x.name == 'Argentina').take(2)"
   ]
  },
  {
   "cell_type": "code",
   "execution_count": 28,
   "metadata": {},
   "outputs": [],
   "source": [
    "arg = rdd.filter(lambda x: x.name == 'Argentina')"
   ]
  },
  {
   "cell_type": "code",
   "execution_count": 29,
   "metadata": {},
   "outputs": [
    {
     "data": {
      "text/plain": [
       "[('2000-04-01', 2.5),\n",
       " ('2001-04-01', 2.5),\n",
       " ('2002-04-01', 0.7987220447284346),\n",
       " ('2003-04-01', 1.423611111111111),\n",
       " ('2004-05-01', 1.4779661016949153)]"
      ]
     },
     "execution_count": 29,
     "metadata": {},
     "output_type": "execute_result"
    }
   ],
   "source": [
    "arg_usd = arg.map(lambda x: (x.date, x.local_price/x.dollar_ex)).cache()\n",
    "arg_usd.take(5)"
   ]
  },
  {
   "cell_type": "markdown",
   "metadata": {},
   "source": [
    "Las 3 mas caras"
   ]
  },
  {
   "cell_type": "code",
   "execution_count": 30,
   "metadata": {},
   "outputs": [
    {
     "data": {
      "text/plain": [
       "[('2011-07-01', 4.839685420447671),\n",
       " ('2012-01-01', 4.636606004404776),\n",
       " ('2012-07-01', 4.160963591568573)]"
      ]
     },
     "execution_count": 30,
     "metadata": {},
     "output_type": "execute_result"
    }
   ],
   "source": [
    "arg_usd.takeOrdered(3,lambda x : -x[1])"
   ]
  },
  {
   "cell_type": "markdown",
   "metadata": {},
   "source": [
    "Las 3 mas baratas"
   ]
  },
  {
   "cell_type": "code",
   "execution_count": 31,
   "metadata": {},
   "outputs": [
    {
     "data": {
      "text/plain": [
       "[('2002-04-01', 0.7987220447284346),\n",
       " ('2003-04-01', 1.423611111111111),\n",
       " ('2004-05-01', 1.4779661016949153)]"
      ]
     },
     "execution_count": 31,
     "metadata": {},
     "output_type": "execute_result"
    }
   ],
   "source": [
    "arg_usd.takeOrdered(3,lambda x : x[1])"
   ]
  },
  {
   "cell_type": "markdown",
   "metadata": {},
   "source": [
    "Valor promedio de la big mac en USD"
   ]
  },
  {
   "cell_type": "code",
   "execution_count": 38,
   "metadata": {},
   "outputs": [
    {
     "data": {
      "text/plain": [
       "2.9356961998694073"
      ]
     },
     "execution_count": 38,
     "metadata": {},
     "output_type": "execute_result"
    }
   ],
   "source": [
    "arg_usd.map(lambda x: x[1]).reduce(lambda x,y: x+y) / arg_usd.count()"
   ]
  },
  {
   "cell_type": "markdown",
   "metadata": {},
   "source": [
    "Los 10 países con el big mac más caro en promedio"
   ]
  },
  {
   "cell_type": "code",
   "execution_count": 41,
   "metadata": {},
   "outputs": [
    {
     "data": {
      "text/plain": [
       "[('Argentina', (99.81367079555984, 34)),\n",
       " ('Australia', (126.71479472728835, 34)),\n",
       " ('Brazil', (138.95534282395732, 34)),\n",
       " ('Britain', (133.42598151429138, 34)),\n",
       " ('Canada', (140.4544439741842, 34)),\n",
       " ('Chile', (113.70226265872788, 34)),\n",
       " ('China', (76.87241791306755, 34)),\n",
       " ('Czech Republic', (105.81007339102479, 34)),\n",
       " ('Denmark', (160.3082906545654, 34)),\n",
       " ('Euro area', (142.78667227132507, 34)),\n",
       " ('Hong Kong', (70.42008592123635, 34)),\n",
       " ('Hungary', (104.51019223810869, 34)),\n",
       " ('Indonesia', (73.99008459343406, 34)),\n",
       " ('Israel', (109.31898266100936, 25)),\n",
       " ('Japan', (106.29050827071148, 34)),\n",
       " ('Malaysia', (65.92139663079958, 34)),\n",
       " ('Mexico', (89.34990416497034, 34)),\n",
       " ('New Zealand', (125.87395663549559, 34)),\n",
       " ('Poland', (85.09193979453153, 34)),\n",
       " ('Russia', (67.627793283234, 34)),\n",
       " ('Singapore', (111.04009229205231, 34)),\n",
       " ('South Africa', (71.77439846711388, 34)),\n",
       " ('South Korea', (112.66408916545988, 34)),\n",
       " ('Sweden', (177.29480581673357, 34)),\n",
       " ('Switzerland', (207.78070916294828, 34)),\n",
       " ('Taiwan', (80.06876738650952, 34)),\n",
       " ('Thailand', (88.64395664339486, 34)),\n",
       " ('United States', (143.53628250000003, 34)),\n",
       " ('Philippines', (79.61422358947273, 33)),\n",
       " ('Norway', (191.40677302532728, 30)),\n",
       " ('Peru', (98.07619321923579, 31)),\n",
       " ('Turkey', (104.7015140835058, 32)),\n",
       " ('Venezuela', (86.63121688917198, 21)),\n",
       " ('Egypt', (66.51124970593402, 31)),\n",
       " ('Colombia', (106.55626722845174, 29)),\n",
       " ('Costa Rica', (102.72032951359644, 28)),\n",
       " ('Pakistan', (83.30565718768806, 29)),\n",
       " ('Saudi Arabia', (83.55539292469129, 29)),\n",
       " ('Sri Lanka', (78.04815574649261, 29)),\n",
       " ('Ukraine', (54.138446554107546, 29)),\n",
       " ('Uruguay', (114.36473067711597, 29)),\n",
       " ('UAE', (70.24326506737624, 22)),\n",
       " ('Austria', (83.24857699981213, 20)),\n",
       " ('Belgium', (94.98454749968802, 20)),\n",
       " ('Estonia', (69.0769624995406, 20)),\n",
       " ('Finland', (103.25907199941625, 20)),\n",
       " ('France', (95.2944999995298, 20)),\n",
       " ('Germany', (91.99050499969098, 20)),\n",
       " ('Greece', (76.67164905005382, 20)),\n",
       " ('India', (43.14624570669618, 20)),\n",
       " ('Ireland', (92.80142199985632, 20)),\n",
       " ('Italy', (95.82696249952713, 20)),\n",
       " ('Netherlands', (86.84316599980934, 20)),\n",
       " ('Portugal', (76.81459999870172, 20)),\n",
       " ('Spain', (90.32276649979896, 20)),\n",
       " ('Lithuania', (26.62252295438106, 8)),\n",
       " ('Vietnam', (38.88195917166024, 14)),\n",
       " ('United Arab Emirates', (23.68561130613091, 6)),\n",
       " ('Azerbaijan', (13.955903053341235, 6)),\n",
       " ('Bahrain', (21.463533605659457, 6)),\n",
       " ('Guatemala', (19.52762911607369, 6)),\n",
       " ('Honduras', (21.209493829294406, 6)),\n",
       " ('Croatia', (20.1937966833172, 6)),\n",
       " ('Jordan', (18.47033509734697, 6)),\n",
       " ('Kuwait', (21.69615776124927, 6)),\n",
       " ('Lebanon', (24.945269385957566, 6)),\n",
       " ('Latvia', (19.440149999999996, 6)),\n",
       " ('Moldova', (15.551635943711242, 6)),\n",
       " ('Nicaragua', (20.35250154992588, 6)),\n",
       " ('Oman', (17.31200731846071, 6)),\n",
       " ('Qatar', (20.87242483461505, 6)),\n",
       " ('Romania', (13.81006933190818, 6)),\n",
       " ('Slovakia', (23.139564999999997, 6)),\n",
       " ('Slovenia', (16.57033, 6))]"
      ]
     },
     "execution_count": 41,
     "metadata": {},
     "output_type": "execute_result"
    }
   ],
   "source": [
    "rdd.map(lambda x : (x.name, (x.local_price/x.dollar_ex,1) )).reduceByKey(lambda x,y: (x[0]+y[0],x[1]+y[1])).collect()\n",
    "    #.map(lambda x: (x[0],x[1][0]/x[1][1])).takeOrdered(10, lambda x: -x[1])"
   ]
  },
  {
   "cell_type": "markdown",
   "metadata": {},
   "source": [
    "Los 10 países con el big mac más barato en promedio"
   ]
  },
  {
   "cell_type": "code",
   "execution_count": 47,
   "metadata": {},
   "outputs": [
    {
     "data": {
      "text/plain": [
       "[('Ukraine', 1.8668429846243981),\n",
       " ('Malaysia', 1.938864606788223),\n",
       " ('Russia', 1.9890527436245293),\n",
       " ('Hong Kong', 2.071178997683422),\n",
       " ('South Africa', 2.1110117196209965),\n",
       " ('Egypt', 2.1455241840623875),\n",
       " ('India', 2.157312285334809),\n",
       " ('Indonesia', 2.1761789586304134),\n",
       " ('China', 2.2609534680313987),\n",
       " ('Romania', 2.3016782219846967)]"
      ]
     },
     "execution_count": 47,
     "metadata": {},
     "output_type": "execute_result"
    }
   ],
   "source": [
    "rdd.map(lambda x : (x.name, (x.local_price/x.dollar_ex,1) )).reduceByKey(lambda x,y: (x[0]+y[0],x[1]+y[1]))\\\n",
    "    .map(lambda x: (x[0],x[1][0]/x[1][1])).takeOrdered(10, lambda x: x[1])"
   ]
  },
  {
   "cell_type": "markdown",
   "metadata": {},
   "source": [
    "Los 10 países con los big macs más caros históricos y la fecha"
   ]
  },
  {
   "cell_type": "code",
   "execution_count": 52,
   "metadata": {},
   "outputs": [
    {
     "data": {
      "text/plain": [
       "[('Venezuela', (9.081065977437044, '2013-01-01')),\n",
       " ('Norway', (8.311707501777782, '2011-07-01')),\n",
       " ('Switzerland', (8.063015567822365, '2011-07-01')),\n",
       " ('Sweden', (7.639853516858189, '2011-07-01')),\n",
       " ('Brazil', (6.162428645563051, '2011-07-01')),\n",
       " ('Portugal', (6.001132497354401, '2012-07-01')),\n",
       " ('Denmark', (5.993858909908077, '2010-01-01')),\n",
       " ('Lebanon', (5.9523809523809526, '2020-07-01')),\n",
       " ('Finland', (5.917293500000001, '2021-01-01')),\n",
       " ('United States', (5.74, '2019-07-09'))]"
      ]
     },
     "execution_count": 52,
     "metadata": {},
     "output_type": "execute_result"
    }
   ],
   "source": [
    "rdd.map(lambda x : (x.name, (x.local_price/x.dollar_ex,x.date))).reduceByKey(lambda x,y: x if x[0] > y[0] else y).takeOrdered(10, lambda x: -x[1][0])"
   ]
  }
 ],
 "metadata": {
  "kernelspec": {
   "display_name": "Python 3",
   "language": "python",
   "name": "python3"
  },
  "language_info": {
   "codemirror_mode": {
    "name": "ipython",
    "version": 3
   },
   "file_extension": ".py",
   "mimetype": "text/x-python",
   "name": "python",
   "nbconvert_exporter": "python",
   "pygments_lexer": "ipython3",
   "version": "3.9.1"
  }
 },
 "nbformat": 4,
 "nbformat_minor": 4
}
